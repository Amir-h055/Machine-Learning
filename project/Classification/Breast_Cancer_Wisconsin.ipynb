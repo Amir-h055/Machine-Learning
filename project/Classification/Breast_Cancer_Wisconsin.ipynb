{
 "cells": [
  {
   "cell_type": "markdown",
   "id": "e4f8386e",
   "metadata": {},
   "source": [
    "# Diabetic_Retinopathy"
   ]
  },
  {
   "cell_type": "code",
   "execution_count": 57,
   "id": "1a319900",
   "metadata": {},
   "outputs": [],
   "source": [
    "import numpy as np\n",
    "import matplotlib.pyplot as plt\n",
    "import sklearn as sk\n",
    "import pandas as pd\n",
    "import scipy\n",
    "import seaborn as sns\n",
    "import math\n",
    "\n",
    "from scipy.io import arff\n",
    "from sklearn.impute import SimpleImputer\n",
    "from sklearn.model_selection import train_test_split, GridSearchCV, RandomizedSearchCV\n",
    "from sklearn.preprocessing import StandardScaler\n",
    "from sklearn.metrics import confusion_matrix,plot_confusion_matrix,ConfusionMatrixDisplay, classification_report,accuracy_score,f1_score\n",
    "\n",
    "\n",
    "from sklearn.linear_model import LogisticRegression\n",
    "from sklearn.svm import SVC\n",
    "from sklearn.tree import DecisionTreeClassifier, plot_tree\n",
    "\n",
    "# change the trees"
   ]
  },
  {
   "cell_type": "markdown",
   "id": "f73e41c8",
   "metadata": {},
   "source": [
    "## Loading Data"
   ]
  },
  {
   "cell_type": "code",
   "execution_count": 58,
   "id": "07c6cb99",
   "metadata": {},
   "outputs": [],
   "source": [
    "# dataset = pd.read_csv('datasets/Classification/breast-cancer-wisconsin/breast-cancer-wisconsin.data',header=None)\n",
    "dataset = pd.read_csv(\"/Users/annikatimermanis/Desktop/project/Classification/Classification_Datasets/3_Breast_Cancer_Wisconsin/Breast_Cancer_Wisconsin.data\",header=None) \n"
   ]
  },
  {
   "cell_type": "code",
   "execution_count": 59,
   "id": "c22e371a",
   "metadata": {},
   "outputs": [
    {
     "data": {
      "text/html": [
       "<div>\n",
       "<style scoped>\n",
       "    .dataframe tbody tr th:only-of-type {\n",
       "        vertical-align: middle;\n",
       "    }\n",
       "\n",
       "    .dataframe tbody tr th {\n",
       "        vertical-align: top;\n",
       "    }\n",
       "\n",
       "    .dataframe thead th {\n",
       "        text-align: right;\n",
       "    }\n",
       "</style>\n",
       "<table border=\"1\" class=\"dataframe\">\n",
       "  <thead>\n",
       "    <tr style=\"text-align: right;\">\n",
       "      <th></th>\n",
       "      <th>0</th>\n",
       "      <th>1</th>\n",
       "      <th>2</th>\n",
       "      <th>3</th>\n",
       "      <th>4</th>\n",
       "      <th>5</th>\n",
       "      <th>6</th>\n",
       "      <th>7</th>\n",
       "      <th>8</th>\n",
       "      <th>9</th>\n",
       "      <th>10</th>\n",
       "    </tr>\n",
       "  </thead>\n",
       "  <tbody>\n",
       "    <tr>\n",
       "      <th>0</th>\n",
       "      <td>1000025</td>\n",
       "      <td>5</td>\n",
       "      <td>1</td>\n",
       "      <td>1</td>\n",
       "      <td>1</td>\n",
       "      <td>2</td>\n",
       "      <td>1</td>\n",
       "      <td>3</td>\n",
       "      <td>1</td>\n",
       "      <td>1</td>\n",
       "      <td>2</td>\n",
       "    </tr>\n",
       "    <tr>\n",
       "      <th>1</th>\n",
       "      <td>1002945</td>\n",
       "      <td>5</td>\n",
       "      <td>4</td>\n",
       "      <td>4</td>\n",
       "      <td>5</td>\n",
       "      <td>7</td>\n",
       "      <td>10</td>\n",
       "      <td>3</td>\n",
       "      <td>2</td>\n",
       "      <td>1</td>\n",
       "      <td>2</td>\n",
       "    </tr>\n",
       "    <tr>\n",
       "      <th>2</th>\n",
       "      <td>1015425</td>\n",
       "      <td>3</td>\n",
       "      <td>1</td>\n",
       "      <td>1</td>\n",
       "      <td>1</td>\n",
       "      <td>2</td>\n",
       "      <td>2</td>\n",
       "      <td>3</td>\n",
       "      <td>1</td>\n",
       "      <td>1</td>\n",
       "      <td>2</td>\n",
       "    </tr>\n",
       "    <tr>\n",
       "      <th>3</th>\n",
       "      <td>1016277</td>\n",
       "      <td>6</td>\n",
       "      <td>8</td>\n",
       "      <td>8</td>\n",
       "      <td>1</td>\n",
       "      <td>3</td>\n",
       "      <td>4</td>\n",
       "      <td>3</td>\n",
       "      <td>7</td>\n",
       "      <td>1</td>\n",
       "      <td>2</td>\n",
       "    </tr>\n",
       "    <tr>\n",
       "      <th>4</th>\n",
       "      <td>1017023</td>\n",
       "      <td>4</td>\n",
       "      <td>1</td>\n",
       "      <td>1</td>\n",
       "      <td>3</td>\n",
       "      <td>2</td>\n",
       "      <td>1</td>\n",
       "      <td>3</td>\n",
       "      <td>1</td>\n",
       "      <td>1</td>\n",
       "      <td>2</td>\n",
       "    </tr>\n",
       "  </tbody>\n",
       "</table>\n",
       "</div>"
      ],
      "text/plain": [
       "        0   1   2   3   4   5   6   7   8   9   10\n",
       "0  1000025   5   1   1   1   2   1   3   1   1   2\n",
       "1  1002945   5   4   4   5   7  10   3   2   1   2\n",
       "2  1015425   3   1   1   1   2   2   3   1   1   2\n",
       "3  1016277   6   8   8   1   3   4   3   7   1   2\n",
       "4  1017023   4   1   1   3   2   1   3   1   1   2"
      ]
     },
     "execution_count": 59,
     "metadata": {},
     "output_type": "execute_result"
    }
   ],
   "source": [
    "df = pd.DataFrame(dataset)\n",
    "df.head()"
   ]
  },
  {
   "cell_type": "markdown",
   "id": "6fc2460f",
   "metadata": {},
   "source": [
    "## Data preparation and Analysis"
   ]
  },
  {
   "cell_type": "code",
   "execution_count": 60,
   "id": "73aad8ac",
   "metadata": {},
   "outputs": [
    {
     "name": "stdout",
     "output_type": "stream",
     "text": [
      "16\n"
     ]
    }
   ],
   "source": [
    "print(np.count_nonzero(dataset==\"?\"))"
   ]
  },
  {
   "cell_type": "code",
   "execution_count": 61,
   "id": "d42be4bc",
   "metadata": {},
   "outputs": [
    {
     "data": {
      "text/plain": [
       "0      0\n",
       "1      0\n",
       "2      0\n",
       "3      0\n",
       "4      0\n",
       "5      0\n",
       "6     16\n",
       "7      0\n",
       "8      0\n",
       "9      0\n",
       "10     0\n",
       "dtype: int64"
      ]
     },
     "execution_count": 61,
     "metadata": {},
     "output_type": "execute_result"
    }
   ],
   "source": [
    "dataset.isin([\"?\"]).sum()"
   ]
  },
  {
   "cell_type": "code",
   "execution_count": 62,
   "id": "78ec72ec",
   "metadata": {},
   "outputs": [
    {
     "data": {
      "text/html": [
       "<div>\n",
       "<style scoped>\n",
       "    .dataframe tbody tr th:only-of-type {\n",
       "        vertical-align: middle;\n",
       "    }\n",
       "\n",
       "    .dataframe tbody tr th {\n",
       "        vertical-align: top;\n",
       "    }\n",
       "\n",
       "    .dataframe thead th {\n",
       "        text-align: right;\n",
       "    }\n",
       "</style>\n",
       "<table border=\"1\" class=\"dataframe\">\n",
       "  <thead>\n",
       "    <tr style=\"text-align: right;\">\n",
       "      <th></th>\n",
       "      <th>0</th>\n",
       "      <th>1</th>\n",
       "      <th>2</th>\n",
       "      <th>3</th>\n",
       "      <th>4</th>\n",
       "      <th>5</th>\n",
       "      <th>6</th>\n",
       "      <th>7</th>\n",
       "      <th>8</th>\n",
       "      <th>9</th>\n",
       "      <th>10</th>\n",
       "    </tr>\n",
       "  </thead>\n",
       "  <tbody>\n",
       "    <tr>\n",
       "      <th>23</th>\n",
       "      <td>1057013</td>\n",
       "      <td>8</td>\n",
       "      <td>4</td>\n",
       "      <td>5</td>\n",
       "      <td>1</td>\n",
       "      <td>2</td>\n",
       "      <td>?</td>\n",
       "      <td>7</td>\n",
       "      <td>3</td>\n",
       "      <td>1</td>\n",
       "      <td>4</td>\n",
       "    </tr>\n",
       "    <tr>\n",
       "      <th>40</th>\n",
       "      <td>1096800</td>\n",
       "      <td>6</td>\n",
       "      <td>6</td>\n",
       "      <td>6</td>\n",
       "      <td>9</td>\n",
       "      <td>6</td>\n",
       "      <td>?</td>\n",
       "      <td>7</td>\n",
       "      <td>8</td>\n",
       "      <td>1</td>\n",
       "      <td>2</td>\n",
       "    </tr>\n",
       "    <tr>\n",
       "      <th>139</th>\n",
       "      <td>1183246</td>\n",
       "      <td>1</td>\n",
       "      <td>1</td>\n",
       "      <td>1</td>\n",
       "      <td>1</td>\n",
       "      <td>1</td>\n",
       "      <td>?</td>\n",
       "      <td>2</td>\n",
       "      <td>1</td>\n",
       "      <td>1</td>\n",
       "      <td>2</td>\n",
       "    </tr>\n",
       "    <tr>\n",
       "      <th>145</th>\n",
       "      <td>1184840</td>\n",
       "      <td>1</td>\n",
       "      <td>1</td>\n",
       "      <td>3</td>\n",
       "      <td>1</td>\n",
       "      <td>2</td>\n",
       "      <td>?</td>\n",
       "      <td>2</td>\n",
       "      <td>1</td>\n",
       "      <td>1</td>\n",
       "      <td>2</td>\n",
       "    </tr>\n",
       "    <tr>\n",
       "      <th>158</th>\n",
       "      <td>1193683</td>\n",
       "      <td>1</td>\n",
       "      <td>1</td>\n",
       "      <td>2</td>\n",
       "      <td>1</td>\n",
       "      <td>3</td>\n",
       "      <td>?</td>\n",
       "      <td>1</td>\n",
       "      <td>1</td>\n",
       "      <td>1</td>\n",
       "      <td>2</td>\n",
       "    </tr>\n",
       "    <tr>\n",
       "      <th>164</th>\n",
       "      <td>1197510</td>\n",
       "      <td>5</td>\n",
       "      <td>1</td>\n",
       "      <td>1</td>\n",
       "      <td>1</td>\n",
       "      <td>2</td>\n",
       "      <td>?</td>\n",
       "      <td>3</td>\n",
       "      <td>1</td>\n",
       "      <td>1</td>\n",
       "      <td>2</td>\n",
       "    </tr>\n",
       "    <tr>\n",
       "      <th>235</th>\n",
       "      <td>1241232</td>\n",
       "      <td>3</td>\n",
       "      <td>1</td>\n",
       "      <td>4</td>\n",
       "      <td>1</td>\n",
       "      <td>2</td>\n",
       "      <td>?</td>\n",
       "      <td>3</td>\n",
       "      <td>1</td>\n",
       "      <td>1</td>\n",
       "      <td>2</td>\n",
       "    </tr>\n",
       "    <tr>\n",
       "      <th>249</th>\n",
       "      <td>169356</td>\n",
       "      <td>3</td>\n",
       "      <td>1</td>\n",
       "      <td>1</td>\n",
       "      <td>1</td>\n",
       "      <td>2</td>\n",
       "      <td>?</td>\n",
       "      <td>3</td>\n",
       "      <td>1</td>\n",
       "      <td>1</td>\n",
       "      <td>2</td>\n",
       "    </tr>\n",
       "    <tr>\n",
       "      <th>275</th>\n",
       "      <td>432809</td>\n",
       "      <td>3</td>\n",
       "      <td>1</td>\n",
       "      <td>3</td>\n",
       "      <td>1</td>\n",
       "      <td>2</td>\n",
       "      <td>?</td>\n",
       "      <td>2</td>\n",
       "      <td>1</td>\n",
       "      <td>1</td>\n",
       "      <td>2</td>\n",
       "    </tr>\n",
       "    <tr>\n",
       "      <th>292</th>\n",
       "      <td>563649</td>\n",
       "      <td>8</td>\n",
       "      <td>8</td>\n",
       "      <td>8</td>\n",
       "      <td>1</td>\n",
       "      <td>2</td>\n",
       "      <td>?</td>\n",
       "      <td>6</td>\n",
       "      <td>10</td>\n",
       "      <td>1</td>\n",
       "      <td>4</td>\n",
       "    </tr>\n",
       "    <tr>\n",
       "      <th>294</th>\n",
       "      <td>606140</td>\n",
       "      <td>1</td>\n",
       "      <td>1</td>\n",
       "      <td>1</td>\n",
       "      <td>1</td>\n",
       "      <td>2</td>\n",
       "      <td>?</td>\n",
       "      <td>2</td>\n",
       "      <td>1</td>\n",
       "      <td>1</td>\n",
       "      <td>2</td>\n",
       "    </tr>\n",
       "    <tr>\n",
       "      <th>297</th>\n",
       "      <td>61634</td>\n",
       "      <td>5</td>\n",
       "      <td>4</td>\n",
       "      <td>3</td>\n",
       "      <td>1</td>\n",
       "      <td>2</td>\n",
       "      <td>?</td>\n",
       "      <td>2</td>\n",
       "      <td>3</td>\n",
       "      <td>1</td>\n",
       "      <td>2</td>\n",
       "    </tr>\n",
       "    <tr>\n",
       "      <th>315</th>\n",
       "      <td>704168</td>\n",
       "      <td>4</td>\n",
       "      <td>6</td>\n",
       "      <td>5</td>\n",
       "      <td>6</td>\n",
       "      <td>7</td>\n",
       "      <td>?</td>\n",
       "      <td>4</td>\n",
       "      <td>9</td>\n",
       "      <td>1</td>\n",
       "      <td>2</td>\n",
       "    </tr>\n",
       "    <tr>\n",
       "      <th>321</th>\n",
       "      <td>733639</td>\n",
       "      <td>3</td>\n",
       "      <td>1</td>\n",
       "      <td>1</td>\n",
       "      <td>1</td>\n",
       "      <td>2</td>\n",
       "      <td>?</td>\n",
       "      <td>3</td>\n",
       "      <td>1</td>\n",
       "      <td>1</td>\n",
       "      <td>2</td>\n",
       "    </tr>\n",
       "    <tr>\n",
       "      <th>411</th>\n",
       "      <td>1238464</td>\n",
       "      <td>1</td>\n",
       "      <td>1</td>\n",
       "      <td>1</td>\n",
       "      <td>1</td>\n",
       "      <td>1</td>\n",
       "      <td>?</td>\n",
       "      <td>2</td>\n",
       "      <td>1</td>\n",
       "      <td>1</td>\n",
       "      <td>2</td>\n",
       "    </tr>\n",
       "    <tr>\n",
       "      <th>617</th>\n",
       "      <td>1057067</td>\n",
       "      <td>1</td>\n",
       "      <td>1</td>\n",
       "      <td>1</td>\n",
       "      <td>1</td>\n",
       "      <td>1</td>\n",
       "      <td>?</td>\n",
       "      <td>1</td>\n",
       "      <td>1</td>\n",
       "      <td>1</td>\n",
       "      <td>2</td>\n",
       "    </tr>\n",
       "  </tbody>\n",
       "</table>\n",
       "</div>"
      ],
      "text/plain": [
       "          0   1   2   3   4   5  6   7   8   9   10\n",
       "23   1057013   8   4   5   1   2  ?   7   3   1   4\n",
       "40   1096800   6   6   6   9   6  ?   7   8   1   2\n",
       "139  1183246   1   1   1   1   1  ?   2   1   1   2\n",
       "145  1184840   1   1   3   1   2  ?   2   1   1   2\n",
       "158  1193683   1   1   2   1   3  ?   1   1   1   2\n",
       "164  1197510   5   1   1   1   2  ?   3   1   1   2\n",
       "235  1241232   3   1   4   1   2  ?   3   1   1   2\n",
       "249   169356   3   1   1   1   2  ?   3   1   1   2\n",
       "275   432809   3   1   3   1   2  ?   2   1   1   2\n",
       "292   563649   8   8   8   1   2  ?   6  10   1   4\n",
       "294   606140   1   1   1   1   2  ?   2   1   1   2\n",
       "297    61634   5   4   3   1   2  ?   2   3   1   2\n",
       "315   704168   4   6   5   6   7  ?   4   9   1   2\n",
       "321   733639   3   1   1   1   2  ?   3   1   1   2\n",
       "411  1238464   1   1   1   1   1  ?   2   1   1   2\n",
       "617  1057067   1   1   1   1   1  ?   1   1   1   2"
      ]
     },
     "execution_count": 62,
     "metadata": {},
     "output_type": "execute_result"
    }
   ],
   "source": [
    "dataset[dataset[6]=='?']"
   ]
  },
  {
   "cell_type": "code",
   "execution_count": 93,
   "id": "8b045f43",
   "metadata": {},
   "outputs": [
    {
     "name": "stdout",
     "output_type": "stream",
     "text": [
      "2    458\n",
      "4    241\n",
      "Name: 10, dtype: int64\n",
      "-------\n"
     ]
    }
   ],
   "source": [
    "frequency = dataset.iloc[:,-1].value_counts()\n",
    "print(frequency)\n",
    "print(\"-------\")"
   ]
  },
  {
   "cell_type": "code",
   "execution_count": 94,
   "id": "d347e07d",
   "metadata": {},
   "outputs": [
    {
     "data": {
      "image/png": "[encoded data removed]",
      "text/plain": [
       "<Figure size 432x288 with 1 Axes>"
      ]
     },
     "metadata": {
      "needs_background": "light"
     },
     "output_type": "display_data"
    }
   ],
   "source": [
    "plt.plot()\n",
    "plt.ylabel('Frequency')\n",
    "plt.xlabel('Class')\n",
    "plt.bar( (\"2\",\"4\"), frequency)\n",
    "plt.suptitle(\"Distributation\")\n",
    "plt.show()"
   ]
  },
  {
   "cell_type": "code",
   "execution_count": 7,
   "id": "3120a106",
   "metadata": {
    "scrolled": true
   },
   "outputs": [],
   "source": [
    "# sns.countplot(x=10, data= dataset)"
   ]
  },
  {
   "cell_type": "code",
   "execution_count": 29,
   "id": "de5a2b29",
   "metadata": {},
   "outputs": [],
   "source": [
    "# print(dataset.columns)\n",
    "# print(dataset.shape)"
   ]
  },
  {
   "cell_type": "code",
   "execution_count": 95,
   "id": "b9f942e4",
   "metadata": {},
   "outputs": [
    {
     "data": {
      "text/html": [
       "<div>\n",
       "<style scoped>\n",
       "    .dataframe tbody tr th:only-of-type {\n",
       "        vertical-align: middle;\n",
       "    }\n",
       "\n",
       "    .dataframe tbody tr th {\n",
       "        vertical-align: top;\n",
       "    }\n",
       "\n",
       "    .dataframe thead th {\n",
       "        text-align: right;\n",
       "    }\n",
       "</style>\n",
       "<table border=\"1\" class=\"dataframe\">\n",
       "  <thead>\n",
       "    <tr style=\"text-align: right;\">\n",
       "      <th></th>\n",
       "      <th>ID</th>\n",
       "      <th>Clump Thickness</th>\n",
       "      <th>Uniformity of Cell Size</th>\n",
       "      <th>Uniformity of Cell Shape</th>\n",
       "      <th>Marginal Adhesion</th>\n",
       "      <th>Single Epithelial Cell Size</th>\n",
       "      <th>Bare Nuclei</th>\n",
       "      <th>Bland Chromatin</th>\n",
       "      <th>Normal Nucleoli</th>\n",
       "      <th>Mitoses</th>\n",
       "      <th>Class</th>\n",
       "    </tr>\n",
       "  </thead>\n",
       "  <tbody>\n",
       "    <tr>\n",
       "      <th>0</th>\n",
       "      <td>1000025</td>\n",
       "      <td>5</td>\n",
       "      <td>1</td>\n",
       "      <td>1</td>\n",
       "      <td>1</td>\n",
       "      <td>2</td>\n",
       "      <td>1</td>\n",
       "      <td>3</td>\n",
       "      <td>1</td>\n",
       "      <td>1</td>\n",
       "      <td>2</td>\n",
       "    </tr>\n",
       "    <tr>\n",
       "      <th>1</th>\n",
       "      <td>1002945</td>\n",
       "      <td>5</td>\n",
       "      <td>4</td>\n",
       "      <td>4</td>\n",
       "      <td>5</td>\n",
       "      <td>7</td>\n",
       "      <td>10</td>\n",
       "      <td>3</td>\n",
       "      <td>2</td>\n",
       "      <td>1</td>\n",
       "      <td>2</td>\n",
       "    </tr>\n",
       "    <tr>\n",
       "      <th>2</th>\n",
       "      <td>1015425</td>\n",
       "      <td>3</td>\n",
       "      <td>1</td>\n",
       "      <td>1</td>\n",
       "      <td>1</td>\n",
       "      <td>2</td>\n",
       "      <td>2</td>\n",
       "      <td>3</td>\n",
       "      <td>1</td>\n",
       "      <td>1</td>\n",
       "      <td>2</td>\n",
       "    </tr>\n",
       "    <tr>\n",
       "      <th>3</th>\n",
       "      <td>1016277</td>\n",
       "      <td>6</td>\n",
       "      <td>8</td>\n",
       "      <td>8</td>\n",
       "      <td>1</td>\n",
       "      <td>3</td>\n",
       "      <td>4</td>\n",
       "      <td>3</td>\n",
       "      <td>7</td>\n",
       "      <td>1</td>\n",
       "      <td>2</td>\n",
       "    </tr>\n",
       "    <tr>\n",
       "      <th>4</th>\n",
       "      <td>1017023</td>\n",
       "      <td>4</td>\n",
       "      <td>1</td>\n",
       "      <td>1</td>\n",
       "      <td>3</td>\n",
       "      <td>2</td>\n",
       "      <td>1</td>\n",
       "      <td>3</td>\n",
       "      <td>1</td>\n",
       "      <td>1</td>\n",
       "      <td>2</td>\n",
       "    </tr>\n",
       "  </tbody>\n",
       "</table>\n",
       "</div>"
      ],
      "text/plain": [
       "        ID Clump Thickness Uniformity of Cell Size Uniformity of Cell Shape  \\\n",
       "0  1000025               5                       1                        1   \n",
       "1  1002945               5                       4                        4   \n",
       "2  1015425               3                       1                        1   \n",
       "3  1016277               6                       8                        8   \n",
       "4  1017023               4                       1                        1   \n",
       "\n",
       "  Marginal Adhesion Single Epithelial Cell Size Bare Nuclei Bland Chromatin  \\\n",
       "0                 1                           2           1               3   \n",
       "1                 5                           7          10               3   \n",
       "2                 1                           2           2               3   \n",
       "3                 1                           3           4               3   \n",
       "4                 3                           2           1               3   \n",
       "\n",
       "  Normal Nucleoli Mitoses Class  \n",
       "0               1       1     2  \n",
       "1               2       1     2  \n",
       "2               1       1     2  \n",
       "3               7       1     2  \n",
       "4               1       1     2  "
      ]
     },
     "execution_count": 95,
     "metadata": {},
     "output_type": "execute_result"
    }
   ],
   "source": [
    "pd_data = pd.DataFrame(data,columns =[\"ID\", \"Clump Thickness\", \"Uniformity of Cell Size\", \"Uniformity of Cell Shape\",\n",
    "                                     \"Marginal Adhesion\", \"Single Epithelial Cell Size\", \"Bare Nuclei\",\"Bland Chromatin\",\n",
    "                                      \"Normal Nucleoli\", \"Mitoses\", \"Class\"])\n",
    "pd_data.head()"
   ]
  },
  {
   "cell_type": "markdown",
   "id": "a514d47b",
   "metadata": {},
   "source": [
    "### Defining Dictionary of Models"
   ]
  },
  {
   "cell_type": "code",
   "execution_count": 96,
   "id": "7c441bd7",
   "metadata": {},
   "outputs": [],
   "source": [
    "MODELS = {'logistic_r', 'svc', 'tree', 'forest', 'knn', 'adaboost', 'gnb', 'nn'}\n",
    "breast_cancer_wisconsin_dict = {}    "
   ]
  },
  {
   "cell_type": "markdown",
   "id": "43d59101",
   "metadata": {},
   "source": [
    "## Train and Test set"
   ]
  },
  {
   "cell_type": "code",
   "execution_count": 142,
   "id": "f4eed83b",
   "metadata": {},
   "outputs": [],
   "source": [
    "x = dataset.iloc[:,:-1]\n",
    "y = dataset.iloc[:,-1:]"
   ]
  },
  {
   "cell_type": "code",
   "execution_count": 143,
   "id": "b43cccb8",
   "metadata": {},
   "outputs": [],
   "source": [
    "X_train, X_test, y_train, y_test = train_test_split(x, y, test_size=0.2, random_state=0)\n",
    "\n",
    "# change'?' to NaN for our training&testing sets\n",
    "X_train = X_train.replace('?', np.NaN)\n",
    "y_train = y_train.replace('?', np.NaN)\n",
    "X_test = X_test.replace('?', np.NaN)\n",
    "y_test = y_test.replace('?', np.NaN)\n",
    "# impute NaN values in our training&testing sets to the mean of corresponding column\n",
    "imp = SimpleImputer(missing_values=np.nan, strategy='mean')\n",
    "X_train = imp.fit_transform(X_train)\n",
    "y_train = imp.fit_transform(y_train)\n",
    "X_test = imp.fit_transform(X_test)\n",
    "y_test = imp.fit_transform(y_test)\n",
    "\n",
    "y_train = y_train.reshape(-1)\n",
    "y_test = y_test.reshape(-1)"
   ]
  },
  {
   "cell_type": "code",
   "execution_count": 144,
   "id": "4a01157d",
   "metadata": {
    "scrolled": true
   },
   "outputs": [],
   "source": [
    "StScale = StandardScaler()\n",
    "X_train = StScale.fit_transform(X_train)\n",
    "X_test = StScale.transform(X_test)"
   ]
  },
  {
   "cell_type": "code",
   "execution_count": 145,
   "id": "1ebe78ad",
   "metadata": {},
   "outputs": [],
   "source": [
    "from tabulate import tabulate\n",
    "from sklearn.metrics import mean_squared_error\n",
    "from sklearn.metrics import r2_score\n",
    "\n",
    "def model_results(model):\n",
    "    table = [[\"Parameters / Metrics\", \"Tuned\"]]\n",
    "    curr_model = model['model']\n",
    "\n",
    "    if model['hyperparameters'] == 1:\n",
    "        for param in curr_model.best_params_:\n",
    "            table.append([param, curr_model.best_params_[param]])\n",
    "\n",
    "    prediction = curr_model.predict(X_test)\n",
    "    mse = mean_squared_error(y_test, prediction)\n",
    "    accuracy = accuracy_score(y_test, prediction)\n",
    "    weighted_f1 = f1_score(y_test, prediction, average='weighted')\n",
    "    macro_f1 = f1_score(y_test, prediction, average='macro')\n",
    "    \n",
    "    table.append(['Mean Squared Error', mse])\n",
    "    table.append(['Accuracy',accuracy])\n",
    "    table.append(['weighted_f1', weighted_f1])\n",
    "    table.append(['macro_f1',macro_f1])\n",
    "\n",
    "    print(tabulate(table, headers='firstrow', tablefmt='grid'))\n",
    "    \n",
    "    return prediction"
   ]
  },
  {
   "cell_type": "markdown",
   "id": "7f438bd3",
   "metadata": {},
   "source": [
    "## 1. LogisticRegression for Classification"
   ]
  },
  {
   "cell_type": "code",
   "execution_count": 146,
   "id": "c36c5393",
   "metadata": {},
   "outputs": [
    {
     "data": {
      "text/plain": [
       "LogisticRegression(random_state=0)"
      ]
     },
     "execution_count": 146,
     "metadata": {},
     "output_type": "execute_result"
    }
   ],
   "source": [
    "logistic_r = LogisticRegression(random_state=0)\n",
    "logistic_r.fit(X_train, y_train)"
   ]
  },
  {
   "cell_type": "markdown",
   "id": "e4ba1b2c",
   "metadata": {},
   "source": [
    "## LogisticRegression Analysis"
   ]
  },
  {
   "cell_type": "code",
   "execution_count": 147,
   "id": "d1ac921c",
   "metadata": {
    "scrolled": true
   },
   "outputs": [
    {
     "name": "stdout",
     "output_type": "stream",
     "text": [
      "+------------------------+----------+\n",
      "| Parameters / Metrics   |    Tuned |\n",
      "+========================+==========+\n",
      "| Mean Squared Error     | 0.114286 |\n",
      "+------------------------+----------+\n",
      "| Accuracy               | 0.971429 |\n",
      "+------------------------+----------+\n",
      "| weighted_f1            | 0.971514 |\n",
      "+------------------------+----------+\n",
      "| macro_f1               | 0.970238 |\n",
      "+------------------------+----------+\n"
     ]
    }
   ],
   "source": [
    "breast_cancer_wisconsin_dict['logistic_r'] = {'model':logistic_r, 'hyperparameters':0}\n",
    "lr_prediction = model_results(breast_cancer_wisconsin_dict['logistic_r'])"
   ]
  },
  {
   "cell_type": "code",
   "execution_count": 148,
   "id": "e1065e84",
   "metadata": {},
   "outputs": [
    {
     "name": "stdout",
     "output_type": "stream",
     "text": [
      "              precision    recall  f1-score   support\n",
      "\n",
      "         2.0       0.99      0.96      0.98        85\n",
      "         4.0       0.95      0.98      0.96        55\n",
      "\n",
      "    accuracy                           0.97       140\n",
      "   macro avg       0.97      0.97      0.97       140\n",
      "weighted avg       0.97      0.97      0.97       140\n",
      "\n",
      "[[82  3]\n",
      " [ 1 54]]\n"
     ]
    },
    {
     "data": {
      "image/png": "[encoded data removed]",
      "text/plain": [
       "<Figure size 432x288 with 2 Axes>"
      ]
     },
     "metadata": {
      "needs_background": "light"
     },
     "output_type": "display_data"
    }
   ],
   "source": [
    "print(classification_report(y_test, lr_prediction))\n",
    "print(confusion_matrix (y_test, lr_prediction))\n",
    "ConfusionMatrixDisplay.from_predictions(y_test, lr_prediction);"
   ]
  },
  {
   "cell_type": "markdown",
   "id": "1db62301",
   "metadata": {},
   "source": [
    "## 2. Support vector classification"
   ]
  },
  {
   "cell_type": "code",
   "execution_count": 149,
   "id": "5350fff9",
   "metadata": {},
   "outputs": [],
   "source": [
    "svc = SVC().fit(X_train, y_train)"
   ]
  },
  {
   "cell_type": "code",
   "execution_count": 150,
   "id": "15cf139f",
   "metadata": {},
   "outputs": [
    {
     "name": "stdout",
     "output_type": "stream",
     "text": [
      "Fitting 5 folds for each of 10 candidates, totalling 50 fits\n",
      "[CV 1/5; 1/10] START C=9, gamma=0.09, kernel=rbf................................\n",
      "[CV 1/5; 1/10] END .C=9, gamma=0.09, kernel=rbf;, score=0.911 total time=   0.0s\n",
      "[CV 2/5; 1/10] START C=9, gamma=0.09, kernel=rbf................................\n",
      "[CV 2/5; 1/10] END .C=9, gamma=0.09, kernel=rbf;, score=0.946 total time=   0.0s\n",
      "[CV 3/5; 1/10] START C=9, gamma=0.09, kernel=rbf................................\n",
      "[CV 3/5; 1/10] END .C=9, gamma=0.09, kernel=rbf;, score=0.964 total time=   0.0s\n",
      "[CV 4/5; 1/10] START C=9, gamma=0.09, kernel=rbf................................\n",
      "[CV 4/5; 1/10] END .C=9, gamma=0.09, kernel=rbf;, score=0.964 total time=   0.0s\n",
      "[CV 5/5; 1/10] START C=9, gamma=0.09, kernel=rbf................................\n",
      "[CV 5/5; 1/10] END .C=9, gamma=0.09, kernel=rbf;, score=1.000 total time=   0.0s\n",
      "[CV 1/5; 2/10] START C=1, gamma=0.09, kernel=rbf................................\n",
      "[CV 1/5; 2/10] END .C=1, gamma=0.09, kernel=rbf;, score=0.920 total time=   0.0s\n",
      "[CV 2/5; 2/10] START C=1, gamma=0.09, kernel=rbf................................\n",
      "[CV 2/5; 2/10] END .C=1, gamma=0.09, kernel=rbf;, score=0.955 total time=   0.0s\n",
      "[CV 3/5; 2/10] START C=1, gamma=0.09, kernel=rbf................................\n",
      "[CV 3/5; 2/10] END .C=1, gamma=0.09, kernel=rbf;, score=0.991 total time=   0.0s\n",
      "[CV 4/5; 2/10] START C=1, gamma=0.09, kernel=rbf................................\n",
      "[CV 4/5; 2/10] END .C=1, gamma=0.09, kernel=rbf;, score=0.973 total time=   0.0s\n",
      "[CV 5/5; 2/10] START C=1, gamma=0.09, kernel=rbf................................\n",
      "[CV 5/5; 2/10] END .C=1, gamma=0.09, kernel=rbf;, score=0.991 total time=   0.0s\n",
      "[CV 1/5; 3/10] START C=50, gamma=0.01, kernel=rbf...............................\n",
      "[CV 1/5; 3/10] END C=50, gamma=0.01, kernel=rbf;, score=0.929 total time=   0.0s\n",
      "[CV 2/5; 3/10] START C=50, gamma=0.01, kernel=rbf...............................\n",
      "[CV 2/5; 3/10] END C=50, gamma=0.01, kernel=rbf;, score=0.973 total time=   0.0s\n",
      "[CV 3/5; 3/10] START C=50, gamma=0.01, kernel=rbf...............................\n",
      "[CV 3/5; 3/10] END C=50, gamma=0.01, kernel=rbf;, score=0.982 total time=   0.0s\n",
      "[CV 4/5; 3/10] START C=50, gamma=0.01, kernel=rbf...............................\n",
      "[CV 4/5; 3/10] END C=50, gamma=0.01, kernel=rbf;, score=0.973 total time=   0.0s\n",
      "[CV 5/5; 3/10] START C=50, gamma=0.01, kernel=rbf...............................\n",
      "[CV 5/5; 3/10] END C=50, gamma=0.01, kernel=rbf;, score=0.982 total time=   0.0s\n",
      "[CV 1/5; 4/10] START C=10, gamma=auto, kernel=sigmoid...........................\n",
      "[CV 1/5; 4/10] END C=10, gamma=auto, kernel=sigmoid;, score=0.911 total time=   0.0s\n",
      "[CV 2/5; 4/10] START C=10, gamma=auto, kernel=sigmoid...........................\n",
      "[CV 2/5; 4/10] END C=10, gamma=auto, kernel=sigmoid;, score=0.946 total time=   0.0s\n",
      "[CV 3/5; 4/10] START C=10, gamma=auto, kernel=sigmoid...........................\n",
      "[CV 3/5; 4/10] END C=10, gamma=auto, kernel=sigmoid;, score=0.973 total time=   0.0s\n",
      "[CV 4/5; 4/10] START C=10, gamma=auto, kernel=sigmoid...........................\n",
      "[CV 4/5; 4/10] END C=10, gamma=auto, kernel=sigmoid;, score=0.955 total time=   0.0s\n",
      "[CV 5/5; 4/10] START C=10, gamma=auto, kernel=sigmoid...........................\n",
      "[CV 5/5; 4/10] END C=10, gamma=auto, kernel=sigmoid;, score=0.982 total time=   0.0s\n",
      "[CV 1/5; 5/10] START C=0.1, gamma=0.09, kernel=rbf..............................\n",
      "[CV 1/5; 5/10] END C=0.1, gamma=0.09, kernel=rbf;, score=0.920 total time=   0.0s\n",
      "[CV 2/5; 5/10] START C=0.1, gamma=0.09, kernel=rbf..............................\n",
      "[CV 2/5; 5/10] END C=0.1, gamma=0.09, kernel=rbf;, score=0.955 total time=   0.0s\n",
      "[CV 3/5; 5/10] START C=0.1, gamma=0.09, kernel=rbf..............................\n",
      "[CV 3/5; 5/10] END C=0.1, gamma=0.09, kernel=rbf;, score=0.991 total time=   0.0s\n",
      "[CV 4/5; 5/10] START C=0.1, gamma=0.09, kernel=rbf..............................\n",
      "[CV 4/5; 5/10] END C=0.1, gamma=0.09, kernel=rbf;, score=0.964 total time=   0.0s\n",
      "[CV 5/5; 5/10] START C=0.1, gamma=0.09, kernel=rbf..............................\n",
      "[CV 5/5; 5/10] END C=0.1, gamma=0.09, kernel=rbf;, score=0.982 total time=   0.0s\n",
      "[CV 1/5; 6/10] START C=57, gamma=0.002, kernel=rbf..............................\n",
      "[CV 1/5; 6/10] END C=57, gamma=0.002, kernel=rbf;, score=0.920 total time=   0.0s\n",
      "[CV 2/5; 6/10] START C=57, gamma=0.002, kernel=rbf..............................\n",
      "[CV 2/5; 6/10] END C=57, gamma=0.002, kernel=rbf;, score=0.973 total time=   0.0s\n",
      "[CV 3/5; 6/10] START C=57, gamma=0.002, kernel=rbf..............................\n",
      "[CV 3/5; 6/10] END C=57, gamma=0.002, kernel=rbf;, score=0.964 total time=   0.0s\n",
      "[CV 4/5; 6/10] START C=57, gamma=0.002, kernel=rbf..............................\n",
      "[CV 4/5; 6/10] END C=57, gamma=0.002, kernel=rbf;, score=0.982 total time=   0.0s\n",
      "[CV 5/5; 6/10] START C=57, gamma=0.002, kernel=rbf..............................\n",
      "[CV 5/5; 6/10] END C=57, gamma=0.002, kernel=rbf;, score=0.982 total time=   0.0s\n",
      "[CV 1/5; 7/10] START C=100, gamma=0.005, kernel=sigmoid.........................\n",
      "[CV 1/5; 7/10] END C=100, gamma=0.005, kernel=sigmoid;, score=0.911 total time=   0.0s\n",
      "[CV 2/5; 7/10] START C=100, gamma=0.005, kernel=sigmoid.........................\n",
      "[CV 2/5; 7/10] END C=100, gamma=0.005, kernel=sigmoid;, score=0.973 total time=   0.0s\n",
      "[CV 3/5; 7/10] START C=100, gamma=0.005, kernel=sigmoid.........................\n",
      "[CV 3/5; 7/10] END C=100, gamma=0.005, kernel=sigmoid;, score=0.973 total time=   0.0s\n",
      "[CV 4/5; 7/10] START C=100, gamma=0.005, kernel=sigmoid.........................\n",
      "[CV 4/5; 7/10] END C=100, gamma=0.005, kernel=sigmoid;, score=0.964 total time=   0.0s\n",
      "[CV 5/5; 7/10] START C=100, gamma=0.005, kernel=sigmoid.........................\n",
      "[CV 5/5; 7/10] END C=100, gamma=0.005, kernel=sigmoid;, score=0.991 total time=   0.0s\n",
      "[CV 1/5; 8/10] START C=57, gamma=scale, kernel=rbf..............................\n",
      "[CV 1/5; 8/10] END C=57, gamma=scale, kernel=rbf;, score=0.929 total time=   0.0s\n",
      "[CV 2/5; 8/10] START C=57, gamma=scale, kernel=rbf..............................\n",
      "[CV 2/5; 8/10] END C=57, gamma=scale, kernel=rbf;, score=0.911 total time=   0.0s\n",
      "[CV 3/5; 8/10] START C=57, gamma=scale, kernel=rbf..............................\n",
      "[CV 3/5; 8/10] END C=57, gamma=scale, kernel=rbf;, score=0.964 total time=   0.0s\n",
      "[CV 4/5; 8/10] START C=57, gamma=scale, kernel=rbf..............................\n",
      "[CV 4/5; 8/10] END C=57, gamma=scale, kernel=rbf;, score=0.964 total time=   0.0s\n",
      "[CV 5/5; 8/10] START C=57, gamma=scale, kernel=rbf..............................\n",
      "[CV 5/5; 8/10] END C=57, gamma=scale, kernel=rbf;, score=0.964 total time=   0.0s\n",
      "[CV 1/5; 9/10] START C=47, gamma=0.09, kernel=sigmoid...........................\n",
      "[CV 1/5; 9/10] END C=47, gamma=0.09, kernel=sigmoid;, score=0.893 total time=   0.0s\n",
      "[CV 2/5; 9/10] START C=47, gamma=0.09, kernel=sigmoid...........................\n",
      "[CV 2/5; 9/10] END C=47, gamma=0.09, kernel=sigmoid;, score=0.946 total time=   0.0s\n",
      "[CV 3/5; 9/10] START C=47, gamma=0.09, kernel=sigmoid...........................\n",
      "[CV 3/5; 9/10] END C=47, gamma=0.09, kernel=sigmoid;, score=0.973 total time=   0.0s\n",
      "[CV 4/5; 9/10] START C=47, gamma=0.09, kernel=sigmoid...........................\n",
      "[CV 4/5; 9/10] END C=47, gamma=0.09, kernel=sigmoid;, score=0.955 total time=   0.0s\n",
      "[CV 5/5; 9/10] START C=47, gamma=0.09, kernel=sigmoid...........................\n",
      "[CV 5/5; 9/10] END C=47, gamma=0.09, kernel=sigmoid;, score=0.982 total time=   0.0s\n",
      "[CV 1/5; 10/10] START C=0.1, gamma=0.01, kernel=sigmoid.........................\n",
      "[CV 1/5; 10/10] END C=0.1, gamma=0.01, kernel=sigmoid;, score=0.911 total time=   0.0s\n",
      "[CV 2/5; 10/10] START C=0.1, gamma=0.01, kernel=sigmoid.........................\n",
      "[CV 2/5; 10/10] END C=0.1, gamma=0.01, kernel=sigmoid;, score=0.946 total time=   0.0s\n",
      "[CV 3/5; 10/10] START C=0.1, gamma=0.01, kernel=sigmoid.........................\n",
      "[CV 3/5; 10/10] END C=0.1, gamma=0.01, kernel=sigmoid;, score=0.938 total time=   0.0s\n",
      "[CV 4/5; 10/10] START C=0.1, gamma=0.01, kernel=sigmoid.........................\n",
      "[CV 4/5; 10/10] END C=0.1, gamma=0.01, kernel=sigmoid;, score=0.973 total time=   0.0s\n",
      "[CV 5/5; 10/10] START C=0.1, gamma=0.01, kernel=sigmoid.........................\n",
      "[CV 5/5; 10/10] END C=0.1, gamma=0.01, kernel=sigmoid;, score=0.937 total time=   0.0s\n"
     ]
    },
    {
     "data": {
      "text/plain": [
       "{'kernel': 'rbf', 'gamma': 0.01, 'C': 50}"
      ]
     },
     "execution_count": 150,
     "metadata": {},
     "output_type": "execute_result"
    }
   ],
   "source": [
    "parameters = {\n",
    "    'C':[0.1,1,9,10, 47,50,57, 100,],\n",
    "    'gamma': ['scale','auto',0.1, 0.01, 0.09, 0.001, 0.002, 0.005],\n",
    "    'kernel': ['rbf', 'sigmoid']\n",
    "}\n",
    "svc_model = RandomizedSearchCV(svc, parameters, verbose=10, random_state=0).fit(X_train, y_train)\n",
    "svc_model.best_params_"
   ]
  },
  {
   "cell_type": "code",
   "execution_count": 151,
   "id": "19741eca",
   "metadata": {},
   "outputs": [
    {
     "data": {
      "text/plain": [
       "SVC(C=50, gamma=0.01)"
      ]
     },
     "execution_count": 151,
     "metadata": {},
     "output_type": "execute_result"
    }
   ],
   "source": [
    "svc_model.best_estimator_"
   ]
  },
  {
   "cell_type": "markdown",
   "id": "2873889f",
   "metadata": {},
   "source": [
    "## Support vector classification Analysis"
   ]
  },
  {
   "cell_type": "code",
   "execution_count": 152,
   "id": "069366ff",
   "metadata": {},
   "outputs": [
    {
     "name": "stdout",
     "output_type": "stream",
     "text": [
      "+------------------------+---------------------+\n",
      "| Parameters / Metrics   | Tuned               |\n",
      "+========================+=====================+\n",
      "| kernel                 | rbf                 |\n",
      "+------------------------+---------------------+\n",
      "| gamma                  | 0.01                |\n",
      "+------------------------+---------------------+\n",
      "| C                      | 50                  |\n",
      "+------------------------+---------------------+\n",
      "| Mean Squared Error     | 0.14285714285714285 |\n",
      "+------------------------+---------------------+\n",
      "| Accuracy               | 0.9642857142857143  |\n",
      "+------------------------+---------------------+\n",
      "| weighted_f1            | 0.9644390107269658  |\n",
      "+------------------------+---------------------+\n",
      "| macro_f1               | 0.9629060463144508  |\n",
      "+------------------------+---------------------+\n"
     ]
    }
   ],
   "source": [
    "breast_cancer_wisconsin_dict['svc'] = {'model':svc_model, 'hyperparameters':1}\n",
    "svc_prediction = model_results(breast_cancer_wisconsin_dict['svc'])"
   ]
  },
  {
   "cell_type": "code",
   "execution_count": 153,
   "id": "fe8fb4b3",
   "metadata": {},
   "outputs": [
    {
     "name": "stdout",
     "output_type": "stream",
     "text": [
      "              precision    recall  f1-score   support\n",
      "\n",
      "         2.0       0.99      0.95      0.97        85\n",
      "         4.0       0.93      0.98      0.96        55\n",
      "\n",
      "    accuracy                           0.96       140\n",
      "   macro avg       0.96      0.97      0.96       140\n",
      "weighted avg       0.97      0.96      0.96       140\n",
      "\n",
      "[[81  4]\n",
      " [ 1 54]]\n"
     ]
    },
    {
     "data": {
      "image/png": "[encoded data removed]",
      "text/plain": [
       "<Figure size 432x288 with 2 Axes>"
      ]
     },
     "metadata": {
      "needs_background": "light"
     },
     "output_type": "display_data"
    }
   ],
   "source": [
    "print(classification_report(y_test, svc_prediction))\n",
    "print(confusion_matrix (y_test, svc_prediction))\n",
    "ConfusionMatrixDisplay.from_predictions(y_test, svc_prediction);"
   ]
  },
  {
   "cell_type": "markdown",
   "id": "1632c6c2",
   "metadata": {},
   "source": [
    "## Decision tree"
   ]
  },
  {
   "cell_type": "code",
   "execution_count": 154,
   "id": "896efa10",
   "metadata": {},
   "outputs": [],
   "source": [
    "tree = DecisionTreeClassifier().fit(X_train, y_train)"
   ]
  },
  {
   "cell_type": "code",
   "execution_count": 155,
   "id": "21fbde43",
   "metadata": {},
   "outputs": [
    {
     "name": "stdout",
     "output_type": "stream",
     "text": [
      "Fitting 5 folds for each of 20 candidates, totalling 100 fits\n"
     ]
    },
    {
     "data": {
      "text/plain": [
       "{'max_depth': 61.276337607164386, 'min_samples_split': 0.5448831829968969}"
      ]
     },
     "execution_count": 155,
     "metadata": {},
     "output_type": "execute_result"
    }
   ],
   "source": [
    "parameters = {\n",
    "    'max_depth': scipy.stats.uniform(1, 100),\n",
    "    'min_samples_split': scipy.stats.uniform(0, 1) \n",
    "}\n",
    "tree_model = RandomizedSearchCV(tree, parameters, verbose=1, n_iter=20, random_state=0).fit(X_train, y_train)\n",
    "tree_model.best_params_"
   ]
  },
  {
   "cell_type": "markdown",
   "id": "b815c235",
   "metadata": {},
   "source": [
    "## Decision tree Analysis"
   ]
  },
  {
   "cell_type": "code",
   "execution_count": 156,
   "id": "49d69d2a",
   "metadata": {},
   "outputs": [
    {
     "name": "stdout",
     "output_type": "stream",
     "text": [
      "+------------------------+-----------+\n",
      "| Parameters / Metrics   |     Tuned |\n",
      "+========================+===========+\n",
      "| max_depth              | 61.2763   |\n",
      "+------------------------+-----------+\n",
      "| min_samples_split      |  0.544883 |\n",
      "+------------------------+-----------+\n",
      "| Mean Squared Error     |  0.171429 |\n",
      "+------------------------+-----------+\n",
      "| Accuracy               |  0.957143 |\n",
      "+------------------------+-----------+\n",
      "| weighted_f1            |  0.95727  |\n",
      "+------------------------+-----------+\n",
      "| macro_f1               |  0.955357 |\n",
      "+------------------------+-----------+\n"
     ]
    }
   ],
   "source": [
    "breast_cancer_wisconsin_dict['tree'] = {'model':tree_model, 'hyperparameters':1}\n",
    "tree_prediction = model_results(breast_cancer_wisconsin_dict['tree'])"
   ]
  },
  {
   "cell_type": "code",
   "execution_count": 157,
   "id": "0efbc51e",
   "metadata": {},
   "outputs": [
    {
     "name": "stdout",
     "output_type": "stream",
     "text": [
      "              precision    recall  f1-score   support\n",
      "\n",
      "         2.0       0.98      0.95      0.96        85\n",
      "         4.0       0.93      0.96      0.95        55\n",
      "\n",
      "    accuracy                           0.96       140\n",
      "   macro avg       0.95      0.96      0.96       140\n",
      "weighted avg       0.96      0.96      0.96       140\n",
      "\n",
      "[[81  4]\n",
      " [ 2 53]]\n"
     ]
    },
    {
     "data": {
      "image/png": "[encoded data removed]",
      "text/plain": [
       "<Figure size 432x288 with 2 Axes>"
      ]
     },
     "metadata": {
      "needs_background": "light"
     },
     "output_type": "display_data"
    }
   ],
   "source": [
    "print(classification_report(y_test, tree_prediction))\n",
    "print(confusion_matrix (y_test, tree_prediction))\n",
    "ConfusionMatrixDisplay.from_predictions(y_test, tree_prediction);"
   ]
  },
  {
   "cell_type": "code",
   "execution_count": 158,
   "id": "35c9dfbc",
   "metadata": {},
   "outputs": [
    {
     "data": {
      "image/png": "[encoded data removed]",
      "text/plain": [
       "<Figure size 1512x1512 with 1 Axes>"
      ]
     },
     "metadata": {
      "needs_background": "light"
     },
     "output_type": "display_data"
    }
   ],
   "source": [
    "plt.figure(figsize=(21,21))\n",
    "plot_tree(tree_model.best_estimator_, max_depth = 2, fontsize=14);"
   ]
  },
  {
   "cell_type": "markdown",
   "id": "95b77efe",
   "metadata": {},
   "source": [
    "## Random Forest"
   ]
  },
  {
   "cell_type": "code",
   "execution_count": 18,
   "id": "94a5038d",
   "metadata": {},
   "outputs": [],
   "source": []
  },
  {
   "cell_type": "markdown",
   "id": "9bb754e2",
   "metadata": {},
   "source": [
    "## 5. K-nearest neighbours\n"
   ]
  },
  {
   "cell_type": "markdown",
   "id": "22612804",
   "metadata": {},
   "source": [
    "Fitting and hyperparameter search"
   ]
  },
  {
   "cell_type": "code",
   "execution_count": 159,
   "id": "d52fdc9b",
   "metadata": {},
   "outputs": [],
   "source": [
    "from sklearn import neighbors\n",
    "import sklearn\n",
    "import scipy\n",
    "\n",
    "knn = sklearn.neighbors.KNeighborsClassifier(n_jobs=-1)"
   ]
  },
  {
   "cell_type": "code",
   "execution_count": 160,
   "id": "c2beba34",
   "metadata": {},
   "outputs": [
    {
     "name": "stdout",
     "output_type": "stream",
     "text": [
      "Fitting 3 folds for each of 25 candidates, totalling 75 fits\n",
      "best Hyperparameters = {'leaf_size': 12.116069412579382, 'n_neighbors': 18, 'weights': 'distance'}\n"
     ]
    }
   ],
   "source": [
    "param_distribution = {'n_neighbors': range(1, 150), 'weights':['uniform', 'distance'], 'leaf_size': scipy.stats.uniform(1, 50)}\n",
    "knn_randomized = sklearn.model_selection.RandomizedSearchCV(knn, param_distribution, verbose=1, random_state=0, cv=3, n_iter=25).fit(X_train, y_train)\n",
    "\n",
    "print('best Hyperparameters = ' + str(knn_randomized.best_params_))"
   ]
  },
  {
   "cell_type": "code",
   "execution_count": 161,
   "id": "d6ad4a48",
   "metadata": {},
   "outputs": [
    {
     "name": "stdout",
     "output_type": "stream",
     "text": [
      "+------------------------+---------------------+\n",
      "| Parameters / Metrics   | Tuned               |\n",
      "+========================+=====================+\n",
      "| leaf_size              | 12.116069412579382  |\n",
      "+------------------------+---------------------+\n",
      "| n_neighbors            | 18                  |\n",
      "+------------------------+---------------------+\n",
      "| weights                | distance            |\n",
      "+------------------------+---------------------+\n",
      "| Mean Squared Error     | 0.11428571428571428 |\n",
      "+------------------------+---------------------+\n",
      "| Accuracy               | 0.9714285714285714  |\n",
      "+------------------------+---------------------+\n",
      "| weighted_f1            | 0.9714285714285714  |\n",
      "+------------------------+---------------------+\n",
      "| macro_f1               | 0.9700534759358288  |\n",
      "+------------------------+---------------------+\n"
     ]
    }
   ],
   "source": [
    "breast_cancer_wisconsin_dict[\"knn\"] = {\"model\":knn_randomized, \"hyperparameters\":1}\n",
    "knn_prediction = model_results(breast_cancer_wisconsin_dict['knn'])"
   ]
  },
  {
   "cell_type": "code",
   "execution_count": 162,
   "id": "0b52b1f1",
   "metadata": {},
   "outputs": [
    {
     "name": "stdout",
     "output_type": "stream",
     "text": [
      "              precision    recall  f1-score   support\n",
      "\n",
      "         2.0       0.98      0.98      0.98        85\n",
      "         4.0       0.96      0.96      0.96        55\n",
      "\n",
      "    accuracy                           0.97       140\n",
      "   macro avg       0.97      0.97      0.97       140\n",
      "weighted avg       0.97      0.97      0.97       140\n",
      "\n",
      "[[83  2]\n",
      " [ 2 53]]\n"
     ]
    },
    {
     "data": {
      "image/png": "[encoded data removed]",
      "text/plain": [
       "<Figure size 432x288 with 2 Axes>"
      ]
     },
     "metadata": {
      "needs_background": "light"
     },
     "output_type": "display_data"
    }
   ],
   "source": [
    "print(classification_report(y_test, knn_prediction))\n",
    "print(confusion_matrix (y_test, knn_prediction))\n",
    "ConfusionMatrixDisplay.from_predictions(y_test, knn_prediction);"
   ]
  },
  {
   "cell_type": "markdown",
   "id": "46140163",
   "metadata": {},
   "source": [
    "## 6. AdaBoost Classification"
   ]
  },
  {
   "cell_type": "markdown",
   "id": "c79474e9",
   "metadata": {},
   "source": [
    "Fitting and Hyperparameter search "
   ]
  },
  {
   "cell_type": "code",
   "execution_count": 163,
   "id": "f5fb4efb",
   "metadata": {},
   "outputs": [],
   "source": [
    "from sklearn.ensemble import AdaBoostClassifier\n",
    "\n",
    "adaBoost = AdaBoostClassifier().fit(X_train,y_train)"
   ]
  },
  {
   "cell_type": "code",
   "execution_count": 164,
   "id": "18ba9bdb",
   "metadata": {},
   "outputs": [
    {
     "name": "stdout",
     "output_type": "stream",
     "text": [
      "Fitting 5 folds for each of 50 candidates, totalling 250 fits\n",
      "Best Hyperparameters = {'learning_rate': 0.29593896127160335, 'n_estimators': 115}\n"
     ]
    }
   ],
   "source": [
    "param_distribution = {'n_estimators': range(1, 250), 'learning_rate': scipy.stats.uniform(.1, 5)}\n",
    "adaBoost_randomized = sklearn.model_selection.RandomizedSearchCV(adaBoost, param_distribution, verbose=1, random_state=0, cv=5, n_iter=50).fit(X_train, y_train)\n",
    "\n",
    "print('Best Hyperparameters = ' + str(adaBoost_randomized.best_params_))"
   ]
  },
  {
   "cell_type": "code",
   "execution_count": 165,
   "id": "e6a293b3",
   "metadata": {},
   "outputs": [
    {
     "name": "stdout",
     "output_type": "stream",
     "text": [
      "+------------------------+------------+\n",
      "| Parameters / Metrics   |      Tuned |\n",
      "+========================+============+\n",
      "| learning_rate          |   0.295939 |\n",
      "+------------------------+------------+\n",
      "| n_estimators           | 115        |\n",
      "+------------------------+------------+\n",
      "| Mean Squared Error     |   0.171429 |\n",
      "+------------------------+------------+\n",
      "| Accuracy               |   0.957143 |\n",
      "+------------------------+------------+\n",
      "| weighted_f1            |   0.957143 |\n",
      "+------------------------+------------+\n",
      "| macro_f1               |   0.95508  |\n",
      "+------------------------+------------+\n"
     ]
    }
   ],
   "source": [
    "breast_cancer_wisconsin_dict[\"adaboost\"] = {\"model\":adaBoost_randomized, \"hyperparameters\":1}\n",
    "adaboost_prediction = model_results(breast_cancer_wisconsin_dict['adaboost'])"
   ]
  },
  {
   "cell_type": "code",
   "execution_count": 166,
   "id": "06afd977",
   "metadata": {},
   "outputs": [
    {
     "name": "stdout",
     "output_type": "stream",
     "text": [
      "              precision    recall  f1-score   support\n",
      "\n",
      "         2.0       0.96      0.96      0.96        85\n",
      "         4.0       0.95      0.95      0.95        55\n",
      "\n",
      "    accuracy                           0.96       140\n",
      "   macro avg       0.96      0.96      0.96       140\n",
      "weighted avg       0.96      0.96      0.96       140\n",
      "\n",
      "[[82  3]\n",
      " [ 3 52]]\n"
     ]
    },
    {
     "data": {
      "image/png": "[encoded data removed]",
      "text/plain": [
       "<Figure size 432x288 with 2 Axes>"
      ]
     },
     "metadata": {
      "needs_background": "light"
     },
     "output_type": "display_data"
    }
   ],
   "source": [
    "print(classification_report(y_test, adaboost_prediction))\n",
    "print(confusion_matrix (y_test, adaboost_prediction))\n",
    "ConfusionMatrixDisplay.from_predictions(y_test, adaboost_prediction);"
   ]
  },
  {
   "cell_type": "markdown",
   "id": "40293cfd",
   "metadata": {},
   "source": [
    "## 7. Gaussian Naive Bayes classification"
   ]
  },
  {
   "cell_type": "code",
   "execution_count": 167,
   "id": "3d5a5812",
   "metadata": {},
   "outputs": [],
   "source": [
    "from sklearn.naive_bayes import GaussianNB\n",
    "\n",
    "naive_bayes = GaussianNB().fit(X_train, y_train)"
   ]
  },
  {
   "cell_type": "code",
   "execution_count": null,
   "id": "2777acc2",
   "metadata": {},
   "outputs": [],
   "source": [
    "# param_distribution = {'n_estimators': range(1, 150), 'learning_rate': scipy.stats.reciprocal(1, 5)}\n",
    "# adaBoost_randomized = sklearn.model_selection.RandomizedSearchCV(adaBoost, param_distribution, verbose=1, random_state=0, cv=3, n_iter=250).fit(X_train, y_train)\n",
    "# print('Best Hyperparameters = ' + str(knn_randomized.best_params_))"
   ]
  },
  {
   "cell_type": "code",
   "execution_count": 168,
   "id": "a035e370",
   "metadata": {},
   "outputs": [
    {
     "name": "stdout",
     "output_type": "stream",
     "text": [
      "+------------------------+----------+\n",
      "| Parameters / Metrics   |    Tuned |\n",
      "+========================+==========+\n",
      "| Mean Squared Error     | 0.171429 |\n",
      "+------------------------+----------+\n",
      "| Accuracy               | 0.957143 |\n",
      "+------------------------+----------+\n",
      "| weighted_f1            | 0.957378 |\n",
      "+------------------------+----------+\n",
      "| macro_f1               | 0.955612 |\n",
      "+------------------------+----------+\n"
     ]
    }
   ],
   "source": [
    "breast_cancer_wisconsin_dict[\"gnb\"] = {\"model\":naive_bayes, \"hyperparameters\":0}\n",
    "naive_bayes_prediction = model_results(breast_cancer_wisconsin_dict['gnb'])"
   ]
  },
  {
   "cell_type": "code",
   "execution_count": 169,
   "id": "182c79c9",
   "metadata": {},
   "outputs": [
    {
     "name": "stdout",
     "output_type": "stream",
     "text": [
      "              precision    recall  f1-score   support\n",
      "\n",
      "         2.0       0.99      0.94      0.96        85\n",
      "         4.0       0.92      0.98      0.95        55\n",
      "\n",
      "    accuracy                           0.96       140\n",
      "   macro avg       0.95      0.96      0.96       140\n",
      "weighted avg       0.96      0.96      0.96       140\n",
      "\n",
      "[[80  5]\n",
      " [ 1 54]]\n"
     ]
    },
    {
     "data": {
      "image/png": "[encoded data removed]",
      "text/plain": [
       "<Figure size 432x288 with 2 Axes>"
      ]
     },
     "metadata": {
      "needs_background": "light"
     },
     "output_type": "display_data"
    }
   ],
   "source": [
    "print(classification_report(y_test, naive_bayes_prediction))\n",
    "print(confusion_matrix (y_test, naive_bayes_prediction))\n",
    "ConfusionMatrixDisplay.from_predictions(y_test, naive_bayes_prediction);"
   ]
  },
  {
   "cell_type": "markdown",
   "id": "74cec67a",
   "metadata": {},
   "source": [
    "## 8. Neural Network classification"
   ]
  },
  {
   "cell_type": "code",
   "execution_count": 170,
   "id": "e08ee50a",
   "metadata": {},
   "outputs": [],
   "source": [
    "from sklearn.neural_network import MLPClassifier\n",
    "\n",
    "mlp = MLPClassifier(hidden_layer_sizes=900)"
   ]
  },
  {
   "cell_type": "code",
   "execution_count": 171,
   "id": "59bdbd1b",
   "metadata": {},
   "outputs": [
    {
     "name": "stdout",
     "output_type": "stream",
     "text": [
      "Fitting 3 folds for each of 25 candidates, totalling 75 fits\n",
      "Best Hyperparameters = {'leaf_size': 12.116069412579382, 'n_neighbors': 18, 'weights': 'distance'}\n"
     ]
    }
   ],
   "source": [
    "param_distribution = {'max_iter': range(1000, 1500),\n",
    "                        'alpha': scipy.stats.reciprocal(0.00001, 0.1), \n",
    "                        'learning_rate':['constant', 'invscaling', 'adaptive']}\n",
    "\n",
    "mlp_randomized = sklearn.model_selection.RandomizedSearchCV(mlp, param_distribution, verbose=1, random_state=0, cv=3, n_iter=25).fit(X_train, y_train)\n",
    "print('Best Hyperparameters = ' + str(knn_randomized.best_params_))"
   ]
  },
  {
   "cell_type": "code",
   "execution_count": 172,
   "id": "ec0c5b04",
   "metadata": {},
   "outputs": [
    {
     "name": "stdout",
     "output_type": "stream",
     "text": [
      "+------------------------+---------------------+\n",
      "| Parameters / Metrics   | Tuned               |\n",
      "+========================+=====================+\n",
      "| alpha                  | 0.05039489598671208 |\n",
      "+------------------------+---------------------+\n",
      "| learning_rate          | invscaling          |\n",
      "+------------------------+---------------------+\n",
      "| max_iter               | 1072                |\n",
      "+------------------------+---------------------+\n",
      "| Mean Squared Error     | 0.11428571428571428 |\n",
      "+------------------------+---------------------+\n",
      "| Accuracy               | 0.9714285714285714  |\n",
      "+------------------------+---------------------+\n",
      "| weighted_f1            | 0.9715136054421768  |\n",
      "+------------------------+---------------------+\n",
      "| macro_f1               | 0.9702380952380951  |\n",
      "+------------------------+---------------------+\n"
     ]
    }
   ],
   "source": [
    "breast_cancer_wisconsin_dict[\"nn\"] = {\"model\":mlp_randomized, \"hyperparameters\":1}\n",
    "nn_prediction = model_results(breast_cancer_wisconsin_dict['nn'])"
   ]
  },
  {
   "cell_type": "code",
   "execution_count": 173,
   "id": "2e405242",
   "metadata": {},
   "outputs": [
    {
     "name": "stdout",
     "output_type": "stream",
     "text": [
      "              precision    recall  f1-score   support\n",
      "\n",
      "         2.0       0.99      0.96      0.98        85\n",
      "         4.0       0.95      0.98      0.96        55\n",
      "\n",
      "    accuracy                           0.97       140\n",
      "   macro avg       0.97      0.97      0.97       140\n",
      "weighted avg       0.97      0.97      0.97       140\n",
      "\n",
      "[[82  3]\n",
      " [ 1 54]]\n"
     ]
    },
    {
     "data": {
      "image/png": "[encoded data removed]",
      "text/plain": [
       "<Figure size 432x288 with 2 Axes>"
      ]
     },
     "metadata": {
      "needs_background": "light"
     },
     "output_type": "display_data"
    }
   ],
   "source": [
    "print(classification_report(y_test, nn_prediction))\n",
    "print(confusion_matrix (y_test, nn_prediction))\n",
    "ConfusionMatrixDisplay.from_predictions(y_test, nn_prediction);"
   ]
  }
 ],
 "metadata": {
  "kernelspec": {
   "display_name": "Python 3 (ipykernel)",
   "language": "python",
   "name": "python3"
  },
  "language_info": {
   "codemirror_mode": {
    "name": "ipython",
    "version": 3
   },
   "file_extension": ".py",
   "mimetype": "text/x-python",
   "name": "python",
   "nbconvert_exporter": "python",
   "pygments_lexer": "ipython3",
   "version": "3.9.5"
  }
 },
 "nbformat": 4,
 "nbformat_minor": 5
}
