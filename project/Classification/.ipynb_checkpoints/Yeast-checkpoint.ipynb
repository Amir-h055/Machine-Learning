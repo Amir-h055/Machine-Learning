{
 "cells": [
  {
   "cell_type": "markdown",
   "id": "e4f8386e",
   "metadata": {},
   "source": [
    "# Yeast"
   ]
  },
  {
   "cell_type": "code",
   "execution_count": 16,
   "id": "1a319900",
   "metadata": {},
   "outputs": [],
   "source": [
    "import numpy as np\n",
    "import matplotlib.pyplot as plt\n",
    "import sklearn as sk\n",
    "import pandas as pd\n",
    "import scipy\n",
    "import seaborn as sns\n",
    "import math\n",
    "\n",
    "from scipy.io import arff\n",
    "from sklearn.model_selection import train_test_split, GridSearchCV, RandomizedSearchCV\n",
    "from sklearn.preprocessing import StandardScaler, LabelEncoder\n",
    "from sklearn.metrics import confusion_matrix,plot_confusion_matrix,ConfusionMatrixDisplay, classification_report,accuracy_score,f1_score\n",
    "\n",
    "\n",
    "from sklearn.linear_model import LogisticRegression\n",
    "from sklearn.svm import SVC\n",
    "from sklearn.tree import DecisionTreeClassifier, plot_tree\n",
    "\n",
    "# change the trees"
   ]
  },
  {
   "cell_type": "markdown",
   "id": "f73e41c8",
   "metadata": {},
   "source": [
    "## Loading Data"
   ]
  },
  {
   "cell_type": "code",
   "execution_count": 7,
   "id": "07c6cb99",
   "metadata": {},
   "outputs": [],
   "source": [
    "# Datset = arff.loadarff(\"datasets\\messidor_features\\messidor_features.arff\") \n",
    "Datset = pd.read_csv(\"/Users/annikatimermanis/Desktop/project/Classification/Classification_Datasets/6_Yeast/yeast.data\",delim_whitespace=True) \n"
   ]
  },
  {
   "cell_type": "code",
   "execution_count": 8,
   "id": "c22e371a",
   "metadata": {},
   "outputs": [
    {
     "data": {
      "text/html": [
       "<div>\n",
       "<style scoped>\n",
       "    .dataframe tbody tr th:only-of-type {\n",
       "        vertical-align: middle;\n",
       "    }\n",
       "\n",
       "    .dataframe tbody tr th {\n",
       "        vertical-align: top;\n",
       "    }\n",
       "\n",
       "    .dataframe thead th {\n",
       "        text-align: right;\n",
       "    }\n",
       "</style>\n",
       "<table border=\"1\" class=\"dataframe\">\n",
       "  <thead>\n",
       "    <tr style=\"text-align: right;\">\n",
       "      <th></th>\n",
       "      <th>ADT1_YEAST</th>\n",
       "      <th>0.58</th>\n",
       "      <th>0.61</th>\n",
       "      <th>0.47</th>\n",
       "      <th>0.13</th>\n",
       "      <th>0.50</th>\n",
       "      <th>0.00</th>\n",
       "      <th>0.48</th>\n",
       "      <th>0.22</th>\n",
       "      <th>MIT</th>\n",
       "    </tr>\n",
       "  </thead>\n",
       "  <tbody>\n",
       "    <tr>\n",
       "      <th>0</th>\n",
       "      <td>ADT2_YEAST</td>\n",
       "      <td>0.43</td>\n",
       "      <td>0.67</td>\n",
       "      <td>0.48</td>\n",
       "      <td>0.27</td>\n",
       "      <td>0.5</td>\n",
       "      <td>0.0</td>\n",
       "      <td>0.53</td>\n",
       "      <td>0.22</td>\n",
       "      <td>MIT</td>\n",
       "    </tr>\n",
       "    <tr>\n",
       "      <th>1</th>\n",
       "      <td>ADT3_YEAST</td>\n",
       "      <td>0.64</td>\n",
       "      <td>0.62</td>\n",
       "      <td>0.49</td>\n",
       "      <td>0.15</td>\n",
       "      <td>0.5</td>\n",
       "      <td>0.0</td>\n",
       "      <td>0.53</td>\n",
       "      <td>0.22</td>\n",
       "      <td>MIT</td>\n",
       "    </tr>\n",
       "    <tr>\n",
       "      <th>2</th>\n",
       "      <td>AAR2_YEAST</td>\n",
       "      <td>0.58</td>\n",
       "      <td>0.44</td>\n",
       "      <td>0.57</td>\n",
       "      <td>0.13</td>\n",
       "      <td>0.5</td>\n",
       "      <td>0.0</td>\n",
       "      <td>0.54</td>\n",
       "      <td>0.22</td>\n",
       "      <td>NUC</td>\n",
       "    </tr>\n",
       "    <tr>\n",
       "      <th>3</th>\n",
       "      <td>AATM_YEAST</td>\n",
       "      <td>0.42</td>\n",
       "      <td>0.44</td>\n",
       "      <td>0.48</td>\n",
       "      <td>0.54</td>\n",
       "      <td>0.5</td>\n",
       "      <td>0.0</td>\n",
       "      <td>0.48</td>\n",
       "      <td>0.22</td>\n",
       "      <td>MIT</td>\n",
       "    </tr>\n",
       "    <tr>\n",
       "      <th>4</th>\n",
       "      <td>AATC_YEAST</td>\n",
       "      <td>0.51</td>\n",
       "      <td>0.40</td>\n",
       "      <td>0.56</td>\n",
       "      <td>0.17</td>\n",
       "      <td>0.5</td>\n",
       "      <td>0.5</td>\n",
       "      <td>0.49</td>\n",
       "      <td>0.22</td>\n",
       "      <td>CYT</td>\n",
       "    </tr>\n",
       "  </tbody>\n",
       "</table>\n",
       "</div>"
      ],
      "text/plain": [
       "   ADT1_YEAST  0.58  0.61  0.47  0.13  0.50  0.00  0.48  0.22  MIT\n",
       "0  ADT2_YEAST  0.43  0.67  0.48  0.27   0.5   0.0  0.53  0.22  MIT\n",
       "1  ADT3_YEAST  0.64  0.62  0.49  0.15   0.5   0.0  0.53  0.22  MIT\n",
       "2  AAR2_YEAST  0.58  0.44  0.57  0.13   0.5   0.0  0.54  0.22  NUC\n",
       "3  AATM_YEAST  0.42  0.44  0.48  0.54   0.5   0.0  0.48  0.22  MIT\n",
       "4  AATC_YEAST  0.51  0.40  0.56  0.17   0.5   0.5  0.49  0.22  CYT"
      ]
     },
     "execution_count": 8,
     "metadata": {},
     "output_type": "execute_result"
    }
   ],
   "source": [
    "df = pd.DataFrame(Datset)\n",
    "df.head()"
   ]
  },
  {
   "cell_type": "markdown",
   "id": "6fc2460f",
   "metadata": {},
   "source": [
    "## Data preparation and Analysis"
   ]
  },
  {
   "cell_type": "code",
   "execution_count": 9,
   "id": "73aad8ac",
   "metadata": {},
   "outputs": [
    {
     "name": "stdout",
     "output_type": "stream",
     "text": [
      "0\n"
     ]
    }
   ],
   "source": [
    "print(np.count_nonzero(Datset==np.nan))"
   ]
  },
  {
   "cell_type": "code",
   "execution_count": 10,
   "id": "8b045f43",
   "metadata": {},
   "outputs": [
    {
     "name": "stdout",
     "output_type": "stream",
     "text": [
      "CYT    463\n",
      "NUC    429\n",
      "MIT    243\n",
      "ME3    163\n",
      "ME2     51\n",
      "ME1     44\n",
      "EXC     35\n",
      "VAC     30\n",
      "POX     20\n",
      "ERL      5\n",
      "Name: MIT, dtype: int64\n",
      "-------\n"
     ]
    }
   ],
   "source": [
    "frequency = df['MIT'].value_counts()\n",
    "print(frequency)\n",
    "print(\"-------\")"
   ]
  },
  {
   "cell_type": "code",
   "execution_count": 12,
   "id": "d347e07d",
   "metadata": {},
   "outputs": [],
   "source": [
    "# plt.plot()\n",
    "# plt.ylabel('Frequency')\n",
    "# plt.xlabel('Class')\n",
    "# plt.bar( (\"1\",\"0\"), frequency)\n",
    "# plt.suptitle(\"Distributation\")\n",
    "# plt.show()"
   ]
  },
  {
   "cell_type": "code",
   "execution_count": 7,
   "id": "3120a106",
   "metadata": {
    "scrolled": true
   },
   "outputs": [],
   "source": [
    "# sns.pairplot(df, hue=\"Class\")\n",
    "# print(\"ok\")"
   ]
  },
  {
   "cell_type": "code",
   "execution_count": 14,
   "id": "de5a2b29",
   "metadata": {},
   "outputs": [],
   "source": [
    "# plt.figure(figsize=(17,17))\n",
    "# sns.heatmap(df.corr(), annot =True)"
   ]
  },
  {
   "cell_type": "code",
   "execution_count": 17,
   "id": "734932b6",
   "metadata": {},
   "outputs": [],
   "source": [
    "# loop to iterate through all columns in dataframe and check if the data is string type\n",
    "for column in df:\n",
    "    if type(df[column][0]) == str:\n",
    "        # if data in column is type string, we want to convert it to equivalent numerical labels\n",
    "        label_encoder = LabelEncoder()\n",
    "        integer_encoded = label_encoder.fit_transform(df[column])\n",
    "        df[column] = integer_encoded"
   ]
  },
  {
   "cell_type": "markdown",
   "id": "72c21539",
   "metadata": {},
   "source": [
    "### Defining Dictionary of Models"
   ]
  },
  {
   "cell_type": "code",
   "execution_count": 18,
   "id": "afec7821",
   "metadata": {},
   "outputs": [],
   "source": [
    "MODELS = {'logistic_r', 'svc', 'tree', 'forest', 'knn', 'adaboost', 'gnb', 'nn'}\n",
    "yeast_dict = {}    "
   ]
  },
  {
   "cell_type": "markdown",
   "id": "43d59101",
   "metadata": {},
   "source": [
    "## Train and Test set"
   ]
  },
  {
   "cell_type": "code",
   "execution_count": 19,
   "id": "f4eed83b",
   "metadata": {},
   "outputs": [],
   "source": [
    "x = df.iloc[:,:-1]\n",
    "y= df.iloc[:,-1:]\n",
    "# y = df.Class.apply(lambda x: pd.to_numeric(str(x)[2]))"
   ]
  },
  {
   "cell_type": "code",
   "execution_count": 20,
   "id": "b43cccb8",
   "metadata": {},
   "outputs": [],
   "source": [
    "X_train, X_test, y_train, y_test = train_test_split( x, y, test_size=0.2, random_state=0)\n",
    "\n",
    "y_train = y_train.to_numpy().reshape(-1)\n",
    "y_test = y_test.to_numpy().reshape(-1)"
   ]
  },
  {
   "cell_type": "code",
   "execution_count": 21,
   "id": "4a01157d",
   "metadata": {
    "scrolled": true
   },
   "outputs": [],
   "source": [
    "StScale = StandardScaler()\n",
    "X_train = StScale.fit_transform(X_train)\n",
    "X_test = StScale.transform(X_test)"
   ]
  },
  {
   "cell_type": "code",
   "execution_count": 22,
   "id": "1ebe78ad",
   "metadata": {},
   "outputs": [],
   "source": [
    "from tabulate import tabulate\n",
    "from sklearn.metrics import mean_squared_error\n",
    "from sklearn.metrics import r2_score\n",
    "\n",
    "def model_results(model):\n",
    "    table = [[\"Parameters / Metrics\", \"Tuned\"]]\n",
    "    curr_model = model['model']\n",
    "\n",
    "    if model['hyperparameters'] == 1:\n",
    "        for param in curr_model.best_params_:\n",
    "            table.append([param, curr_model.best_params_[param]])\n",
    "\n",
    "    prediction = curr_model.predict(X_test)\n",
    "    mse = mean_squared_error(y_test, prediction)\n",
    "    accuracy = accuracy_score(y_test, prediction)\n",
    "    weighted_f1 = f1_score(y_test, prediction, average='weighted')\n",
    "    macro_f1 = f1_score(y_test, prediction, average='macro')\n",
    "    \n",
    "    table.append(['Mean Squared Error', mse])\n",
    "    table.append(['Accuracy',accuracy])\n",
    "    table.append(['weighted_f1', weighted_f1])\n",
    "    table.append(['macro_f1',macro_f1])\n",
    "\n",
    "    print(tabulate(table, headers='firstrow', tablefmt='grid'))\n",
    "    \n",
    "    return prediction"
   ]
  },
  {
   "cell_type": "markdown",
   "id": "7f438bd3",
   "metadata": {},
   "source": [
    "## 1. LogisticRegression for Classification"
   ]
  },
  {
   "cell_type": "code",
   "execution_count": 23,
   "id": "c36c5393",
   "metadata": {},
   "outputs": [
    {
     "name": "stderr",
     "output_type": "stream",
     "text": [
      "/Library/Frameworks/Python.framework/Versions/3.9/lib/python3.9/site-packages/sklearn/linear_model/_logistic.py:814: ConvergenceWarning: lbfgs failed to converge (status=1):\n",
      "STOP: TOTAL NO. of ITERATIONS REACHED LIMIT.\n",
      "\n",
      "Increase the number of iterations (max_iter) or scale the data as shown in:\n",
      "    https://scikit-learn.org/stable/modules/preprocessing.html\n",
      "Please also refer to the documentation for alternative solver options:\n",
      "    https://scikit-learn.org/stable/modules/linear_model.html#logistic-regression\n",
      "  n_iter_i = _check_optimize_result(\n"
     ]
    },
    {
     "data": {
      "text/plain": [
       "LogisticRegression(random_state=0)"
      ]
     },
     "execution_count": 23,
     "metadata": {},
     "output_type": "execute_result"
    }
   ],
   "source": [
    "logistic_r = LogisticRegression(random_state=0)\n",
    "logistic_r.fit(X_train, y_train)"
   ]
  },
  {
   "cell_type": "markdown",
   "id": "e4ba1b2c",
   "metadata": {},
   "source": [
    "## LogisticRegression Analysis"
   ]
  },
  {
   "cell_type": "code",
   "execution_count": 25,
   "id": "d1ac921c",
   "metadata": {
    "scrolled": true
   },
   "outputs": [
    {
     "name": "stdout",
     "output_type": "stream",
     "text": [
      "+------------------------+-----------+\n",
      "| Parameters / Metrics   |     Tuned |\n",
      "+========================+===========+\n",
      "| Mean Squared Error     | 13.5623   |\n",
      "+------------------------+-----------+\n",
      "| Accuracy               |  0.606061 |\n",
      "+------------------------+-----------+\n",
      "| weighted_f1            |  0.591098 |\n",
      "+------------------------+-----------+\n",
      "| macro_f1               |  0.556033 |\n",
      "+------------------------+-----------+\n"
     ]
    }
   ],
   "source": [
    "yeast_dict['logistic_r'] = {'model':logistic_r, 'hyperparameters':0}\n",
    "lr_prediction = model_results(yeast_dict['logistic_r'])"
   ]
  },
  {
   "cell_type": "code",
   "execution_count": 27,
   "id": "e1065e84",
   "metadata": {},
   "outputs": [
    {
     "name": "stderr",
     "output_type": "stream",
     "text": [
      "/Library/Frameworks/Python.framework/Versions/3.9/lib/python3.9/site-packages/sklearn/metrics/_classification.py:1308: UndefinedMetricWarning: Precision and F-score are ill-defined and being set to 0.0 in labels with no predicted samples. Use `zero_division` parameter to control this behavior.\n",
      "  _warn_prf(average, modifier, msg_start, len(result))\n",
      "/Library/Frameworks/Python.framework/Versions/3.9/lib/python3.9/site-packages/sklearn/metrics/_classification.py:1308: UndefinedMetricWarning: Precision and F-score are ill-defined and being set to 0.0 in labels with no predicted samples. Use `zero_division` parameter to control this behavior.\n",
      "  _warn_prf(average, modifier, msg_start, len(result))\n",
      "/Library/Frameworks/Python.framework/Versions/3.9/lib/python3.9/site-packages/sklearn/metrics/_classification.py:1308: UndefinedMetricWarning: Precision and F-score are ill-defined and being set to 0.0 in labels with no predicted samples. Use `zero_division` parameter to control this behavior.\n",
      "  _warn_prf(average, modifier, msg_start, len(result))\n"
     ]
    },
    {
     "name": "stdout",
     "output_type": "stream",
     "text": [
      "              precision    recall  f1-score   support\n",
      "\n",
      "           0       0.53      0.79      0.63        98\n",
      "           1       1.00      0.67      0.80         3\n",
      "           2       0.75      0.55      0.63        11\n",
      "           3       0.89      0.89      0.89         9\n",
      "           4       0.50      0.27      0.35        11\n",
      "           5       0.70      0.78      0.74        27\n",
      "           6       0.62      0.52      0.57        48\n",
      "           7       0.67      0.46      0.55        80\n",
      "           8       0.50      0.33      0.40         3\n",
      "           9       0.00      0.00      0.00         7\n",
      "\n",
      "    accuracy                           0.61       297\n",
      "   macro avg       0.62      0.53      0.56       297\n",
      "weighted avg       0.61      0.61      0.59       297\n",
      "\n",
      "[[77  0  0  0  0  0  6 14  1  0]\n",
      " [ 1  2  0  0  0  0  0  0  0  0]\n",
      " [ 2  0  6  0  2  0  1  0  0  0]\n",
      " [ 0  0  0  8  0  1  0  0  0  0]\n",
      " [ 3  0  1  0  3  2  2  0  0  0]\n",
      " [ 4  0  0  0  0 21  1  1  0  0]\n",
      " [17  0  0  1  1  1 25  3  0  0]\n",
      " [37  0  0  0  0  3  3 37  0  0]\n",
      " [ 1  0  0  0  0  0  1  0  1  0]\n",
      " [ 3  0  1  0  0  2  1  0  0  0]]\n"
     ]
    },
    {
     "data": {
      "image/png": "[encoded data removed]",
      "text/plain": [
       "<Figure size 432x288 with 2 Axes>"
      ]
     },
     "metadata": {
      "needs_background": "light"
     },
     "output_type": "display_data"
    }
   ],
   "source": [
    "print(classification_report(y_test, lr_prediction))\n",
    "print(confusion_matrix (y_test, lr_prediction))\n",
    "ConfusionMatrixDisplay.from_predictions(y_test, lr_prediction);"
   ]
  },
  {
   "cell_type": "markdown",
   "id": "1db62301",
   "metadata": {},
   "source": [
    "## 2. Support vector classification"
   ]
  },
  {
   "cell_type": "code",
   "execution_count": 28,
   "id": "5350fff9",
   "metadata": {},
   "outputs": [],
   "source": [
    "svc = SVC().fit(X_train, y_train)"
   ]
  },
  {
   "cell_type": "code",
   "execution_count": 29,
   "id": "15cf139f",
   "metadata": {},
   "outputs": [
    {
     "name": "stdout",
     "output_type": "stream",
     "text": [
      "Fitting 5 folds for each of 10 candidates, totalling 50 fits\n",
      "[CV 1/5; 1/10] START C=0.01, gamma=0.07.........................................\n",
      "[CV 1/5; 1/10] END ..........C=0.01, gamma=0.07;, score=0.307 total time=   0.1s\n",
      "[CV 2/5; 1/10] START C=0.01, gamma=0.07.........................................\n",
      "[CV 2/5; 1/10] END ..........C=0.01, gamma=0.07;, score=0.308 total time=   0.1s\n",
      "[CV 3/5; 1/10] START C=0.01, gamma=0.07.........................................\n"
     ]
    },
    {
     "name": "stderr",
     "output_type": "stream",
     "text": [
      "/Library/Frameworks/Python.framework/Versions/3.9/lib/python3.9/site-packages/sklearn/model_selection/_split.py:676: UserWarning: The least populated class in y has only 2 members, which is less than n_splits=5.\n",
      "  warnings.warn(\n"
     ]
    },
    {
     "name": "stdout",
     "output_type": "stream",
     "text": [
      "[CV 3/5; 1/10] END ..........C=0.01, gamma=0.07;, score=0.308 total time=   0.1s\n",
      "[CV 4/5; 1/10] START C=0.01, gamma=0.07.........................................\n",
      "[CV 4/5; 1/10] END ..........C=0.01, gamma=0.07;, score=0.308 total time=   0.1s\n",
      "[CV 5/5; 1/10] START C=0.01, gamma=0.07.........................................\n",
      "[CV 5/5; 1/10] END ..........C=0.01, gamma=0.07;, score=0.308 total time=   0.1s\n",
      "[CV 1/5; 2/10] START C=250, gamma=0.01..........................................\n",
      "[CV 1/5; 2/10] END ...........C=250, gamma=0.01;, score=0.588 total time=   0.1s\n",
      "[CV 2/5; 2/10] START C=250, gamma=0.01..........................................\n",
      "[CV 2/5; 2/10] END ...........C=250, gamma=0.01;, score=0.578 total time=   0.1s\n",
      "[CV 3/5; 2/10] START C=250, gamma=0.01..........................................\n",
      "[CV 3/5; 2/10] END ...........C=250, gamma=0.01;, score=0.553 total time=   0.1s\n",
      "[CV 4/5; 2/10] START C=250, gamma=0.01..........................................\n",
      "[CV 4/5; 2/10] END ...........C=250, gamma=0.01;, score=0.591 total time=   0.1s\n",
      "[CV 5/5; 2/10] START C=250, gamma=0.01..........................................\n",
      "[CV 5/5; 2/10] END ...........C=250, gamma=0.01;, score=0.603 total time=   0.1s\n",
      "[CV 1/5; 3/10] START C=1, gamma=0.001...........................................\n",
      "[CV 1/5; 3/10] END ............C=1, gamma=0.001;, score=0.361 total time=   0.1s\n",
      "[CV 2/5; 3/10] START C=1, gamma=0.001...........................................\n",
      "[CV 2/5; 3/10] END ............C=1, gamma=0.001;, score=0.380 total time=   0.1s\n",
      "[CV 3/5; 3/10] START C=1, gamma=0.001...........................................\n",
      "[CV 3/5; 3/10] END ............C=1, gamma=0.001;, score=0.333 total time=   0.1s\n",
      "[CV 4/5; 3/10] START C=1, gamma=0.001...........................................\n",
      "[CV 4/5; 3/10] END ............C=1, gamma=0.001;, score=0.376 total time=   0.1s\n",
      "[CV 5/5; 3/10] START C=1, gamma=0.001...........................................\n",
      "[CV 5/5; 3/10] END ............C=1, gamma=0.001;, score=0.359 total time=   0.1s\n",
      "[CV 1/5; 4/10] START C=250, gamma=0.008.........................................\n",
      "[CV 1/5; 4/10] END ..........C=250, gamma=0.008;, score=0.605 total time=   0.1s\n",
      "[CV 2/5; 4/10] START C=250, gamma=0.008.........................................\n",
      "[CV 2/5; 4/10] END ..........C=250, gamma=0.008;, score=0.578 total time=   0.1s\n",
      "[CV 3/5; 4/10] START C=250, gamma=0.008.........................................\n",
      "[CV 3/5; 4/10] END ..........C=250, gamma=0.008;, score=0.557 total time=   0.1s\n",
      "[CV 4/5; 4/10] START C=250, gamma=0.008.........................................\n",
      "[CV 4/5; 4/10] END ..........C=250, gamma=0.008;, score=0.582 total time=   0.1s\n",
      "[CV 5/5; 4/10] START C=250, gamma=0.008.........................................\n",
      "[CV 5/5; 4/10] END ..........C=250, gamma=0.008;, score=0.599 total time=   0.1s\n",
      "[CV 1/5; 5/10] START C=10, gamma=0.05...........................................\n",
      "[CV 1/5; 5/10] END ............C=10, gamma=0.05;, score=0.597 total time=   0.1s\n",
      "[CV 2/5; 5/10] START C=10, gamma=0.05...........................................\n",
      "[CV 2/5; 5/10] END ............C=10, gamma=0.05;, score=0.582 total time=   0.1s\n",
      "[CV 3/5; 5/10] START C=10, gamma=0.05...........................................\n",
      "[CV 3/5; 5/10] END ............C=10, gamma=0.05;, score=0.561 total time=   0.1s\n",
      "[CV 4/5; 5/10] START C=10, gamma=0.05...........................................\n",
      "[CV 4/5; 5/10] END ............C=10, gamma=0.05;, score=0.612 total time=   0.1s\n",
      "[CV 5/5; 5/10] START C=10, gamma=0.05...........................................\n",
      "[CV 5/5; 5/10] END ............C=10, gamma=0.05;, score=0.591 total time=   0.1s\n",
      "[CV 1/5; 6/10] START C=50, gamma=0.009..........................................\n",
      "[CV 1/5; 6/10] END ...........C=50, gamma=0.009;, score=0.618 total time=   0.1s\n",
      "[CV 2/5; 6/10] START C=50, gamma=0.009..........................................\n",
      "[CV 2/5; 6/10] END ...........C=50, gamma=0.009;, score=0.578 total time=   0.1s\n",
      "[CV 3/5; 6/10] START C=50, gamma=0.009..........................................\n",
      "[CV 3/5; 6/10] END ...........C=50, gamma=0.009;, score=0.570 total time=   0.1s\n",
      "[CV 4/5; 6/10] START C=50, gamma=0.009..........................................\n",
      "[CV 4/5; 6/10] END ...........C=50, gamma=0.009;, score=0.599 total time=   0.1s\n",
      "[CV 5/5; 6/10] START C=50, gamma=0.009..........................................\n",
      "[CV 5/5; 6/10] END ...........C=50, gamma=0.009;, score=0.608 total time=   0.1s\n",
      "[CV 1/5; 7/10] START C=0.1, gamma=0.05..........................................\n",
      "[CV 1/5; 7/10] END ...........C=0.1, gamma=0.05;, score=0.517 total time=   0.1s\n",
      "[CV 2/5; 7/10] START C=0.1, gamma=0.05..........................................\n",
      "[CV 2/5; 7/10] END ...........C=0.1, gamma=0.05;, score=0.481 total time=   0.1s\n",
      "[CV 3/5; 7/10] START C=0.1, gamma=0.05..........................................\n",
      "[CV 3/5; 7/10] END ...........C=0.1, gamma=0.05;, score=0.523 total time=   0.1s\n",
      "[CV 4/5; 7/10] START C=0.1, gamma=0.05..........................................\n",
      "[CV 4/5; 7/10] END ...........C=0.1, gamma=0.05;, score=0.544 total time=   0.1s\n",
      "[CV 5/5; 7/10] START C=0.1, gamma=0.05..........................................\n",
      "[CV 5/5; 7/10] END ...........C=0.1, gamma=0.05;, score=0.511 total time=   0.1s\n",
      "[CV 1/5; 8/10] START C=170, gamma=0.001.........................................\n",
      "[CV 1/5; 8/10] END ..........C=170, gamma=0.001;, score=0.592 total time=   0.1s\n",
      "[CV 2/5; 8/10] START C=170, gamma=0.001.........................................\n",
      "[CV 2/5; 8/10] END ..........C=170, gamma=0.001;, score=0.557 total time=   0.1s\n",
      "[CV 3/5; 8/10] START C=170, gamma=0.001.........................................\n",
      "[CV 3/5; 8/10] END ..........C=170, gamma=0.001;, score=0.561 total time=   0.1s\n",
      "[CV 4/5; 8/10] START C=170, gamma=0.001.........................................\n",
      "[CV 4/5; 8/10] END ..........C=170, gamma=0.001;, score=0.599 total time=   0.1s\n",
      "[CV 5/5; 8/10] START C=170, gamma=0.001.........................................\n",
      "[CV 5/5; 8/10] END ..........C=170, gamma=0.001;, score=0.595 total time=   0.1s\n",
      "[CV 1/5; 9/10] START C=0.01, gamma=auto.........................................\n",
      "[CV 1/5; 9/10] END ..........C=0.01, gamma=auto;, score=0.307 total time=   0.1s\n",
      "[CV 2/5; 9/10] START C=0.01, gamma=auto.........................................\n",
      "[CV 2/5; 9/10] END ..........C=0.01, gamma=auto;, score=0.308 total time=   0.1s\n",
      "[CV 3/5; 9/10] START C=0.01, gamma=auto.........................................\n",
      "[CV 3/5; 9/10] END ..........C=0.01, gamma=auto;, score=0.308 total time=   0.1s\n",
      "[CV 4/5; 9/10] START C=0.01, gamma=auto.........................................\n",
      "[CV 4/5; 9/10] END ..........C=0.01, gamma=auto;, score=0.308 total time=   0.1s\n",
      "[CV 5/5; 9/10] START C=0.01, gamma=auto.........................................\n",
      "[CV 5/5; 9/10] END ..........C=0.01, gamma=auto;, score=0.308 total time=   0.1s\n",
      "[CV 1/5; 10/10] START C=200, gamma=0.07.........................................\n",
      "[CV 1/5; 10/10] END ..........C=200, gamma=0.07;, score=0.592 total time=   0.1s\n",
      "[CV 2/5; 10/10] START C=200, gamma=0.07.........................................\n",
      "[CV 2/5; 10/10] END ..........C=200, gamma=0.07;, score=0.553 total time=   0.1s\n",
      "[CV 3/5; 10/10] START C=200, gamma=0.07.........................................\n",
      "[CV 3/5; 10/10] END ..........C=200, gamma=0.07;, score=0.494 total time=   0.1s\n",
      "[CV 4/5; 10/10] START C=200, gamma=0.07.........................................\n",
      "[CV 4/5; 10/10] END ..........C=200, gamma=0.07;, score=0.549 total time=   0.1s\n",
      "[CV 5/5; 10/10] START C=200, gamma=0.07.........................................\n",
      "[CV 5/5; 10/10] END ..........C=200, gamma=0.07;, score=0.608 total time=   0.1s\n"
     ]
    },
    {
     "data": {
      "text/plain": [
       "{'gamma': 0.009, 'C': 50}"
      ]
     },
     "execution_count": 29,
     "metadata": {},
     "output_type": "execute_result"
    }
   ],
   "source": [
    "parameters = {\n",
    "    'C':[0.1,0.01, 0.001, 0.5,0.7,1,10,50, 100,150,170,180,190, 200,220, 250,300,1000],\n",
    "    'gamma': ['scale','auto',0.1, 0.01,0.02, 0.05, 0.03, 0.07, 0.001, 0.009, 0.008],\n",
    "}\n",
    "svc_model = RandomizedSearchCV(svc, parameters, verbose=10, random_state=0).fit(X_train, y_train)\n",
    "svc_model.best_params_"
   ]
  },
  {
   "cell_type": "code",
   "execution_count": 30,
   "id": "19741eca",
   "metadata": {},
   "outputs": [
    {
     "data": {
      "text/plain": [
       "SVC(C=50, gamma=0.009)"
      ]
     },
     "execution_count": 30,
     "metadata": {},
     "output_type": "execute_result"
    }
   ],
   "source": [
    "svc_model.best_estimator_"
   ]
  },
  {
   "cell_type": "markdown",
   "id": "2873889f",
   "metadata": {},
   "source": [
    "## Support vector classification Analysis"
   ]
  },
  {
   "cell_type": "code",
   "execution_count": 31,
   "id": "069366ff",
   "metadata": {},
   "outputs": [
    {
     "name": "stdout",
     "output_type": "stream",
     "text": [
      "+------------------------+-----------+\n",
      "| Parameters / Metrics   |     Tuned |\n",
      "+========================+===========+\n",
      "| gamma                  |  0.009    |\n",
      "+------------------------+-----------+\n",
      "| C                      | 50        |\n",
      "+------------------------+-----------+\n",
      "| Mean Squared Error     | 14.1953   |\n",
      "+------------------------+-----------+\n",
      "| Accuracy               |  0.579125 |\n",
      "+------------------------+-----------+\n",
      "| weighted_f1            |  0.55965  |\n",
      "+------------------------+-----------+\n",
      "| macro_f1               |  0.532396 |\n",
      "+------------------------+-----------+\n"
     ]
    }
   ],
   "source": [
    "yeast_dict['svc'] = {'model':svc_model, 'hyperparameters':1}\n",
    "svc_prediction = model_results(yeast_dict['svc'])"
   ]
  },
  {
   "cell_type": "code",
   "execution_count": 32,
   "id": "fe8fb4b3",
   "metadata": {},
   "outputs": [
    {
     "name": "stderr",
     "output_type": "stream",
     "text": [
      "/Library/Frameworks/Python.framework/Versions/3.9/lib/python3.9/site-packages/sklearn/metrics/_classification.py:1308: UndefinedMetricWarning: Precision and F-score are ill-defined and being set to 0.0 in labels with no predicted samples. Use `zero_division` parameter to control this behavior.\n",
      "  _warn_prf(average, modifier, msg_start, len(result))\n",
      "/Library/Frameworks/Python.framework/Versions/3.9/lib/python3.9/site-packages/sklearn/metrics/_classification.py:1308: UndefinedMetricWarning: Precision and F-score are ill-defined and being set to 0.0 in labels with no predicted samples. Use `zero_division` parameter to control this behavior.\n",
      "  _warn_prf(average, modifier, msg_start, len(result))\n",
      "/Library/Frameworks/Python.framework/Versions/3.9/lib/python3.9/site-packages/sklearn/metrics/_classification.py:1308: UndefinedMetricWarning: Precision and F-score are ill-defined and being set to 0.0 in labels with no predicted samples. Use `zero_division` parameter to control this behavior.\n",
      "  _warn_prf(average, modifier, msg_start, len(result))\n"
     ]
    },
    {
     "name": "stdout",
     "output_type": "stream",
     "text": [
      "              precision    recall  f1-score   support\n",
      "\n",
      "           0       0.52      0.76      0.62        98\n",
      "           1       1.00      1.00      1.00         3\n",
      "           2       0.67      0.55      0.60        11\n",
      "           3       0.73      0.89      0.80         9\n",
      "           4       0.25      0.09      0.13        11\n",
      "           5       0.66      0.70      0.68        27\n",
      "           6       0.68      0.56      0.61        48\n",
      "           7       0.58      0.41      0.48        80\n",
      "           8       0.50      0.33      0.40         3\n",
      "           9       0.00      0.00      0.00         7\n",
      "\n",
      "    accuracy                           0.58       297\n",
      "   macro avg       0.56      0.53      0.53       297\n",
      "weighted avg       0.57      0.58      0.56       297\n",
      "\n",
      "[[74  0  0  1  0  0  5 17  1  0]\n",
      " [ 0  3  0  0  0  0  0  0  0  0]\n",
      " [ 2  0  6  1  2  0  0  0  0  0]\n",
      " [ 0  0  0  8  0  1  0  0  0  0]\n",
      " [ 2  0  2  1  1  3  2  0  0  0]\n",
      " [ 5  0  0  0  1 19  0  2  0  0]\n",
      " [15  0  0  0  0  1 27  5  0  0]\n",
      " [40  0  0  0  0  3  4 33  0  0]\n",
      " [ 1  0  0  0  0  0  1  0  1  0]\n",
      " [ 3  0  1  0  0  2  1  0  0  0]]\n"
     ]
    },
    {
     "data": {
      "image/png": "[encoded data removed]",
      "text/plain": [
       "<Figure size 432x288 with 2 Axes>"
      ]
     },
     "metadata": {
      "needs_background": "light"
     },
     "output_type": "display_data"
    }
   ],
   "source": [
    "print(classification_report(y_test, svc_prediction))\n",
    "print(confusion_matrix (y_test, svc_prediction))\n",
    "ConfusionMatrixDisplay.from_predictions(y_test, svc_prediction);"
   ]
  },
  {
   "cell_type": "markdown",
   "id": "1632c6c2",
   "metadata": {},
   "source": [
    "## Decision tree"
   ]
  },
  {
   "cell_type": "code",
   "execution_count": 33,
   "id": "896efa10",
   "metadata": {},
   "outputs": [],
   "source": [
    "tree = DecisionTreeClassifier().fit(X_train, y_train)"
   ]
  },
  {
   "cell_type": "code",
   "execution_count": 34,
   "id": "52171e0d",
   "metadata": {},
   "outputs": [
    {
     "name": "stdout",
     "output_type": "stream",
     "text": [
      "Fitting 5 folds for each of 20 candidates, totalling 100 fits\n"
     ]
    },
    {
     "name": "stderr",
     "output_type": "stream",
     "text": [
      "/Library/Frameworks/Python.framework/Versions/3.9/lib/python3.9/site-packages/sklearn/model_selection/_split.py:676: UserWarning: The least populated class in y has only 2 members, which is less than n_splits=5.\n",
      "  warnings.warn(\n"
     ]
    },
    {
     "data": {
      "text/plain": [
       "{'max_depth': 8.103605819788694, 'min_samples_split': 0.08712929970154071}"
      ]
     },
     "execution_count": 34,
     "metadata": {},
     "output_type": "execute_result"
    }
   ],
   "source": [
    "parameters = {\n",
    "    'max_depth': scipy.stats.uniform(1, 100),\n",
    "    'min_samples_split': scipy.stats.uniform(0, 1) \n",
    "}\n",
    "tree_model = RandomizedSearchCV(tree, parameters, verbose=1, n_iter=20, random_state=0).fit(X_train, y_train)\n",
    "tree_model.best_params_"
   ]
  },
  {
   "cell_type": "markdown",
   "id": "b815c235",
   "metadata": {},
   "source": [
    "## Decision tree Analysis"
   ]
  },
  {
   "cell_type": "code",
   "execution_count": 35,
   "id": "49d69d2a",
   "metadata": {},
   "outputs": [
    {
     "name": "stdout",
     "output_type": "stream",
     "text": [
      "+------------------------+------------+\n",
      "| Parameters / Metrics   |      Tuned |\n",
      "+========================+============+\n",
      "| max_depth              |  8.10361   |\n",
      "+------------------------+------------+\n",
      "| min_samples_split      |  0.0871293 |\n",
      "+------------------------+------------+\n",
      "| Mean Squared Error     | 14.3872    |\n",
      "+------------------------+------------+\n",
      "| Accuracy               |  0.565657  |\n",
      "+------------------------+------------+\n",
      "| weighted_f1            |  0.528619  |\n",
      "+------------------------+------------+\n",
      "| macro_f1               |  0.39753   |\n",
      "+------------------------+------------+\n"
     ]
    }
   ],
   "source": [
    "yeast_dict['tree'] = {'model':tree_model, 'hyperparameters':1}\n",
    "tree_prediction = model_results(yeast_dict['tree'])"
   ]
  },
  {
   "cell_type": "code",
   "execution_count": 36,
   "id": "0efbc51e",
   "metadata": {},
   "outputs": [
    {
     "name": "stderr",
     "output_type": "stream",
     "text": [
      "/Library/Frameworks/Python.framework/Versions/3.9/lib/python3.9/site-packages/sklearn/metrics/_classification.py:1308: UndefinedMetricWarning: Precision and F-score are ill-defined and being set to 0.0 in labels with no predicted samples. Use `zero_division` parameter to control this behavior.\n",
      "  _warn_prf(average, modifier, msg_start, len(result))\n",
      "/Library/Frameworks/Python.framework/Versions/3.9/lib/python3.9/site-packages/sklearn/metrics/_classification.py:1308: UndefinedMetricWarning: Precision and F-score are ill-defined and being set to 0.0 in labels with no predicted samples. Use `zero_division` parameter to control this behavior.\n",
      "  _warn_prf(average, modifier, msg_start, len(result))\n",
      "/Library/Frameworks/Python.framework/Versions/3.9/lib/python3.9/site-packages/sklearn/metrics/_classification.py:1308: UndefinedMetricWarning: Precision and F-score are ill-defined and being set to 0.0 in labels with no predicted samples. Use `zero_division` parameter to control this behavior.\n",
      "  _warn_prf(average, modifier, msg_start, len(result))\n"
     ]
    },
    {
     "name": "stdout",
     "output_type": "stream",
     "text": [
      "              precision    recall  f1-score   support\n",
      "\n",
      "           0       0.51      0.81      0.63        98\n",
      "           1       0.00      0.00      0.00         3\n",
      "           2       0.50      0.55      0.52        11\n",
      "           3       0.53      1.00      0.69         9\n",
      "           4       0.00      0.00      0.00        11\n",
      "           5       0.69      0.89      0.77        27\n",
      "           6       0.74      0.35      0.48        48\n",
      "           7       0.60      0.40      0.48        80\n",
      "           8       0.50      0.33      0.40         3\n",
      "           9       0.00      0.00      0.00         7\n",
      "\n",
      "    accuracy                           0.57       297\n",
      "   macro avg       0.41      0.43      0.40       297\n",
      "weighted avg       0.55      0.57      0.53       297\n",
      "\n",
      "[[79  0  2  0  0  1  2 13  1  0]\n",
      " [ 1  0  1  0  1  0  0  0  0  0]\n",
      " [ 2  0  6  3  0  0  0  0  0  0]\n",
      " [ 0  0  0  9  0  0  0  0  0  0]\n",
      " [ 1  0  2  4  0  2  1  1  0  0]\n",
      " [ 2  0  0  0  0 24  1  0  0  0]\n",
      " [21  0  0  0  0  4 17  6  0  0]\n",
      " [44  0  0  0  0  3  1 32  0  0]\n",
      " [ 1  0  0  0  0  0  1  0  1  0]\n",
      " [ 3  0  1  1  0  1  0  1  0  0]]\n"
     ]
    },
    {
     "data": {
      "image/png": "[encoded data removed]",
      "text/plain": [
       "<Figure size 432x288 with 2 Axes>"
      ]
     },
     "metadata": {
      "needs_background": "light"
     },
     "output_type": "display_data"
    }
   ],
   "source": [
    "print(classification_report(y_test, tree_prediction))\n",
    "print(confusion_matrix (y_test, tree_prediction))\n",
    "ConfusionMatrixDisplay.from_predictions(y_test, tree_prediction);"
   ]
  },
  {
   "cell_type": "code",
   "execution_count": 37,
   "id": "35c9dfbc",
   "metadata": {},
   "outputs": [
    {
     "data": {
      "image/png": "[encoded data removed]",
      "text/plain": [
       "<Figure size 1512x1512 with 1 Axes>"
      ]
     },
     "metadata": {
      "needs_background": "light"
     },
     "output_type": "display_data"
    }
   ],
   "source": [
    "plt.figure(figsize=(21,21))\n",
    "plot_tree(tree_model.best_estimator_, max_depth = 2, fontsize=14);"
   ]
  },
  {
   "cell_type": "markdown",
   "id": "95b77efe",
   "metadata": {},
   "source": [
    "## Random Forest"
   ]
  },
  {
   "cell_type": "code",
   "execution_count": 18,
   "id": "94a5038d",
   "metadata": {},
   "outputs": [],
   "source": []
  },
  {
   "cell_type": "markdown",
   "id": "9bb754e2",
   "metadata": {},
   "source": [
    "## 5. K-nearest neighbours\n"
   ]
  },
  {
   "cell_type": "markdown",
   "id": "22612804",
   "metadata": {},
   "source": [
    "Fitting and hyperparameter search"
   ]
  },
  {
   "cell_type": "code",
   "execution_count": 38,
   "id": "d52fdc9b",
   "metadata": {},
   "outputs": [],
   "source": [
    "from sklearn import neighbors\n",
    "import sklearn\n",
    "import scipy\n",
    "\n",
    "knn = sklearn.neighbors.KNeighborsClassifier(n_jobs=-1)"
   ]
  },
  {
   "cell_type": "code",
   "execution_count": 39,
   "id": "15244e4d",
   "metadata": {},
   "outputs": [
    {
     "name": "stdout",
     "output_type": "stream",
     "text": [
      "Fitting 3 folds for each of 25 candidates, totalling 75 fits\n"
     ]
    },
    {
     "name": "stderr",
     "output_type": "stream",
     "text": [
      "/Library/Frameworks/Python.framework/Versions/3.9/lib/python3.9/site-packages/sklearn/model_selection/_split.py:676: UserWarning: The least populated class in y has only 2 members, which is less than n_splits=3.\n",
      "  warnings.warn(\n"
     ]
    },
    {
     "name": "stdout",
     "output_type": "stream",
     "text": [
      "best Hyperparameters = {'leaf_size': 32.178184839298616, 'n_neighbors': 37, 'weights': 'distance'}\n"
     ]
    }
   ],
   "source": [
    "param_distribution = {'n_neighbors': range(1, 150), 'weights':['uniform', 'distance'], 'leaf_size': scipy.stats.uniform(1, 50)}\n",
    "knn_randomized = sklearn.model_selection.RandomizedSearchCV(knn, param_distribution, verbose=1, random_state=0, cv=3, n_iter=25).fit(X_train, y_train)\n",
    "\n",
    "print('best Hyperparameters = ' + str(knn_randomized.best_params_))"
   ]
  },
  {
   "cell_type": "code",
   "execution_count": 40,
   "id": "33a90334",
   "metadata": {},
   "outputs": [
    {
     "name": "stdout",
     "output_type": "stream",
     "text": [
      "+------------------------+---------------------+\n",
      "| Parameters / Metrics   | Tuned               |\n",
      "+========================+=====================+\n",
      "| leaf_size              | 32.178184839298616  |\n",
      "+------------------------+---------------------+\n",
      "| n_neighbors            | 37                  |\n",
      "+------------------------+---------------------+\n",
      "| weights                | distance            |\n",
      "+------------------------+---------------------+\n",
      "| Mean Squared Error     | 13.400673400673401  |\n",
      "+------------------------+---------------------+\n",
      "| Accuracy               | 0.5993265993265994  |\n",
      "+------------------------+---------------------+\n",
      "| weighted_f1            | 0.5827246965457521  |\n",
      "+------------------------+---------------------+\n",
      "| macro_f1               | 0.45771722693939554 |\n",
      "+------------------------+---------------------+\n"
     ]
    }
   ],
   "source": [
    "yeast_dict[\"knn\"] = {\"model\":knn_randomized, \"hyperparameters\":1}\n",
    "knn_prediction = model_results(yeast_dict['knn'])"
   ]
  },
  {
   "cell_type": "code",
   "execution_count": 41,
   "id": "e214751d",
   "metadata": {},
   "outputs": [
    {
     "name": "stderr",
     "output_type": "stream",
     "text": [
      "/Library/Frameworks/Python.framework/Versions/3.9/lib/python3.9/site-packages/sklearn/metrics/_classification.py:1308: UndefinedMetricWarning: Precision and F-score are ill-defined and being set to 0.0 in labels with no predicted samples. Use `zero_division` parameter to control this behavior.\n",
      "  _warn_prf(average, modifier, msg_start, len(result))\n",
      "/Library/Frameworks/Python.framework/Versions/3.9/lib/python3.9/site-packages/sklearn/metrics/_classification.py:1308: UndefinedMetricWarning: Precision and F-score are ill-defined and being set to 0.0 in labels with no predicted samples. Use `zero_division` parameter to control this behavior.\n",
      "  _warn_prf(average, modifier, msg_start, len(result))\n",
      "/Library/Frameworks/Python.framework/Versions/3.9/lib/python3.9/site-packages/sklearn/metrics/_classification.py:1308: UndefinedMetricWarning: Precision and F-score are ill-defined and being set to 0.0 in labels with no predicted samples. Use `zero_division` parameter to control this behavior.\n",
      "  _warn_prf(average, modifier, msg_start, len(result))\n"
     ]
    },
    {
     "name": "stdout",
     "output_type": "stream",
     "text": [
      "              precision    recall  f1-score   support\n",
      "\n",
      "           0       0.53      0.74      0.62        98\n",
      "           1       0.00      0.00      0.00         3\n",
      "           2       0.58      0.64      0.61        11\n",
      "           3       0.78      0.78      0.78         9\n",
      "           4       0.67      0.18      0.29        11\n",
      "           5       0.62      0.74      0.68        27\n",
      "           6       0.75      0.56      0.64        48\n",
      "           7       0.63      0.51      0.57        80\n",
      "           8       0.50      0.33      0.40         3\n",
      "           9       0.00      0.00      0.00         7\n",
      "\n",
      "    accuracy                           0.60       297\n",
      "   macro avg       0.51      0.45      0.46       297\n",
      "weighted avg       0.60      0.60      0.58       297\n",
      "\n",
      "[[73  0  0  1  0  1  3 19  1  0]\n",
      " [ 1  0  1  1  0  0  0  0  0  0]\n",
      " [ 3  0  7  0  1  0  0  0  0  0]\n",
      " [ 0  0  1  7  0  1  0  0  0  0]\n",
      " [ 3  0  2  0  2  2  2  0  0  0]\n",
      " [ 5  0  0  0  0 20  0  2  0  0]\n",
      " [16  0  0  0  0  2 27  3  0  0]\n",
      " [33  0  0  0  0  4  2 41  0  0]\n",
      " [ 1  0  0  0  0  0  1  0  1  0]\n",
      " [ 3  0  1  0  0  2  1  0  0  0]]\n"
     ]
    },
    {
     "data": {
      "image/png": "[encoded data removed]",
      "text/plain": [
       "<Figure size 432x288 with 2 Axes>"
      ]
     },
     "metadata": {
      "needs_background": "light"
     },
     "output_type": "display_data"
    }
   ],
   "source": [
    "print(classification_report(y_test, knn_prediction))\n",
    "print(confusion_matrix (y_test, knn_prediction))\n",
    "ConfusionMatrixDisplay.from_predictions(y_test, knn_prediction);"
   ]
  },
  {
   "cell_type": "markdown",
   "id": "46140163",
   "metadata": {},
   "source": [
    "## 6. AdaBoost Classification"
   ]
  },
  {
   "cell_type": "markdown",
   "id": "c79474e9",
   "metadata": {},
   "source": [
    "Fitting and Hyperparameter search "
   ]
  },
  {
   "cell_type": "code",
   "execution_count": 42,
   "id": "f5fb4efb",
   "metadata": {},
   "outputs": [],
   "source": [
    "from sklearn.ensemble import AdaBoostClassifier\n",
    "\n",
    "adaBoost = AdaBoostClassifier().fit(X_train,y_train)"
   ]
  },
  {
   "cell_type": "code",
   "execution_count": 43,
   "id": "6cf7b68c",
   "metadata": {},
   "outputs": [
    {
     "name": "stdout",
     "output_type": "stream",
     "text": [
      "Fitting 5 folds for each of 50 candidates, totalling 250 fits\n"
     ]
    },
    {
     "name": "stderr",
     "output_type": "stream",
     "text": [
      "/Library/Frameworks/Python.framework/Versions/3.9/lib/python3.9/site-packages/sklearn/model_selection/_split.py:676: UserWarning: The least populated class in y has only 2 members, which is less than n_splits=5.\n",
      "  warnings.warn(\n"
     ]
    },
    {
     "name": "stdout",
     "output_type": "stream",
     "text": [
      "Best Hyperparameters = {'learning_rate': 3.1604786136121072, 'n_estimators': 245}\n"
     ]
    }
   ],
   "source": [
    "param_distribution = {'n_estimators': range(1, 250), 'learning_rate': scipy.stats.uniform(.1, 5)}\n",
    "adaBoost_randomized = sklearn.model_selection.RandomizedSearchCV(adaBoost, param_distribution, verbose=1, random_state=0, cv=5, n_iter=50).fit(X_train, y_train)\n",
    "\n",
    "print('Best Hyperparameters = ' + str(adaBoost_randomized.best_params_))"
   ]
  },
  {
   "cell_type": "code",
   "execution_count": 45,
   "id": "765b5f1d",
   "metadata": {},
   "outputs": [
    {
     "name": "stdout",
     "output_type": "stream",
     "text": [
      "+------------------------+------------+\n",
      "| Parameters / Metrics   |      Tuned |\n",
      "+========================+============+\n",
      "| learning_rate          |   3.16048  |\n",
      "+------------------------+------------+\n",
      "| n_estimators           | 245        |\n",
      "+------------------------+------------+\n",
      "| Mean Squared Error     |  20.7138   |\n",
      "+------------------------+------------+\n",
      "| Accuracy               |   0.350168 |\n",
      "+------------------------+------------+\n",
      "| weighted_f1            |   0.357991 |\n",
      "+------------------------+------------+\n",
      "| macro_f1               |   0.279    |\n",
      "+------------------------+------------+\n"
     ]
    }
   ],
   "source": [
    "yeast_dict[\"adaboost\"] = {\"model\":adaBoost_randomized, \"hyperparameters\":1}\n",
    "adaboost_prediction = model_results(yeast_dict['adaboost'])"
   ]
  },
  {
   "cell_type": "code",
   "execution_count": 46,
   "id": "8aaa1208",
   "metadata": {},
   "outputs": [
    {
     "name": "stderr",
     "output_type": "stream",
     "text": [
      "/Library/Frameworks/Python.framework/Versions/3.9/lib/python3.9/site-packages/sklearn/metrics/_classification.py:1308: UndefinedMetricWarning: Precision and F-score are ill-defined and being set to 0.0 in labels with no predicted samples. Use `zero_division` parameter to control this behavior.\n",
      "  _warn_prf(average, modifier, msg_start, len(result))\n",
      "/Library/Frameworks/Python.framework/Versions/3.9/lib/python3.9/site-packages/sklearn/metrics/_classification.py:1308: UndefinedMetricWarning: Precision and F-score are ill-defined and being set to 0.0 in labels with no predicted samples. Use `zero_division` parameter to control this behavior.\n",
      "  _warn_prf(average, modifier, msg_start, len(result))\n",
      "/Library/Frameworks/Python.framework/Versions/3.9/lib/python3.9/site-packages/sklearn/metrics/_classification.py:1308: UndefinedMetricWarning: Precision and F-score are ill-defined and being set to 0.0 in labels with no predicted samples. Use `zero_division` parameter to control this behavior.\n",
      "  _warn_prf(average, modifier, msg_start, len(result))\n"
     ]
    },
    {
     "name": "stdout",
     "output_type": "stream",
     "text": [
      "              precision    recall  f1-score   support\n",
      "\n",
      "           0       0.36      0.28      0.31        98\n",
      "           1       0.00      0.00      0.00         3\n",
      "           2       0.36      0.45      0.40        11\n",
      "           3       0.45      0.56      0.50         9\n",
      "           4       0.08      0.09      0.08        11\n",
      "           5       0.66      0.78      0.71        27\n",
      "           6       0.38      0.29      0.33        48\n",
      "           7       0.38      0.38      0.38        80\n",
      "           8       0.00      0.00      0.00         3\n",
      "           9       0.05      0.14      0.07         7\n",
      "\n",
      "    accuracy                           0.35       297\n",
      "   macro avg       0.27      0.30      0.28       297\n",
      "weighted avg       0.37      0.35      0.36       297\n",
      "\n",
      "[[27  0  4  0  0  2 11 37  7 10]\n",
      " [ 0  0  0  2  0  0  1  0  0  0]\n",
      " [ 0  0  5  1  2  0  1  0  1  1]\n",
      " [ 0  0  0  5  4  0  0  0  0  0]\n",
      " [ 1  0  1  3  1  1  1  2  0  1]\n",
      " [ 1  0  0  0  1 21  0  4  0  0]\n",
      " [17  0  1  0  2  3 14  6  4  1]\n",
      " [25  0  0  0  2  4  8 30  5  6]\n",
      " [ 2  0  1  0  0  0  0  0  0  0]\n",
      " [ 1  0  2  0  1  1  1  0  0  1]]\n"
     ]
    },
    {
     "data": {
      "image/png": "[encoded data removed]",
      "text/plain": [
       "<Figure size 432x288 with 2 Axes>"
      ]
     },
     "metadata": {
      "needs_background": "light"
     },
     "output_type": "display_data"
    }
   ],
   "source": [
    "print(classification_report(y_test, adaboost_prediction))\n",
    "print(confusion_matrix (y_test, adaboost_prediction))\n",
    "ConfusionMatrixDisplay.from_predictions(y_test, adaboost_prediction);"
   ]
  },
  {
   "cell_type": "markdown",
   "id": "40293cfd",
   "metadata": {},
   "source": [
    "## 7. Gaussian Naive Bayes classification"
   ]
  },
  {
   "cell_type": "code",
   "execution_count": 47,
   "id": "3d5a5812",
   "metadata": {},
   "outputs": [],
   "source": [
    "from sklearn.naive_bayes import GaussianNB\n",
    "\n",
    "naive_bayes = GaussianNB().fit(X_train, y_train)"
   ]
  },
  {
   "cell_type": "code",
   "execution_count": null,
   "id": "e3b90f6c",
   "metadata": {},
   "outputs": [],
   "source": [
    "# param_distribution = {'n_estimators': range(1, 150), 'learning_rate': scipy.stats.reciprocal(1, 5)}\n",
    "# adaBoost_randomized = sklearn.model_selection.RandomizedSearchCV(adaBoost, param_distribution, verbose=1, random_state=0, cv=3, n_iter=250).fit(X_train, y_train)\n",
    "# print('Best Hyperparameters = ' + str(knn_randomized.best_params_))"
   ]
  },
  {
   "cell_type": "code",
   "execution_count": 48,
   "id": "0eaa89c3",
   "metadata": {},
   "outputs": [
    {
     "name": "stdout",
     "output_type": "stream",
     "text": [
      "+------------------------+-----------+\n",
      "| Parameters / Metrics   |     Tuned |\n",
      "+========================+===========+\n",
      "| Mean Squared Error     | 26.9192   |\n",
      "+------------------------+-----------+\n",
      "| Accuracy               |  0.127946 |\n",
      "+------------------------+-----------+\n",
      "| weighted_f1            |  0.119014 |\n",
      "+------------------------+-----------+\n",
      "| macro_f1               |  0.278194 |\n",
      "+------------------------+-----------+\n"
     ]
    }
   ],
   "source": [
    "yeast_dict[\"gnb\"] = {\"model\":naive_bayes, \"hyperparameters\":0}\n",
    "naive_bayes_prediction = model_results(yeast_dict['gnb'])"
   ]
  },
  {
   "cell_type": "code",
   "execution_count": 49,
   "id": "b56df286",
   "metadata": {},
   "outputs": [
    {
     "name": "stderr",
     "output_type": "stream",
     "text": [
      "/Library/Frameworks/Python.framework/Versions/3.9/lib/python3.9/site-packages/sklearn/metrics/_classification.py:1308: UndefinedMetricWarning: Precision and F-score are ill-defined and being set to 0.0 in labels with no predicted samples. Use `zero_division` parameter to control this behavior.\n",
      "  _warn_prf(average, modifier, msg_start, len(result))\n",
      "/Library/Frameworks/Python.framework/Versions/3.9/lib/python3.9/site-packages/sklearn/metrics/_classification.py:1308: UndefinedMetricWarning: Precision and F-score are ill-defined and being set to 0.0 in labels with no predicted samples. Use `zero_division` parameter to control this behavior.\n",
      "  _warn_prf(average, modifier, msg_start, len(result))\n",
      "/Library/Frameworks/Python.framework/Versions/3.9/lib/python3.9/site-packages/sklearn/metrics/_classification.py:1308: UndefinedMetricWarning: Precision and F-score are ill-defined and being set to 0.0 in labels with no predicted samples. Use `zero_division` parameter to control this behavior.\n",
      "  _warn_prf(average, modifier, msg_start, len(result))\n"
     ]
    },
    {
     "name": "stdout",
     "output_type": "stream",
     "text": [
      "              precision    recall  f1-score   support\n",
      "\n",
      "           0       1.00      0.01      0.02        98\n",
      "           1       0.75      1.00      0.86         3\n",
      "           2       0.24      0.73      0.36        11\n",
      "           3       0.70      0.78      0.74         9\n",
      "           4       0.10      0.36      0.15        11\n",
      "           5       0.00      0.00      0.00        27\n",
      "           6       0.00      0.00      0.00        48\n",
      "           7       0.71      0.12      0.21        80\n",
      "           8       0.50      0.33      0.40         3\n",
      "           9       0.02      0.57      0.04         7\n",
      "\n",
      "    accuracy                           0.13       297\n",
      "   macro avg       0.40      0.39      0.28       297\n",
      "weighted avg       0.57      0.13      0.12       297\n",
      "\n",
      "[[ 1  0  9  0  7  0  0  3  1 77]\n",
      " [ 0  3  0  0  0  0  0  0  0  0]\n",
      " [ 0  0  8  0  2  0  0  0  0  1]\n",
      " [ 0  0  1  7  1  0  0  0  0  0]\n",
      " [ 0  1  2  2  4  0  0  0  0  2]\n",
      " [ 0  0  0  1  3  0  0  1  0 22]\n",
      " [ 0  0  5  0 22  0  0  0  0 21]\n",
      " [ 0  0  6  0  1  0  0 10  0 63]\n",
      " [ 0  0  0  0  1  0  0  0  1  1]\n",
      " [ 0  0  2  0  1  0  0  0  0  4]]\n"
     ]
    },
    {
     "data": {
      "image/png": "[encoded data removed]",
      "text/plain": [
       "<Figure size 432x288 with 2 Axes>"
      ]
     },
     "metadata": {
      "needs_background": "light"
     },
     "output_type": "display_data"
    }
   ],
   "source": [
    "print(classification_report(y_test, naive_bayes_prediction))\n",
    "print(confusion_matrix (y_test, naive_bayes_prediction))\n",
    "ConfusionMatrixDisplay.from_predictions(y_test, naive_bayes_prediction);"
   ]
  },
  {
   "cell_type": "markdown",
   "id": "74cec67a",
   "metadata": {},
   "source": [
    "## 8. Neural Network classification"
   ]
  },
  {
   "cell_type": "code",
   "execution_count": 50,
   "id": "e08ee50a",
   "metadata": {},
   "outputs": [],
   "source": [
    "from sklearn.neural_network import MLPClassifier\n",
    "\n",
    "mlp = MLPClassifier(hidden_layer_sizes=900)"
   ]
  },
  {
   "cell_type": "code",
   "execution_count": 51,
   "id": "59bdbd1b",
   "metadata": {},
   "outputs": [
    {
     "name": "stdout",
     "output_type": "stream",
     "text": [
      "Fitting 3 folds for each of 25 candidates, totalling 75 fits\n"
     ]
    },
    {
     "name": "stderr",
     "output_type": "stream",
     "text": [
      "/Library/Frameworks/Python.framework/Versions/3.9/lib/python3.9/site-packages/sklearn/model_selection/_split.py:676: UserWarning: The least populated class in y has only 2 members, which is less than n_splits=3.\n",
      "  warnings.warn(\n",
      "/Library/Frameworks/Python.framework/Versions/3.9/lib/python3.9/site-packages/sklearn/neural_network/_multilayer_perceptron.py:692: ConvergenceWarning: Stochastic Optimizer: Maximum iterations (1192) reached and the optimization hasn't converged yet.\n",
      "  warnings.warn(\n",
      "/Library/Frameworks/Python.framework/Versions/3.9/lib/python3.9/site-packages/sklearn/neural_network/_multilayer_perceptron.py:692: ConvergenceWarning: Stochastic Optimizer: Maximum iterations (1192) reached and the optimization hasn't converged yet.\n",
      "  warnings.warn(\n",
      "/Library/Frameworks/Python.framework/Versions/3.9/lib/python3.9/site-packages/sklearn/neural_network/_multilayer_perceptron.py:692: ConvergenceWarning: Stochastic Optimizer: Maximum iterations (1192) reached and the optimization hasn't converged yet.\n",
      "  warnings.warn(\n",
      "/Library/Frameworks/Python.framework/Versions/3.9/lib/python3.9/site-packages/sklearn/neural_network/_multilayer_perceptron.py:692: ConvergenceWarning: Stochastic Optimizer: Maximum iterations (1211) reached and the optimization hasn't converged yet.\n",
      "  warnings.warn(\n",
      "/Library/Frameworks/Python.framework/Versions/3.9/lib/python3.9/site-packages/sklearn/neural_network/_multilayer_perceptron.py:692: ConvergenceWarning: Stochastic Optimizer: Maximum iterations (1211) reached and the optimization hasn't converged yet.\n",
      "  warnings.warn(\n",
      "/Library/Frameworks/Python.framework/Versions/3.9/lib/python3.9/site-packages/sklearn/neural_network/_multilayer_perceptron.py:692: ConvergenceWarning: Stochastic Optimizer: Maximum iterations (1211) reached and the optimization hasn't converged yet.\n",
      "  warnings.warn(\n",
      "/Library/Frameworks/Python.framework/Versions/3.9/lib/python3.9/site-packages/sklearn/neural_network/_multilayer_perceptron.py:692: ConvergenceWarning: Stochastic Optimizer: Maximum iterations (1087) reached and the optimization hasn't converged yet.\n",
      "  warnings.warn(\n",
      "/Library/Frameworks/Python.framework/Versions/3.9/lib/python3.9/site-packages/sklearn/neural_network/_multilayer_perceptron.py:692: ConvergenceWarning: Stochastic Optimizer: Maximum iterations (1087) reached and the optimization hasn't converged yet.\n",
      "  warnings.warn(\n",
      "/Library/Frameworks/Python.framework/Versions/3.9/lib/python3.9/site-packages/sklearn/neural_network/_multilayer_perceptron.py:692: ConvergenceWarning: Stochastic Optimizer: Maximum iterations (1087) reached and the optimization hasn't converged yet.\n",
      "  warnings.warn(\n",
      "/Library/Frameworks/Python.framework/Versions/3.9/lib/python3.9/site-packages/sklearn/neural_network/_multilayer_perceptron.py:692: ConvergenceWarning: Stochastic Optimizer: Maximum iterations (1039) reached and the optimization hasn't converged yet.\n",
      "  warnings.warn(\n",
      "/Library/Frameworks/Python.framework/Versions/3.9/lib/python3.9/site-packages/sklearn/neural_network/_multilayer_perceptron.py:692: ConvergenceWarning: Stochastic Optimizer: Maximum iterations (1039) reached and the optimization hasn't converged yet.\n",
      "  warnings.warn(\n",
      "/Library/Frameworks/Python.framework/Versions/3.9/lib/python3.9/site-packages/sklearn/neural_network/_multilayer_perceptron.py:692: ConvergenceWarning: Stochastic Optimizer: Maximum iterations (1039) reached and the optimization hasn't converged yet.\n",
      "  warnings.warn(\n",
      "/Library/Frameworks/Python.framework/Versions/3.9/lib/python3.9/site-packages/sklearn/neural_network/_multilayer_perceptron.py:692: ConvergenceWarning: Stochastic Optimizer: Maximum iterations (1337) reached and the optimization hasn't converged yet.\n",
      "  warnings.warn(\n",
      "/Library/Frameworks/Python.framework/Versions/3.9/lib/python3.9/site-packages/sklearn/neural_network/_multilayer_perceptron.py:692: ConvergenceWarning: Stochastic Optimizer: Maximum iterations (1337) reached and the optimization hasn't converged yet.\n",
      "  warnings.warn(\n",
      "/Library/Frameworks/Python.framework/Versions/3.9/lib/python3.9/site-packages/sklearn/neural_network/_multilayer_perceptron.py:692: ConvergenceWarning: Stochastic Optimizer: Maximum iterations (1337) reached and the optimization hasn't converged yet.\n",
      "  warnings.warn(\n",
      "/Library/Frameworks/Python.framework/Versions/3.9/lib/python3.9/site-packages/sklearn/neural_network/_multilayer_perceptron.py:692: ConvergenceWarning: Stochastic Optimizer: Maximum iterations (1072) reached and the optimization hasn't converged yet.\n",
      "  warnings.warn(\n",
      "/Library/Frameworks/Python.framework/Versions/3.9/lib/python3.9/site-packages/sklearn/neural_network/_multilayer_perceptron.py:692: ConvergenceWarning: Stochastic Optimizer: Maximum iterations (1072) reached and the optimization hasn't converged yet.\n",
      "  warnings.warn(\n",
      "/Library/Frameworks/Python.framework/Versions/3.9/lib/python3.9/site-packages/sklearn/neural_network/_multilayer_perceptron.py:692: ConvergenceWarning: Stochastic Optimizer: Maximum iterations (1072) reached and the optimization hasn't converged yet.\n",
      "  warnings.warn(\n",
      "/Library/Frameworks/Python.framework/Versions/3.9/lib/python3.9/site-packages/sklearn/neural_network/_multilayer_perceptron.py:692: ConvergenceWarning: Stochastic Optimizer: Maximum iterations (1243) reached and the optimization hasn't converged yet.\n",
      "  warnings.warn(\n",
      "/Library/Frameworks/Python.framework/Versions/3.9/lib/python3.9/site-packages/sklearn/neural_network/_multilayer_perceptron.py:692: ConvergenceWarning: Stochastic Optimizer: Maximum iterations (1243) reached and the optimization hasn't converged yet.\n",
      "  warnings.warn(\n",
      "/Library/Frameworks/Python.framework/Versions/3.9/lib/python3.9/site-packages/sklearn/neural_network/_multilayer_perceptron.py:692: ConvergenceWarning: Stochastic Optimizer: Maximum iterations (1243) reached and the optimization hasn't converged yet.\n",
      "  warnings.warn(\n",
      "/Library/Frameworks/Python.framework/Versions/3.9/lib/python3.9/site-packages/sklearn/neural_network/_multilayer_perceptron.py:692: ConvergenceWarning: Stochastic Optimizer: Maximum iterations (1243) reached and the optimization hasn't converged yet.\n",
      "  warnings.warn(\n",
      "/Library/Frameworks/Python.framework/Versions/3.9/lib/python3.9/site-packages/sklearn/neural_network/_multilayer_perceptron.py:692: ConvergenceWarning: Stochastic Optimizer: Maximum iterations (1243) reached and the optimization hasn't converged yet.\n",
      "  warnings.warn(\n",
      "/Library/Frameworks/Python.framework/Versions/3.9/lib/python3.9/site-packages/sklearn/neural_network/_multilayer_perceptron.py:692: ConvergenceWarning: Stochastic Optimizer: Maximum iterations (1243) reached and the optimization hasn't converged yet.\n",
      "  warnings.warn(\n",
      "/Library/Frameworks/Python.framework/Versions/3.9/lib/python3.9/site-packages/sklearn/neural_network/_multilayer_perceptron.py:692: ConvergenceWarning: Stochastic Optimizer: Maximum iterations (1423) reached and the optimization hasn't converged yet.\n",
      "  warnings.warn(\n",
      "/Library/Frameworks/Python.framework/Versions/3.9/lib/python3.9/site-packages/sklearn/neural_network/_multilayer_perceptron.py:692: ConvergenceWarning: Stochastic Optimizer: Maximum iterations (1423) reached and the optimization hasn't converged yet.\n",
      "  warnings.warn(\n",
      "/Library/Frameworks/Python.framework/Versions/3.9/lib/python3.9/site-packages/sklearn/neural_network/_multilayer_perceptron.py:692: ConvergenceWarning: Stochastic Optimizer: Maximum iterations (1423) reached and the optimization hasn't converged yet.\n",
      "  warnings.warn(\n",
      "/Library/Frameworks/Python.framework/Versions/3.9/lib/python3.9/site-packages/sklearn/neural_network/_multilayer_perceptron.py:692: ConvergenceWarning: Stochastic Optimizer: Maximum iterations (1185) reached and the optimization hasn't converged yet.\n",
      "  warnings.warn(\n",
      "/Library/Frameworks/Python.framework/Versions/3.9/lib/python3.9/site-packages/sklearn/neural_network/_multilayer_perceptron.py:692: ConvergenceWarning: Stochastic Optimizer: Maximum iterations (1185) reached and the optimization hasn't converged yet.\n",
      "  warnings.warn(\n",
      "/Library/Frameworks/Python.framework/Versions/3.9/lib/python3.9/site-packages/sklearn/neural_network/_multilayer_perceptron.py:692: ConvergenceWarning: Stochastic Optimizer: Maximum iterations (1185) reached and the optimization hasn't converged yet.\n",
      "  warnings.warn(\n"
     ]
    },
    {
     "name": "stderr",
     "output_type": "stream",
     "text": [
      "/Library/Frameworks/Python.framework/Versions/3.9/lib/python3.9/site-packages/sklearn/neural_network/_multilayer_perceptron.py:692: ConvergenceWarning: Stochastic Optimizer: Maximum iterations (1459) reached and the optimization hasn't converged yet.\n",
      "  warnings.warn(\n",
      "/Library/Frameworks/Python.framework/Versions/3.9/lib/python3.9/site-packages/sklearn/neural_network/_multilayer_perceptron.py:692: ConvergenceWarning: Stochastic Optimizer: Maximum iterations (1459) reached and the optimization hasn't converged yet.\n",
      "  warnings.warn(\n",
      "/Library/Frameworks/Python.framework/Versions/3.9/lib/python3.9/site-packages/sklearn/neural_network/_multilayer_perceptron.py:692: ConvergenceWarning: Stochastic Optimizer: Maximum iterations (1290) reached and the optimization hasn't converged yet.\n",
      "  warnings.warn(\n",
      "/Library/Frameworks/Python.framework/Versions/3.9/lib/python3.9/site-packages/sklearn/neural_network/_multilayer_perceptron.py:692: ConvergenceWarning: Stochastic Optimizer: Maximum iterations (1290) reached and the optimization hasn't converged yet.\n",
      "  warnings.warn(\n",
      "/Library/Frameworks/Python.framework/Versions/3.9/lib/python3.9/site-packages/sklearn/neural_network/_multilayer_perceptron.py:692: ConvergenceWarning: Stochastic Optimizer: Maximum iterations (1290) reached and the optimization hasn't converged yet.\n",
      "  warnings.warn(\n",
      "/Library/Frameworks/Python.framework/Versions/3.9/lib/python3.9/site-packages/sklearn/neural_network/_multilayer_perceptron.py:692: ConvergenceWarning: Stochastic Optimizer: Maximum iterations (1053) reached and the optimization hasn't converged yet.\n",
      "  warnings.warn(\n",
      "/Library/Frameworks/Python.framework/Versions/3.9/lib/python3.9/site-packages/sklearn/neural_network/_multilayer_perceptron.py:692: ConvergenceWarning: Stochastic Optimizer: Maximum iterations (1053) reached and the optimization hasn't converged yet.\n",
      "  warnings.warn(\n",
      "/Library/Frameworks/Python.framework/Versions/3.9/lib/python3.9/site-packages/sklearn/neural_network/_multilayer_perceptron.py:692: ConvergenceWarning: Stochastic Optimizer: Maximum iterations (1053) reached and the optimization hasn't converged yet.\n",
      "  warnings.warn(\n",
      "/Library/Frameworks/Python.framework/Versions/3.9/lib/python3.9/site-packages/sklearn/neural_network/_multilayer_perceptron.py:692: ConvergenceWarning: Stochastic Optimizer: Maximum iterations (1244) reached and the optimization hasn't converged yet.\n",
      "  warnings.warn(\n",
      "/Library/Frameworks/Python.framework/Versions/3.9/lib/python3.9/site-packages/sklearn/neural_network/_multilayer_perceptron.py:692: ConvergenceWarning: Stochastic Optimizer: Maximum iterations (1244) reached and the optimization hasn't converged yet.\n",
      "  warnings.warn(\n",
      "/Library/Frameworks/Python.framework/Versions/3.9/lib/python3.9/site-packages/sklearn/neural_network/_multilayer_perceptron.py:692: ConvergenceWarning: Stochastic Optimizer: Maximum iterations (1244) reached and the optimization hasn't converged yet.\n",
      "  warnings.warn(\n",
      "/Library/Frameworks/Python.framework/Versions/3.9/lib/python3.9/site-packages/sklearn/neural_network/_multilayer_perceptron.py:692: ConvergenceWarning: Stochastic Optimizer: Maximum iterations (1105) reached and the optimization hasn't converged yet.\n",
      "  warnings.warn(\n",
      "/Library/Frameworks/Python.framework/Versions/3.9/lib/python3.9/site-packages/sklearn/neural_network/_multilayer_perceptron.py:692: ConvergenceWarning: Stochastic Optimizer: Maximum iterations (1105) reached and the optimization hasn't converged yet.\n",
      "  warnings.warn(\n",
      "/Library/Frameworks/Python.framework/Versions/3.9/lib/python3.9/site-packages/sklearn/neural_network/_multilayer_perceptron.py:692: ConvergenceWarning: Stochastic Optimizer: Maximum iterations (1105) reached and the optimization hasn't converged yet.\n",
      "  warnings.warn(\n",
      "/Library/Frameworks/Python.framework/Versions/3.9/lib/python3.9/site-packages/sklearn/neural_network/_multilayer_perceptron.py:692: ConvergenceWarning: Stochastic Optimizer: Maximum iterations (1257) reached and the optimization hasn't converged yet.\n",
      "  warnings.warn(\n",
      "/Library/Frameworks/Python.framework/Versions/3.9/lib/python3.9/site-packages/sklearn/neural_network/_multilayer_perceptron.py:692: ConvergenceWarning: Stochastic Optimizer: Maximum iterations (1257) reached and the optimization hasn't converged yet.\n",
      "  warnings.warn(\n",
      "/Library/Frameworks/Python.framework/Versions/3.9/lib/python3.9/site-packages/sklearn/neural_network/_multilayer_perceptron.py:692: ConvergenceWarning: Stochastic Optimizer: Maximum iterations (1257) reached and the optimization hasn't converged yet.\n",
      "  warnings.warn(\n",
      "/Library/Frameworks/Python.framework/Versions/3.9/lib/python3.9/site-packages/sklearn/neural_network/_multilayer_perceptron.py:692: ConvergenceWarning: Stochastic Optimizer: Maximum iterations (1057) reached and the optimization hasn't converged yet.\n",
      "  warnings.warn(\n",
      "/Library/Frameworks/Python.framework/Versions/3.9/lib/python3.9/site-packages/sklearn/neural_network/_multilayer_perceptron.py:692: ConvergenceWarning: Stochastic Optimizer: Maximum iterations (1057) reached and the optimization hasn't converged yet.\n",
      "  warnings.warn(\n",
      "/Library/Frameworks/Python.framework/Versions/3.9/lib/python3.9/site-packages/sklearn/neural_network/_multilayer_perceptron.py:692: ConvergenceWarning: Stochastic Optimizer: Maximum iterations (1057) reached and the optimization hasn't converged yet.\n",
      "  warnings.warn(\n",
      "/Library/Frameworks/Python.framework/Versions/3.9/lib/python3.9/site-packages/sklearn/neural_network/_multilayer_perceptron.py:692: ConvergenceWarning: Stochastic Optimizer: Maximum iterations (1082) reached and the optimization hasn't converged yet.\n",
      "  warnings.warn(\n",
      "/Library/Frameworks/Python.framework/Versions/3.9/lib/python3.9/site-packages/sklearn/neural_network/_multilayer_perceptron.py:692: ConvergenceWarning: Stochastic Optimizer: Maximum iterations (1082) reached and the optimization hasn't converged yet.\n",
      "  warnings.warn(\n",
      "/Library/Frameworks/Python.framework/Versions/3.9/lib/python3.9/site-packages/sklearn/neural_network/_multilayer_perceptron.py:692: ConvergenceWarning: Stochastic Optimizer: Maximum iterations (1082) reached and the optimization hasn't converged yet.\n",
      "  warnings.warn(\n",
      "/Library/Frameworks/Python.framework/Versions/3.9/lib/python3.9/site-packages/sklearn/neural_network/_multilayer_perceptron.py:692: ConvergenceWarning: Stochastic Optimizer: Maximum iterations (1099) reached and the optimization hasn't converged yet.\n",
      "  warnings.warn(\n",
      "/Library/Frameworks/Python.framework/Versions/3.9/lib/python3.9/site-packages/sklearn/neural_network/_multilayer_perceptron.py:692: ConvergenceWarning: Stochastic Optimizer: Maximum iterations (1099) reached and the optimization hasn't converged yet.\n",
      "  warnings.warn(\n",
      "/Library/Frameworks/Python.framework/Versions/3.9/lib/python3.9/site-packages/sklearn/neural_network/_multilayer_perceptron.py:692: ConvergenceWarning: Stochastic Optimizer: Maximum iterations (1099) reached and the optimization hasn't converged yet.\n",
      "  warnings.warn(\n",
      "/Library/Frameworks/Python.framework/Versions/3.9/lib/python3.9/site-packages/sklearn/neural_network/_multilayer_perceptron.py:692: ConvergenceWarning: Stochastic Optimizer: Maximum iterations (1426) reached and the optimization hasn't converged yet.\n",
      "  warnings.warn(\n",
      "/Library/Frameworks/Python.framework/Versions/3.9/lib/python3.9/site-packages/sklearn/neural_network/_multilayer_perceptron.py:692: ConvergenceWarning: Stochastic Optimizer: Maximum iterations (1426) reached and the optimization hasn't converged yet.\n",
      "  warnings.warn(\n",
      "/Library/Frameworks/Python.framework/Versions/3.9/lib/python3.9/site-packages/sklearn/neural_network/_multilayer_perceptron.py:692: ConvergenceWarning: Stochastic Optimizer: Maximum iterations (1426) reached and the optimization hasn't converged yet.\n",
      "  warnings.warn(\n",
      "/Library/Frameworks/Python.framework/Versions/3.9/lib/python3.9/site-packages/sklearn/neural_network/_multilayer_perceptron.py:692: ConvergenceWarning: Stochastic Optimizer: Maximum iterations (1262) reached and the optimization hasn't converged yet.\n",
      "  warnings.warn(\n",
      "/Library/Frameworks/Python.framework/Versions/3.9/lib/python3.9/site-packages/sklearn/neural_network/_multilayer_perceptron.py:692: ConvergenceWarning: Stochastic Optimizer: Maximum iterations (1262) reached and the optimization hasn't converged yet.\n",
      "  warnings.warn(\n"
     ]
    },
    {
     "name": "stderr",
     "output_type": "stream",
     "text": [
      "/Library/Frameworks/Python.framework/Versions/3.9/lib/python3.9/site-packages/sklearn/neural_network/_multilayer_perceptron.py:692: ConvergenceWarning: Stochastic Optimizer: Maximum iterations (1262) reached and the optimization hasn't converged yet.\n",
      "  warnings.warn(\n",
      "/Library/Frameworks/Python.framework/Versions/3.9/lib/python3.9/site-packages/sklearn/neural_network/_multilayer_perceptron.py:692: ConvergenceWarning: Stochastic Optimizer: Maximum iterations (1131) reached and the optimization hasn't converged yet.\n",
      "  warnings.warn(\n",
      "/Library/Frameworks/Python.framework/Versions/3.9/lib/python3.9/site-packages/sklearn/neural_network/_multilayer_perceptron.py:692: ConvergenceWarning: Stochastic Optimizer: Maximum iterations (1131) reached and the optimization hasn't converged yet.\n",
      "  warnings.warn(\n",
      "/Library/Frameworks/Python.framework/Versions/3.9/lib/python3.9/site-packages/sklearn/neural_network/_multilayer_perceptron.py:692: ConvergenceWarning: Stochastic Optimizer: Maximum iterations (1131) reached and the optimization hasn't converged yet.\n",
      "  warnings.warn(\n"
     ]
    },
    {
     "name": "stdout",
     "output_type": "stream",
     "text": [
      "Best Hyperparameters = {'leaf_size': 32.178184839298616, 'n_neighbors': 37, 'weights': 'distance'}\n"
     ]
    }
   ],
   "source": [
    "param_distribution = {'max_iter': range(1000, 1500),\n",
    "                        'alpha': scipy.stats.reciprocal(0.00001, 0.1), \n",
    "                        'learning_rate':['constant', 'invscaling', 'adaptive']}\n",
    "\n",
    "mlp_randomized = sklearn.model_selection.RandomizedSearchCV(mlp, param_distribution, verbose=1, random_state=0, cv=3, n_iter=25).fit(X_train, y_train)\n",
    "print('Best Hyperparameters = ' + str(knn_randomized.best_params_))"
   ]
  },
  {
   "cell_type": "code",
   "execution_count": 52,
   "id": "62db65d8",
   "metadata": {},
   "outputs": [
    {
     "name": "stdout",
     "output_type": "stream",
     "text": [
      "+------------------------+---------------------+\n",
      "| Parameters / Metrics   | Tuned               |\n",
      "+========================+=====================+\n",
      "| alpha                  | 0.06739390723749765 |\n",
      "+------------------------+---------------------+\n",
      "| learning_rate          | constant            |\n",
      "+------------------------+---------------------+\n",
      "| max_iter               | 1338                |\n",
      "+------------------------+---------------------+\n",
      "| Mean Squared Error     | 13.043771043771043  |\n",
      "+------------------------+---------------------+\n",
      "| Accuracy               | 0.5757575757575758  |\n",
      "+------------------------+---------------------+\n",
      "| weighted_f1            | 0.573871292597248   |\n",
      "+------------------------+---------------------+\n",
      "| macro_f1               | 0.5359383087464299  |\n",
      "+------------------------+---------------------+\n"
     ]
    }
   ],
   "source": [
    "yeast_dict[\"nn\"] = {\"model\":mlp_randomized, \"hyperparameters\":1}\n",
    "nn_prediction = model_results(yeast_dict['nn'])"
   ]
  },
  {
   "cell_type": "code",
   "execution_count": 53,
   "id": "a37230f0",
   "metadata": {},
   "outputs": [
    {
     "name": "stdout",
     "output_type": "stream",
     "text": [
      "              precision    recall  f1-score   support\n",
      "\n",
      "           0       0.58      0.64      0.61        98\n",
      "           1       1.00      0.33      0.50         3\n",
      "           2       0.60      0.55      0.57        11\n",
      "           3       0.78      0.78      0.78         9\n",
      "           4       0.44      0.36      0.40        11\n",
      "           5       0.68      0.63      0.65        27\n",
      "           6       0.61      0.56      0.59        48\n",
      "           7       0.51      0.54      0.52        80\n",
      "           8       0.50      0.33      0.40         3\n",
      "           9       0.40      0.29      0.33         7\n",
      "\n",
      "    accuracy                           0.58       297\n",
      "   macro avg       0.61      0.50      0.54       297\n",
      "weighted avg       0.58      0.58      0.57       297\n",
      "\n",
      "[[63  0  0  0  0  1  6 26  1  1]\n",
      " [ 0  1  1  0  0  0  0  1  0  0]\n",
      " [ 2  0  6  1  1  0  1  0  0  0]\n",
      " [ 0  0  0  7  2  0  0  0  0  0]\n",
      " [ 1  0  1  0  4  1  2  1  0  1]\n",
      " [ 1  0  0  1  1 17  1  6  0  0]\n",
      " [12  0  1  0  1  1 27  6  0  0]\n",
      " [28  0  0  0  0  3  5 43  0  1]\n",
      " [ 0  0  0  0  0  0  1  1  1  0]\n",
      " [ 1  0  1  0  0  2  1  0  0  2]]\n"
     ]
    },
    {
     "data": {
      "image/png": "[encoded data removed]",
      "text/plain": [
       "<Figure size 432x288 with 2 Axes>"
      ]
     },
     "metadata": {
      "needs_background": "light"
     },
     "output_type": "display_data"
    }
   ],
   "source": [
    "print(classification_report(y_test, nn_prediction))\n",
    "print(confusion_matrix (y_test, nn_prediction))\n",
    "ConfusionMatrixDisplay.from_predictions(y_test, nn_prediction);"
   ]
  }
 ],
 "metadata": {
  "kernelspec": {
   "display_name": "Python 3 (ipykernel)",
   "language": "python",
   "name": "python3"
  },
  "language_info": {
   "codemirror_mode": {
    "name": "ipython",
    "version": 3
   },
   "file_extension": ".py",
   "mimetype": "text/x-python",
   "name": "python",
   "nbconvert_exporter": "python",
   "pygments_lexer": "ipython3",
   "version": "3.9.5"
  }
 },
 "nbformat": 4,
 "nbformat_minor": 5
}
