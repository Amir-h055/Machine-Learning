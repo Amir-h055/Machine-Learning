{
 "cells": [
  {
   "cell_type": "markdown",
   "id": "e4f8386e",
   "metadata": {},
   "source": [
    "# Adult"
   ]
  },
  {
   "cell_type": "code",
   "execution_count": 20,
   "id": "1a319900",
   "metadata": {},
   "outputs": [],
   "source": [
    "import numpy as np\n",
    "import matplotlib.pyplot as plt\n",
    "import sklearn as sk\n",
    "import pandas as pd\n",
    "import scipy\n",
    "import seaborn as sns\n",
    "import math\n",
    "\n",
    "from scipy.io import arff\n",
    "from sklearn.model_selection import train_test_split, GridSearchCV, RandomizedSearchCV\n",
    "from sklearn.preprocessing import StandardScaler, LabelEncoder\n",
    "from sklearn.metrics import confusion_matrix,plot_confusion_matrix,ConfusionMatrixDisplay, classification_report,accuracy_score,f1_score\n",
    "\n",
    "\n",
    "from sklearn.linear_model import LogisticRegression\n",
    "from sklearn.svm import SVC\n",
    "from sklearn.tree import DecisionTreeClassifier, plot_tree\n",
    "\n",
    "# change the trees"
   ]
  },
  {
   "cell_type": "markdown",
   "id": "f73e41c8",
   "metadata": {},
   "source": [
    "## Loading Data"
   ]
  },
  {
   "cell_type": "code",
   "execution_count": 10,
   "id": "07c6cb99",
   "metadata": {},
   "outputs": [],
   "source": [
    "Datset = pd.read_csv(\"/Users/annikatimermanis/Desktop/project/Classification/Classification_Datasets/5_Adult/adult.data\",delimiter=',') \n"
   ]
  },
  {
   "cell_type": "code",
   "execution_count": 11,
   "id": "c22e371a",
   "metadata": {},
   "outputs": [
    {
     "data": {
      "text/html": [
       "<div>\n",
       "<style scoped>\n",
       "    .dataframe tbody tr th:only-of-type {\n",
       "        vertical-align: middle;\n",
       "    }\n",
       "\n",
       "    .dataframe tbody tr th {\n",
       "        vertical-align: top;\n",
       "    }\n",
       "\n",
       "    .dataframe thead th {\n",
       "        text-align: right;\n",
       "    }\n",
       "</style>\n",
       "<table border=\"1\" class=\"dataframe\">\n",
       "  <thead>\n",
       "    <tr style=\"text-align: right;\">\n",
       "      <th></th>\n",
       "      <th>39</th>\n",
       "      <th>State-gov</th>\n",
       "      <th>77516</th>\n",
       "      <th>Bachelors</th>\n",
       "      <th>13</th>\n",
       "      <th>Never-married</th>\n",
       "      <th>Adm-clerical</th>\n",
       "      <th>Not-in-family</th>\n",
       "      <th>White</th>\n",
       "      <th>Male</th>\n",
       "      <th>2174</th>\n",
       "      <th>0</th>\n",
       "      <th>40</th>\n",
       "      <th>United-States</th>\n",
       "      <th>&lt;=50K</th>\n",
       "    </tr>\n",
       "  </thead>\n",
       "  <tbody>\n",
       "    <tr>\n",
       "      <th>0</th>\n",
       "      <td>50</td>\n",
       "      <td>Self-emp-not-inc</td>\n",
       "      <td>83311</td>\n",
       "      <td>Bachelors</td>\n",
       "      <td>13</td>\n",
       "      <td>Married-civ-spouse</td>\n",
       "      <td>Exec-managerial</td>\n",
       "      <td>Husband</td>\n",
       "      <td>White</td>\n",
       "      <td>Male</td>\n",
       "      <td>0</td>\n",
       "      <td>0</td>\n",
       "      <td>13</td>\n",
       "      <td>United-States</td>\n",
       "      <td>&lt;=50K</td>\n",
       "    </tr>\n",
       "    <tr>\n",
       "      <th>1</th>\n",
       "      <td>38</td>\n",
       "      <td>Private</td>\n",
       "      <td>215646</td>\n",
       "      <td>HS-grad</td>\n",
       "      <td>9</td>\n",
       "      <td>Divorced</td>\n",
       "      <td>Handlers-cleaners</td>\n",
       "      <td>Not-in-family</td>\n",
       "      <td>White</td>\n",
       "      <td>Male</td>\n",
       "      <td>0</td>\n",
       "      <td>0</td>\n",
       "      <td>40</td>\n",
       "      <td>United-States</td>\n",
       "      <td>&lt;=50K</td>\n",
       "    </tr>\n",
       "    <tr>\n",
       "      <th>2</th>\n",
       "      <td>53</td>\n",
       "      <td>Private</td>\n",
       "      <td>234721</td>\n",
       "      <td>11th</td>\n",
       "      <td>7</td>\n",
       "      <td>Married-civ-spouse</td>\n",
       "      <td>Handlers-cleaners</td>\n",
       "      <td>Husband</td>\n",
       "      <td>Black</td>\n",
       "      <td>Male</td>\n",
       "      <td>0</td>\n",
       "      <td>0</td>\n",
       "      <td>40</td>\n",
       "      <td>United-States</td>\n",
       "      <td>&lt;=50K</td>\n",
       "    </tr>\n",
       "    <tr>\n",
       "      <th>3</th>\n",
       "      <td>28</td>\n",
       "      <td>Private</td>\n",
       "      <td>338409</td>\n",
       "      <td>Bachelors</td>\n",
       "      <td>13</td>\n",
       "      <td>Married-civ-spouse</td>\n",
       "      <td>Prof-specialty</td>\n",
       "      <td>Wife</td>\n",
       "      <td>Black</td>\n",
       "      <td>Female</td>\n",
       "      <td>0</td>\n",
       "      <td>0</td>\n",
       "      <td>40</td>\n",
       "      <td>Cuba</td>\n",
       "      <td>&lt;=50K</td>\n",
       "    </tr>\n",
       "    <tr>\n",
       "      <th>4</th>\n",
       "      <td>37</td>\n",
       "      <td>Private</td>\n",
       "      <td>284582</td>\n",
       "      <td>Masters</td>\n",
       "      <td>14</td>\n",
       "      <td>Married-civ-spouse</td>\n",
       "      <td>Exec-managerial</td>\n",
       "      <td>Wife</td>\n",
       "      <td>White</td>\n",
       "      <td>Female</td>\n",
       "      <td>0</td>\n",
       "      <td>0</td>\n",
       "      <td>40</td>\n",
       "      <td>United-States</td>\n",
       "      <td>&lt;=50K</td>\n",
       "    </tr>\n",
       "  </tbody>\n",
       "</table>\n",
       "</div>"
      ],
      "text/plain": [
       "   39          State-gov   77516   Bachelors   13        Never-married  \\\n",
       "0  50   Self-emp-not-inc   83311   Bachelors   13   Married-civ-spouse   \n",
       "1  38            Private  215646     HS-grad    9             Divorced   \n",
       "2  53            Private  234721        11th    7   Married-civ-spouse   \n",
       "3  28            Private  338409   Bachelors   13   Married-civ-spouse   \n",
       "4  37            Private  284582     Masters   14   Married-civ-spouse   \n",
       "\n",
       "         Adm-clerical   Not-in-family   White     Male   2174   0   40  \\\n",
       "0     Exec-managerial         Husband   White     Male      0   0   13   \n",
       "1   Handlers-cleaners   Not-in-family   White     Male      0   0   40   \n",
       "2   Handlers-cleaners         Husband   Black     Male      0   0   40   \n",
       "3      Prof-specialty            Wife   Black   Female      0   0   40   \n",
       "4     Exec-managerial            Wife   White   Female      0   0   40   \n",
       "\n",
       "    United-States   <=50K  \n",
       "0   United-States   <=50K  \n",
       "1   United-States   <=50K  \n",
       "2   United-States   <=50K  \n",
       "3            Cuba   <=50K  \n",
       "4   United-States   <=50K  "
      ]
     },
     "execution_count": 11,
     "metadata": {},
     "output_type": "execute_result"
    }
   ],
   "source": [
    "df = pd.DataFrame(Datset)\n",
    "df.head()"
   ]
  },
  {
   "cell_type": "markdown",
   "id": "6fc2460f",
   "metadata": {},
   "source": [
    "## Data preparation and Analysis"
   ]
  },
  {
   "cell_type": "code",
   "execution_count": 12,
   "id": "73aad8ac",
   "metadata": {},
   "outputs": [
    {
     "name": "stdout",
     "output_type": "stream",
     "text": [
      "0\n"
     ]
    }
   ],
   "source": [
    "print(np.count_nonzero(Datset==np.nan))"
   ]
  },
  {
   "cell_type": "code",
   "execution_count": 17,
   "id": "8b045f43",
   "metadata": {},
   "outputs": [],
   "source": [
    "# frequency = df['<=50k'].value_counts()\n",
    "# print(frequency)\n",
    "# print(\"-------\")"
   ]
  },
  {
   "cell_type": "code",
   "execution_count": 19,
   "id": "d347e07d",
   "metadata": {},
   "outputs": [],
   "source": [
    "# plt.plot()\n",
    "# plt.ylabel('Frequency')\n",
    "# plt.xlabel('Class')\n",
    "# plt.bar( (\"1\",\"0\"), frequency)\n",
    "# plt.suptitle(\"Distributation\")\n",
    "# plt.show()"
   ]
  },
  {
   "cell_type": "code",
   "execution_count": 7,
   "id": "3120a106",
   "metadata": {
    "scrolled": true
   },
   "outputs": [],
   "source": [
    "# sns.pairplot(df, hue=\"Class\")\n",
    "# print(\"ok\")"
   ]
  },
  {
   "cell_type": "code",
   "execution_count": 24,
   "id": "de5a2b29",
   "metadata": {},
   "outputs": [],
   "source": [
    "# plt.figure(figsize=(17,17))\n",
    "# sns.heatmap(df.corr(), annot =True)"
   ]
  },
  {
   "cell_type": "code",
   "execution_count": 25,
   "id": "01fa8bb5",
   "metadata": {},
   "outputs": [],
   "source": [
    "# loop to iterate through all columns in dataframe and check if the data is string type\n",
    "for column in df:\n",
    "    if type(df[column][0]) == str:\n",
    "        # if data in column is type string, we want to convert it to equivalent numerical labels\n",
    "        label_encoder = LabelEncoder()\n",
    "        integer_encoded = label_encoder.fit_transform(df[column])\n",
    "        df[column] = integer_encoded"
   ]
  },
  {
   "cell_type": "code",
   "execution_count": 26,
   "id": "0d84023b",
   "metadata": {},
   "outputs": [
    {
     "data": {
      "text/html": [
       "<div>\n",
       "<style scoped>\n",
       "    .dataframe tbody tr th:only-of-type {\n",
       "        vertical-align: middle;\n",
       "    }\n",
       "\n",
       "    .dataframe tbody tr th {\n",
       "        vertical-align: top;\n",
       "    }\n",
       "\n",
       "    .dataframe thead th {\n",
       "        text-align: right;\n",
       "    }\n",
       "</style>\n",
       "<table border=\"1\" class=\"dataframe\">\n",
       "  <thead>\n",
       "    <tr style=\"text-align: right;\">\n",
       "      <th></th>\n",
       "      <th>39</th>\n",
       "      <th>State-gov</th>\n",
       "      <th>77516</th>\n",
       "      <th>Bachelors</th>\n",
       "      <th>13</th>\n",
       "      <th>Never-married</th>\n",
       "      <th>Adm-clerical</th>\n",
       "      <th>Not-in-family</th>\n",
       "      <th>White</th>\n",
       "      <th>Male</th>\n",
       "      <th>2174</th>\n",
       "      <th>0</th>\n",
       "      <th>40</th>\n",
       "      <th>United-States</th>\n",
       "      <th>&lt;=50K</th>\n",
       "    </tr>\n",
       "  </thead>\n",
       "  <tbody>\n",
       "    <tr>\n",
       "      <th>0</th>\n",
       "      <td>50</td>\n",
       "      <td>6</td>\n",
       "      <td>83311</td>\n",
       "      <td>9</td>\n",
       "      <td>13</td>\n",
       "      <td>2</td>\n",
       "      <td>4</td>\n",
       "      <td>0</td>\n",
       "      <td>4</td>\n",
       "      <td>1</td>\n",
       "      <td>0</td>\n",
       "      <td>0</td>\n",
       "      <td>13</td>\n",
       "      <td>39</td>\n",
       "      <td>0</td>\n",
       "    </tr>\n",
       "    <tr>\n",
       "      <th>1</th>\n",
       "      <td>38</td>\n",
       "      <td>4</td>\n",
       "      <td>215646</td>\n",
       "      <td>11</td>\n",
       "      <td>9</td>\n",
       "      <td>0</td>\n",
       "      <td>6</td>\n",
       "      <td>1</td>\n",
       "      <td>4</td>\n",
       "      <td>1</td>\n",
       "      <td>0</td>\n",
       "      <td>0</td>\n",
       "      <td>40</td>\n",
       "      <td>39</td>\n",
       "      <td>0</td>\n",
       "    </tr>\n",
       "    <tr>\n",
       "      <th>2</th>\n",
       "      <td>53</td>\n",
       "      <td>4</td>\n",
       "      <td>234721</td>\n",
       "      <td>1</td>\n",
       "      <td>7</td>\n",
       "      <td>2</td>\n",
       "      <td>6</td>\n",
       "      <td>0</td>\n",
       "      <td>2</td>\n",
       "      <td>1</td>\n",
       "      <td>0</td>\n",
       "      <td>0</td>\n",
       "      <td>40</td>\n",
       "      <td>39</td>\n",
       "      <td>0</td>\n",
       "    </tr>\n",
       "    <tr>\n",
       "      <th>3</th>\n",
       "      <td>28</td>\n",
       "      <td>4</td>\n",
       "      <td>338409</td>\n",
       "      <td>9</td>\n",
       "      <td>13</td>\n",
       "      <td>2</td>\n",
       "      <td>10</td>\n",
       "      <td>5</td>\n",
       "      <td>2</td>\n",
       "      <td>0</td>\n",
       "      <td>0</td>\n",
       "      <td>0</td>\n",
       "      <td>40</td>\n",
       "      <td>5</td>\n",
       "      <td>0</td>\n",
       "    </tr>\n",
       "    <tr>\n",
       "      <th>4</th>\n",
       "      <td>37</td>\n",
       "      <td>4</td>\n",
       "      <td>284582</td>\n",
       "      <td>12</td>\n",
       "      <td>14</td>\n",
       "      <td>2</td>\n",
       "      <td>4</td>\n",
       "      <td>5</td>\n",
       "      <td>4</td>\n",
       "      <td>0</td>\n",
       "      <td>0</td>\n",
       "      <td>0</td>\n",
       "      <td>40</td>\n",
       "      <td>39</td>\n",
       "      <td>0</td>\n",
       "    </tr>\n",
       "  </tbody>\n",
       "</table>\n",
       "</div>"
      ],
      "text/plain": [
       "   39   State-gov   77516   Bachelors   13   Never-married   Adm-clerical  \\\n",
       "0  50           6   83311           9   13               2              4   \n",
       "1  38           4  215646          11    9               0              6   \n",
       "2  53           4  234721           1    7               2              6   \n",
       "3  28           4  338409           9   13               2             10   \n",
       "4  37           4  284582          12   14               2              4   \n",
       "\n",
       "    Not-in-family   White   Male   2174   0   40   United-States   <=50K  \n",
       "0               0       4      1      0   0   13              39       0  \n",
       "1               1       4      1      0   0   40              39       0  \n",
       "2               0       2      1      0   0   40              39       0  \n",
       "3               5       2      0      0   0   40               5       0  \n",
       "4               5       4      0      0   0   40              39       0  "
      ]
     },
     "execution_count": 26,
     "metadata": {},
     "output_type": "execute_result"
    }
   ],
   "source": [
    "df.head()"
   ]
  },
  {
   "cell_type": "markdown",
   "id": "72c21539",
   "metadata": {},
   "source": [
    "### Defining Dictionary of Models"
   ]
  },
  {
   "cell_type": "code",
   "execution_count": 27,
   "id": "afec7821",
   "metadata": {},
   "outputs": [],
   "source": [
    "MODELS = {'logistic_r', 'svc', 'tree', 'forest', 'knn', 'adaboost', 'gnb', 'nn'}\n",
    "adult_dict = {}    "
   ]
  },
  {
   "cell_type": "markdown",
   "id": "43d59101",
   "metadata": {},
   "source": [
    "## Train and Test set"
   ]
  },
  {
   "cell_type": "code",
   "execution_count": 28,
   "id": "f4eed83b",
   "metadata": {},
   "outputs": [],
   "source": [
    "x = df.iloc[:,:-1]\n",
    "y = df.iloc[:,-1:]\n",
    "# y = df.Class.apply(lambda x: pd.to_numeric(str(x)[2]))"
   ]
  },
  {
   "cell_type": "code",
   "execution_count": 29,
   "id": "b43cccb8",
   "metadata": {},
   "outputs": [],
   "source": [
    "X_train, X_test, y_train, y_test = train_test_split( x, y, test_size=0.2, random_state=0)\n",
    "\n",
    "y_train = y_train.to_numpy().reshape(-1)\n",
    "y_test = y_test.to_numpy().reshape(-1)"
   ]
  },
  {
   "cell_type": "code",
   "execution_count": 30,
   "id": "4a01157d",
   "metadata": {
    "scrolled": true
   },
   "outputs": [],
   "source": [
    "StScale = StandardScaler()\n",
    "X_train = StScale.fit_transform(X_train)\n",
    "X_test = StScale.transform(X_test)"
   ]
  },
  {
   "cell_type": "code",
   "execution_count": 31,
   "id": "1ebe78ad",
   "metadata": {},
   "outputs": [],
   "source": [
    "from tabulate import tabulate\n",
    "from sklearn.metrics import mean_squared_error\n",
    "from sklearn.metrics import r2_score\n",
    "\n",
    "def model_results(model):\n",
    "    table = [[\"Parameters / Metrics\", \"Tuned\"]]\n",
    "    curr_model = model['model']\n",
    "\n",
    "    if model['hyperparameters'] == 1:\n",
    "        for param in curr_model.best_params_:\n",
    "            table.append([param, curr_model.best_params_[param]])\n",
    "\n",
    "    prediction = curr_model.predict(X_test)\n",
    "    mse = mean_squared_error(y_test, prediction)\n",
    "    accuracy = accuracy_score(y_test, prediction)\n",
    "    weighted_f1 = f1_score(y_test, prediction, average='weighted')\n",
    "    macro_f1 = f1_score(y_test, prediction, average='macro')\n",
    "    \n",
    "    table.append(['Mean Squared Error', mse])\n",
    "    table.append(['Accuracy',accuracy])\n",
    "    table.append(['weighted_f1', weighted_f1])\n",
    "    table.append(['macro_f1',macro_f1])\n",
    "\n",
    "    print(tabulate(table, headers='firstrow', tablefmt='grid'))\n",
    "    \n",
    "    return prediction"
   ]
  },
  {
   "cell_type": "markdown",
   "id": "7f438bd3",
   "metadata": {},
   "source": [
    "## 1. LogisticRegression for Classification"
   ]
  },
  {
   "cell_type": "code",
   "execution_count": 32,
   "id": "c36c5393",
   "metadata": {},
   "outputs": [
    {
     "data": {
      "text/plain": [
       "LogisticRegression(random_state=0)"
      ]
     },
     "execution_count": 32,
     "metadata": {},
     "output_type": "execute_result"
    }
   ],
   "source": [
    "logistic_r = LogisticRegression(random_state=0)\n",
    "logistic_r.fit(X_train, y_train)"
   ]
  },
  {
   "cell_type": "markdown",
   "id": "e4ba1b2c",
   "metadata": {},
   "source": [
    "## LogisticRegression Analysis"
   ]
  },
  {
   "cell_type": "code",
   "execution_count": 33,
   "id": "d1ac921c",
   "metadata": {
    "scrolled": true
   },
   "outputs": [
    {
     "name": "stdout",
     "output_type": "stream",
     "text": [
      "+------------------------+----------+\n",
      "| Parameters / Metrics   |    Tuned |\n",
      "+========================+==========+\n",
      "| Mean Squared Error     | 0.176443 |\n",
      "+------------------------+----------+\n",
      "| Accuracy               | 0.823557 |\n",
      "+------------------------+----------+\n",
      "| weighted_f1            | 0.807467 |\n",
      "+------------------------+----------+\n",
      "| macro_f1               | 0.716388 |\n",
      "+------------------------+----------+\n"
     ]
    }
   ],
   "source": [
    "adult_dict['logistic_r'] = {'model':logistic_r, 'hyperparameters':0}\n",
    "lr_prediction = model_results(adult_dict['logistic_r'])"
   ]
  },
  {
   "cell_type": "code",
   "execution_count": 34,
   "id": "e1065e84",
   "metadata": {},
   "outputs": [
    {
     "name": "stdout",
     "output_type": "stream",
     "text": [
      "              precision    recall  f1-score   support\n",
      "\n",
      "           0       0.84      0.94      0.89      4957\n",
      "           1       0.71      0.44      0.54      1555\n",
      "\n",
      "    accuracy                           0.82      6512\n",
      "   macro avg       0.78      0.69      0.72      6512\n",
      "weighted avg       0.81      0.82      0.81      6512\n",
      "\n",
      "[[4683  274]\n",
      " [ 875  680]]\n"
     ]
    },
    {
     "data": {
      "image/png": "[encoded data removed]",
      "text/plain": [
       "<Figure size 432x288 with 2 Axes>"
      ]
     },
     "metadata": {
      "needs_background": "light"
     },
     "output_type": "display_data"
    }
   ],
   "source": [
    "print(classification_report(y_test, lr_prediction))\n",
    "print(confusion_matrix (y_test, lr_prediction))\n",
    "ConfusionMatrixDisplay.from_predictions(y_test, lr_prediction);"
   ]
  },
  {
   "cell_type": "markdown",
   "id": "1db62301",
   "metadata": {},
   "source": [
    "## 2. Support vector classification"
   ]
  },
  {
   "cell_type": "code",
   "execution_count": 35,
   "id": "5350fff9",
   "metadata": {},
   "outputs": [],
   "source": [
    "svc = SVC().fit(X_train, y_train)"
   ]
  },
  {
   "cell_type": "code",
   "execution_count": 36,
   "id": "15cf139f",
   "metadata": {},
   "outputs": [
    {
     "name": "stdout",
     "output_type": "stream",
     "text": [
      "Fitting 5 folds for each of 10 candidates, totalling 50 fits\n",
      "[CV 1/5; 1/10] START C=0.01, gamma=0.07.........................................\n",
      "[CV 1/5; 1/10] END ..........C=0.01, gamma=0.07;, score=0.793 total time=  16.3s\n",
      "[CV 2/5; 1/10] START C=0.01, gamma=0.07.........................................\n",
      "[CV 2/5; 1/10] END ..........C=0.01, gamma=0.07;, score=0.798 total time=  15.2s\n",
      "[CV 3/5; 1/10] START C=0.01, gamma=0.07.........................................\n",
      "[CV 3/5; 1/10] END ..........C=0.01, gamma=0.07;, score=0.801 total time=  15.3s\n",
      "[CV 4/5; 1/10] START C=0.01, gamma=0.07.........................................\n",
      "[CV 4/5; 1/10] END ..........C=0.01, gamma=0.07;, score=0.794 total time=  15.5s\n",
      "[CV 5/5; 1/10] START C=0.01, gamma=0.07.........................................\n",
      "[CV 5/5; 1/10] END ..........C=0.01, gamma=0.07;, score=0.801 total time=  15.9s\n",
      "[CV 1/5; 2/10] START C=250, gamma=0.01..........................................\n",
      "[CV 1/5; 2/10] END ...........C=250, gamma=0.01;, score=0.846 total time=  27.5s\n",
      "[CV 2/5; 2/10] START C=250, gamma=0.01..........................................\n",
      "[CV 2/5; 2/10] END ...........C=250, gamma=0.01;, score=0.847 total time=  26.3s\n",
      "[CV 3/5; 2/10] START C=250, gamma=0.01..........................................\n",
      "[CV 3/5; 2/10] END ...........C=250, gamma=0.01;, score=0.850 total time=  25.8s\n",
      "[CV 4/5; 2/10] START C=250, gamma=0.01..........................................\n",
      "[CV 4/5; 2/10] END ...........C=250, gamma=0.01;, score=0.856 total time=  25.3s\n",
      "[CV 5/5; 2/10] START C=250, gamma=0.01..........................................\n",
      "[CV 5/5; 2/10] END ...........C=250, gamma=0.01;, score=0.845 total time=  25.4s\n",
      "[CV 1/5; 3/10] START C=1, gamma=0.001...........................................\n",
      "[CV 1/5; 3/10] END ............C=1, gamma=0.001;, score=0.813 total time=  13.9s\n",
      "[CV 2/5; 3/10] START C=1, gamma=0.001...........................................\n",
      "[CV 2/5; 3/10] END ............C=1, gamma=0.001;, score=0.806 total time=  14.1s\n",
      "[CV 3/5; 3/10] START C=1, gamma=0.001...........................................\n",
      "[CV 3/5; 3/10] END ............C=1, gamma=0.001;, score=0.807 total time=  14.7s\n",
      "[CV 4/5; 3/10] START C=1, gamma=0.001...........................................\n",
      "[CV 4/5; 3/10] END ............C=1, gamma=0.001;, score=0.810 total time=  14.6s\n",
      "[CV 5/5; 3/10] START C=1, gamma=0.001...........................................\n",
      "[CV 5/5; 3/10] END ............C=1, gamma=0.001;, score=0.808 total time=  13.9s\n",
      "[CV 1/5; 4/10] START C=250, gamma=0.008.........................................\n",
      "[CV 1/5; 4/10] END ..........C=250, gamma=0.008;, score=0.846 total time=  24.1s\n",
      "[CV 2/5; 4/10] START C=250, gamma=0.008.........................................\n",
      "[CV 2/5; 4/10] END ..........C=250, gamma=0.008;, score=0.845 total time=  24.8s\n",
      "[CV 3/5; 4/10] START C=250, gamma=0.008.........................................\n",
      "[CV 3/5; 4/10] END ..........C=250, gamma=0.008;, score=0.851 total time=  23.7s\n",
      "[CV 4/5; 4/10] START C=250, gamma=0.008.........................................\n",
      "[CV 4/5; 4/10] END ..........C=250, gamma=0.008;, score=0.855 total time=  23.6s\n",
      "[CV 5/5; 4/10] START C=250, gamma=0.008.........................................\n",
      "[CV 5/5; 4/10] END ..........C=250, gamma=0.008;, score=0.843 total time=  23.9s\n",
      "[CV 1/5; 5/10] START C=10, gamma=0.05...........................................\n",
      "[CV 1/5; 5/10] END ............C=10, gamma=0.05;, score=0.846 total time=  15.6s\n",
      "[CV 2/5; 5/10] START C=10, gamma=0.05...........................................\n",
      "[CV 2/5; 5/10] END ............C=10, gamma=0.05;, score=0.845 total time=  15.7s\n",
      "[CV 3/5; 5/10] START C=10, gamma=0.05...........................................\n",
      "[CV 3/5; 5/10] END ............C=10, gamma=0.05;, score=0.849 total time=  15.7s\n",
      "[CV 4/5; 5/10] START C=10, gamma=0.05...........................................\n",
      "[CV 4/5; 5/10] END ............C=10, gamma=0.05;, score=0.857 total time=  15.8s\n",
      "[CV 5/5; 5/10] START C=10, gamma=0.05...........................................\n",
      "[CV 5/5; 5/10] END ............C=10, gamma=0.05;, score=0.843 total time=  15.8s\n",
      "[CV 1/5; 6/10] START C=50, gamma=0.009..........................................\n",
      "[CV 1/5; 6/10] END ...........C=50, gamma=0.009;, score=0.849 total time=  16.4s\n",
      "[CV 2/5; 6/10] START C=50, gamma=0.009..........................................\n",
      "[CV 2/5; 6/10] END ...........C=50, gamma=0.009;, score=0.845 total time=  15.5s\n",
      "[CV 3/5; 6/10] START C=50, gamma=0.009..........................................\n",
      "[CV 3/5; 6/10] END ...........C=50, gamma=0.009;, score=0.849 total time=  15.9s\n",
      "[CV 4/5; 6/10] START C=50, gamma=0.009..........................................\n",
      "[CV 4/5; 6/10] END ...........C=50, gamma=0.009;, score=0.855 total time=  15.7s\n",
      "[CV 5/5; 6/10] START C=50, gamma=0.009..........................................\n",
      "[CV 5/5; 6/10] END ...........C=50, gamma=0.009;, score=0.843 total time=  15.7s\n",
      "[CV 1/5; 7/10] START C=0.1, gamma=0.05..........................................\n",
      "[CV 1/5; 7/10] END ...........C=0.1, gamma=0.05;, score=0.838 total time=  12.9s\n",
      "[CV 2/5; 7/10] START C=0.1, gamma=0.05..........................................\n",
      "[CV 2/5; 7/10] END ...........C=0.1, gamma=0.05;, score=0.831 total time=  13.1s\n",
      "[CV 3/5; 7/10] START C=0.1, gamma=0.05..........................................\n",
      "[CV 3/5; 7/10] END ...........C=0.1, gamma=0.05;, score=0.841 total time=  12.9s\n",
      "[CV 4/5; 7/10] START C=0.1, gamma=0.05..........................................\n",
      "[CV 4/5; 7/10] END ...........C=0.1, gamma=0.05;, score=0.847 total time=  13.1s\n",
      "[CV 5/5; 7/10] START C=0.1, gamma=0.05..........................................\n",
      "[CV 5/5; 7/10] END ...........C=0.1, gamma=0.05;, score=0.837 total time=  14.1s\n",
      "[CV 1/5; 8/10] START C=170, gamma=0.001.........................................\n",
      "[CV 1/5; 8/10] END ..........C=170, gamma=0.001;, score=0.844 total time=  14.5s\n",
      "[CV 2/5; 8/10] START C=170, gamma=0.001.........................................\n",
      "[CV 2/5; 8/10] END ..........C=170, gamma=0.001;, score=0.836 total time=  14.6s\n",
      "[CV 3/5; 8/10] START C=170, gamma=0.001.........................................\n",
      "[CV 3/5; 8/10] END ..........C=170, gamma=0.001;, score=0.844 total time=  14.3s\n",
      "[CV 4/5; 8/10] START C=170, gamma=0.001.........................................\n",
      "[CV 4/5; 8/10] END ..........C=170, gamma=0.001;, score=0.847 total time=  14.4s\n",
      "[CV 5/5; 8/10] START C=170, gamma=0.001.........................................\n",
      "[CV 5/5; 8/10] END ..........C=170, gamma=0.001;, score=0.839 total time=  14.3s\n",
      "[CV 1/5; 9/10] START C=0.01, gamma=auto.........................................\n",
      "[CV 1/5; 9/10] END ..........C=0.01, gamma=auto;, score=0.792 total time=  15.4s\n",
      "[CV 2/5; 9/10] START C=0.01, gamma=auto.........................................\n",
      "[CV 2/5; 9/10] END ..........C=0.01, gamma=auto;, score=0.798 total time=  15.6s\n",
      "[CV 3/5; 9/10] START C=0.01, gamma=auto.........................................\n",
      "[CV 3/5; 9/10] END ..........C=0.01, gamma=auto;, score=0.801 total time=  15.3s\n",
      "[CV 4/5; 9/10] START C=0.01, gamma=auto.........................................\n",
      "[CV 4/5; 9/10] END ..........C=0.01, gamma=auto;, score=0.795 total time=  15.4s\n",
      "[CV 5/5; 9/10] START C=0.01, gamma=auto.........................................\n",
      "[CV 5/5; 9/10] END ..........C=0.01, gamma=auto;, score=0.801 total time=  15.6s\n",
      "[CV 1/5; 10/10] START C=200, gamma=0.07.........................................\n",
      "[CV 1/5; 10/10] END ..........C=200, gamma=0.07;, score=0.828 total time=  55.7s\n",
      "[CV 2/5; 10/10] START C=200, gamma=0.07.........................................\n",
      "[CV 2/5; 10/10] END ..........C=200, gamma=0.07;, score=0.831 total time=  53.5s\n",
      "[CV 3/5; 10/10] START C=200, gamma=0.07.........................................\n",
      "[CV 3/5; 10/10] END ..........C=200, gamma=0.07;, score=0.836 total time=  55.8s\n",
      "[CV 4/5; 10/10] START C=200, gamma=0.07.........................................\n",
      "[CV 4/5; 10/10] END ..........C=200, gamma=0.07;, score=0.841 total time=  54.5s\n",
      "[CV 5/5; 10/10] START C=200, gamma=0.07.........................................\n",
      "[CV 5/5; 10/10] END ..........C=200, gamma=0.07;, score=0.828 total time=  56.9s\n"
     ]
    },
    {
     "data": {
      "text/plain": [
       "{'gamma': 0.01, 'C': 250}"
      ]
     },
     "execution_count": 36,
     "metadata": {},
     "output_type": "execute_result"
    }
   ],
   "source": [
    "parameters = {\n",
    "    'C':[0.1,0.01, 0.001, 0.5,0.7,1,10,50, 100,150,170,180,190, 200,220, 250,300,1000],\n",
    "    'gamma': ['scale','auto',0.1, 0.01,0.02, 0.05, 0.03, 0.07, 0.001, 0.009, 0.008],\n",
    "}\n",
    "svc_model = RandomizedSearchCV(svc, parameters, verbose=10, random_state=0).fit(X_train, y_train)\n",
    "svc_model.best_params_"
   ]
  },
  {
   "cell_type": "code",
   "execution_count": 37,
   "id": "19741eca",
   "metadata": {},
   "outputs": [
    {
     "data": {
      "text/plain": [
       "SVC(C=250, gamma=0.01)"
      ]
     },
     "execution_count": 37,
     "metadata": {},
     "output_type": "execute_result"
    }
   ],
   "source": [
    "svc_model.best_estimator_"
   ]
  },
  {
   "cell_type": "markdown",
   "id": "2873889f",
   "metadata": {},
   "source": [
    "## Support vector classification Analysis"
   ]
  },
  {
   "cell_type": "code",
   "execution_count": 38,
   "id": "069366ff",
   "metadata": {},
   "outputs": [
    {
     "name": "stdout",
     "output_type": "stream",
     "text": [
      "+------------------------+------------+\n",
      "| Parameters / Metrics   |      Tuned |\n",
      "+========================+============+\n",
      "| gamma                  |   0.01     |\n",
      "+------------------------+------------+\n",
      "| C                      | 250        |\n",
      "+------------------------+------------+\n",
      "| Mean Squared Error     |   0.151259 |\n",
      "+------------------------+------------+\n",
      "| Accuracy               |   0.848741 |\n",
      "+------------------------+------------+\n",
      "| weighted_f1            |   0.840386 |\n",
      "+------------------------+------------+\n",
      "| macro_f1               |   0.770202 |\n",
      "+------------------------+------------+\n"
     ]
    }
   ],
   "source": [
    "adult_dict['svc'] = {'model':svc_model, 'hyperparameters':1}\n",
    "svc_prediction = model_results(adult_dict['svc'])"
   ]
  },
  {
   "cell_type": "code",
   "execution_count": 39,
   "id": "fe8fb4b3",
   "metadata": {},
   "outputs": [
    {
     "name": "stdout",
     "output_type": "stream",
     "text": [
      "              precision    recall  f1-score   support\n",
      "\n",
      "           0       0.87      0.94      0.90      4957\n",
      "           1       0.75      0.55      0.64      1555\n",
      "\n",
      "    accuracy                           0.85      6512\n",
      "   macro avg       0.81      0.75      0.77      6512\n",
      "weighted avg       0.84      0.85      0.84      6512\n",
      "\n",
      "[[4667  290]\n",
      " [ 695  860]]\n"
     ]
    },
    {
     "data": {
      "image/png": "[encoded data removed]",
      "text/plain": [
       "<Figure size 432x288 with 2 Axes>"
      ]
     },
     "metadata": {
      "needs_background": "light"
     },
     "output_type": "display_data"
    }
   ],
   "source": [
    "print(classification_report(y_test, svc_prediction))\n",
    "print(confusion_matrix (y_test, svc_prediction))\n",
    "ConfusionMatrixDisplay.from_predictions(y_test, svc_prediction);"
   ]
  },
  {
   "cell_type": "markdown",
   "id": "1632c6c2",
   "metadata": {},
   "source": [
    "## Decision tree"
   ]
  },
  {
   "cell_type": "code",
   "execution_count": 40,
   "id": "896efa10",
   "metadata": {},
   "outputs": [],
   "source": [
    "tree = DecisionTreeClassifier().fit(X_train, y_train)"
   ]
  },
  {
   "cell_type": "code",
   "execution_count": 41,
   "id": "52171e0d",
   "metadata": {},
   "outputs": [
    {
     "name": "stdout",
     "output_type": "stream",
     "text": [
      "Fitting 5 folds for each of 20 candidates, totalling 100 fits\n"
     ]
    },
    {
     "data": {
      "text/plain": [
       "{'max_depth': 8.103605819788694, 'min_samples_split': 0.08712929970154071}"
      ]
     },
     "execution_count": 41,
     "metadata": {},
     "output_type": "execute_result"
    }
   ],
   "source": [
    "parameters = {\n",
    "    'max_depth': scipy.stats.uniform(1, 100),\n",
    "    'min_samples_split': scipy.stats.uniform(0, 1) \n",
    "}\n",
    "tree_model = RandomizedSearchCV(tree, parameters, verbose=1, n_iter=20, random_state=0).fit(X_train, y_train)\n",
    "tree_model.best_params_"
   ]
  },
  {
   "cell_type": "markdown",
   "id": "b815c235",
   "metadata": {},
   "source": [
    "## Decision tree Analysis"
   ]
  },
  {
   "cell_type": "code",
   "execution_count": 42,
   "id": "49d69d2a",
   "metadata": {},
   "outputs": [
    {
     "name": "stdout",
     "output_type": "stream",
     "text": [
      "+------------------------+-----------+\n",
      "| Parameters / Metrics   |     Tuned |\n",
      "+========================+===========+\n",
      "| max_depth              | 8.10361   |\n",
      "+------------------------+-----------+\n",
      "| min_samples_split      | 0.0871293 |\n",
      "+------------------------+-----------+\n",
      "| Mean Squared Error     | 0.150952  |\n",
      "+------------------------+-----------+\n",
      "| Accuracy               | 0.849048  |\n",
      "+------------------------+-----------+\n",
      "| weighted_f1            | 0.836006  |\n",
      "+------------------------+-----------+\n",
      "| macro_f1               | 0.759112  |\n",
      "+------------------------+-----------+\n"
     ]
    }
   ],
   "source": [
    "adult_dict['tree'] = {'model':tree_model, 'hyperparameters':1}\n",
    "tree_prediction = model_results(adult_dict['tree'])"
   ]
  },
  {
   "cell_type": "code",
   "execution_count": 43,
   "id": "0efbc51e",
   "metadata": {},
   "outputs": [
    {
     "name": "stdout",
     "output_type": "stream",
     "text": [
      "              precision    recall  f1-score   support\n",
      "\n",
      "           0       0.86      0.96      0.91      4957\n",
      "           1       0.79      0.50      0.61      1555\n",
      "\n",
      "    accuracy                           0.85      6512\n",
      "   macro avg       0.83      0.73      0.76      6512\n",
      "weighted avg       0.84      0.85      0.84      6512\n",
      "\n",
      "[[4754  203]\n",
      " [ 780  775]]\n"
     ]
    },
    {
     "data": {
      "image/png": "[encoded data removed]",
      "text/plain": [
       "<Figure size 432x288 with 2 Axes>"
      ]
     },
     "metadata": {
      "needs_background": "light"
     },
     "output_type": "display_data"
    }
   ],
   "source": [
    "print(classification_report(y_test, tree_prediction))\n",
    "print(confusion_matrix (y_test, tree_prediction))\n",
    "ConfusionMatrixDisplay.from_predictions(y_test, tree_prediction);"
   ]
  },
  {
   "cell_type": "code",
   "execution_count": 44,
   "id": "35c9dfbc",
   "metadata": {},
   "outputs": [
    {
     "data": {
      "image/png": "[encoded data removed]",
      "text/plain": [
       "<Figure size 1512x1512 with 1 Axes>"
      ]
     },
     "metadata": {
      "needs_background": "light"
     },
     "output_type": "display_data"
    }
   ],
   "source": [
    "plt.figure(figsize=(21,21))\n",
    "plot_tree(tree_model.best_estimator_, max_depth = 2, fontsize=14);"
   ]
  },
  {
   "cell_type": "markdown",
   "id": "95b77efe",
   "metadata": {},
   "source": [
    "## Random Forest"
   ]
  },
  {
   "cell_type": "code",
   "execution_count": 18,
   "id": "94a5038d",
   "metadata": {},
   "outputs": [],
   "source": []
  },
  {
   "cell_type": "markdown",
   "id": "9bb754e2",
   "metadata": {},
   "source": [
    "## 5. K-nearest neighbours\n"
   ]
  },
  {
   "cell_type": "markdown",
   "id": "22612804",
   "metadata": {},
   "source": [
    "Fitting and hyperparameter search"
   ]
  },
  {
   "cell_type": "code",
   "execution_count": 45,
   "id": "d52fdc9b",
   "metadata": {},
   "outputs": [],
   "source": [
    "from sklearn import neighbors\n",
    "import sklearn\n",
    "import scipy\n",
    "\n",
    "knn = sklearn.neighbors.KNeighborsClassifier(n_jobs=-1)"
   ]
  },
  {
   "cell_type": "code",
   "execution_count": 46,
   "id": "15244e4d",
   "metadata": {},
   "outputs": [
    {
     "name": "stdout",
     "output_type": "stream",
     "text": [
      "Fitting 3 folds for each of 25 candidates, totalling 75 fits\n"
     ]
    },
    {
     "name": "stderr",
     "output_type": "stream",
     "text": [
      "/Library/Frameworks/Python.framework/Versions/3.9/lib/python3.9/site-packages/sklearn/model_selection/_validation.py:771: UserWarning: Scoring failed. The score on this train-test partition for these parameters will be set to nan. Details: \n",
      "joblib.externals.loky.process_executor._RemoteTraceback: \n",
      "\"\"\"\n",
      "Traceback (most recent call last):\n",
      "  File \"/Library/Frameworks/Python.framework/Versions/3.9/lib/python3.9/site-packages/joblib/externals/loky/process_executor.py\", line 404, in _process_worker\n",
      "    call_item = call_queue.get(block=True, timeout=timeout)\n",
      "  File \"/Library/Frameworks/Python.framework/Versions/3.9/lib/python3.9/multiprocessing/queues.py\", line 122, in get\n",
      "    return _ForkingPickler.loads(res)\n",
      "  File \"sklearn/neighbors/_binary_tree.pxi\", line 1057, in sklearn.neighbors._kd_tree.BinaryTree.__setstate__\n",
      "  File \"sklearn/neighbors/_binary_tree.pxi\", line 1001, in sklearn.neighbors._kd_tree.BinaryTree._update_memviews\n",
      "  File \"stringsource\", line 658, in View.MemoryView.memoryview_cwrapper\n",
      "  File \"stringsource\", line 349, in View.MemoryView.memoryview.__cinit__\n",
      "ValueError: buffer source array is read-only\n",
      "\"\"\"\n",
      "\n",
      "The above exception was the direct cause of the following exception:\n",
      "\n",
      "Traceback (most recent call last):\n",
      "  File \"/Library/Frameworks/Python.framework/Versions/3.9/lib/python3.9/site-packages/sklearn/model_selection/_validation.py\", line 762, in _score\n",
      "    scores = scorer(estimator, X_test, y_test)\n",
      "  File \"/Library/Frameworks/Python.framework/Versions/3.9/lib/python3.9/site-packages/sklearn/metrics/_scorer.py\", line 418, in _passthrough_scorer\n",
      "    return estimator.score(*args, **kwargs)\n",
      "  File \"/Library/Frameworks/Python.framework/Versions/3.9/lib/python3.9/site-packages/sklearn/base.py\", line 642, in score\n",
      "    return accuracy_score(y, self.predict(X), sample_weight=sample_weight)\n",
      "  File \"/Library/Frameworks/Python.framework/Versions/3.9/lib/python3.9/site-packages/sklearn/neighbors/_classification.py\", line 216, in predict\n",
      "    neigh_dist, neigh_ind = self.kneighbors(X)\n",
      "  File \"/Library/Frameworks/Python.framework/Versions/3.9/lib/python3.9/site-packages/sklearn/neighbors/_base.py\", line 773, in kneighbors\n",
      "    chunked_results = Parallel(n_jobs, **parallel_kwargs)(\n",
      "  File \"/Library/Frameworks/Python.framework/Versions/3.9/lib/python3.9/site-packages/joblib/parallel.py\", line 1054, in __call__\n",
      "    self.retrieve()\n",
      "  File \"/Library/Frameworks/Python.framework/Versions/3.9/lib/python3.9/site-packages/joblib/parallel.py\", line 933, in retrieve\n",
      "    self._output.extend(job.get(timeout=self.timeout))\n",
      "  File \"/Library/Frameworks/Python.framework/Versions/3.9/lib/python3.9/site-packages/joblib/_parallel_backends.py\", line 542, in wrap_future_result\n",
      "    return future.result(timeout=timeout)\n",
      "  File \"/Library/Frameworks/Python.framework/Versions/3.9/lib/python3.9/concurrent/futures/_base.py\", line 445, in result\n",
      "    return self.__get_result()\n",
      "  File \"/Library/Frameworks/Python.framework/Versions/3.9/lib/python3.9/concurrent/futures/_base.py\", line 390, in __get_result\n",
      "    raise self._exception\n",
      "joblib.externals.loky.process_executor.BrokenProcessPool: A task has failed to un-serialize. Please ensure that the arguments of the function are all picklable.\n",
      "\n",
      "  warnings.warn(\n",
      "/Library/Frameworks/Python.framework/Versions/3.9/lib/python3.9/site-packages/sklearn/model_selection/_validation.py:771: UserWarning: Scoring failed. The score on this train-test partition for these parameters will be set to nan. Details: \n",
      "joblib.externals.loky.process_executor._RemoteTraceback: \n",
      "\"\"\"\n",
      "Traceback (most recent call last):\n",
      "  File \"/Library/Frameworks/Python.framework/Versions/3.9/lib/python3.9/site-packages/joblib/externals/loky/process_executor.py\", line 404, in _process_worker\n",
      "    call_item = call_queue.get(block=True, timeout=timeout)\n",
      "  File \"/Library/Frameworks/Python.framework/Versions/3.9/lib/python3.9/multiprocessing/queues.py\", line 122, in get\n",
      "    return _ForkingPickler.loads(res)\n",
      "  File \"sklearn/neighbors/_binary_tree.pxi\", line 1057, in sklearn.neighbors._kd_tree.BinaryTree.__setstate__\n",
      "  File \"sklearn/neighbors/_binary_tree.pxi\", line 1001, in sklearn.neighbors._kd_tree.BinaryTree._update_memviews\n",
      "  File \"stringsource\", line 658, in View.MemoryView.memoryview_cwrapper\n",
      "  File \"stringsource\", line 349, in View.MemoryView.memoryview.__cinit__\n",
      "ValueError: buffer source array is read-only\n",
      "\"\"\"\n",
      "\n",
      "The above exception was the direct cause of the following exception:\n",
      "\n",
      "Traceback (most recent call last):\n",
      "  File \"/Library/Frameworks/Python.framework/Versions/3.9/lib/python3.9/site-packages/sklearn/model_selection/_validation.py\", line 762, in _score\n",
      "    scores = scorer(estimator, X_test, y_test)\n",
      "  File \"/Library/Frameworks/Python.framework/Versions/3.9/lib/python3.9/site-packages/sklearn/metrics/_scorer.py\", line 418, in _passthrough_scorer\n",
      "    return estimator.score(*args, **kwargs)\n",
      "  File \"/Library/Frameworks/Python.framework/Versions/3.9/lib/python3.9/site-packages/sklearn/base.py\", line 642, in score\n",
      "    return accuracy_score(y, self.predict(X), sample_weight=sample_weight)\n",
      "  File \"/Library/Frameworks/Python.framework/Versions/3.9/lib/python3.9/site-packages/sklearn/neighbors/_classification.py\", line 216, in predict\n",
      "    neigh_dist, neigh_ind = self.kneighbors(X)\n",
      "  File \"/Library/Frameworks/Python.framework/Versions/3.9/lib/python3.9/site-packages/sklearn/neighbors/_base.py\", line 773, in kneighbors\n",
      "    chunked_results = Parallel(n_jobs, **parallel_kwargs)(\n",
      "  File \"/Library/Frameworks/Python.framework/Versions/3.9/lib/python3.9/site-packages/joblib/parallel.py\", line 1054, in __call__\n",
      "    self.retrieve()\n",
      "  File \"/Library/Frameworks/Python.framework/Versions/3.9/lib/python3.9/site-packages/joblib/parallel.py\", line 933, in retrieve\n",
      "    self._output.extend(job.get(timeout=self.timeout))\n",
      "  File \"/Library/Frameworks/Python.framework/Versions/3.9/lib/python3.9/site-packages/joblib/_parallel_backends.py\", line 542, in wrap_future_result\n",
      "    return future.result(timeout=timeout)\n",
      "  File \"/Library/Frameworks/Python.framework/Versions/3.9/lib/python3.9/concurrent/futures/_base.py\", line 445, in result\n",
      "    return self.__get_result()\n",
      "  File \"/Library/Frameworks/Python.framework/Versions/3.9/lib/python3.9/concurrent/futures/_base.py\", line 390, in __get_result\n",
      "    raise self._exception\n",
      "joblib.externals.loky.process_executor.BrokenProcessPool: A task has failed to un-serialize. Please ensure that the arguments of the function are all picklable.\n",
      "\n",
      "  warnings.warn(\n",
      "/Library/Frameworks/Python.framework/Versions/3.9/lib/python3.9/site-packages/sklearn/model_selection/_validation.py:771: UserWarning: Scoring failed. The score on this train-test partition for these parameters will be set to nan. Details: \n",
      "joblib.externals.loky.process_executor._RemoteTraceback: \n",
      "\"\"\"\n",
      "Traceback (most recent call last):\n",
      "  File \"/Library/Frameworks/Python.framework/Versions/3.9/lib/python3.9/site-packages/joblib/externals/loky/process_executor.py\", line 404, in _process_worker\n",
      "    call_item = call_queue.get(block=True, timeout=timeout)\n",
      "  File \"/Library/Frameworks/Python.framework/Versions/3.9/lib/python3.9/multiprocessing/queues.py\", line 122, in get\n",
      "    return _ForkingPickler.loads(res)\n",
      "  File \"sklearn/neighbors/_binary_tree.pxi\", line 1057, in sklearn.neighbors._kd_tree.BinaryTree.__setstate__\n",
      "  File \"sklearn/neighbors/_binary_tree.pxi\", line 1001, in sklearn.neighbors._kd_tree.BinaryTree._update_memviews\n",
      "  File \"stringsource\", line 658, in View.MemoryView.memoryview_cwrapper\n",
      "  File \"stringsource\", line 349, in View.MemoryView.memoryview.__cinit__\n",
      "ValueError: buffer source array is read-only\n",
      "\"\"\"\n",
      "\n",
      "The above exception was the direct cause of the following exception:\n",
      "\n",
      "Traceback (most recent call last):\n",
      "  File \"/Library/Frameworks/Python.framework/Versions/3.9/lib/python3.9/site-packages/sklearn/model_selection/_validation.py\", line 762, in _score\n",
      "    scores = scorer(estimator, X_test, y_test)\n",
      "  File \"/Library/Frameworks/Python.framework/Versions/3.9/lib/python3.9/site-packages/sklearn/metrics/_scorer.py\", line 418, in _passthrough_scorer\n",
      "    return estimator.score(*args, **kwargs)\n",
      "  File \"/Library/Frameworks/Python.framework/Versions/3.9/lib/python3.9/site-packages/sklearn/base.py\", line 642, in score\n",
      "    return accuracy_score(y, self.predict(X), sample_weight=sample_weight)\n",
      "  File \"/Library/Frameworks/Python.framework/Versions/3.9/lib/python3.9/site-packages/sklearn/neighbors/_classification.py\", line 216, in predict\n",
      "    neigh_dist, neigh_ind = self.kneighbors(X)\n",
      "  File \"/Library/Frameworks/Python.framework/Versions/3.9/lib/python3.9/site-packages/sklearn/neighbors/_base.py\", line 773, in kneighbors\n",
      "    chunked_results = Parallel(n_jobs, **parallel_kwargs)(\n",
      "  File \"/Library/Frameworks/Python.framework/Versions/3.9/lib/python3.9/site-packages/joblib/parallel.py\", line 1054, in __call__\n",
      "    self.retrieve()\n",
      "  File \"/Library/Frameworks/Python.framework/Versions/3.9/lib/python3.9/site-packages/joblib/parallel.py\", line 933, in retrieve\n",
      "    self._output.extend(job.get(timeout=self.timeout))\n",
      "  File \"/Library/Frameworks/Python.framework/Versions/3.9/lib/python3.9/site-packages/joblib/_parallel_backends.py\", line 542, in wrap_future_result\n",
      "    return future.result(timeout=timeout)\n",
      "  File \"/Library/Frameworks/Python.framework/Versions/3.9/lib/python3.9/concurrent/futures/_base.py\", line 445, in result\n",
      "    return self.__get_result()\n",
      "  File \"/Library/Frameworks/Python.framework/Versions/3.9/lib/python3.9/concurrent/futures/_base.py\", line 390, in __get_result\n",
      "    raise self._exception\n",
      "joblib.externals.loky.process_executor.BrokenProcessPool: A task has failed to un-serialize. Please ensure that the arguments of the function are all picklable.\n",
      "\n",
      "  warnings.warn(\n"
     ]
    },
    {
     "name": "stdout",
     "output_type": "stream",
     "text": [
      "best Hyperparameters = {'leaf_size': 20.172075941288885, 'n_neighbors': 40, 'weights': 'distance'}\n"
     ]
    },
    {
     "name": "stderr",
     "output_type": "stream",
     "text": [
      "/Library/Frameworks/Python.framework/Versions/3.9/lib/python3.9/site-packages/sklearn/model_selection/_search.py:969: UserWarning: One or more of the test scores are non-finite: [0.82275046 0.82728058 0.83342294 0.82482351 0.83384524 0.82877778\n",
      " 0.83073563 0.82943041 0.8245932  0.8330391  0.83330786 0.82225131\n",
      " 0.82651277 0.8226352  0.82159867 0.83246321 0.8312731  0.79722055\n",
      " 0.83215608 0.83161855 0.8226352  0.82463158        nan 0.82225131\n",
      " 0.82474676]\n",
      "  warnings.warn(\n"
     ]
    }
   ],
   "source": [
    "param_distribution = {'n_neighbors': range(1, 150), 'weights':['uniform', 'distance'], 'leaf_size': scipy.stats.uniform(1, 50)}\n",
    "knn_randomized = sklearn.model_selection.RandomizedSearchCV(knn, param_distribution, verbose=1, random_state=0, cv=3, n_iter=25).fit(X_train, y_train)\n",
    "\n",
    "print('best Hyperparameters = ' + str(knn_randomized.best_params_))"
   ]
  },
  {
   "cell_type": "code",
   "execution_count": 47,
   "id": "33a90334",
   "metadata": {},
   "outputs": [
    {
     "name": "stdout",
     "output_type": "stream",
     "text": [
      "+------------------------+---------------------+\n",
      "| Parameters / Metrics   | Tuned               |\n",
      "+========================+=====================+\n",
      "| leaf_size              | 20.172075941288885  |\n",
      "+------------------------+---------------------+\n",
      "| n_neighbors            | 40                  |\n",
      "+------------------------+---------------------+\n",
      "| weights                | distance            |\n",
      "+------------------------+---------------------+\n",
      "| Mean Squared Error     | 0.16385135135135134 |\n",
      "+------------------------+---------------------+\n",
      "| Accuracy               | 0.8361486486486487  |\n",
      "+------------------------+---------------------+\n",
      "| weighted_f1            | 0.8292387901332053  |\n",
      "+------------------------+---------------------+\n",
      "| macro_f1               | 0.7564606518374236  |\n",
      "+------------------------+---------------------+\n"
     ]
    }
   ],
   "source": [
    "adult_dict[\"knn\"] = {\"model\":knn_randomized, \"hyperparameters\":1}\n",
    "knn_prediction = model_results(adult_dict['knn'])"
   ]
  },
  {
   "cell_type": "code",
   "execution_count": 48,
   "id": "e214751d",
   "metadata": {},
   "outputs": [
    {
     "name": "stdout",
     "output_type": "stream",
     "text": [
      "              precision    recall  f1-score   support\n",
      "\n",
      "           0       0.87      0.92      0.90      4957\n",
      "           1       0.70      0.55      0.62      1555\n",
      "\n",
      "    accuracy                           0.84      6512\n",
      "   macro avg       0.78      0.74      0.76      6512\n",
      "weighted avg       0.83      0.84      0.83      6512\n",
      "\n",
      "[[4585  372]\n",
      " [ 695  860]]\n"
     ]
    },
    {
     "data": {
      "image/png": "[encoded data removed]",
      "text/plain": [
       "<Figure size 432x288 with 2 Axes>"
      ]
     },
     "metadata": {
      "needs_background": "light"
     },
     "output_type": "display_data"
    }
   ],
   "source": [
    "print(classification_report(y_test, knn_prediction))\n",
    "print(confusion_matrix (y_test, knn_prediction))\n",
    "ConfusionMatrixDisplay.from_predictions(y_test, knn_prediction);"
   ]
  },
  {
   "cell_type": "markdown",
   "id": "46140163",
   "metadata": {},
   "source": [
    "## 6. AdaBoost Classification"
   ]
  },
  {
   "cell_type": "markdown",
   "id": "c79474e9",
   "metadata": {},
   "source": [
    "Fitting and Hyperparameter search "
   ]
  },
  {
   "cell_type": "code",
   "execution_count": 49,
   "id": "f5fb4efb",
   "metadata": {},
   "outputs": [],
   "source": [
    "from sklearn.ensemble import AdaBoostClassifier\n",
    "\n",
    "adaBoost = AdaBoostClassifier().fit(X_train,y_train)"
   ]
  },
  {
   "cell_type": "code",
   "execution_count": 51,
   "id": "6cf7b68c",
   "metadata": {},
   "outputs": [
    {
     "name": "stdout",
     "output_type": "stream",
     "text": [
      "Fitting 5 folds for each of 20 candidates, totalling 100 fits\n",
      "Best Hyperparameters = {'learning_rate': 1.5876730327223614, 'n_estimators': 217}\n"
     ]
    }
   ],
   "source": [
    "param_distribution = {'n_estimators': range(1, 250), 'learning_rate': scipy.stats.uniform(.1, 5)}\n",
    "adaBoost_randomized = sklearn.model_selection.RandomizedSearchCV(adaBoost, param_distribution, verbose=1, random_state=0, cv=5, n_iter=20).fit(X_train, y_train)\n",
    "\n",
    "print('Best Hyperparameters = ' + str(adaBoost_randomized.best_params_))"
   ]
  },
  {
   "cell_type": "code",
   "execution_count": 52,
   "id": "765b5f1d",
   "metadata": {},
   "outputs": [
    {
     "name": "stdout",
     "output_type": "stream",
     "text": [
      "+------------------------+------------+\n",
      "| Parameters / Metrics   |      Tuned |\n",
      "+========================+============+\n",
      "| learning_rate          |   1.58767  |\n",
      "+------------------------+------------+\n",
      "| n_estimators           | 217        |\n",
      "+------------------------+------------+\n",
      "| Mean Squared Error     |   0.134214 |\n",
      "+------------------------+------------+\n",
      "| Accuracy               |   0.865786 |\n",
      "+------------------------+------------+\n",
      "| weighted_f1            |   0.861302 |\n",
      "+------------------------+------------+\n",
      "| macro_f1               |   0.803515 |\n",
      "+------------------------+------------+\n"
     ]
    }
   ],
   "source": [
    "adult_dict[\"adaboost\"] = {\"model\":adaBoost_randomized, \"hyperparameters\":1}\n",
    "adaboost_prediction = model_results(adult_dict['adaboost'])"
   ]
  },
  {
   "cell_type": "code",
   "execution_count": 53,
   "id": "8aaa1208",
   "metadata": {},
   "outputs": [
    {
     "name": "stdout",
     "output_type": "stream",
     "text": [
      "              precision    recall  f1-score   support\n",
      "\n",
      "           0       0.89      0.94      0.91      4957\n",
      "           1       0.76      0.63      0.69      1555\n",
      "\n",
      "    accuracy                           0.87      6512\n",
      "   macro avg       0.83      0.79      0.80      6512\n",
      "weighted avg       0.86      0.87      0.86      6512\n",
      "\n",
      "[[4652  305]\n",
      " [ 569  986]]\n"
     ]
    },
    {
     "data": {
      "image/png": "[encoded data removed]",
      "text/plain": [
       "<Figure size 432x288 with 2 Axes>"
      ]
     },
     "metadata": {
      "needs_background": "light"
     },
     "output_type": "display_data"
    }
   ],
   "source": [
    "print(classification_report(y_test, adaboost_prediction))\n",
    "print(confusion_matrix (y_test, adaboost_prediction))\n",
    "ConfusionMatrixDisplay.from_predictions(y_test, adaboost_prediction);"
   ]
  },
  {
   "cell_type": "markdown",
   "id": "40293cfd",
   "metadata": {},
   "source": [
    "## 7. Gaussian Naive Bayes classification"
   ]
  },
  {
   "cell_type": "code",
   "execution_count": 54,
   "id": "3d5a5812",
   "metadata": {},
   "outputs": [],
   "source": [
    "from sklearn.naive_bayes import GaussianNB\n",
    "\n",
    "naive_bayes = GaussianNB().fit(X_train, y_train)"
   ]
  },
  {
   "cell_type": "code",
   "execution_count": null,
   "id": "e3b90f6c",
   "metadata": {},
   "outputs": [],
   "source": [
    "# param_distribution = {'n_estimators': range(1, 150), 'learning_rate': scipy.stats.reciprocal(1, 5)}\n",
    "# adaBoost_randomized = sklearn.model_selection.RandomizedSearchCV(adaBoost, param_distribution, verbose=1, random_state=0, cv=3, n_iter=250).fit(X_train, y_train)\n",
    "# print('Best Hyperparameters = ' + str(knn_randomized.best_params_))"
   ]
  },
  {
   "cell_type": "code",
   "execution_count": 55,
   "id": "0eaa89c3",
   "metadata": {},
   "outputs": [
    {
     "name": "stdout",
     "output_type": "stream",
     "text": [
      "+------------------------+----------+\n",
      "| Parameters / Metrics   |    Tuned |\n",
      "+========================+==========+\n",
      "| Mean Squared Error     | 0.199939 |\n",
      "+------------------------+----------+\n",
      "| Accuracy               | 0.800061 |\n",
      "+------------------------+----------+\n",
      "| weighted_f1            | 0.772305 |\n",
      "+------------------------+----------+\n",
      "| macro_f1               | 0.656017 |\n",
      "+------------------------+----------+\n"
     ]
    }
   ],
   "source": [
    "adult_dict[\"gnb\"] = {\"model\":naive_bayes, \"hyperparameters\":0}\n",
    "naive_bayes_prediction = model_results(adult_dict['gnb'])"
   ]
  },
  {
   "cell_type": "code",
   "execution_count": 56,
   "id": "b56df286",
   "metadata": {},
   "outputs": [
    {
     "name": "stdout",
     "output_type": "stream",
     "text": [
      "              precision    recall  f1-score   support\n",
      "\n",
      "           0       0.82      0.95      0.88      4957\n",
      "           1       0.67      0.32      0.43      1555\n",
      "\n",
      "    accuracy                           0.80      6512\n",
      "   macro avg       0.74      0.64      0.66      6512\n",
      "weighted avg       0.78      0.80      0.77      6512\n",
      "\n",
      "[[4712  245]\n",
      " [1057  498]]\n"
     ]
    },
    {
     "data": {
      "image/png": "[encoded data removed]",
      "text/plain": [
       "<Figure size 432x288 with 2 Axes>"
      ]
     },
     "metadata": {
      "needs_background": "light"
     },
     "output_type": "display_data"
    }
   ],
   "source": [
    "print(classification_report(y_test, naive_bayes_prediction))\n",
    "print(confusion_matrix (y_test, naive_bayes_prediction))\n",
    "ConfusionMatrixDisplay.from_predictions(y_test, naive_bayes_prediction);"
   ]
  },
  {
   "cell_type": "markdown",
   "id": "74cec67a",
   "metadata": {},
   "source": [
    "## 8. Neural Network classification"
   ]
  },
  {
   "cell_type": "code",
   "execution_count": 57,
   "id": "e08ee50a",
   "metadata": {},
   "outputs": [],
   "source": [
    "from sklearn.neural_network import MLPClassifier\n",
    "\n",
    "mlp = MLPClassifier(hidden_layer_sizes=900)"
   ]
  },
  {
   "cell_type": "code",
   "execution_count": 58,
   "id": "59bdbd1b",
   "metadata": {},
   "outputs": [
    {
     "name": "stdout",
     "output_type": "stream",
     "text": [
      "Fitting 3 folds for each of 25 candidates, totalling 75 fits\n",
      "Best Hyperparameters = {'leaf_size': 20.172075941288885, 'n_neighbors': 40, 'weights': 'distance'}\n"
     ]
    }
   ],
   "source": [
    "param_distribution = {'max_iter': range(1000, 1500),\n",
    "                        'alpha': scipy.stats.reciprocal(0.00001, 0.1), \n",
    "                        'learning_rate':['constant', 'invscaling', 'adaptive']}\n",
    "\n",
    "mlp_randomized = sklearn.model_selection.RandomizedSearchCV(mlp, param_distribution, verbose=1, random_state=0, cv=3, n_iter=25).fit(X_train, y_train)\n",
    "print('Best Hyperparameters = ' + str(knn_randomized.best_params_))"
   ]
  },
  {
   "cell_type": "code",
   "execution_count": 59,
   "id": "62db65d8",
   "metadata": {},
   "outputs": [
    {
     "name": "stdout",
     "output_type": "stream",
     "text": [
      "+------------------------+---------------------+\n",
      "| Parameters / Metrics   | Tuned               |\n",
      "+========================+=====================+\n",
      "| alpha                  | 0.06739390723749765 |\n",
      "+------------------------+---------------------+\n",
      "| learning_rate          | constant            |\n",
      "+------------------------+---------------------+\n",
      "| max_iter               | 1338                |\n",
      "+------------------------+---------------------+\n",
      "| Mean Squared Error     | 0.1471130221130221  |\n",
      "+------------------------+---------------------+\n",
      "| Accuracy               | 0.8528869778869779  |\n",
      "+------------------------+---------------------+\n",
      "| weighted_f1            | 0.8479716763846569  |\n",
      "+------------------------+---------------------+\n",
      "| macro_f1               | 0.7846313138433839  |\n",
      "+------------------------+---------------------+\n"
     ]
    }
   ],
   "source": [
    "adult_dict[\"nn\"] = {\"model\":mlp_randomized, \"hyperparameters\":1}\n",
    "nn_prediction = model_results(adult_dict['nn'])"
   ]
  },
  {
   "cell_type": "code",
   "execution_count": 60,
   "id": "a37230f0",
   "metadata": {},
   "outputs": [
    {
     "name": "stdout",
     "output_type": "stream",
     "text": [
      "              precision    recall  f1-score   support\n",
      "\n",
      "           0       0.88      0.93      0.91      4957\n",
      "           1       0.73      0.61      0.66      1555\n",
      "\n",
      "    accuracy                           0.85      6512\n",
      "   macro avg       0.81      0.77      0.78      6512\n",
      "weighted avg       0.85      0.85      0.85      6512\n",
      "\n",
      "[[4610  347]\n",
      " [ 611  944]]\n"
     ]
    },
    {
     "data": {
      "image/png": "[encoded data removed]",
      "text/plain": [
       "<Figure size 432x288 with 2 Axes>"
      ]
     },
     "metadata": {
      "needs_background": "light"
     },
     "output_type": "display_data"
    }
   ],
   "source": [
    "print(classification_report(y_test, nn_prediction))\n",
    "print(confusion_matrix (y_test, nn_prediction))\n",
    "ConfusionMatrixDisplay.from_predictions(y_test, nn_prediction);"
   ]
  }
 ],
 "metadata": {
  "kernelspec": {
   "display_name": "Python 3 (ipykernel)",
   "language": "python",
   "name": "python3"
  },
  "language_info": {
   "codemirror_mode": {
    "name": "ipython",
    "version": 3
   },
   "file_extension": ".py",
   "mimetype": "text/x-python",
   "name": "python",
   "nbconvert_exporter": "python",
   "pygments_lexer": "ipython3",
   "version": "3.9.5"
  }
 },
 "nbformat": 4,
 "nbformat_minor": 5
}
