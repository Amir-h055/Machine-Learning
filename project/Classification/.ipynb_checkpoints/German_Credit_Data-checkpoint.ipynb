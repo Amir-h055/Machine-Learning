{
 "cells": [
  {
   "cell_type": "markdown",
   "id": "e4f8386e",
   "metadata": {},
   "source": [
    "# German Credit Data"
   ]
  },
  {
   "cell_type": "code",
   "execution_count": 1,
   "id": "1a319900",
   "metadata": {},
   "outputs": [],
   "source": [
    "import numpy as np\n",
    "import matplotlib.pyplot as plt\n",
    "import sklearn as sk\n",
    "import pandas as pd\n",
    "import scipy\n",
    "import seaborn as sns\n",
    "import math\n",
    "\n",
    "from scipy.io import arff\n",
    "from sklearn.model_selection import train_test_split, GridSearchCV, RandomizedSearchCV\n",
    "from sklearn.preprocessing import StandardScaler\n",
    "from sklearn.metrics import confusion_matrix,plot_confusion_matrix,ConfusionMatrixDisplay, classification_report,accuracy_score,f1_score\n",
    "\n",
    "\n",
    "from sklearn.linear_model import LogisticRegression\n",
    "from sklearn.svm import SVC\n",
    "from sklearn.tree import DecisionTreeClassifier, plot_tree\n",
    "\n",
    "# change the trees"
   ]
  },
  {
   "cell_type": "markdown",
   "id": "f73e41c8",
   "metadata": {},
   "source": [
    "## Loading Data"
   ]
  },
  {
   "cell_type": "code",
   "execution_count": 22,
   "id": "07c6cb99",
   "metadata": {},
   "outputs": [],
   "source": [
    "Datset = pd.read_csv(\"/Users/annikatimermanis/Desktop/project/Classification/Classification_Datasets/4_German_Credit_Data/German_Credit_Data.data-numeric\", delimiter=',', header=None) \n"
   ]
  },
  {
   "cell_type": "code",
   "execution_count": 34,
   "id": "c22e371a",
   "metadata": {},
   "outputs": [
    {
     "data": {
      "text/html": [
       "<div>\n",
       "<style scoped>\n",
       "    .dataframe tbody tr th:only-of-type {\n",
       "        vertical-align: middle;\n",
       "    }\n",
       "\n",
       "    .dataframe tbody tr th {\n",
       "        vertical-align: top;\n",
       "    }\n",
       "\n",
       "    .dataframe thead th {\n",
       "        text-align: right;\n",
       "    }\n",
       "</style>\n",
       "<table border=\"1\" class=\"dataframe\">\n",
       "  <thead>\n",
       "    <tr style=\"text-align: right;\">\n",
       "      <th></th>\n",
       "      <th>0</th>\n",
       "    </tr>\n",
       "  </thead>\n",
       "  <tbody>\n",
       "    <tr>\n",
       "      <th>0</th>\n",
       "      <td>1   6   4  12   5   5   3   4   1  67   3  ...</td>\n",
       "    </tr>\n",
       "    <tr>\n",
       "      <th>1</th>\n",
       "      <td>2  48   2  60   1   3   2   2   1  22   3  ...</td>\n",
       "    </tr>\n",
       "    <tr>\n",
       "      <th>2</th>\n",
       "      <td>4  12   4  21   1   4   3   3   1  49   3  ...</td>\n",
       "    </tr>\n",
       "    <tr>\n",
       "      <th>3</th>\n",
       "      <td>1  42   2  79   1   4   3   4   2  45   3  ...</td>\n",
       "    </tr>\n",
       "    <tr>\n",
       "      <th>4</th>\n",
       "      <td>1  24   3  49   1   3   3   4   4  53   3  ...</td>\n",
       "    </tr>\n",
       "  </tbody>\n",
       "</table>\n",
       "</div>"
      ],
      "text/plain": [
       "                                                   0\n",
       "0     1   6   4  12   5   5   3   4   1  67   3  ...\n",
       "1     2  48   2  60   1   3   2   2   1  22   3  ...\n",
       "2     4  12   4  21   1   4   3   3   1  49   3  ...\n",
       "3     1  42   2  79   1   4   3   4   2  45   3  ...\n",
       "4     1  24   3  49   1   3   3   4   4  53   3  ..."
      ]
     },
     "execution_count": 34,
     "metadata": {},
     "output_type": "execute_result"
    }
   ],
   "source": [
    "df = pd.DataFrame(Datset)\n",
    "df.head()"
   ]
  },
  {
   "cell_type": "markdown",
   "id": "6fc2460f",
   "metadata": {},
   "source": [
    "## Data preparation and Analysis"
   ]
  },
  {
   "cell_type": "code",
   "execution_count": 35,
   "id": "73aad8ac",
   "metadata": {},
   "outputs": [
    {
     "name": "stdout",
     "output_type": "stream",
     "text": [
      "0\n"
     ]
    }
   ],
   "source": [
    "print(np.count_nonzero(Datset==np.nan))"
   ]
  },
  {
   "cell_type": "code",
   "execution_count": 36,
   "id": "8b045f43",
   "metadata": {},
   "outputs": [
    {
     "name": "stdout",
     "output_type": "stream",
     "text": [
      "   1   6   4  12   5   5   3   4   1  67   3   2   1   2   1   0   0   1   0   0   1   0   0   1   1     1\n",
      "   4  36   2  57   2   4   3   2   3  31   3   2   1   2   1   0   0   1   0   0   1   0   0   1   1     1\n",
      "   2  30   0  42   1   3   2   1   3  28   3   2   1   1   1   0   0   1   0   0   1   0   0   1   1     1\n",
      "   2  18   4  64   1   5   3   1   4  41   3   1   1   2   1   0   0   1   0   0   1   0   0   1   1     1\n",
      "   3  12   2  13   1   3   4   4   1  23   3   1   1   1   1   0   0   1   0   1   0   0   0   1   1     1\n",
      "                                                                                                        ..\n",
      "   1  24   2  42   1   3   3   4   2  28   3   1   1   1   1   0   0   1   0   0   1   0   0   1   1     1\n",
      "   2  10   2  15   1   3   1   2   3  31   3   1   1   1   1   0   0   1   0   0   1   0   1   0   1     1\n",
      "   2  24   4  57   1   2   2   4   4  24   3   2   1   2   1   0   0   1   0   0   0   0   0   1   1     1\n",
      "   1  21   2  36   1   4   2   4   3  26   3   1   1   1   1   0   0   1   0   1   0   0   1   0   1     1\n",
      "   2  45   4  46   2   1   3   4   3  27   3   1   1   1   1   0   1   1   0   0   1   0   0   1   1     1\n",
      "Name: 0, Length: 1000, dtype: int64\n",
      "-------\n"
     ]
    }
   ],
   "source": [
    "frequency = df[0].value_counts()\n",
    "print(frequency)\n",
    "print(\"-------\")"
   ]
  },
  {
   "cell_type": "code",
   "execution_count": 37,
   "id": "5f55d2ce",
   "metadata": {},
   "outputs": [
    {
     "name": "stdout",
     "output_type": "stream",
     "text": [
      "Int64Index([0], dtype='int64')\n",
      "(1000, 1)\n"
     ]
    }
   ],
   "source": [
    "print(df.columns)\n",
    "print(df.shape)"
   ]
  },
  {
   "cell_type": "code",
   "execution_count": 39,
   "id": "6b4cc486",
   "metadata": {},
   "outputs": [
    {
     "data": {
      "text/plain": [
       "0    object\n",
       "dtype: object"
      ]
     },
     "execution_count": 39,
     "metadata": {},
     "output_type": "execute_result"
    }
   ],
   "source": [
    "df.dtypes"
   ]
  },
  {
   "cell_type": "code",
   "execution_count": 41,
   "id": "1e193b92",
   "metadata": {},
   "outputs": [
    {
     "name": "stdout",
     "output_type": "stream",
     "text": [
      "<class 'pandas.core.frame.DataFrame'>\n",
      "RangeIndex: 1000 entries, 0 to 999\n",
      "Data columns (total 1 columns):\n",
      " #   Column  Non-Null Count  Dtype \n",
      "---  ------  --------------  ----- \n",
      " 0   0       1000 non-null   object\n",
      "dtypes: object(1)\n",
      "memory usage: 7.9+ KB\n"
     ]
    }
   ],
   "source": [
    "df.info()"
   ]
  },
  {
   "cell_type": "code",
   "execution_count": 42,
   "id": "6cfa374f",
   "metadata": {},
   "outputs": [],
   "source": [
    "# add this???\n",
    "# pd_data = pd.DataFrame(data,columns =[\"ID\", \"Clump Thickness\", \"Uniformity of Cell Size\", \"Uniformity of Cell Shape\",\n",
    "#                                      \"Marginal Adhesion\", \"Single Epithelial Cell Size\", \"Bare Nuclei\",\"Bland Chromatin\",\n",
    "#                                       \"Normal Nucleoli\", \"Mitoses\", \"Class\"])\n",
    "# pd_data.head()"
   ]
  },
  {
   "cell_type": "code",
   "execution_count": 30,
   "id": "d347e07d",
   "metadata": {},
   "outputs": [],
   "source": [
    "# plt.plot()\n",
    "# plt.ylabel('Frequency')\n",
    "# plt.xlabel('Class')\n",
    "# plt.bar( (\"1\",\"0\"), frequency)\n",
    "# plt.suptitle(\"Distributation\")\n",
    "# plt.show()"
   ]
  },
  {
   "cell_type": "code",
   "execution_count": 7,
   "id": "3120a106",
   "metadata": {
    "scrolled": true
   },
   "outputs": [],
   "source": [
    "# sns.pairplot(df, hue=\"Class\")\n",
    "# print(\"ok\")"
   ]
  },
  {
   "cell_type": "code",
   "execution_count": 44,
   "id": "de5a2b29",
   "metadata": {},
   "outputs": [],
   "source": [
    "# plt.figure(figsize=(17,17))\n",
    "# sns.heatmap(df.corr(), annot =True)"
   ]
  },
  {
   "cell_type": "markdown",
   "id": "72c21539",
   "metadata": {},
   "source": [
    "### Defining Dictionary of Models"
   ]
  },
  {
   "cell_type": "code",
   "execution_count": 43,
   "id": "afec7821",
   "metadata": {},
   "outputs": [],
   "source": [
    "MODELS = {'logistic_r', 'svc', 'tree', 'forest', 'knn', 'adaboost', 'gnb', 'nn'}\n",
    "german_credit_data_dict = {}    "
   ]
  },
  {
   "cell_type": "markdown",
   "id": "43d59101",
   "metadata": {},
   "source": [
    "## Train and Test set"
   ]
  },
  {
   "cell_type": "code",
   "execution_count": 45,
   "id": "f4eed83b",
   "metadata": {},
   "outputs": [],
   "source": [
    "x = df.iloc[:,:-1]\n",
    "# y = df.Class.apply(lambda x: pd.to_numeric(str(x)[2]))\n",
    "y = df.iloc[:,-1:]"
   ]
  },
  {
   "cell_type": "code",
   "execution_count": 46,
   "id": "b43cccb8",
   "metadata": {},
   "outputs": [],
   "source": [
    "X_train, X_test, y_train, y_test = train_test_split(x, y, test_size=0.2, random_state=0)\n",
    "\n",
    "y_train = y_train.to_numpy().reshape(-1)\n",
    "y_test = y_test.to_numpy().reshape(-1)"
   ]
  },
  {
   "cell_type": "code",
   "execution_count": 47,
   "id": "4a01157d",
   "metadata": {
    "scrolled": true
   },
   "outputs": [
    {
     "ename": "ValueError",
     "evalue": "at least one array or dtype is required",
     "output_type": "error",
     "traceback": [
      "\u001b[0;31m---------------------------------------------------------------------------\u001b[0m",
      "\u001b[0;31mValueError\u001b[0m                                Traceback (most recent call last)",
      "\u001b[0;32m/var/folders/qm/kfl5df0x3xq2x8b5xc9ngp_40000gn/T/ipykernel_40242/2531297668.py\u001b[0m in \u001b[0;36m<module>\u001b[0;34m\u001b[0m\n\u001b[1;32m      1\u001b[0m \u001b[0mStScale\u001b[0m \u001b[0;34m=\u001b[0m \u001b[0mStandardScaler\u001b[0m\u001b[0;34m(\u001b[0m\u001b[0;34m)\u001b[0m\u001b[0;34m\u001b[0m\u001b[0;34m\u001b[0m\u001b[0m\n\u001b[0;32m----> 2\u001b[0;31m \u001b[0mX_train\u001b[0m \u001b[0;34m=\u001b[0m \u001b[0mStScale\u001b[0m\u001b[0;34m.\u001b[0m\u001b[0mfit_transform\u001b[0m\u001b[0;34m(\u001b[0m\u001b[0mX_train\u001b[0m\u001b[0;34m)\u001b[0m\u001b[0;34m\u001b[0m\u001b[0;34m\u001b[0m\u001b[0m\n\u001b[0m\u001b[1;32m      3\u001b[0m \u001b[0mX_test\u001b[0m \u001b[0;34m=\u001b[0m \u001b[0mStScale\u001b[0m\u001b[0;34m.\u001b[0m\u001b[0mtransform\u001b[0m\u001b[0;34m(\u001b[0m\u001b[0mX_test\u001b[0m\u001b[0;34m)\u001b[0m\u001b[0;34m\u001b[0m\u001b[0;34m\u001b[0m\u001b[0m\n",
      "\u001b[0;32m/Library/Frameworks/Python.framework/Versions/3.9/lib/python3.9/site-packages/sklearn/base.py\u001b[0m in \u001b[0;36mfit_transform\u001b[0;34m(self, X, y, **fit_params)\u001b[0m\n\u001b[1;32m    842\u001b[0m         \u001b[0;32mif\u001b[0m \u001b[0my\u001b[0m \u001b[0;32mis\u001b[0m \u001b[0;32mNone\u001b[0m\u001b[0;34m:\u001b[0m\u001b[0;34m\u001b[0m\u001b[0;34m\u001b[0m\u001b[0m\n\u001b[1;32m    843\u001b[0m             \u001b[0;31m# fit method of arity 1 (unsupervised transformation)\u001b[0m\u001b[0;34m\u001b[0m\u001b[0;34m\u001b[0m\u001b[0;34m\u001b[0m\u001b[0m\n\u001b[0;32m--> 844\u001b[0;31m             \u001b[0;32mreturn\u001b[0m \u001b[0mself\u001b[0m\u001b[0;34m.\u001b[0m\u001b[0mfit\u001b[0m\u001b[0;34m(\u001b[0m\u001b[0mX\u001b[0m\u001b[0;34m,\u001b[0m \u001b[0;34m**\u001b[0m\u001b[0mfit_params\u001b[0m\u001b[0;34m)\u001b[0m\u001b[0;34m.\u001b[0m\u001b[0mtransform\u001b[0m\u001b[0;34m(\u001b[0m\u001b[0mX\u001b[0m\u001b[0;34m)\u001b[0m\u001b[0;34m\u001b[0m\u001b[0;34m\u001b[0m\u001b[0m\n\u001b[0m\u001b[1;32m    845\u001b[0m         \u001b[0;32melse\u001b[0m\u001b[0;34m:\u001b[0m\u001b[0;34m\u001b[0m\u001b[0;34m\u001b[0m\u001b[0m\n\u001b[1;32m    846\u001b[0m             \u001b[0;31m# fit method of arity 2 (supervised transformation)\u001b[0m\u001b[0;34m\u001b[0m\u001b[0;34m\u001b[0m\u001b[0;34m\u001b[0m\u001b[0m\n",
      "\u001b[0;32m/Library/Frameworks/Python.framework/Versions/3.9/lib/python3.9/site-packages/sklearn/preprocessing/_data.py\u001b[0m in \u001b[0;36mfit\u001b[0;34m(self, X, y, sample_weight)\u001b[0m\n\u001b[1;32m    804\u001b[0m         \u001b[0;31m# Reset internal state before fitting\u001b[0m\u001b[0;34m\u001b[0m\u001b[0;34m\u001b[0m\u001b[0;34m\u001b[0m\u001b[0m\n\u001b[1;32m    805\u001b[0m         \u001b[0mself\u001b[0m\u001b[0;34m.\u001b[0m\u001b[0m_reset\u001b[0m\u001b[0;34m(\u001b[0m\u001b[0;34m)\u001b[0m\u001b[0;34m\u001b[0m\u001b[0;34m\u001b[0m\u001b[0m\n\u001b[0;32m--> 806\u001b[0;31m         \u001b[0;32mreturn\u001b[0m \u001b[0mself\u001b[0m\u001b[0;34m.\u001b[0m\u001b[0mpartial_fit\u001b[0m\u001b[0;34m(\u001b[0m\u001b[0mX\u001b[0m\u001b[0;34m,\u001b[0m \u001b[0my\u001b[0m\u001b[0;34m,\u001b[0m \u001b[0msample_weight\u001b[0m\u001b[0;34m)\u001b[0m\u001b[0;34m\u001b[0m\u001b[0;34m\u001b[0m\u001b[0m\n\u001b[0m\u001b[1;32m    807\u001b[0m \u001b[0;34m\u001b[0m\u001b[0m\n\u001b[1;32m    808\u001b[0m     \u001b[0;32mdef\u001b[0m \u001b[0mpartial_fit\u001b[0m\u001b[0;34m(\u001b[0m\u001b[0mself\u001b[0m\u001b[0;34m,\u001b[0m \u001b[0mX\u001b[0m\u001b[0;34m,\u001b[0m \u001b[0my\u001b[0m\u001b[0;34m=\u001b[0m\u001b[0;32mNone\u001b[0m\u001b[0;34m,\u001b[0m \u001b[0msample_weight\u001b[0m\u001b[0;34m=\u001b[0m\u001b[0;32mNone\u001b[0m\u001b[0;34m)\u001b[0m\u001b[0;34m:\u001b[0m\u001b[0;34m\u001b[0m\u001b[0;34m\u001b[0m\u001b[0m\n",
      "\u001b[0;32m/Library/Frameworks/Python.framework/Versions/3.9/lib/python3.9/site-packages/sklearn/preprocessing/_data.py\u001b[0m in \u001b[0;36mpartial_fit\u001b[0;34m(self, X, y, sample_weight)\u001b[0m\n\u001b[1;32m    839\u001b[0m         \"\"\"\n\u001b[1;32m    840\u001b[0m         \u001b[0mfirst_call\u001b[0m \u001b[0;34m=\u001b[0m \u001b[0;32mnot\u001b[0m \u001b[0mhasattr\u001b[0m\u001b[0;34m(\u001b[0m\u001b[0mself\u001b[0m\u001b[0;34m,\u001b[0m \u001b[0;34m\"n_samples_seen_\"\u001b[0m\u001b[0;34m)\u001b[0m\u001b[0;34m\u001b[0m\u001b[0;34m\u001b[0m\u001b[0m\n\u001b[0;32m--> 841\u001b[0;31m         X = self._validate_data(\n\u001b[0m\u001b[1;32m    842\u001b[0m             \u001b[0mX\u001b[0m\u001b[0;34m,\u001b[0m\u001b[0;34m\u001b[0m\u001b[0;34m\u001b[0m\u001b[0m\n\u001b[1;32m    843\u001b[0m             \u001b[0maccept_sparse\u001b[0m\u001b[0;34m=\u001b[0m\u001b[0;34m(\u001b[0m\u001b[0;34m\"csr\"\u001b[0m\u001b[0;34m,\u001b[0m \u001b[0;34m\"csc\"\u001b[0m\u001b[0;34m)\u001b[0m\u001b[0;34m,\u001b[0m\u001b[0;34m\u001b[0m\u001b[0;34m\u001b[0m\u001b[0m\n",
      "\u001b[0;32m/Library/Frameworks/Python.framework/Versions/3.9/lib/python3.9/site-packages/sklearn/base.py\u001b[0m in \u001b[0;36m_validate_data\u001b[0;34m(self, X, y, reset, validate_separately, **check_params)\u001b[0m\n\u001b[1;32m    555\u001b[0m             \u001b[0;32mraise\u001b[0m \u001b[0mValueError\u001b[0m\u001b[0;34m(\u001b[0m\u001b[0;34m\"Validation should be done on X, y or both.\"\u001b[0m\u001b[0;34m)\u001b[0m\u001b[0;34m\u001b[0m\u001b[0;34m\u001b[0m\u001b[0m\n\u001b[1;32m    556\u001b[0m         \u001b[0;32melif\u001b[0m \u001b[0;32mnot\u001b[0m \u001b[0mno_val_X\u001b[0m \u001b[0;32mand\u001b[0m \u001b[0mno_val_y\u001b[0m\u001b[0;34m:\u001b[0m\u001b[0;34m\u001b[0m\u001b[0;34m\u001b[0m\u001b[0m\n\u001b[0;32m--> 557\u001b[0;31m             \u001b[0mX\u001b[0m \u001b[0;34m=\u001b[0m \u001b[0mcheck_array\u001b[0m\u001b[0;34m(\u001b[0m\u001b[0mX\u001b[0m\u001b[0;34m,\u001b[0m \u001b[0;34m**\u001b[0m\u001b[0mcheck_params\u001b[0m\u001b[0;34m)\u001b[0m\u001b[0;34m\u001b[0m\u001b[0;34m\u001b[0m\u001b[0m\n\u001b[0m\u001b[1;32m    558\u001b[0m             \u001b[0mout\u001b[0m \u001b[0;34m=\u001b[0m \u001b[0mX\u001b[0m\u001b[0;34m\u001b[0m\u001b[0;34m\u001b[0m\u001b[0m\n\u001b[1;32m    559\u001b[0m         \u001b[0;32melif\u001b[0m \u001b[0mno_val_X\u001b[0m \u001b[0;32mand\u001b[0m \u001b[0;32mnot\u001b[0m \u001b[0mno_val_y\u001b[0m\u001b[0;34m:\u001b[0m\u001b[0;34m\u001b[0m\u001b[0;34m\u001b[0m\u001b[0m\n",
      "\u001b[0;32m/Library/Frameworks/Python.framework/Versions/3.9/lib/python3.9/site-packages/sklearn/utils/validation.py\u001b[0m in \u001b[0;36mcheck_array\u001b[0;34m(array, accept_sparse, accept_large_sparse, dtype, order, copy, force_all_finite, ensure_2d, allow_nd, ensure_min_samples, ensure_min_features, estimator)\u001b[0m\n\u001b[1;32m    655\u001b[0m \u001b[0;34m\u001b[0m\u001b[0m\n\u001b[1;32m    656\u001b[0m         \u001b[0;32mif\u001b[0m \u001b[0mall\u001b[0m\u001b[0;34m(\u001b[0m\u001b[0misinstance\u001b[0m\u001b[0;34m(\u001b[0m\u001b[0mdtype\u001b[0m\u001b[0;34m,\u001b[0m \u001b[0mnp\u001b[0m\u001b[0;34m.\u001b[0m\u001b[0mdtype\u001b[0m\u001b[0;34m)\u001b[0m \u001b[0;32mfor\u001b[0m \u001b[0mdtype\u001b[0m \u001b[0;32min\u001b[0m \u001b[0mdtypes_orig\u001b[0m\u001b[0;34m)\u001b[0m\u001b[0;34m:\u001b[0m\u001b[0;34m\u001b[0m\u001b[0;34m\u001b[0m\u001b[0m\n\u001b[0;32m--> 657\u001b[0;31m             \u001b[0mdtype_orig\u001b[0m \u001b[0;34m=\u001b[0m \u001b[0mnp\u001b[0m\u001b[0;34m.\u001b[0m\u001b[0mresult_type\u001b[0m\u001b[0;34m(\u001b[0m\u001b[0;34m*\u001b[0m\u001b[0mdtypes_orig\u001b[0m\u001b[0;34m)\u001b[0m\u001b[0;34m\u001b[0m\u001b[0;34m\u001b[0m\u001b[0m\n\u001b[0m\u001b[1;32m    658\u001b[0m \u001b[0;34m\u001b[0m\u001b[0m\n\u001b[1;32m    659\u001b[0m     \u001b[0;32mif\u001b[0m \u001b[0mdtype_numeric\u001b[0m\u001b[0;34m:\u001b[0m\u001b[0;34m\u001b[0m\u001b[0;34m\u001b[0m\u001b[0m\n",
      "\u001b[0;32m<__array_function__ internals>\u001b[0m in \u001b[0;36mresult_type\u001b[0;34m(*args, **kwargs)\u001b[0m\n",
      "\u001b[0;31mValueError\u001b[0m: at least one array or dtype is required"
     ]
    }
   ],
   "source": [
    "StScale = StandardScaler()\n",
    "X_train = StScale.fit_transform(X_train)\n",
    "X_test = StScale.transform(X_test)"
   ]
  },
  {
   "cell_type": "code",
   "execution_count": 74,
   "id": "1ebe78ad",
   "metadata": {},
   "outputs": [],
   "source": [
    "from tabulate import tabulate\n",
    "from sklearn.metrics import mean_squared_error\n",
    "from sklearn.metrics import r2_score\n",
    "\n",
    "def model_results(model):\n",
    "    table = [[\"Parameters / Metrics\", \"Tuned\"]]\n",
    "    curr_model = model['model']\n",
    "\n",
    "    if model['hyperparameters'] == 1:\n",
    "        for param in curr_model.best_params_:\n",
    "            table.append([param, curr_model.best_params_[param]])\n",
    "\n",
    "    prediction = curr_model.predict(X_test)\n",
    "    mse = mean_squared_error(y_test, prediction)\n",
    "    accuracy = accuracy_score(y_test, prediction)\n",
    "    weighted_f1 = f1_score(y_test, prediction, average='weighted')\n",
    "    macro_f1 = f1_score(y_test, prediction, average='macro')\n",
    "    \n",
    "    table.append(['Mean Squared Error', mse])\n",
    "    table.append(['Accuracy',accuracy])\n",
    "    table.append(['weighted_f1', weighted_f1])\n",
    "    table.append(['macro_f1',macro_f1])\n",
    "\n",
    "    print(tabulate(table, headers='firstrow', tablefmt='grid'))\n",
    "    \n",
    "    return prediction"
   ]
  },
  {
   "cell_type": "markdown",
   "id": "7f438bd3",
   "metadata": {},
   "source": [
    "## 1. LogisticRegression for Classification"
   ]
  },
  {
   "cell_type": "code",
   "execution_count": 75,
   "id": "c36c5393",
   "metadata": {},
   "outputs": [
    {
     "data": {
      "text/plain": [
       "LogisticRegression(random_state=0)"
      ]
     },
     "execution_count": 75,
     "metadata": {},
     "output_type": "execute_result"
    }
   ],
   "source": [
    "logistic_r = LogisticRegression(random_state=0)\n",
    "logistic_r.fit(X_train, y_train)"
   ]
  },
  {
   "cell_type": "markdown",
   "id": "e4ba1b2c",
   "metadata": {},
   "source": [
    "## LogisticRegression Analysis"
   ]
  },
  {
   "cell_type": "code",
   "execution_count": 76,
   "id": "d1ac921c",
   "metadata": {
    "scrolled": true
   },
   "outputs": [
    {
     "name": "stdout",
     "output_type": "stream",
     "text": [
      "+------------------------+----------+\n",
      "| Parameters / Metrics   |    Tuned |\n",
      "+========================+==========+\n",
      "| Mean Squared Error     | 0.285714 |\n",
      "+------------------------+----------+\n",
      "| Accuracy               | 0.714286 |\n",
      "+------------------------+----------+\n",
      "| weighted_f1            | 0.713375 |\n",
      "+------------------------+----------+\n",
      "| macro_f1               | 0.714152 |\n",
      "+------------------------+----------+\n"
     ]
    }
   ],
   "source": [
    "german_credit_data_dict['logistic_r'] = {'model':logistic_r, 'hyperparameters':0}\n",
    "lr_prediction = model_results(german_credit_data_dict['logistic_r'])"
   ]
  },
  {
   "cell_type": "code",
   "execution_count": 77,
   "id": "e1065e84",
   "metadata": {},
   "outputs": [
    {
     "name": "stdout",
     "output_type": "stream",
     "text": [
      "              precision    recall  f1-score   support\n",
      "\n",
      "           0       0.63      0.84      0.72       101\n",
      "           1       0.83      0.62      0.71       130\n",
      "\n",
      "    accuracy                           0.71       231\n",
      "   macro avg       0.73      0.73      0.71       231\n",
      "weighted avg       0.74      0.71      0.71       231\n",
      "\n",
      "[[85 16]\n",
      " [50 80]]\n"
     ]
    },
    {
     "data": {
      "image/png": "[encoded data removed]",
      "text/plain": [
       "<Figure size 432x288 with 2 Axes>"
      ]
     },
     "metadata": {
      "needs_background": "light"
     },
     "output_type": "display_data"
    }
   ],
   "source": [
    "print(classification_report(y_test, lr_prediction))\n",
    "print(confusion_matrix (y_test, lr_prediction))\n",
    "ConfusionMatrixDisplay.from_predictions(y_test, lr_prediction);"
   ]
  },
  {
   "cell_type": "markdown",
   "id": "1db62301",
   "metadata": {},
   "source": [
    "## 2. Support vector classification"
   ]
  },
  {
   "cell_type": "code",
   "execution_count": 78,
   "id": "5350fff9",
   "metadata": {},
   "outputs": [],
   "source": [
    "svc = SVC().fit(X_train, y_train)"
   ]
  },
  {
   "cell_type": "code",
   "execution_count": 79,
   "id": "15cf139f",
   "metadata": {},
   "outputs": [
    {
     "name": "stdout",
     "output_type": "stream",
     "text": [
      "Fitting 5 folds for each of 10 candidates, totalling 50 fits\n",
      "[CV 1/5; 1/10] START C=0.01, gamma=0.07.........................................\n",
      "[CV 1/5; 1/10] END ..........C=0.01, gamma=0.07;, score=0.527 total time=   0.0s\n",
      "[CV 2/5; 1/10] START C=0.01, gamma=0.07.........................................\n",
      "[CV 2/5; 1/10] END ..........C=0.01, gamma=0.07;, score=0.522 total time=   0.0s\n",
      "[CV 3/5; 1/10] START C=0.01, gamma=0.07.........................................\n",
      "[CV 3/5; 1/10] END ..........C=0.01, gamma=0.07;, score=0.522 total time=   0.0s\n",
      "[CV 4/5; 1/10] START C=0.01, gamma=0.07.........................................\n",
      "[CV 4/5; 1/10] END ..........C=0.01, gamma=0.07;, score=0.522 total time=   0.0s\n",
      "[CV 5/5; 1/10] START C=0.01, gamma=0.07.........................................\n",
      "[CV 5/5; 1/10] END ..........C=0.01, gamma=0.07;, score=0.522 total time=   0.0s\n",
      "[CV 1/5; 2/10] START C=250, gamma=0.01..........................................\n",
      "[CV 1/5; 2/10] END ...........C=250, gamma=0.01;, score=0.810 total time=   0.0s\n",
      "[CV 2/5; 2/10] START C=250, gamma=0.01..........................................\n",
      "[CV 2/5; 2/10] END ...........C=250, gamma=0.01;, score=0.777 total time=   0.0s\n",
      "[CV 3/5; 2/10] START C=250, gamma=0.01..........................................\n",
      "[CV 3/5; 2/10] END ...........C=250, gamma=0.01;, score=0.717 total time=   0.0s\n",
      "[CV 4/5; 2/10] START C=250, gamma=0.01..........................................\n",
      "[CV 4/5; 2/10] END ...........C=250, gamma=0.01;, score=0.772 total time=   0.0s\n",
      "[CV 5/5; 2/10] START C=250, gamma=0.01..........................................\n",
      "[CV 5/5; 2/10] END ...........C=250, gamma=0.01;, score=0.690 total time=   0.0s\n",
      "[CV 1/5; 3/10] START C=1, gamma=0.001...........................................\n",
      "[CV 1/5; 3/10] END ............C=1, gamma=0.001;, score=0.603 total time=   0.0s\n",
      "[CV 2/5; 3/10] START C=1, gamma=0.001...........................................\n",
      "[CV 2/5; 3/10] END ............C=1, gamma=0.001;, score=0.668 total time=   0.0s\n",
      "[CV 3/5; 3/10] START C=1, gamma=0.001...........................................\n",
      "[CV 3/5; 3/10] END ............C=1, gamma=0.001;, score=0.592 total time=   0.0s\n",
      "[CV 4/5; 3/10] START C=1, gamma=0.001...........................................\n",
      "[CV 4/5; 3/10] END ............C=1, gamma=0.001;, score=0.630 total time=   0.0s\n",
      "[CV 5/5; 3/10] START C=1, gamma=0.001...........................................\n",
      "[CV 5/5; 3/10] END ............C=1, gamma=0.001;, score=0.554 total time=   0.0s\n",
      "[CV 1/5; 4/10] START C=250, gamma=0.008.........................................\n",
      "[CV 1/5; 4/10] END ..........C=250, gamma=0.008;, score=0.810 total time=   0.0s\n",
      "[CV 2/5; 4/10] START C=250, gamma=0.008.........................................\n",
      "[CV 2/5; 4/10] END ..........C=250, gamma=0.008;, score=0.766 total time=   0.0s\n",
      "[CV 3/5; 4/10] START C=250, gamma=0.008.........................................\n",
      "[CV 3/5; 4/10] END ..........C=250, gamma=0.008;, score=0.717 total time=   0.0s\n",
      "[CV 4/5; 4/10] START C=250, gamma=0.008.........................................\n",
      "[CV 4/5; 4/10] END ..........C=250, gamma=0.008;, score=0.777 total time=   0.0s\n",
      "[CV 5/5; 4/10] START C=250, gamma=0.008.........................................\n",
      "[CV 5/5; 4/10] END ..........C=250, gamma=0.008;, score=0.717 total time=   0.0s\n",
      "[CV 1/5; 5/10] START C=10, gamma=0.05...........................................\n",
      "[CV 1/5; 5/10] END ............C=10, gamma=0.05;, score=0.772 total time=   0.0s\n",
      "[CV 2/5; 5/10] START C=10, gamma=0.05...........................................\n",
      "[CV 2/5; 5/10] END ............C=10, gamma=0.05;, score=0.712 total time=   0.0s\n",
      "[CV 3/5; 5/10] START C=10, gamma=0.05...........................................\n",
      "[CV 3/5; 5/10] END ............C=10, gamma=0.05;, score=0.723 total time=   0.0s\n",
      "[CV 4/5; 5/10] START C=10, gamma=0.05...........................................\n",
      "[CV 4/5; 5/10] END ............C=10, gamma=0.05;, score=0.734 total time=   0.0s\n",
      "[CV 5/5; 5/10] START C=10, gamma=0.05...........................................\n",
      "[CV 5/5; 5/10] END ............C=10, gamma=0.05;, score=0.685 total time=   0.0s\n",
      "[CV 1/5; 6/10] START C=50, gamma=0.009..........................................\n",
      "[CV 1/5; 6/10] END ...........C=50, gamma=0.009;, score=0.793 total time=   0.0s\n",
      "[CV 2/5; 6/10] START C=50, gamma=0.009..........................................\n",
      "[CV 2/5; 6/10] END ...........C=50, gamma=0.009;, score=0.728 total time=   0.0s\n",
      "[CV 3/5; 6/10] START C=50, gamma=0.009..........................................\n",
      "[CV 3/5; 6/10] END ...........C=50, gamma=0.009;, score=0.712 total time=   0.0s\n",
      "[CV 4/5; 6/10] START C=50, gamma=0.009..........................................\n",
      "[CV 4/5; 6/10] END ...........C=50, gamma=0.009;, score=0.761 total time=   0.0s\n",
      "[CV 5/5; 6/10] START C=50, gamma=0.009..........................................\n",
      "[CV 5/5; 6/10] END ...........C=50, gamma=0.009;, score=0.712 total time=   0.0s\n",
      "[CV 1/5; 7/10] START C=0.1, gamma=0.05..........................................\n",
      "[CV 1/5; 7/10] END ...........C=0.1, gamma=0.05;, score=0.647 total time=   0.0s\n",
      "[CV 2/5; 7/10] START C=0.1, gamma=0.05..........................................\n",
      "[CV 2/5; 7/10] END ...........C=0.1, gamma=0.05;, score=0.663 total time=   0.0s\n",
      "[CV 3/5; 7/10] START C=0.1, gamma=0.05..........................................\n",
      "[CV 3/5; 7/10] END ...........C=0.1, gamma=0.05;, score=0.603 total time=   0.0s\n",
      "[CV 4/5; 7/10] START C=0.1, gamma=0.05..........................................\n",
      "[CV 4/5; 7/10] END ...........C=0.1, gamma=0.05;, score=0.641 total time=   0.0s\n",
      "[CV 5/5; 7/10] START C=0.1, gamma=0.05..........................................\n",
      "[CV 5/5; 7/10] END ...........C=0.1, gamma=0.05;, score=0.587 total time=   0.0s\n",
      "[CV 1/5; 8/10] START C=170, gamma=0.001.........................................\n",
      "[CV 1/5; 8/10] END ..........C=170, gamma=0.001;, score=0.745 total time=   0.0s\n",
      "[CV 2/5; 8/10] START C=170, gamma=0.001.........................................\n",
      "[CV 2/5; 8/10] END ..........C=170, gamma=0.001;, score=0.712 total time=   0.0s\n",
      "[CV 3/5; 8/10] START C=170, gamma=0.001.........................................\n",
      "[CV 3/5; 8/10] END ..........C=170, gamma=0.001;, score=0.717 total time=   0.0s\n",
      "[CV 4/5; 8/10] START C=170, gamma=0.001.........................................\n",
      "[CV 4/5; 8/10] END ..........C=170, gamma=0.001;, score=0.750 total time=   0.0s\n",
      "[CV 5/5; 8/10] START C=170, gamma=0.001.........................................\n",
      "[CV 5/5; 8/10] END ..........C=170, gamma=0.001;, score=0.717 total time=   0.0s\n",
      "[CV 1/5; 9/10] START C=0.01, gamma=auto.........................................\n",
      "[CV 1/5; 9/10] END ..........C=0.01, gamma=auto;, score=0.527 total time=   0.0s\n",
      "[CV 2/5; 9/10] START C=0.01, gamma=auto.........................................\n",
      "[CV 2/5; 9/10] END ..........C=0.01, gamma=auto;, score=0.522 total time=   0.0s\n",
      "[CV 3/5; 9/10] START C=0.01, gamma=auto.........................................\n",
      "[CV 3/5; 9/10] END ..........C=0.01, gamma=auto;, score=0.522 total time=   0.0s\n",
      "[CV 4/5; 9/10] START C=0.01, gamma=auto.........................................\n",
      "[CV 4/5; 9/10] END ..........C=0.01, gamma=auto;, score=0.522 total time=   0.0s\n",
      "[CV 5/5; 9/10] START C=0.01, gamma=auto.........................................\n",
      "[CV 5/5; 9/10] END ..........C=0.01, gamma=auto;, score=0.522 total time=   0.0s\n",
      "[CV 1/5; 10/10] START C=200, gamma=0.07.........................................\n",
      "[CV 1/5; 10/10] END ..........C=200, gamma=0.07;, score=0.734 total time=   0.1s\n",
      "[CV 2/5; 10/10] START C=200, gamma=0.07.........................................\n",
      "[CV 2/5; 10/10] END ..........C=200, gamma=0.07;, score=0.685 total time=   0.1s\n",
      "[CV 3/5; 10/10] START C=200, gamma=0.07.........................................\n",
      "[CV 3/5; 10/10] END ..........C=200, gamma=0.07;, score=0.658 total time=   0.1s\n",
      "[CV 4/5; 10/10] START C=200, gamma=0.07.........................................\n",
      "[CV 4/5; 10/10] END ..........C=200, gamma=0.07;, score=0.685 total time=   0.1s\n",
      "[CV 5/5; 10/10] START C=200, gamma=0.07.........................................\n",
      "[CV 5/5; 10/10] END ..........C=200, gamma=0.07;, score=0.652 total time=   0.1s\n"
     ]
    },
    {
     "data": {
      "text/plain": [
       "{'gamma': 0.008, 'C': 250}"
      ]
     },
     "execution_count": 79,
     "metadata": {},
     "output_type": "execute_result"
    }
   ],
   "source": [
    "parameters = {\n",
    "    'C':[0.1,0.01, 0.001, 0.5,0.7,1,10,50, 100,150,170,180,190, 200,220, 250,300,1000],\n",
    "    'gamma': ['scale','auto',0.1, 0.01,0.02, 0.05, 0.03, 0.07, 0.001, 0.009, 0.008],\n",
    "}\n",
    "svc_model = RandomizedSearchCV(svc, parameters, verbose=10, random_state=0).fit(X_train, y_train)\n",
    "svc_model.best_params_"
   ]
  },
  {
   "cell_type": "code",
   "execution_count": 80,
   "id": "19741eca",
   "metadata": {},
   "outputs": [
    {
     "data": {
      "text/plain": [
       "SVC(C=250, gamma=0.008)"
      ]
     },
     "execution_count": 80,
     "metadata": {},
     "output_type": "execute_result"
    }
   ],
   "source": [
    "svc_model.best_estimator_"
   ]
  },
  {
   "cell_type": "markdown",
   "id": "2873889f",
   "metadata": {},
   "source": [
    "## Support vector classification Analysis"
   ]
  },
  {
   "cell_type": "code",
   "execution_count": 81,
   "id": "069366ff",
   "metadata": {},
   "outputs": [
    {
     "name": "stdout",
     "output_type": "stream",
     "text": [
      "+------------------------+------------+\n",
      "| Parameters / Metrics   |      Tuned |\n",
      "+========================+============+\n",
      "| gamma                  |   0.008    |\n",
      "+------------------------+------------+\n",
      "| C                      | 250        |\n",
      "+------------------------+------------+\n",
      "| Mean Squared Error     |   0.268398 |\n",
      "+------------------------+------------+\n",
      "| Accuracy               |   0.731602 |\n",
      "+------------------------+------------+\n",
      "| weighted_f1            |   0.732206 |\n",
      "+------------------------+------------+\n",
      "| macro_f1               |   0.731476 |\n",
      "+------------------------+------------+\n"
     ]
    }
   ],
   "source": [
    "german_credit_data_dict['svc'] = {'model':svc_model, 'hyperparameters':1}\n",
    "svc_prediction = model_results(german_credit_data_dict['svc'])"
   ]
  },
  {
   "cell_type": "code",
   "execution_count": 82,
   "id": "fe8fb4b3",
   "metadata": {},
   "outputs": [
    {
     "name": "stdout",
     "output_type": "stream",
     "text": [
      "              precision    recall  f1-score   support\n",
      "\n",
      "           0       0.66      0.81      0.73       101\n",
      "           1       0.82      0.67      0.74       130\n",
      "\n",
      "    accuracy                           0.73       231\n",
      "   macro avg       0.74      0.74      0.73       231\n",
      "weighted avg       0.75      0.73      0.73       231\n",
      "\n",
      "[[82 19]\n",
      " [43 87]]\n"
     ]
    },
    {
     "data": {
      "image/png": "[encoded data removed]",
      "text/plain": [
       "<Figure size 432x288 with 2 Axes>"
      ]
     },
     "metadata": {
      "needs_background": "light"
     },
     "output_type": "display_data"
    }
   ],
   "source": [
    "print(classification_report(y_test, svc_prediction))\n",
    "print(confusion_matrix (y_test, svc_prediction))\n",
    "ConfusionMatrixDisplay.from_predictions(y_test, svc_prediction);"
   ]
  },
  {
   "cell_type": "markdown",
   "id": "1632c6c2",
   "metadata": {},
   "source": [
    "## Decision tree"
   ]
  },
  {
   "cell_type": "code",
   "execution_count": 83,
   "id": "896efa10",
   "metadata": {},
   "outputs": [],
   "source": [
    "tree = DecisionTreeClassifier().fit(X_train, y_train)"
   ]
  },
  {
   "cell_type": "code",
   "execution_count": 84,
   "id": "52171e0d",
   "metadata": {},
   "outputs": [
    {
     "name": "stdout",
     "output_type": "stream",
     "text": [
      "Fitting 5 folds for each of 20 candidates, totalling 100 fits\n"
     ]
    },
    {
     "data": {
      "text/plain": [
       "{'max_depth': 55.88135039273247, 'min_samples_split': 0.7151893663724195}"
      ]
     },
     "execution_count": 84,
     "metadata": {},
     "output_type": "execute_result"
    }
   ],
   "source": [
    "parameters = {\n",
    "    'max_depth': scipy.stats.uniform(1, 100),\n",
    "    'min_samples_split': scipy.stats.uniform(0, 1) \n",
    "}\n",
    "tree_model = RandomizedSearchCV(tree, parameters, verbose=1, n_iter=20, random_state=0).fit(X_train, y_train)\n",
    "tree_model.best_params_"
   ]
  },
  {
   "cell_type": "markdown",
   "id": "b815c235",
   "metadata": {},
   "source": [
    "## Decision tree Analysis"
   ]
  },
  {
   "cell_type": "code",
   "execution_count": 85,
   "id": "49d69d2a",
   "metadata": {},
   "outputs": [
    {
     "name": "stdout",
     "output_type": "stream",
     "text": [
      "+------------------------+-----------+\n",
      "| Parameters / Metrics   |     Tuned |\n",
      "+========================+===========+\n",
      "| max_depth              | 55.8814   |\n",
      "+------------------------+-----------+\n",
      "| min_samples_split      |  0.715189 |\n",
      "+------------------------+-----------+\n",
      "| Mean Squared Error     |  0.380952 |\n",
      "+------------------------+-----------+\n",
      "| Accuracy               |  0.619048 |\n",
      "+------------------------+-----------+\n",
      "| weighted_f1            |  0.606847 |\n",
      "+------------------------+-----------+\n",
      "| macro_f1               |  0.612947 |\n",
      "+------------------------+-----------+\n"
     ]
    }
   ],
   "source": [
    "german_credit_data_dict['tree'] = {'model':tree_model, 'hyperparameters':1}\n",
    "tree_prediction = model_results(german_credit_data_dict['tree'])"
   ]
  },
  {
   "cell_type": "code",
   "execution_count": 86,
   "id": "0efbc51e",
   "metadata": {},
   "outputs": [
    {
     "name": "stdout",
     "output_type": "stream",
     "text": [
      "              precision    recall  f1-score   support\n",
      "\n",
      "           0       0.54      0.85      0.66       101\n",
      "           1       0.79      0.44      0.56       130\n",
      "\n",
      "    accuracy                           0.62       231\n",
      "   macro avg       0.67      0.64      0.61       231\n",
      "weighted avg       0.68      0.62      0.61       231\n",
      "\n",
      "[[86 15]\n",
      " [73 57]]\n"
     ]
    },
    {
     "data": {
      "image/png": "[encoded data removed]",
      "text/plain": [
       "<Figure size 432x288 with 2 Axes>"
      ]
     },
     "metadata": {
      "needs_background": "light"
     },
     "output_type": "display_data"
    }
   ],
   "source": [
    "print(classification_report(y_test, tree_prediction))\n",
    "print(confusion_matrix (y_test, tree_prediction))\n",
    "ConfusionMatrixDisplay.from_predictions(y_test, tree_prediction);"
   ]
  },
  {
   "cell_type": "code",
   "execution_count": 87,
   "id": "35c9dfbc",
   "metadata": {},
   "outputs": [
    {
     "data": {
      "image/png": "[encoded data removed]",
      "text/plain": [
       "<Figure size 1512x1512 with 1 Axes>"
      ]
     },
     "metadata": {
      "needs_background": "light"
     },
     "output_type": "display_data"
    }
   ],
   "source": [
    "plt.figure(figsize=(21,21))\n",
    "plot_tree(tree_model.best_estimator_, max_depth = 2, fontsize=14);"
   ]
  },
  {
   "cell_type": "markdown",
   "id": "95b77efe",
   "metadata": {},
   "source": [
    "## Random Forest"
   ]
  },
  {
   "cell_type": "code",
   "execution_count": 18,
   "id": "94a5038d",
   "metadata": {},
   "outputs": [],
   "source": []
  },
  {
   "cell_type": "markdown",
   "id": "9bb754e2",
   "metadata": {},
   "source": [
    "## 5. K-nearest neighbours\n"
   ]
  },
  {
   "cell_type": "markdown",
   "id": "22612804",
   "metadata": {},
   "source": [
    "Fitting and hyperparameter search"
   ]
  },
  {
   "cell_type": "code",
   "execution_count": 90,
   "id": "d52fdc9b",
   "metadata": {},
   "outputs": [],
   "source": [
    "from sklearn import neighbors\n",
    "import sklearn\n",
    "import scipy\n",
    "\n",
    "knn = sklearn.neighbors.KNeighborsClassifier(n_jobs=-1)"
   ]
  },
  {
   "cell_type": "code",
   "execution_count": 91,
   "id": "15244e4d",
   "metadata": {},
   "outputs": [
    {
     "name": "stdout",
     "output_type": "stream",
     "text": [
      "Fitting 3 folds for each of 25 candidates, totalling 75 fits\n",
      "best Hyperparameters = {'leaf_size': 34.943976505948015, 'n_neighbors': 33, 'weights': 'distance'}\n"
     ]
    }
   ],
   "source": [
    "param_distribution = {'n_neighbors': range(1, 150), 'weights':['uniform', 'distance'], 'leaf_size': scipy.stats.uniform(1, 50)}\n",
    "knn_randomized = sklearn.model_selection.RandomizedSearchCV(knn, param_distribution, verbose=1, random_state=0, cv=3, n_iter=25).fit(X_train, y_train)\n",
    "\n",
    "print('best Hyperparameters = ' + str(knn_randomized.best_params_))"
   ]
  },
  {
   "cell_type": "code",
   "execution_count": 92,
   "id": "33a90334",
   "metadata": {},
   "outputs": [
    {
     "name": "stdout",
     "output_type": "stream",
     "text": [
      "+------------------------+---------------------+\n",
      "| Parameters / Metrics   | Tuned               |\n",
      "+========================+=====================+\n",
      "| leaf_size              | 34.943976505948015  |\n",
      "+------------------------+---------------------+\n",
      "| n_neighbors            | 33                  |\n",
      "+------------------------+---------------------+\n",
      "| weights                | distance            |\n",
      "+------------------------+---------------------+\n",
      "| Mean Squared Error     | 0.36796536796536794 |\n",
      "+------------------------+---------------------+\n",
      "| Accuracy               | 0.6320346320346321  |\n",
      "+------------------------+---------------------+\n",
      "| weighted_f1            | 0.6299910320399279  |\n",
      "+------------------------+---------------------+\n",
      "| macro_f1               | 0.6315927725763176  |\n",
      "+------------------------+---------------------+\n"
     ]
    }
   ],
   "source": [
    "german_credit_data_dict[\"knn\"] = {\"model\":knn_randomized, \"hyperparameters\":1}\n",
    "knn_prediction = model_results(german_credit_data_dict['knn'])"
   ]
  },
  {
   "cell_type": "code",
   "execution_count": 95,
   "id": "e214751d",
   "metadata": {},
   "outputs": [
    {
     "name": "stdout",
     "output_type": "stream",
     "text": [
      "              precision    recall  f1-score   support\n",
      "\n",
      "           0       0.56      0.76      0.64       101\n",
      "           1       0.74      0.53      0.62       130\n",
      "\n",
      "    accuracy                           0.63       231\n",
      "   macro avg       0.65      0.65      0.63       231\n",
      "weighted avg       0.66      0.63      0.63       231\n",
      "\n",
      "[[77 24]\n",
      " [61 69]]\n"
     ]
    },
    {
     "data": {
      "image/png": "[encoded data removed]",
      "text/plain": [
       "<Figure size 432x288 with 2 Axes>"
      ]
     },
     "metadata": {
      "needs_background": "light"
     },
     "output_type": "display_data"
    }
   ],
   "source": [
    "print(classification_report(y_test, knn_prediction))\n",
    "print(confusion_matrix (y_test, knn_prediction))\n",
    "ConfusionMatrixDisplay.from_predictions(y_test, knn_prediction);"
   ]
  },
  {
   "cell_type": "markdown",
   "id": "46140163",
   "metadata": {},
   "source": [
    "## 6. AdaBoost Classification"
   ]
  },
  {
   "cell_type": "markdown",
   "id": "c79474e9",
   "metadata": {},
   "source": [
    "Fitting and Hyperparameter search "
   ]
  },
  {
   "cell_type": "code",
   "execution_count": 96,
   "id": "f5fb4efb",
   "metadata": {},
   "outputs": [],
   "source": [
    "from sklearn.ensemble import AdaBoostClassifier\n",
    "\n",
    "adaBoost = AdaBoostClassifier().fit(X_train,y_train)"
   ]
  },
  {
   "cell_type": "code",
   "execution_count": 97,
   "id": "6cf7b68c",
   "metadata": {},
   "outputs": [
    {
     "name": "stdout",
     "output_type": "stream",
     "text": [
      "Fitting 5 folds for each of 50 candidates, totalling 250 fits\n",
      "Best Hyperparameters = {'learning_rate': 0.8948479182275986, 'n_estimators': 142}\n"
     ]
    }
   ],
   "source": [
    "param_distribution = {'n_estimators': range(1, 250), 'learning_rate': scipy.stats.uniform(.1, 5)}\n",
    "adaBoost_randomized = sklearn.model_selection.RandomizedSearchCV(adaBoost, param_distribution, verbose=1, random_state=0, cv=5, n_iter=50).fit(X_train, y_train)\n",
    "\n",
    "print('Best Hyperparameters = ' + str(adaBoost_randomized.best_params_))"
   ]
  },
  {
   "cell_type": "code",
   "execution_count": 98,
   "id": "765b5f1d",
   "metadata": {},
   "outputs": [
    {
     "name": "stdout",
     "output_type": "stream",
     "text": [
      "+------------------------+------------+\n",
      "| Parameters / Metrics   |      Tuned |\n",
      "+========================+============+\n",
      "| learning_rate          |   0.894848 |\n",
      "+------------------------+------------+\n",
      "| n_estimators           | 142        |\n",
      "+------------------------+------------+\n",
      "| Mean Squared Error     |   0.294372 |\n",
      "+------------------------+------------+\n",
      "| Accuracy               |   0.705628 |\n",
      "+------------------------+------------+\n",
      "| weighted_f1            |   0.706478 |\n",
      "+------------------------+------------+\n",
      "| macro_f1               |   0.705357 |\n",
      "+------------------------+------------+\n"
     ]
    }
   ],
   "source": [
    "german_credit_data_dict[\"adaboost\"] = {\"model\":adaBoost_randomized, \"hyperparameters\":1}\n",
    "adaboost_prediction = model_results(german_credit_data_dict['adaboost'])"
   ]
  },
  {
   "cell_type": "code",
   "execution_count": 99,
   "id": "8aaa1208",
   "metadata": {},
   "outputs": [
    {
     "name": "stdout",
     "output_type": "stream",
     "text": [
      "              precision    recall  f1-score   support\n",
      "\n",
      "           0       0.63      0.77      0.70       101\n",
      "           1       0.79      0.65      0.71       130\n",
      "\n",
      "    accuracy                           0.71       231\n",
      "   macro avg       0.71      0.71      0.71       231\n",
      "weighted avg       0.72      0.71      0.71       231\n",
      "\n",
      "[[78 23]\n",
      " [45 85]]\n"
     ]
    },
    {
     "data": {
      "image/png": "[encoded data removed]",
      "text/plain": [
       "<Figure size 432x288 with 2 Axes>"
      ]
     },
     "metadata": {
      "needs_background": "light"
     },
     "output_type": "display_data"
    }
   ],
   "source": [
    "print(classification_report(y_test, adaboost_prediction))\n",
    "print(confusion_matrix (y_test, adaboost_prediction))\n",
    "ConfusionMatrixDisplay.from_predictions(y_test, adaboost_prediction);"
   ]
  },
  {
   "cell_type": "markdown",
   "id": "40293cfd",
   "metadata": {},
   "source": [
    "## 7. Gaussian Naive Bayes classification"
   ]
  },
  {
   "cell_type": "code",
   "execution_count": 100,
   "id": "3d5a5812",
   "metadata": {},
   "outputs": [],
   "source": [
    "from sklearn.naive_bayes import GaussianNB\n",
    "\n",
    "naive_bayes = GaussianNB().fit(X_train, y_train)"
   ]
  },
  {
   "cell_type": "code",
   "execution_count": null,
   "id": "e3b90f6c",
   "metadata": {},
   "outputs": [],
   "source": [
    "# param_distribution = {'n_estimators': range(1, 150), 'learning_rate': scipy.stats.reciprocal(1, 5)}\n",
    "# adaBoost_randomized = sklearn.model_selection.RandomizedSearchCV(adaBoost, param_distribution, verbose=1, random_state=0, cv=3, n_iter=250).fit(X_train, y_train)\n",
    "# print('Best Hyperparameters = ' + str(knn_randomized.best_params_))"
   ]
  },
  {
   "cell_type": "code",
   "execution_count": 101,
   "id": "0eaa89c3",
   "metadata": {},
   "outputs": [
    {
     "name": "stdout",
     "output_type": "stream",
     "text": [
      "+------------------------+----------+\n",
      "| Parameters / Metrics   |    Tuned |\n",
      "+========================+==========+\n",
      "| Mean Squared Error     | 0.393939 |\n",
      "+------------------------+----------+\n",
      "| Accuracy               | 0.606061 |\n",
      "+------------------------+----------+\n",
      "| weighted_f1            | 0.607531 |\n",
      "+------------------------+----------+\n",
      "| macro_f1               | 0.603654 |\n",
      "+------------------------+----------+\n"
     ]
    }
   ],
   "source": [
    "german_credit_data_dict[\"gnb\"] = {\"model\":naive_bayes, \"hyperparameters\":0}\n",
    "naive_bayes_prediction = model_results(german_credit_data_dict['gnb'])"
   ]
  },
  {
   "cell_type": "code",
   "execution_count": 102,
   "id": "b56df286",
   "metadata": {},
   "outputs": [
    {
     "name": "stdout",
     "output_type": "stream",
     "text": [
      "              precision    recall  f1-score   support\n",
      "\n",
      "           0       0.54      0.60      0.57       101\n",
      "           1       0.66      0.61      0.63       130\n",
      "\n",
      "    accuracy                           0.61       231\n",
      "   macro avg       0.60      0.61      0.60       231\n",
      "weighted avg       0.61      0.61      0.61       231\n",
      "\n",
      "[[61 40]\n",
      " [51 79]]\n"
     ]
    },
    {
     "data": {
      "image/png": "[encoded data removed]",
      "text/plain": [
       "<Figure size 432x288 with 2 Axes>"
      ]
     },
     "metadata": {
      "needs_background": "light"
     },
     "output_type": "display_data"
    }
   ],
   "source": [
    "print(classification_report(y_test, naive_bayes_prediction))\n",
    "print(confusion_matrix (y_test, naive_bayes_prediction))\n",
    "ConfusionMatrixDisplay.from_predictions(y_test, naive_bayes_prediction);"
   ]
  },
  {
   "cell_type": "markdown",
   "id": "74cec67a",
   "metadata": {},
   "source": [
    "## 8. Neural Network classification"
   ]
  },
  {
   "cell_type": "code",
   "execution_count": 104,
   "id": "e08ee50a",
   "metadata": {},
   "outputs": [],
   "source": [
    "from sklearn.neural_network import MLPClassifier\n",
    "\n",
    "mlp = MLPClassifier(hidden_layer_sizes=900)"
   ]
  },
  {
   "cell_type": "code",
   "execution_count": 105,
   "id": "59bdbd1b",
   "metadata": {},
   "outputs": [
    {
     "name": "stdout",
     "output_type": "stream",
     "text": [
      "Fitting 3 folds for each of 25 candidates, totalling 75 fits\n",
      "Best Hyperparameters = {'leaf_size': 34.943976505948015, 'n_neighbors': 33, 'weights': 'distance'}\n"
     ]
    }
   ],
   "source": [
    "param_distribution = {'max_iter': range(1000, 1500),\n",
    "                        'alpha': scipy.stats.reciprocal(0.00001, 0.1), \n",
    "                        'learning_rate':['constant', 'invscaling', 'adaptive']}\n",
    "\n",
    "mlp_randomized = sklearn.model_selection.RandomizedSearchCV(mlp, param_distribution, verbose=1, random_state=0, cv=3, n_iter=25).fit(X_train, y_train)\n",
    "print('Best Hyperparameters = ' + str(knn_randomized.best_params_))"
   ]
  },
  {
   "cell_type": "code",
   "execution_count": 106,
   "id": "62db65d8",
   "metadata": {},
   "outputs": [
    {
     "name": "stdout",
     "output_type": "stream",
     "text": [
      "+------------------------+-----------------------+\n",
      "| Parameters / Metrics   | Tuned                 |\n",
      "+========================+=======================+\n",
      "| alpha                  | 0.0025766385746135885 |\n",
      "+------------------------+-----------------------+\n",
      "| learning_rate          | invscaling            |\n",
      "+------------------------+-----------------------+\n",
      "| max_iter               | 1211                  |\n",
      "+------------------------+-----------------------+\n",
      "| Mean Squared Error     | 0.26406926406926406   |\n",
      "+------------------------+-----------------------+\n",
      "| Accuracy               | 0.7359307359307359    |\n",
      "+------------------------+-----------------------+\n",
      "| weighted_f1            | 0.7354463625552913    |\n",
      "+------------------------+-----------------------+\n",
      "| macro_f1               | 0.7307640865926592    |\n",
      "+------------------------+-----------------------+\n"
     ]
    }
   ],
   "source": [
    "german_credit_data_dict[\"nn\"] = {\"model\":mlp_randomized, \"hyperparameters\":1}\n",
    "nn_prediction = model_results(german_credit_data_dict['nn'])"
   ]
  },
  {
   "cell_type": "code",
   "execution_count": 107,
   "id": "a37230f0",
   "metadata": {},
   "outputs": [
    {
     "name": "stdout",
     "output_type": "stream",
     "text": [
      "              precision    recall  f1-score   support\n",
      "\n",
      "           0       0.70      0.68      0.69       101\n",
      "           1       0.76      0.78      0.77       130\n",
      "\n",
      "    accuracy                           0.74       231\n",
      "   macro avg       0.73      0.73      0.73       231\n",
      "weighted avg       0.74      0.74      0.74       231\n",
      "\n",
      "[[ 69  32]\n",
      " [ 29 101]]\n"
     ]
    },
    {
     "data": {
      "image/png": "[encoded data removed]",
      "text/plain": [
       "<Figure size 432x288 with 2 Axes>"
      ]
     },
     "metadata": {
      "needs_background": "light"
     },
     "output_type": "display_data"
    }
   ],
   "source": [
    "print(classification_report(y_test, nn_prediction))\n",
    "print(confusion_matrix (y_test, nn_prediction))\n",
    "ConfusionMatrixDisplay.from_predictions(y_test, nn_prediction);"
   ]
  }
 ],
 "metadata": {
  "kernelspec": {
   "display_name": "Python 3 (ipykernel)",
   "language": "python",
   "name": "python3"
  },
  "language_info": {
   "codemirror_mode": {
    "name": "ipython",
    "version": 3
   },
   "file_extension": ".py",
   "mimetype": "text/x-python",
   "name": "python",
   "nbconvert_exporter": "python",
   "pygments_lexer": "ipython3",
   "version": "3.9.5"
  }
 },
 "nbformat": 4,
 "nbformat_minor": 5
}
