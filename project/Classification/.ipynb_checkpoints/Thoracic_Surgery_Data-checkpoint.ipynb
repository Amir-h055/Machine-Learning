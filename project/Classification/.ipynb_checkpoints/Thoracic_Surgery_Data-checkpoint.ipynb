{
 "cells": [
  {
   "cell_type": "markdown",
   "id": "e4f8386e",
   "metadata": {},
   "source": [
    "# Thoracic Surgery Data"
   ]
  },
  {
   "cell_type": "code",
   "execution_count": 103,
   "id": "1a319900",
   "metadata": {},
   "outputs": [],
   "source": [
    "import numpy as np\n",
    "import matplotlib.pyplot as plt\n",
    "import sklearn as sk\n",
    "import pandas as pd\n",
    "import scipy\n",
    "import seaborn as sns\n",
    "import math\n",
    "\n",
    "from scipy.io import arff\n",
    "from sklearn.model_selection import train_test_split, GridSearchCV, RandomizedSearchCV\n",
    "from sklearn.preprocessing import StandardScaler, LabelEncoder\n",
    "from sklearn.metrics import confusion_matrix,plot_confusion_matrix,ConfusionMatrixDisplay, classification_report,accuracy_score,f1_score\n",
    "\n",
    "\n",
    "from sklearn.linear_model import LogisticRegression\n",
    "from sklearn.svm import SVC\n",
    "from sklearn.tree import DecisionTreeClassifier, plot_tree\n",
    "\n",
    "# change the trees"
   ]
  },
  {
   "cell_type": "markdown",
   "id": "f73e41c8",
   "metadata": {},
   "source": [
    "## Loading Data"
   ]
  },
  {
   "cell_type": "code",
   "execution_count": 104,
   "id": "07c6cb99",
   "metadata": {},
   "outputs": [],
   "source": [
    "# Datset = arff.loadarff(\"datasets\\messidor_features\\messidor_features.arff\") \n",
    "Datset = arff.loadarff(\"/Users/annikatimermanis/Desktop/project/Classification/Classification_Datasets/7_Thoracic_Surgery_Data/thoracic_surgery_data.arff\") \n"
   ]
  },
  {
   "cell_type": "code",
   "execution_count": 105,
   "id": "c22e371a",
   "metadata": {},
   "outputs": [
    {
     "data": {
      "text/html": [
       "<div>\n",
       "<style scoped>\n",
       "    .dataframe tbody tr th:only-of-type {\n",
       "        vertical-align: middle;\n",
       "    }\n",
       "\n",
       "    .dataframe tbody tr th {\n",
       "        vertical-align: top;\n",
       "    }\n",
       "\n",
       "    .dataframe thead th {\n",
       "        text-align: right;\n",
       "    }\n",
       "</style>\n",
       "<table border=\"1\" class=\"dataframe\">\n",
       "  <thead>\n",
       "    <tr style=\"text-align: right;\">\n",
       "      <th></th>\n",
       "      <th>DGN</th>\n",
       "      <th>PRE4</th>\n",
       "      <th>PRE5</th>\n",
       "      <th>PRE6</th>\n",
       "      <th>PRE7</th>\n",
       "      <th>PRE8</th>\n",
       "      <th>PRE9</th>\n",
       "      <th>PRE10</th>\n",
       "      <th>PRE11</th>\n",
       "      <th>PRE14</th>\n",
       "      <th>PRE17</th>\n",
       "      <th>PRE19</th>\n",
       "      <th>PRE25</th>\n",
       "      <th>PRE30</th>\n",
       "      <th>PRE32</th>\n",
       "      <th>AGE</th>\n",
       "      <th>Risk1Yr</th>\n",
       "    </tr>\n",
       "  </thead>\n",
       "  <tbody>\n",
       "    <tr>\n",
       "      <th>0</th>\n",
       "      <td>b'DGN2'</td>\n",
       "      <td>2.88</td>\n",
       "      <td>2.16</td>\n",
       "      <td>b'PRZ1'</td>\n",
       "      <td>b'F'</td>\n",
       "      <td>b'F'</td>\n",
       "      <td>b'F'</td>\n",
       "      <td>b'T'</td>\n",
       "      <td>b'T'</td>\n",
       "      <td>b'OC14'</td>\n",
       "      <td>b'F'</td>\n",
       "      <td>b'F'</td>\n",
       "      <td>b'F'</td>\n",
       "      <td>b'T'</td>\n",
       "      <td>b'F'</td>\n",
       "      <td>60.0</td>\n",
       "      <td>b'F'</td>\n",
       "    </tr>\n",
       "    <tr>\n",
       "      <th>1</th>\n",
       "      <td>b'DGN3'</td>\n",
       "      <td>3.40</td>\n",
       "      <td>1.88</td>\n",
       "      <td>b'PRZ0'</td>\n",
       "      <td>b'F'</td>\n",
       "      <td>b'F'</td>\n",
       "      <td>b'F'</td>\n",
       "      <td>b'F'</td>\n",
       "      <td>b'F'</td>\n",
       "      <td>b'OC12'</td>\n",
       "      <td>b'F'</td>\n",
       "      <td>b'F'</td>\n",
       "      <td>b'F'</td>\n",
       "      <td>b'T'</td>\n",
       "      <td>b'F'</td>\n",
       "      <td>51.0</td>\n",
       "      <td>b'F'</td>\n",
       "    </tr>\n",
       "    <tr>\n",
       "      <th>2</th>\n",
       "      <td>b'DGN3'</td>\n",
       "      <td>2.76</td>\n",
       "      <td>2.08</td>\n",
       "      <td>b'PRZ1'</td>\n",
       "      <td>b'F'</td>\n",
       "      <td>b'F'</td>\n",
       "      <td>b'F'</td>\n",
       "      <td>b'T'</td>\n",
       "      <td>b'F'</td>\n",
       "      <td>b'OC11'</td>\n",
       "      <td>b'F'</td>\n",
       "      <td>b'F'</td>\n",
       "      <td>b'F'</td>\n",
       "      <td>b'T'</td>\n",
       "      <td>b'F'</td>\n",
       "      <td>59.0</td>\n",
       "      <td>b'F'</td>\n",
       "    </tr>\n",
       "    <tr>\n",
       "      <th>3</th>\n",
       "      <td>b'DGN3'</td>\n",
       "      <td>3.68</td>\n",
       "      <td>3.04</td>\n",
       "      <td>b'PRZ0'</td>\n",
       "      <td>b'F'</td>\n",
       "      <td>b'F'</td>\n",
       "      <td>b'F'</td>\n",
       "      <td>b'F'</td>\n",
       "      <td>b'F'</td>\n",
       "      <td>b'OC11'</td>\n",
       "      <td>b'F'</td>\n",
       "      <td>b'F'</td>\n",
       "      <td>b'F'</td>\n",
       "      <td>b'F'</td>\n",
       "      <td>b'F'</td>\n",
       "      <td>54.0</td>\n",
       "      <td>b'F'</td>\n",
       "    </tr>\n",
       "    <tr>\n",
       "      <th>4</th>\n",
       "      <td>b'DGN3'</td>\n",
       "      <td>2.44</td>\n",
       "      <td>0.96</td>\n",
       "      <td>b'PRZ2'</td>\n",
       "      <td>b'F'</td>\n",
       "      <td>b'T'</td>\n",
       "      <td>b'F'</td>\n",
       "      <td>b'T'</td>\n",
       "      <td>b'T'</td>\n",
       "      <td>b'OC11'</td>\n",
       "      <td>b'F'</td>\n",
       "      <td>b'F'</td>\n",
       "      <td>b'F'</td>\n",
       "      <td>b'T'</td>\n",
       "      <td>b'F'</td>\n",
       "      <td>73.0</td>\n",
       "      <td>b'T'</td>\n",
       "    </tr>\n",
       "  </tbody>\n",
       "</table>\n",
       "</div>"
      ],
      "text/plain": [
       "       DGN  PRE4  PRE5     PRE6  PRE7  PRE8  PRE9 PRE10 PRE11    PRE14 PRE17  \\\n",
       "0  b'DGN2'  2.88  2.16  b'PRZ1'  b'F'  b'F'  b'F'  b'T'  b'T'  b'OC14'  b'F'   \n",
       "1  b'DGN3'  3.40  1.88  b'PRZ0'  b'F'  b'F'  b'F'  b'F'  b'F'  b'OC12'  b'F'   \n",
       "2  b'DGN3'  2.76  2.08  b'PRZ1'  b'F'  b'F'  b'F'  b'T'  b'F'  b'OC11'  b'F'   \n",
       "3  b'DGN3'  3.68  3.04  b'PRZ0'  b'F'  b'F'  b'F'  b'F'  b'F'  b'OC11'  b'F'   \n",
       "4  b'DGN3'  2.44  0.96  b'PRZ2'  b'F'  b'T'  b'F'  b'T'  b'T'  b'OC11'  b'F'   \n",
       "\n",
       "  PRE19 PRE25 PRE30 PRE32   AGE Risk1Yr  \n",
       "0  b'F'  b'F'  b'T'  b'F'  60.0    b'F'  \n",
       "1  b'F'  b'F'  b'T'  b'F'  51.0    b'F'  \n",
       "2  b'F'  b'F'  b'T'  b'F'  59.0    b'F'  \n",
       "3  b'F'  b'F'  b'F'  b'F'  54.0    b'F'  \n",
       "4  b'F'  b'F'  b'T'  b'F'  73.0    b'T'  "
      ]
     },
     "execution_count": 105,
     "metadata": {},
     "output_type": "execute_result"
    }
   ],
   "source": [
    "df = pd.DataFrame(Datset[0])\n",
    "df.head()"
   ]
  },
  {
   "cell_type": "markdown",
   "id": "6fc2460f",
   "metadata": {},
   "source": [
    "## Data preparation and Analysis"
   ]
  },
  {
   "cell_type": "code",
   "execution_count": 106,
   "id": "73aad8ac",
   "metadata": {},
   "outputs": [
    {
     "name": "stdout",
     "output_type": "stream",
     "text": [
      "0\n"
     ]
    }
   ],
   "source": [
    "print(np.count_nonzero(Datset==np.nan))"
   ]
  },
  {
   "cell_type": "code",
   "execution_count": 107,
   "id": "8b045f43",
   "metadata": {},
   "outputs": [
    {
     "name": "stdout",
     "output_type": "stream",
     "text": [
      "b'F'    400\n",
      "b'T'     70\n",
      "Name: Risk1Yr, dtype: int64\n",
      "-------\n"
     ]
    }
   ],
   "source": [
    "frequency = df['Risk1Yr'].value_counts()\n",
    "print(frequency)\n",
    "print(\"-------\")"
   ]
  },
  {
   "cell_type": "code",
   "execution_count": 108,
   "id": "d347e07d",
   "metadata": {},
   "outputs": [
    {
     "data": {
      "image/png": "[encoded data removed]",
      "text/plain": [
       "<Figure size 432x288 with 1 Axes>"
      ]
     },
     "metadata": {
      "needs_background": "light"
     },
     "output_type": "display_data"
    }
   ],
   "source": [
    "plt.plot()\n",
    "plt.ylabel('Frequency')\n",
    "plt.xlabel('Class')\n",
    "plt.bar( (\"1\",\"0\"), frequency)\n",
    "plt.suptitle(\"Distributation\")\n",
    "plt.show()"
   ]
  },
  {
   "cell_type": "code",
   "execution_count": 109,
   "id": "58408227",
   "metadata": {},
   "outputs": [
    {
     "data": {
      "text/plain": [
       "DGN         object\n",
       "PRE4       float64\n",
       "PRE5       float64\n",
       "PRE6        object\n",
       "PRE7        object\n",
       "PRE8        object\n",
       "PRE9        object\n",
       "PRE10       object\n",
       "PRE11       object\n",
       "PRE14       object\n",
       "PRE17       object\n",
       "PRE19       object\n",
       "PRE25       object\n",
       "PRE30       object\n",
       "PRE32       object\n",
       "AGE        float64\n",
       "Risk1Yr     object\n",
       "dtype: object"
      ]
     },
     "execution_count": 109,
     "metadata": {},
     "output_type": "execute_result"
    }
   ],
   "source": [
    "df.dtypes"
   ]
  },
  {
   "cell_type": "code",
   "execution_count": 7,
   "id": "3120a106",
   "metadata": {
    "scrolled": true
   },
   "outputs": [],
   "source": [
    "# sns.pairplot(df, hue=\"Class\")\n",
    "# print(\"ok\")"
   ]
  },
  {
   "cell_type": "code",
   "execution_count": 44,
   "id": "de5a2b29",
   "metadata": {},
   "outputs": [],
   "source": [
    "# plt.figure(figsize=(17,17))\n",
    "# sns.heatmap(df.corr(), annot =True)"
   ]
  },
  {
   "cell_type": "code",
   "execution_count": 110,
   "id": "464a136f",
   "metadata": {},
   "outputs": [],
   "source": [
    "for column in df:\n",
    "    if df[column].dtypes != np.float64:\n",
    "        # if data in column is type string, we want to convert it to equivalent numerical labels\n",
    "        label_encoder = LabelEncoder()\n",
    "        integer_encoded = label_encoder.fit_transform(df[column])\n",
    "        df[column] = integer_encoded"
   ]
  },
  {
   "cell_type": "code",
   "execution_count": 58,
   "id": "036e2c52",
   "metadata": {},
   "outputs": [
    {
     "data": {
      "text/html": [
       "<div>\n",
       "<style scoped>\n",
       "    .dataframe tbody tr th:only-of-type {\n",
       "        vertical-align: middle;\n",
       "    }\n",
       "\n",
       "    .dataframe tbody tr th {\n",
       "        vertical-align: top;\n",
       "    }\n",
       "\n",
       "    .dataframe thead th {\n",
       "        text-align: right;\n",
       "    }\n",
       "</style>\n",
       "<table border=\"1\" class=\"dataframe\">\n",
       "  <thead>\n",
       "    <tr style=\"text-align: right;\">\n",
       "      <th></th>\n",
       "      <th>DGN</th>\n",
       "      <th>PRE4</th>\n",
       "      <th>PRE5</th>\n",
       "      <th>PRE6</th>\n",
       "      <th>PRE7</th>\n",
       "      <th>PRE8</th>\n",
       "      <th>PRE9</th>\n",
       "      <th>PRE10</th>\n",
       "      <th>PRE11</th>\n",
       "      <th>PRE14</th>\n",
       "      <th>PRE17</th>\n",
       "      <th>PRE19</th>\n",
       "      <th>PRE25</th>\n",
       "      <th>PRE30</th>\n",
       "      <th>PRE32</th>\n",
       "      <th>AGE</th>\n",
       "      <th>Risk1Yr</th>\n",
       "    </tr>\n",
       "  </thead>\n",
       "  <tbody>\n",
       "    <tr>\n",
       "      <th>0</th>\n",
       "      <td>1</td>\n",
       "      <td>2.88</td>\n",
       "      <td>2.16</td>\n",
       "      <td>1</td>\n",
       "      <td>0</td>\n",
       "      <td>0</td>\n",
       "      <td>0</td>\n",
       "      <td>1</td>\n",
       "      <td>1</td>\n",
       "      <td>3</td>\n",
       "      <td>0</td>\n",
       "      <td>0</td>\n",
       "      <td>0</td>\n",
       "      <td>1</td>\n",
       "      <td>0</td>\n",
       "      <td>60.0</td>\n",
       "      <td>0</td>\n",
       "    </tr>\n",
       "    <tr>\n",
       "      <th>1</th>\n",
       "      <td>2</td>\n",
       "      <td>3.40</td>\n",
       "      <td>1.88</td>\n",
       "      <td>0</td>\n",
       "      <td>0</td>\n",
       "      <td>0</td>\n",
       "      <td>0</td>\n",
       "      <td>0</td>\n",
       "      <td>0</td>\n",
       "      <td>1</td>\n",
       "      <td>0</td>\n",
       "      <td>0</td>\n",
       "      <td>0</td>\n",
       "      <td>1</td>\n",
       "      <td>0</td>\n",
       "      <td>51.0</td>\n",
       "      <td>0</td>\n",
       "    </tr>\n",
       "    <tr>\n",
       "      <th>2</th>\n",
       "      <td>2</td>\n",
       "      <td>2.76</td>\n",
       "      <td>2.08</td>\n",
       "      <td>1</td>\n",
       "      <td>0</td>\n",
       "      <td>0</td>\n",
       "      <td>0</td>\n",
       "      <td>1</td>\n",
       "      <td>0</td>\n",
       "      <td>0</td>\n",
       "      <td>0</td>\n",
       "      <td>0</td>\n",
       "      <td>0</td>\n",
       "      <td>1</td>\n",
       "      <td>0</td>\n",
       "      <td>59.0</td>\n",
       "      <td>0</td>\n",
       "    </tr>\n",
       "    <tr>\n",
       "      <th>3</th>\n",
       "      <td>2</td>\n",
       "      <td>3.68</td>\n",
       "      <td>3.04</td>\n",
       "      <td>0</td>\n",
       "      <td>0</td>\n",
       "      <td>0</td>\n",
       "      <td>0</td>\n",
       "      <td>0</td>\n",
       "      <td>0</td>\n",
       "      <td>0</td>\n",
       "      <td>0</td>\n",
       "      <td>0</td>\n",
       "      <td>0</td>\n",
       "      <td>0</td>\n",
       "      <td>0</td>\n",
       "      <td>54.0</td>\n",
       "      <td>0</td>\n",
       "    </tr>\n",
       "    <tr>\n",
       "      <th>4</th>\n",
       "      <td>2</td>\n",
       "      <td>2.44</td>\n",
       "      <td>0.96</td>\n",
       "      <td>2</td>\n",
       "      <td>0</td>\n",
       "      <td>1</td>\n",
       "      <td>0</td>\n",
       "      <td>1</td>\n",
       "      <td>1</td>\n",
       "      <td>0</td>\n",
       "      <td>0</td>\n",
       "      <td>0</td>\n",
       "      <td>0</td>\n",
       "      <td>1</td>\n",
       "      <td>0</td>\n",
       "      <td>73.0</td>\n",
       "      <td>1</td>\n",
       "    </tr>\n",
       "  </tbody>\n",
       "</table>\n",
       "</div>"
      ],
      "text/plain": [
       "   DGN  PRE4  PRE5  PRE6  PRE7  PRE8  PRE9  PRE10  PRE11  PRE14  PRE17  PRE19  \\\n",
       "0    1  2.88  2.16     1     0     0     0      1      1      3      0      0   \n",
       "1    2  3.40  1.88     0     0     0     0      0      0      1      0      0   \n",
       "2    2  2.76  2.08     1     0     0     0      1      0      0      0      0   \n",
       "3    2  3.68  3.04     0     0     0     0      0      0      0      0      0   \n",
       "4    2  2.44  0.96     2     0     1     0      1      1      0      0      0   \n",
       "\n",
       "   PRE25  PRE30  PRE32   AGE  Risk1Yr  \n",
       "0      0      1      0  60.0        0  \n",
       "1      0      1      0  51.0        0  \n",
       "2      0      1      0  59.0        0  \n",
       "3      0      0      0  54.0        0  \n",
       "4      0      1      0  73.0        1  "
      ]
     },
     "execution_count": 58,
     "metadata": {},
     "output_type": "execute_result"
    }
   ],
   "source": [
    "# .astype(int)\n",
    "df.head()"
   ]
  },
  {
   "cell_type": "code",
   "execution_count": 65,
   "id": "25987c23",
   "metadata": {},
   "outputs": [
    {
     "data": {
      "text/plain": [
       "DGN          int64\n",
       "PRE4       float64\n",
       "PRE5       float64\n",
       "PRE6         int64\n",
       "PRE7         int64\n",
       "PRE8         int64\n",
       "PRE9         int64\n",
       "PRE10        int64\n",
       "PRE11        int64\n",
       "PRE14        int64\n",
       "PRE17        int64\n",
       "PRE19        int64\n",
       "PRE25        int64\n",
       "PRE30        int64\n",
       "PRE32        int64\n",
       "AGE        float64\n",
       "Risk1Yr      int64\n",
       "dtype: object"
      ]
     },
     "execution_count": 65,
     "metadata": {},
     "output_type": "execute_result"
    }
   ],
   "source": [
    "df.dtypes"
   ]
  },
  {
   "cell_type": "markdown",
   "id": "72c21539",
   "metadata": {},
   "source": [
    "### Defining Dictionary of Models"
   ]
  },
  {
   "cell_type": "code",
   "execution_count": 66,
   "id": "afec7821",
   "metadata": {},
   "outputs": [],
   "source": [
    "MODELS = {'logistic_r', 'svc', 'tree', 'forest', 'knn', 'adaboost', 'gnb', 'nn'}\n",
    "thoracic_surgery_dict = {}    "
   ]
  },
  {
   "cell_type": "markdown",
   "id": "43d59101",
   "metadata": {},
   "source": [
    "## Train and Test set"
   ]
  },
  {
   "cell_type": "code",
   "execution_count": 67,
   "id": "f4eed83b",
   "metadata": {},
   "outputs": [],
   "source": [
    "x = df.iloc[:,:-1]\n",
    "y = df.iloc[:,-1:]\n",
    "# y = df.Class.apply(lambda x: pd.to_numeric(str(x)[2]))"
   ]
  },
  {
   "cell_type": "code",
   "execution_count": 68,
   "id": "b43cccb8",
   "metadata": {},
   "outputs": [],
   "source": [
    "X_train, X_test, y_train, y_test = train_test_split(x.astype(int), y.astype(int), test_size=0.2, random_state=0)\n",
    "\n",
    "y_train = y_train.to_numpy().reshape(-1)\n",
    "y_test = y_test.to_numpy().reshape(-1)"
   ]
  },
  {
   "cell_type": "code",
   "execution_count": 69,
   "id": "4a01157d",
   "metadata": {
    "scrolled": true
   },
   "outputs": [],
   "source": [
    "StScale = StandardScaler()\n",
    "X_train = StScale.fit_transform(X_train)\n",
    "X_test = StScale.transform(X_test)"
   ]
  },
  {
   "cell_type": "code",
   "execution_count": 70,
   "id": "1ebe78ad",
   "metadata": {},
   "outputs": [],
   "source": [
    "from tabulate import tabulate\n",
    "from sklearn.metrics import mean_squared_error\n",
    "from sklearn.metrics import r2_score\n",
    "\n",
    "def model_results(model):\n",
    "    table = [[\"Parameters / Metrics\", \"Tuned\"]]\n",
    "    curr_model = model['model']\n",
    "\n",
    "    if model['hyperparameters'] == 1:\n",
    "        for param in curr_model.best_params_:\n",
    "            table.append([param, curr_model.best_params_[param]])\n",
    "\n",
    "    prediction = curr_model.predict(X_test)\n",
    "    mse = mean_squared_error(y_test, prediction)\n",
    "    accuracy = accuracy_score(y_test, prediction)\n",
    "    weighted_f1 = f1_score(y_test, prediction, average='weighted')\n",
    "    macro_f1 = f1_score(y_test, prediction, average='macro')\n",
    "    \n",
    "    table.append(['Mean Squared Error', mse])\n",
    "    table.append(['Accuracy',accuracy])\n",
    "    table.append(['weighted_f1', weighted_f1])\n",
    "    table.append(['macro_f1',macro_f1])\n",
    "\n",
    "    print(tabulate(table, headers='firstrow', tablefmt='grid'))\n",
    "    \n",
    "    return prediction"
   ]
  },
  {
   "cell_type": "markdown",
   "id": "7f438bd3",
   "metadata": {},
   "source": [
    "## 1. LogisticRegression for Classification"
   ]
  },
  {
   "cell_type": "code",
   "execution_count": 71,
   "id": "c36c5393",
   "metadata": {},
   "outputs": [
    {
     "data": {
      "text/plain": [
       "LogisticRegression(random_state=0)"
      ]
     },
     "execution_count": 71,
     "metadata": {},
     "output_type": "execute_result"
    }
   ],
   "source": [
    "logistic_r = LogisticRegression(random_state=0)\n",
    "logistic_r.fit(X_train, y_train)"
   ]
  },
  {
   "cell_type": "markdown",
   "id": "e4ba1b2c",
   "metadata": {},
   "source": [
    "## LogisticRegression Analysis"
   ]
  },
  {
   "cell_type": "code",
   "execution_count": 73,
   "id": "d1ac921c",
   "metadata": {
    "scrolled": true
   },
   "outputs": [
    {
     "name": "stdout",
     "output_type": "stream",
     "text": [
      "+------------------------+----------+\n",
      "| Parameters / Metrics   |    Tuned |\n",
      "+========================+==========+\n",
      "| Mean Squared Error     | 0.191489 |\n",
      "+------------------------+----------+\n",
      "| Accuracy               | 0.808511 |\n",
      "+------------------------+----------+\n",
      "| weighted_f1            | 0.722904 |\n",
      "+------------------------+----------+\n",
      "| macro_f1               | 0.447059 |\n",
      "+------------------------+----------+\n"
     ]
    }
   ],
   "source": [
    "thoracic_surgery_dict['logistic_r'] = {'model':logistic_r, 'hyperparameters':0}\n",
    "lr_prediction = model_results(thoracic_surgery_dict['logistic_r'])"
   ]
  },
  {
   "cell_type": "code",
   "execution_count": 74,
   "id": "e1065e84",
   "metadata": {},
   "outputs": [
    {
     "name": "stderr",
     "output_type": "stream",
     "text": [
      "/Library/Frameworks/Python.framework/Versions/3.9/lib/python3.9/site-packages/sklearn/metrics/_classification.py:1308: UndefinedMetricWarning: Precision and F-score are ill-defined and being set to 0.0 in labels with no predicted samples. Use `zero_division` parameter to control this behavior.\n",
      "  _warn_prf(average, modifier, msg_start, len(result))\n",
      "/Library/Frameworks/Python.framework/Versions/3.9/lib/python3.9/site-packages/sklearn/metrics/_classification.py:1308: UndefinedMetricWarning: Precision and F-score are ill-defined and being set to 0.0 in labels with no predicted samples. Use `zero_division` parameter to control this behavior.\n",
      "  _warn_prf(average, modifier, msg_start, len(result))\n",
      "/Library/Frameworks/Python.framework/Versions/3.9/lib/python3.9/site-packages/sklearn/metrics/_classification.py:1308: UndefinedMetricWarning: Precision and F-score are ill-defined and being set to 0.0 in labels with no predicted samples. Use `zero_division` parameter to control this behavior.\n",
      "  _warn_prf(average, modifier, msg_start, len(result))\n"
     ]
    },
    {
     "name": "stdout",
     "output_type": "stream",
     "text": [
      "              precision    recall  f1-score   support\n",
      "\n",
      "           0       0.81      1.00      0.89        76\n",
      "           1       0.00      0.00      0.00        18\n",
      "\n",
      "    accuracy                           0.81        94\n",
      "   macro avg       0.40      0.50      0.45        94\n",
      "weighted avg       0.65      0.81      0.72        94\n",
      "\n",
      "[[76  0]\n",
      " [18  0]]\n"
     ]
    },
    {
     "data": {
      "image/png": "[encoded data removed]",
      "text/plain": [
       "<Figure size 432x288 with 2 Axes>"
      ]
     },
     "metadata": {
      "needs_background": "light"
     },
     "output_type": "display_data"
    }
   ],
   "source": [
    "print(classification_report(y_test, lr_prediction))\n",
    "print(confusion_matrix (y_test, lr_prediction))\n",
    "ConfusionMatrixDisplay.from_predictions(y_test, lr_prediction);"
   ]
  },
  {
   "cell_type": "markdown",
   "id": "1db62301",
   "metadata": {},
   "source": [
    "## 2. Support vector classification"
   ]
  },
  {
   "cell_type": "code",
   "execution_count": 75,
   "id": "5350fff9",
   "metadata": {},
   "outputs": [],
   "source": [
    "svc = SVC().fit(X_train, y_train)"
   ]
  },
  {
   "cell_type": "code",
   "execution_count": 76,
   "id": "15cf139f",
   "metadata": {
    "scrolled": true
   },
   "outputs": [
    {
     "name": "stdout",
     "output_type": "stream",
     "text": [
      "Fitting 5 folds for each of 10 candidates, totalling 50 fits\n",
      "[CV 1/5; 1/10] START C=0.01, gamma=0.07.........................................\n",
      "[CV 1/5; 1/10] END ..........C=0.01, gamma=0.07;, score=0.855 total time=   0.0s\n",
      "[CV 2/5; 1/10] START C=0.01, gamma=0.07.........................................\n",
      "[CV 2/5; 1/10] END ..........C=0.01, gamma=0.07;, score=0.867 total time=   0.0s\n",
      "[CV 3/5; 1/10] START C=0.01, gamma=0.07.........................................\n",
      "[CV 3/5; 1/10] END ..........C=0.01, gamma=0.07;, score=0.867 total time=   0.0s\n",
      "[CV 4/5; 1/10] START C=0.01, gamma=0.07.........................................\n",
      "[CV 4/5; 1/10] END ..........C=0.01, gamma=0.07;, score=0.867 total time=   0.0s\n",
      "[CV 5/5; 1/10] START C=0.01, gamma=0.07.........................................\n",
      "[CV 5/5; 1/10] END ..........C=0.01, gamma=0.07;, score=0.853 total time=   0.0s\n",
      "[CV 1/5; 2/10] START C=250, gamma=0.01..........................................\n",
      "[CV 1/5; 2/10] END ...........C=250, gamma=0.01;, score=0.803 total time=   0.0s\n",
      "[CV 2/5; 2/10] START C=250, gamma=0.01..........................................\n",
      "[CV 2/5; 2/10] END ...........C=250, gamma=0.01;, score=0.827 total time=   0.0s\n",
      "[CV 3/5; 2/10] START C=250, gamma=0.01..........................................\n",
      "[CV 3/5; 2/10] END ...........C=250, gamma=0.01;, score=0.853 total time=   0.0s\n",
      "[CV 4/5; 2/10] START C=250, gamma=0.01..........................................\n",
      "[CV 4/5; 2/10] END ...........C=250, gamma=0.01;, score=0.853 total time=   0.0s\n",
      "[CV 5/5; 2/10] START C=250, gamma=0.01..........................................\n",
      "[CV 5/5; 2/10] END ...........C=250, gamma=0.01;, score=0.813 total time=   0.0s\n",
      "[CV 1/5; 3/10] START C=1, gamma=0.001...........................................\n",
      "[CV 1/5; 3/10] END ............C=1, gamma=0.001;, score=0.855 total time=   0.0s\n",
      "[CV 2/5; 3/10] START C=1, gamma=0.001...........................................\n",
      "[CV 2/5; 3/10] END ............C=1, gamma=0.001;, score=0.867 total time=   0.0s\n",
      "[CV 3/5; 3/10] START C=1, gamma=0.001...........................................\n",
      "[CV 3/5; 3/10] END ............C=1, gamma=0.001;, score=0.867 total time=   0.0s\n",
      "[CV 4/5; 3/10] START C=1, gamma=0.001...........................................\n",
      "[CV 4/5; 3/10] END ............C=1, gamma=0.001;, score=0.867 total time=   0.0s\n",
      "[CV 5/5; 3/10] START C=1, gamma=0.001...........................................\n",
      "[CV 5/5; 3/10] END ............C=1, gamma=0.001;, score=0.853 total time=   0.0s\n",
      "[CV 1/5; 4/10] START C=250, gamma=0.008.........................................\n",
      "[CV 1/5; 4/10] END ..........C=250, gamma=0.008;, score=0.816 total time=   0.0s\n",
      "[CV 2/5; 4/10] START C=250, gamma=0.008.........................................\n",
      "[CV 2/5; 4/10] END ..........C=250, gamma=0.008;, score=0.827 total time=   0.0s\n",
      "[CV 3/5; 4/10] START C=250, gamma=0.008.........................................\n",
      "[CV 3/5; 4/10] END ..........C=250, gamma=0.008;, score=0.867 total time=   0.0s\n",
      "[CV 4/5; 4/10] START C=250, gamma=0.008.........................................\n",
      "[CV 4/5; 4/10] END ..........C=250, gamma=0.008;, score=0.853 total time=   0.0s\n",
      "[CV 5/5; 4/10] START C=250, gamma=0.008.........................................\n",
      "[CV 5/5; 4/10] END ..........C=250, gamma=0.008;, score=0.813 total time=   0.0s\n",
      "[CV 1/5; 5/10] START C=10, gamma=0.05...........................................\n",
      "[CV 1/5; 5/10] END ............C=10, gamma=0.05;, score=0.803 total time=   0.0s\n",
      "[CV 2/5; 5/10] START C=10, gamma=0.05...........................................\n",
      "[CV 2/5; 5/10] END ............C=10, gamma=0.05;, score=0.840 total time=   0.0s\n",
      "[CV 3/5; 5/10] START C=10, gamma=0.05...........................................\n",
      "[CV 3/5; 5/10] END ............C=10, gamma=0.05;, score=0.827 total time=   0.0s\n",
      "[CV 4/5; 5/10] START C=10, gamma=0.05...........................................\n",
      "[CV 4/5; 5/10] END ............C=10, gamma=0.05;, score=0.853 total time=   0.0s\n",
      "[CV 5/5; 5/10] START C=10, gamma=0.05...........................................\n",
      "[CV 5/5; 5/10] END ............C=10, gamma=0.05;, score=0.827 total time=   0.0s\n",
      "[CV 1/5; 6/10] START C=50, gamma=0.009..........................................\n",
      "[CV 1/5; 6/10] END ...........C=50, gamma=0.009;, score=0.829 total time=   0.0s\n",
      "[CV 2/5; 6/10] START C=50, gamma=0.009..........................................\n",
      "[CV 2/5; 6/10] END ...........C=50, gamma=0.009;, score=0.853 total time=   0.0s\n",
      "[CV 3/5; 6/10] START C=50, gamma=0.009..........................................\n",
      "[CV 3/5; 6/10] END ...........C=50, gamma=0.009;, score=0.853 total time=   0.0s\n",
      "[CV 4/5; 6/10] START C=50, gamma=0.009..........................................\n",
      "[CV 4/5; 6/10] END ...........C=50, gamma=0.009;, score=0.853 total time=   0.0s\n",
      "[CV 5/5; 6/10] START C=50, gamma=0.009..........................................\n",
      "[CV 5/5; 6/10] END ...........C=50, gamma=0.009;, score=0.813 total time=   0.0s\n",
      "[CV 1/5; 7/10] START C=0.1, gamma=0.05..........................................\n",
      "[CV 1/5; 7/10] END ...........C=0.1, gamma=0.05;, score=0.855 total time=   0.0s\n",
      "[CV 2/5; 7/10] START C=0.1, gamma=0.05..........................................\n",
      "[CV 2/5; 7/10] END ...........C=0.1, gamma=0.05;, score=0.867 total time=   0.0s\n",
      "[CV 3/5; 7/10] START C=0.1, gamma=0.05..........................................\n",
      "[CV 3/5; 7/10] END ...........C=0.1, gamma=0.05;, score=0.867 total time=   0.0s\n",
      "[CV 4/5; 7/10] START C=0.1, gamma=0.05..........................................\n",
      "[CV 4/5; 7/10] END ...........C=0.1, gamma=0.05;, score=0.867 total time=   0.0s\n",
      "[CV 5/5; 7/10] START C=0.1, gamma=0.05..........................................\n",
      "[CV 5/5; 7/10] END ...........C=0.1, gamma=0.05;, score=0.853 total time=   0.0s\n",
      "[CV 1/5; 8/10] START C=170, gamma=0.001.........................................\n",
      "[CV 1/5; 8/10] END ..........C=170, gamma=0.001;, score=0.855 total time=   0.0s\n",
      "[CV 2/5; 8/10] START C=170, gamma=0.001.........................................\n",
      "[CV 2/5; 8/10] END ..........C=170, gamma=0.001;, score=0.867 total time=   0.0s\n",
      "[CV 3/5; 8/10] START C=170, gamma=0.001.........................................\n",
      "[CV 3/5; 8/10] END ..........C=170, gamma=0.001;, score=0.867 total time=   0.0s\n",
      "[CV 4/5; 8/10] START C=170, gamma=0.001.........................................\n",
      "[CV 4/5; 8/10] END ..........C=170, gamma=0.001;, score=0.867 total time=   0.0s\n",
      "[CV 5/5; 8/10] START C=170, gamma=0.001.........................................\n",
      "[CV 5/5; 8/10] END ..........C=170, gamma=0.001;, score=0.853 total time=   0.0s\n",
      "[CV 1/5; 9/10] START C=0.01, gamma=auto.........................................\n",
      "[CV 1/5; 9/10] END ..........C=0.01, gamma=auto;, score=0.855 total time=   0.0s\n",
      "[CV 2/5; 9/10] START C=0.01, gamma=auto.........................................\n",
      "[CV 2/5; 9/10] END ..........C=0.01, gamma=auto;, score=0.867 total time=   0.0s\n",
      "[CV 3/5; 9/10] START C=0.01, gamma=auto.........................................\n",
      "[CV 3/5; 9/10] END ..........C=0.01, gamma=auto;, score=0.867 total time=   0.0s\n",
      "[CV 4/5; 9/10] START C=0.01, gamma=auto.........................................\n",
      "[CV 4/5; 9/10] END ..........C=0.01, gamma=auto;, score=0.867 total time=   0.0s\n",
      "[CV 5/5; 9/10] START C=0.01, gamma=auto.........................................\n",
      "[CV 5/5; 9/10] END ..........C=0.01, gamma=auto;, score=0.853 total time=   0.0s\n",
      "[CV 1/5; 10/10] START C=200, gamma=0.07.........................................\n",
      "[CV 1/5; 10/10] END ..........C=200, gamma=0.07;, score=0.803 total time=   0.0s\n",
      "[CV 2/5; 10/10] START C=200, gamma=0.07.........................................\n",
      "[CV 2/5; 10/10] END ..........C=200, gamma=0.07;, score=0.827 total time=   0.0s\n",
      "[CV 3/5; 10/10] START C=200, gamma=0.07.........................................\n",
      "[CV 3/5; 10/10] END ..........C=200, gamma=0.07;, score=0.747 total time=   0.0s\n",
      "[CV 4/5; 10/10] START C=200, gamma=0.07.........................................\n",
      "[CV 4/5; 10/10] END ..........C=200, gamma=0.07;, score=0.813 total time=   0.0s\n",
      "[CV 5/5; 10/10] START C=200, gamma=0.07.........................................\n",
      "[CV 5/5; 10/10] END ..........C=200, gamma=0.07;, score=0.853 total time=   0.0s\n"
     ]
    },
    {
     "data": {
      "text/plain": [
       "{'gamma': 0.07, 'C': 0.01}"
      ]
     },
     "execution_count": 76,
     "metadata": {},
     "output_type": "execute_result"
    }
   ],
   "source": [
    "parameters = {\n",
    "    'C':[0.1,0.01, 0.001, 0.5,0.7,1,10,50, 100,150,170,180,190, 200,220, 250,300,1000],\n",
    "    'gamma': ['scale','auto',0.1, 0.01,0.02, 0.05, 0.03, 0.07, 0.001, 0.009, 0.008],\n",
    "}\n",
    "svc_model = RandomizedSearchCV(svc, parameters, verbose=10, random_state=0).fit(X_train, y_train)\n",
    "svc_model.best_params_"
   ]
  },
  {
   "cell_type": "code",
   "execution_count": 77,
   "id": "19741eca",
   "metadata": {},
   "outputs": [
    {
     "data": {
      "text/plain": [
       "SVC(C=0.01, gamma=0.07)"
      ]
     },
     "execution_count": 77,
     "metadata": {},
     "output_type": "execute_result"
    }
   ],
   "source": [
    "svc_model.best_estimator_"
   ]
  },
  {
   "cell_type": "markdown",
   "id": "2873889f",
   "metadata": {},
   "source": [
    "## Support vector classification Analysis"
   ]
  },
  {
   "cell_type": "code",
   "execution_count": 78,
   "id": "069366ff",
   "metadata": {},
   "outputs": [
    {
     "name": "stdout",
     "output_type": "stream",
     "text": [
      "+------------------------+----------+\n",
      "| Parameters / Metrics   |    Tuned |\n",
      "+========================+==========+\n",
      "| gamma                  | 0.07     |\n",
      "+------------------------+----------+\n",
      "| C                      | 0.01     |\n",
      "+------------------------+----------+\n",
      "| Mean Squared Error     | 0.191489 |\n",
      "+------------------------+----------+\n",
      "| Accuracy               | 0.808511 |\n",
      "+------------------------+----------+\n",
      "| weighted_f1            | 0.722904 |\n",
      "+------------------------+----------+\n",
      "| macro_f1               | 0.447059 |\n",
      "+------------------------+----------+\n"
     ]
    }
   ],
   "source": [
    "thoracic_surgery_dict['svc'] = {'model':svc_model, 'hyperparameters':1}\n",
    "svc_prediction = model_results(thoracic_surgery_dict['svc'])"
   ]
  },
  {
   "cell_type": "code",
   "execution_count": 79,
   "id": "fe8fb4b3",
   "metadata": {},
   "outputs": [
    {
     "name": "stdout",
     "output_type": "stream",
     "text": [
      "              precision    recall  f1-score   support\n",
      "\n",
      "           0       0.81      1.00      0.89        76\n",
      "           1       0.00      0.00      0.00        18\n",
      "\n",
      "    accuracy                           0.81        94\n",
      "   macro avg       0.40      0.50      0.45        94\n",
      "weighted avg       0.65      0.81      0.72        94\n",
      "\n",
      "[[76  0]\n",
      " [18  0]]\n"
     ]
    },
    {
     "name": "stderr",
     "output_type": "stream",
     "text": [
      "/Library/Frameworks/Python.framework/Versions/3.9/lib/python3.9/site-packages/sklearn/metrics/_classification.py:1308: UndefinedMetricWarning: Precision and F-score are ill-defined and being set to 0.0 in labels with no predicted samples. Use `zero_division` parameter to control this behavior.\n",
      "  _warn_prf(average, modifier, msg_start, len(result))\n",
      "/Library/Frameworks/Python.framework/Versions/3.9/lib/python3.9/site-packages/sklearn/metrics/_classification.py:1308: UndefinedMetricWarning: Precision and F-score are ill-defined and being set to 0.0 in labels with no predicted samples. Use `zero_division` parameter to control this behavior.\n",
      "  _warn_prf(average, modifier, msg_start, len(result))\n",
      "/Library/Frameworks/Python.framework/Versions/3.9/lib/python3.9/site-packages/sklearn/metrics/_classification.py:1308: UndefinedMetricWarning: Precision and F-score are ill-defined and being set to 0.0 in labels with no predicted samples. Use `zero_division` parameter to control this behavior.\n",
      "  _warn_prf(average, modifier, msg_start, len(result))\n"
     ]
    },
    {
     "data": {
      "image/png": "[encoded data removed]",
      "text/plain": [
       "<Figure size 432x288 with 2 Axes>"
      ]
     },
     "metadata": {
      "needs_background": "light"
     },
     "output_type": "display_data"
    }
   ],
   "source": [
    "print(classification_report(y_test, svc_prediction))\n",
    "print(confusion_matrix (y_test, svc_prediction))\n",
    "ConfusionMatrixDisplay.from_predictions(y_test, svc_prediction);"
   ]
  },
  {
   "cell_type": "markdown",
   "id": "1632c6c2",
   "metadata": {},
   "source": [
    "## Decision tree"
   ]
  },
  {
   "cell_type": "code",
   "execution_count": 80,
   "id": "896efa10",
   "metadata": {},
   "outputs": [],
   "source": [
    "tree = DecisionTreeClassifier().fit(X_train, y_train)"
   ]
  },
  {
   "cell_type": "code",
   "execution_count": 81,
   "id": "52171e0d",
   "metadata": {},
   "outputs": [
    {
     "name": "stdout",
     "output_type": "stream",
     "text": [
      "Fitting 5 folds for each of 20 candidates, totalling 100 fits\n"
     ]
    },
    {
     "data": {
      "text/plain": [
       "{'max_depth': 8.103605819788694, 'min_samples_split': 0.08712929970154071}"
      ]
     },
     "execution_count": 81,
     "metadata": {},
     "output_type": "execute_result"
    }
   ],
   "source": [
    "parameters = {\n",
    "    'max_depth': scipy.stats.uniform(1, 100),\n",
    "    'min_samples_split': scipy.stats.uniform(0, 1) \n",
    "}\n",
    "tree_model = RandomizedSearchCV(tree, parameters, verbose=1, n_iter=20, random_state=0).fit(X_train, y_train)\n",
    "tree_model.best_params_"
   ]
  },
  {
   "cell_type": "markdown",
   "id": "b815c235",
   "metadata": {},
   "source": [
    "## Decision tree Analysis"
   ]
  },
  {
   "cell_type": "code",
   "execution_count": 82,
   "id": "49d69d2a",
   "metadata": {},
   "outputs": [
    {
     "name": "stdout",
     "output_type": "stream",
     "text": [
      "+------------------------+-----------+\n",
      "| Parameters / Metrics   |     Tuned |\n",
      "+========================+===========+\n",
      "| max_depth              | 8.10361   |\n",
      "+------------------------+-----------+\n",
      "| min_samples_split      | 0.0871293 |\n",
      "+------------------------+-----------+\n",
      "| Mean Squared Error     | 0.202128  |\n",
      "+------------------------+-----------+\n",
      "| Accuracy               | 0.797872  |\n",
      "+------------------------+-----------+\n",
      "| weighted_f1            | 0.717613  |\n",
      "+------------------------+-----------+\n",
      "| macro_f1               | 0.443787  |\n",
      "+------------------------+-----------+\n"
     ]
    }
   ],
   "source": [
    "thoracic_surgery_dict['tree'] = {'model':tree_model, 'hyperparameters':1}\n",
    "tree_prediction = model_results(thoracic_surgery_dict['tree'])"
   ]
  },
  {
   "cell_type": "code",
   "execution_count": 83,
   "id": "0efbc51e",
   "metadata": {},
   "outputs": [
    {
     "name": "stdout",
     "output_type": "stream",
     "text": [
      "              precision    recall  f1-score   support\n",
      "\n",
      "           0       0.81      0.99      0.89        76\n",
      "           1       0.00      0.00      0.00        18\n",
      "\n",
      "    accuracy                           0.80        94\n",
      "   macro avg       0.40      0.49      0.44        94\n",
      "weighted avg       0.65      0.80      0.72        94\n",
      "\n",
      "[[75  1]\n",
      " [18  0]]\n"
     ]
    },
    {
     "data": {
      "image/png": "[encoded data removed]",
      "text/plain": [
       "<Figure size 432x288 with 2 Axes>"
      ]
     },
     "metadata": {
      "needs_background": "light"
     },
     "output_type": "display_data"
    }
   ],
   "source": [
    "print(classification_report(y_test, tree_prediction))\n",
    "print(confusion_matrix (y_test, tree_prediction))\n",
    "ConfusionMatrixDisplay.from_predictions(y_test, tree_prediction);"
   ]
  },
  {
   "cell_type": "code",
   "execution_count": 84,
   "id": "35c9dfbc",
   "metadata": {},
   "outputs": [
    {
     "data": {
      "image/png": "[encoded data removed]",
      "text/plain": [
       "<Figure size 1512x1512 with 1 Axes>"
      ]
     },
     "metadata": {
      "needs_background": "light"
     },
     "output_type": "display_data"
    }
   ],
   "source": [
    "plt.figure(figsize=(21,21))\n",
    "plot_tree(tree_model.best_estimator_, max_depth = 2, fontsize=14);"
   ]
  },
  {
   "cell_type": "markdown",
   "id": "95b77efe",
   "metadata": {},
   "source": [
    "## Random Forest"
   ]
  },
  {
   "cell_type": "code",
   "execution_count": 18,
   "id": "94a5038d",
   "metadata": {},
   "outputs": [],
   "source": []
  },
  {
   "cell_type": "markdown",
   "id": "9bb754e2",
   "metadata": {},
   "source": [
    "## 5. K-nearest neighbours\n"
   ]
  },
  {
   "cell_type": "markdown",
   "id": "22612804",
   "metadata": {},
   "source": [
    "Fitting and hyperparameter search"
   ]
  },
  {
   "cell_type": "code",
   "execution_count": 85,
   "id": "d52fdc9b",
   "metadata": {},
   "outputs": [],
   "source": [
    "from sklearn import neighbors\n",
    "import sklearn\n",
    "import scipy\n",
    "\n",
    "knn = sklearn.neighbors.KNeighborsClassifier(n_jobs=-1)"
   ]
  },
  {
   "cell_type": "code",
   "execution_count": 86,
   "id": "15244e4d",
   "metadata": {},
   "outputs": [
    {
     "name": "stdout",
     "output_type": "stream",
     "text": [
      "Fitting 3 folds for each of 25 candidates, totalling 75 fits\n",
      "best Hyperparameters = {'leaf_size': 28.440675196366236, 'n_neighbors': 118, 'weights': 'uniform'}\n"
     ]
    }
   ],
   "source": [
    "param_distribution = {'n_neighbors': range(1, 150), 'weights':['uniform', 'distance'], 'leaf_size': scipy.stats.uniform(1, 50)}\n",
    "knn_randomized = sklearn.model_selection.RandomizedSearchCV(knn, param_distribution, verbose=1, random_state=0, cv=3, n_iter=25).fit(X_train, y_train)\n",
    "\n",
    "print('best Hyperparameters = ' + str(knn_randomized.best_params_))"
   ]
  },
  {
   "cell_type": "code",
   "execution_count": 87,
   "id": "33a90334",
   "metadata": {},
   "outputs": [
    {
     "name": "stdout",
     "output_type": "stream",
     "text": [
      "+------------------------+---------------------+\n",
      "| Parameters / Metrics   | Tuned               |\n",
      "+========================+=====================+\n",
      "| leaf_size              | 28.440675196366236  |\n",
      "+------------------------+---------------------+\n",
      "| n_neighbors            | 118                 |\n",
      "+------------------------+---------------------+\n",
      "| weights                | uniform             |\n",
      "+------------------------+---------------------+\n",
      "| Mean Squared Error     | 0.19148936170212766 |\n",
      "+------------------------+---------------------+\n",
      "| Accuracy               | 0.8085106382978723  |\n",
      "+------------------------+---------------------+\n",
      "| weighted_f1            | 0.7229036295369211  |\n",
      "+------------------------+---------------------+\n",
      "| macro_f1               | 0.44705882352941173 |\n",
      "+------------------------+---------------------+\n"
     ]
    }
   ],
   "source": [
    "thoracic_surgery_dict[\"knn\"] = {\"model\":knn_randomized, \"hyperparameters\":1}\n",
    "knn_prediction = model_results(thoracic_surgery_dict['knn'])"
   ]
  },
  {
   "cell_type": "code",
   "execution_count": 88,
   "id": "e214751d",
   "metadata": {},
   "outputs": [
    {
     "name": "stdout",
     "output_type": "stream",
     "text": [
      "              precision    recall  f1-score   support\n",
      "\n",
      "           0       0.81      1.00      0.89        76\n",
      "           1       0.00      0.00      0.00        18\n",
      "\n",
      "    accuracy                           0.81        94\n",
      "   macro avg       0.40      0.50      0.45        94\n",
      "weighted avg       0.65      0.81      0.72        94\n",
      "\n",
      "[[76  0]\n",
      " [18  0]]\n"
     ]
    },
    {
     "name": "stderr",
     "output_type": "stream",
     "text": [
      "/Library/Frameworks/Python.framework/Versions/3.9/lib/python3.9/site-packages/sklearn/metrics/_classification.py:1308: UndefinedMetricWarning: Precision and F-score are ill-defined and being set to 0.0 in labels with no predicted samples. Use `zero_division` parameter to control this behavior.\n",
      "  _warn_prf(average, modifier, msg_start, len(result))\n",
      "/Library/Frameworks/Python.framework/Versions/3.9/lib/python3.9/site-packages/sklearn/metrics/_classification.py:1308: UndefinedMetricWarning: Precision and F-score are ill-defined and being set to 0.0 in labels with no predicted samples. Use `zero_division` parameter to control this behavior.\n",
      "  _warn_prf(average, modifier, msg_start, len(result))\n",
      "/Library/Frameworks/Python.framework/Versions/3.9/lib/python3.9/site-packages/sklearn/metrics/_classification.py:1308: UndefinedMetricWarning: Precision and F-score are ill-defined and being set to 0.0 in labels with no predicted samples. Use `zero_division` parameter to control this behavior.\n",
      "  _warn_prf(average, modifier, msg_start, len(result))\n"
     ]
    },
    {
     "data": {
      "image/png": "[encoded data removed]",
      "text/plain": [
       "<Figure size 432x288 with 2 Axes>"
      ]
     },
     "metadata": {
      "needs_background": "light"
     },
     "output_type": "display_data"
    }
   ],
   "source": [
    "print(classification_report(y_test, knn_prediction))\n",
    "print(confusion_matrix (y_test, knn_prediction))\n",
    "ConfusionMatrixDisplay.from_predictions(y_test, knn_prediction);"
   ]
  },
  {
   "cell_type": "markdown",
   "id": "46140163",
   "metadata": {},
   "source": [
    "## 6. AdaBoost Classification"
   ]
  },
  {
   "cell_type": "markdown",
   "id": "c79474e9",
   "metadata": {},
   "source": [
    "Fitting and Hyperparameter search "
   ]
  },
  {
   "cell_type": "code",
   "execution_count": 89,
   "id": "f5fb4efb",
   "metadata": {},
   "outputs": [],
   "source": [
    "from sklearn.ensemble import AdaBoostClassifier\n",
    "\n",
    "adaBoost = AdaBoostClassifier().fit(X_train,y_train)"
   ]
  },
  {
   "cell_type": "code",
   "execution_count": 90,
   "id": "6cf7b68c",
   "metadata": {},
   "outputs": [
    {
     "name": "stdout",
     "output_type": "stream",
     "text": [
      "Fitting 5 folds for each of 50 candidates, totalling 250 fits\n",
      "Best Hyperparameters = {'learning_rate': 4.918313802505146, 'n_estimators': 59}\n"
     ]
    }
   ],
   "source": [
    "param_distribution = {'n_estimators': range(1, 250), 'learning_rate': scipy.stats.uniform(.1, 5)}\n",
    "adaBoost_randomized = sklearn.model_selection.RandomizedSearchCV(adaBoost, param_distribution, verbose=1, random_state=0, cv=5, n_iter=50).fit(X_train, y_train)\n",
    "\n",
    "print('Best Hyperparameters = ' + str(adaBoost_randomized.best_params_))"
   ]
  },
  {
   "cell_type": "code",
   "execution_count": 92,
   "id": "765b5f1d",
   "metadata": {},
   "outputs": [
    {
     "name": "stdout",
     "output_type": "stream",
     "text": [
      "+------------------------+-----------+\n",
      "| Parameters / Metrics   |     Tuned |\n",
      "+========================+===========+\n",
      "| learning_rate          |  4.91831  |\n",
      "+------------------------+-----------+\n",
      "| n_estimators           | 59        |\n",
      "+------------------------+-----------+\n",
      "| Mean Squared Error     |  0.202128 |\n",
      "+------------------------+-----------+\n",
      "| Accuracy               |  0.797872 |\n",
      "+------------------------+-----------+\n",
      "| weighted_f1            |  0.717613 |\n",
      "+------------------------+-----------+\n",
      "| macro_f1               |  0.443787 |\n",
      "+------------------------+-----------+\n"
     ]
    }
   ],
   "source": [
    "thoracic_surgery_dict[\"adaboost\"] = {\"model\":adaBoost_randomized, \"hyperparameters\":1}\n",
    "adaboost_prediction = model_results(thoracic_surgery_dict['adaboost'])"
   ]
  },
  {
   "cell_type": "code",
   "execution_count": 93,
   "id": "8aaa1208",
   "metadata": {},
   "outputs": [
    {
     "name": "stdout",
     "output_type": "stream",
     "text": [
      "              precision    recall  f1-score   support\n",
      "\n",
      "           0       0.81      0.99      0.89        76\n",
      "           1       0.00      0.00      0.00        18\n",
      "\n",
      "    accuracy                           0.80        94\n",
      "   macro avg       0.40      0.49      0.44        94\n",
      "weighted avg       0.65      0.80      0.72        94\n",
      "\n",
      "[[75  1]\n",
      " [18  0]]\n"
     ]
    },
    {
     "data": {
      "image/png": "[encoded data removed]",
      "text/plain": [
       "<Figure size 432x288 with 2 Axes>"
      ]
     },
     "metadata": {
      "needs_background": "light"
     },
     "output_type": "display_data"
    }
   ],
   "source": [
    "print(classification_report(y_test, adaboost_prediction))\n",
    "print(confusion_matrix (y_test, adaboost_prediction))\n",
    "ConfusionMatrixDisplay.from_predictions(y_test, adaboost_prediction);"
   ]
  },
  {
   "cell_type": "markdown",
   "id": "40293cfd",
   "metadata": {},
   "source": [
    "## 7. Gaussian Naive Bayes classification"
   ]
  },
  {
   "cell_type": "code",
   "execution_count": 94,
   "id": "3d5a5812",
   "metadata": {},
   "outputs": [],
   "source": [
    "from sklearn.naive_bayes import GaussianNB\n",
    "\n",
    "naive_bayes = GaussianNB().fit(X_train, y_train)"
   ]
  },
  {
   "cell_type": "code",
   "execution_count": null,
   "id": "e3b90f6c",
   "metadata": {},
   "outputs": [],
   "source": [
    "# param_distribution = {'n_estimators': range(1, 150), 'learning_rate': scipy.stats.reciprocal(1, 5)}\n",
    "# adaBoost_randomized = sklearn.model_selection.RandomizedSearchCV(adaBoost, param_distribution, verbose=1, random_state=0, cv=3, n_iter=250).fit(X_train, y_train)\n",
    "# print('Best Hyperparameters = ' + str(knn_randomized.best_params_))"
   ]
  },
  {
   "cell_type": "code",
   "execution_count": 96,
   "id": "0eaa89c3",
   "metadata": {},
   "outputs": [
    {
     "name": "stdout",
     "output_type": "stream",
     "text": [
      "+------------------------+----------+\n",
      "| Parameters / Metrics   |    Tuned |\n",
      "+========================+==========+\n",
      "| Mean Squared Error     | 0.797872 |\n",
      "+------------------------+----------+\n",
      "| Accuracy               | 0.202128 |\n",
      "+------------------------+----------+\n",
      "| weighted_f1            | 0.100668 |\n",
      "+------------------------+----------+\n",
      "| macro_f1               | 0.18128  |\n",
      "+------------------------+----------+\n"
     ]
    }
   ],
   "source": [
    "thoracic_surgery_dict[\"gnb\"] = {\"model\":naive_bayes, \"hyperparameters\":0}\n",
    "naive_bayes_prediction = model_results(thoracic_surgery_dict['gnb'])"
   ]
  },
  {
   "cell_type": "code",
   "execution_count": 97,
   "id": "b56df286",
   "metadata": {},
   "outputs": [
    {
     "name": "stdout",
     "output_type": "stream",
     "text": [
      "              precision    recall  f1-score   support\n",
      "\n",
      "           0       0.67      0.03      0.05        76\n",
      "           1       0.19      0.94      0.31        18\n",
      "\n",
      "    accuracy                           0.20        94\n",
      "   macro avg       0.43      0.49      0.18        94\n",
      "weighted avg       0.57      0.20      0.10        94\n",
      "\n",
      "[[ 2 74]\n",
      " [ 1 17]]\n"
     ]
    },
    {
     "data": {
      "image/png": "[encoded data removed]",
      "text/plain": [
       "<Figure size 432x288 with 2 Axes>"
      ]
     },
     "metadata": {
      "needs_background": "light"
     },
     "output_type": "display_data"
    }
   ],
   "source": [
    "print(classification_report(y_test, naive_bayes_prediction))\n",
    "print(confusion_matrix (y_test, naive_bayes_prediction))\n",
    "ConfusionMatrixDisplay.from_predictions(y_test, naive_bayes_prediction);"
   ]
  },
  {
   "cell_type": "markdown",
   "id": "74cec67a",
   "metadata": {},
   "source": [
    "## 8. Neural Network classification"
   ]
  },
  {
   "cell_type": "code",
   "execution_count": 98,
   "id": "e08ee50a",
   "metadata": {},
   "outputs": [],
   "source": [
    "from sklearn.neural_network import MLPClassifier\n",
    "\n",
    "mlp = MLPClassifier(hidden_layer_sizes=900)"
   ]
  },
  {
   "cell_type": "code",
   "execution_count": 99,
   "id": "59bdbd1b",
   "metadata": {},
   "outputs": [
    {
     "name": "stdout",
     "output_type": "stream",
     "text": [
      "Fitting 3 folds for each of 25 candidates, totalling 75 fits\n",
      "Best Hyperparameters = {'leaf_size': 28.440675196366236, 'n_neighbors': 118, 'weights': 'uniform'}\n"
     ]
    }
   ],
   "source": [
    "param_distribution = {'max_iter': range(1000, 1500),\n",
    "                        'alpha': scipy.stats.reciprocal(0.00001, 0.1), \n",
    "                        'learning_rate':['constant', 'invscaling', 'adaptive']}\n",
    "\n",
    "mlp_randomized = sklearn.model_selection.RandomizedSearchCV(mlp, param_distribution, verbose=1, random_state=0, cv=3, n_iter=25).fit(X_train, y_train)\n",
    "print('Best Hyperparameters = ' + str(knn_randomized.best_params_))"
   ]
  },
  {
   "cell_type": "code",
   "execution_count": 101,
   "id": "62db65d8",
   "metadata": {},
   "outputs": [
    {
     "name": "stdout",
     "output_type": "stream",
     "text": [
      "+------------------------+---------------------+\n",
      "| Parameters / Metrics   | Tuned               |\n",
      "+========================+=====================+\n",
      "| alpha                  | 0.05039489598671208 |\n",
      "+------------------------+---------------------+\n",
      "| learning_rate          | invscaling          |\n",
      "+------------------------+---------------------+\n",
      "| max_iter               | 1072                |\n",
      "+------------------------+---------------------+\n",
      "| Mean Squared Error     | 0.2127659574468085  |\n",
      "+------------------------+---------------------+\n",
      "| Accuracy               | 0.7872340425531915  |\n",
      "+------------------------+---------------------+\n",
      "| weighted_f1            | 0.7122593718338399  |\n",
      "+------------------------+---------------------+\n",
      "| macro_f1               | 0.44047619047619047 |\n",
      "+------------------------+---------------------+\n"
     ]
    }
   ],
   "source": [
    "thoracic_surgery_dict[\"nn\"] = {\"model\":mlp_randomized, \"hyperparameters\":1}\n",
    "nn_prediction = model_results(thoracic_surgery_dict['nn'])"
   ]
  },
  {
   "cell_type": "code",
   "execution_count": 102,
   "id": "a37230f0",
   "metadata": {},
   "outputs": [
    {
     "name": "stdout",
     "output_type": "stream",
     "text": [
      "              precision    recall  f1-score   support\n",
      "\n",
      "           0       0.80      0.97      0.88        76\n",
      "           1       0.00      0.00      0.00        18\n",
      "\n",
      "    accuracy                           0.79        94\n",
      "   macro avg       0.40      0.49      0.44        94\n",
      "weighted avg       0.65      0.79      0.71        94\n",
      "\n",
      "[[74  2]\n",
      " [18  0]]\n"
     ]
    },
    {
     "data": {
      "image/png": "[encoded data removed]",
      "text/plain": [
       "<Figure size 432x288 with 2 Axes>"
      ]
     },
     "metadata": {
      "needs_background": "light"
     },
     "output_type": "display_data"
    }
   ],
   "source": [
    "print(classification_report(y_test, nn_prediction))\n",
    "print(confusion_matrix (y_test, nn_prediction))\n",
    "ConfusionMatrixDisplay.from_predictions(y_test, nn_prediction);"
   ]
  }
 ],
 "metadata": {
  "kernelspec": {
   "display_name": "Python 3 (ipykernel)",
   "language": "python",
   "name": "python3"
  },
  "language_info": {
   "codemirror_mode": {
    "name": "ipython",
    "version": 3
   },
   "file_extension": ".py",
   "mimetype": "text/x-python",
   "name": "python",
   "nbconvert_exporter": "python",
   "pygments_lexer": "ipython3",
   "version": "3.9.5"
  }
 },
 "nbformat": 4,
 "nbformat_minor": 5
}
