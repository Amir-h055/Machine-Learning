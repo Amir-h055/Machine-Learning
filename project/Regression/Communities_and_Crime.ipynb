{
 "cells": [
  {
   "cell_type": "markdown",
   "id": "e4f8386e",
   "metadata": {},
   "source": [
    "# Communities_and_Crime"
   ]
  },
  {
   "cell_type": "code",
   "execution_count": 1,
   "id": "1a319900",
   "metadata": {},
   "outputs": [],
   "source": [
    "import numpy as np\n",
    "import matplotlib.pyplot as plt\n",
    "import sklearn as sk\n",
    "import pandas as pd\n",
    "import scipy\n",
    "import seaborn as sns\n",
    "import math\n",
    "import pickle\n",
    "\n",
    "from scipy.io import arff\n",
    "from sklearn.impute import SimpleImputer\n",
    "from sklearn.model_selection import train_test_split, GridSearchCV, RandomizedSearchCV, cross_val_score\n",
    "from sklearn.preprocessing import StandardScaler\n",
    "from sklearn.preprocessing import PolynomialFeatures\n",
    "from sklearn.metrics import (confusion_matrix,plot_confusion_matrix,\n",
    "                            ConfusionMatrixDisplay,accuracy_score,f1_score,\n",
    "                            mean_squared_error, mean_absolute_error, max_error,\n",
    "                            r2_score, explained_variance_score)\n",
    "\n",
    "from sklearn.linear_model import LinearRegression,LogisticRegression\n",
    "from sklearn.svm import SVR\n",
    "from sklearn.tree import DecisionTreeRegressor, plot_tree\n",
    "from sklearn.ensemble import RandomForestRegressor"
   ]
  },
  {
   "cell_type": "markdown",
   "id": "f73e41c8",
   "metadata": {},
   "source": [
    "## Loading Data"
   ]
  },
  {
   "cell_type": "code",
   "execution_count": 2,
   "id": "07c6cb99",
   "metadata": {},
   "outputs": [],
   "source": [
    "# Datset = pd.read_csv(\"datasets\\Diabetic_Retinopathy\\messidor_features.arff\") \n",
    "Datset = pd.read_csv('/Users/annikatimermanis/Desktop/project/Regression/Regression_Datasets/2_Communities_and_Crime/Communities_and_Crime.data', delimiter=',', header=None) \n"
   ]
  },
  {
   "cell_type": "code",
   "execution_count": 3,
   "id": "c22e371a",
   "metadata": {},
   "outputs": [
    {
     "data": {
      "text/html": [
       "<div>\n",
       "<style scoped>\n",
       "    .dataframe tbody tr th:only-of-type {\n",
       "        vertical-align: middle;\n",
       "    }\n",
       "\n",
       "    .dataframe tbody tr th {\n",
       "        vertical-align: top;\n",
       "    }\n",
       "\n",
       "    .dataframe thead th {\n",
       "        text-align: right;\n",
       "    }\n",
       "</style>\n",
       "<table border=\"1\" class=\"dataframe\">\n",
       "  <thead>\n",
       "    <tr style=\"text-align: right;\">\n",
       "      <th></th>\n",
       "      <th>0</th>\n",
       "      <th>1</th>\n",
       "      <th>2</th>\n",
       "      <th>3</th>\n",
       "      <th>4</th>\n",
       "      <th>5</th>\n",
       "      <th>6</th>\n",
       "      <th>7</th>\n",
       "      <th>8</th>\n",
       "      <th>9</th>\n",
       "      <th>...</th>\n",
       "      <th>118</th>\n",
       "      <th>119</th>\n",
       "      <th>120</th>\n",
       "      <th>121</th>\n",
       "      <th>122</th>\n",
       "      <th>123</th>\n",
       "      <th>124</th>\n",
       "      <th>125</th>\n",
       "      <th>126</th>\n",
       "      <th>127</th>\n",
       "    </tr>\n",
       "  </thead>\n",
       "  <tbody>\n",
       "    <tr>\n",
       "      <th>0</th>\n",
       "      <td>8</td>\n",
       "      <td>?</td>\n",
       "      <td>?</td>\n",
       "      <td>Lakewoodcity</td>\n",
       "      <td>1</td>\n",
       "      <td>0.19</td>\n",
       "      <td>0.33</td>\n",
       "      <td>0.02</td>\n",
       "      <td>0.90</td>\n",
       "      <td>0.12</td>\n",
       "      <td>...</td>\n",
       "      <td>0.12</td>\n",
       "      <td>0.26</td>\n",
       "      <td>0.20</td>\n",
       "      <td>0.06</td>\n",
       "      <td>0.04</td>\n",
       "      <td>0.9</td>\n",
       "      <td>0.5</td>\n",
       "      <td>0.32</td>\n",
       "      <td>0.14</td>\n",
       "      <td>0.20</td>\n",
       "    </tr>\n",
       "    <tr>\n",
       "      <th>1</th>\n",
       "      <td>53</td>\n",
       "      <td>?</td>\n",
       "      <td>?</td>\n",
       "      <td>Tukwilacity</td>\n",
       "      <td>1</td>\n",
       "      <td>0.00</td>\n",
       "      <td>0.16</td>\n",
       "      <td>0.12</td>\n",
       "      <td>0.74</td>\n",
       "      <td>0.45</td>\n",
       "      <td>...</td>\n",
       "      <td>0.02</td>\n",
       "      <td>0.12</td>\n",
       "      <td>0.45</td>\n",
       "      <td>?</td>\n",
       "      <td>?</td>\n",
       "      <td>?</td>\n",
       "      <td>?</td>\n",
       "      <td>0.00</td>\n",
       "      <td>?</td>\n",
       "      <td>0.67</td>\n",
       "    </tr>\n",
       "    <tr>\n",
       "      <th>2</th>\n",
       "      <td>24</td>\n",
       "      <td>?</td>\n",
       "      <td>?</td>\n",
       "      <td>Aberdeentown</td>\n",
       "      <td>1</td>\n",
       "      <td>0.00</td>\n",
       "      <td>0.42</td>\n",
       "      <td>0.49</td>\n",
       "      <td>0.56</td>\n",
       "      <td>0.17</td>\n",
       "      <td>...</td>\n",
       "      <td>0.01</td>\n",
       "      <td>0.21</td>\n",
       "      <td>0.02</td>\n",
       "      <td>?</td>\n",
       "      <td>?</td>\n",
       "      <td>?</td>\n",
       "      <td>?</td>\n",
       "      <td>0.00</td>\n",
       "      <td>?</td>\n",
       "      <td>0.43</td>\n",
       "    </tr>\n",
       "    <tr>\n",
       "      <th>3</th>\n",
       "      <td>34</td>\n",
       "      <td>5</td>\n",
       "      <td>81440</td>\n",
       "      <td>Willingborotownship</td>\n",
       "      <td>1</td>\n",
       "      <td>0.04</td>\n",
       "      <td>0.77</td>\n",
       "      <td>1.00</td>\n",
       "      <td>0.08</td>\n",
       "      <td>0.12</td>\n",
       "      <td>...</td>\n",
       "      <td>0.02</td>\n",
       "      <td>0.39</td>\n",
       "      <td>0.28</td>\n",
       "      <td>?</td>\n",
       "      <td>?</td>\n",
       "      <td>?</td>\n",
       "      <td>?</td>\n",
       "      <td>0.00</td>\n",
       "      <td>?</td>\n",
       "      <td>0.12</td>\n",
       "    </tr>\n",
       "    <tr>\n",
       "      <th>4</th>\n",
       "      <td>42</td>\n",
       "      <td>95</td>\n",
       "      <td>6096</td>\n",
       "      <td>Bethlehemtownship</td>\n",
       "      <td>1</td>\n",
       "      <td>0.01</td>\n",
       "      <td>0.55</td>\n",
       "      <td>0.02</td>\n",
       "      <td>0.95</td>\n",
       "      <td>0.09</td>\n",
       "      <td>...</td>\n",
       "      <td>0.04</td>\n",
       "      <td>0.09</td>\n",
       "      <td>0.02</td>\n",
       "      <td>?</td>\n",
       "      <td>?</td>\n",
       "      <td>?</td>\n",
       "      <td>?</td>\n",
       "      <td>0.00</td>\n",
       "      <td>?</td>\n",
       "      <td>0.03</td>\n",
       "    </tr>\n",
       "  </tbody>\n",
       "</table>\n",
       "<p>5 rows × 128 columns</p>\n",
       "</div>"
      ],
      "text/plain": [
       "   0   1      2                    3    4     5     6     7     8     9    \\\n",
       "0    8   ?      ?         Lakewoodcity    1  0.19  0.33  0.02  0.90  0.12   \n",
       "1   53   ?      ?          Tukwilacity    1  0.00  0.16  0.12  0.74  0.45   \n",
       "2   24   ?      ?         Aberdeentown    1  0.00  0.42  0.49  0.56  0.17   \n",
       "3   34   5  81440  Willingborotownship    1  0.04  0.77  1.00  0.08  0.12   \n",
       "4   42  95   6096    Bethlehemtownship    1  0.01  0.55  0.02  0.95  0.09   \n",
       "\n",
       "   ...   118   119   120   121   122  123  124   125   126   127  \n",
       "0  ...  0.12  0.26  0.20  0.06  0.04  0.9  0.5  0.32  0.14  0.20  \n",
       "1  ...  0.02  0.12  0.45     ?     ?    ?    ?  0.00     ?  0.67  \n",
       "2  ...  0.01  0.21  0.02     ?     ?    ?    ?  0.00     ?  0.43  \n",
       "3  ...  0.02  0.39  0.28     ?     ?    ?    ?  0.00     ?  0.12  \n",
       "4  ...  0.04  0.09  0.02     ?     ?    ?    ?  0.00     ?  0.03  \n",
       "\n",
       "[5 rows x 128 columns]"
      ]
     },
     "execution_count": 3,
     "metadata": {},
     "output_type": "execute_result"
    }
   ],
   "source": [
    "df = pd.DataFrame(Datset)\n",
    "df.head()"
   ]
  },
  {
   "cell_type": "markdown",
   "id": "6fc2460f",
   "metadata": {},
   "source": [
    "## Data Prepration And Analysis"
   ]
  },
  {
   "cell_type": "code",
   "execution_count": 4,
   "id": "73aad8ac",
   "metadata": {},
   "outputs": [
    {
     "name": "stdout",
     "output_type": "stream",
     "text": [
      "0\n"
     ]
    }
   ],
   "source": [
    "print(np.count_nonzero(Datset==np.nan))"
   ]
  },
  {
   "cell_type": "markdown",
   "id": "75e5c4dd",
   "metadata": {
    "scrolled": true
   },
   "source": [
    "### Defining Dictionary Of Models"
   ]
  },
  {
   "cell_type": "code",
   "execution_count": 5,
   "id": "de5a2b29",
   "metadata": {},
   "outputs": [],
   "source": [
    "# MODELS = {'linear_r', 'svr', 'decision_tree_r', 'random_forest_r', 'knn_r', 'adaboost_r', 'gaussian_process_r', 'neural_network_r'}\n",
    "MODELS = {'linear_r', 'svr', 'decision_tree_r', 'random_forest_r'}\n",
    "communities_and_crime_dict = {}  "
   ]
  },
  {
   "cell_type": "markdown",
   "id": "43d59101",
   "metadata": {},
   "source": [
    "## Train and Test set"
   ]
  },
  {
   "cell_type": "code",
   "execution_count": 6,
   "id": "f4eed83b",
   "metadata": {},
   "outputs": [],
   "source": [
    "df = df.drop(3, axis=1)\n",
    "x = df.iloc[:,:-1]\n",
    "y = df.iloc[:, -1:]"
   ]
  },
  {
   "cell_type": "code",
   "execution_count": 7,
   "id": "b43cccb8",
   "metadata": {},
   "outputs": [],
   "source": [
    "X_train, X_test, y_train, y_test = train_test_split(x, y, train_size=0.85, test_size=0.15, random_state=0)\n",
    "\n",
    "# change'?' to NaN for our training&testing sets\n",
    "X_train = X_train.replace('?', np.NaN)\n",
    "y_train = y_train.replace('?', np.NaN)\n",
    "X_test = X_test.replace('?', np.NaN)\n",
    "y_test = y_test.replace('?', np.NaN)\n",
    "# impute NaN values in our training&testing sets to the mean of corresponding column\n",
    "imp = SimpleImputer(missing_values=np.nan, strategy='mean')\n",
    "X_train = imp.fit_transform(X_train)\n",
    "y_train = imp.fit_transform(y_train)\n",
    "X_test = imp.fit_transform(X_test)\n",
    "y_test = imp.fit_transform(y_test)\n",
    "\n",
    "y_train = y_train.reshape(-1)\n",
    "y_test = y_test.reshape(-1)"
   ]
  },
  {
   "cell_type": "code",
   "execution_count": 8,
   "id": "4a01157d",
   "metadata": {
    "scrolled": true
   },
   "outputs": [],
   "source": [
    "StScale = StandardScaler()\n",
    "X_train = StScale.fit_transform(X_train)\n",
    "X_test = StScale.transform(X_test)"
   ]
  },
  {
   "cell_type": "code",
   "execution_count": 12,
   "id": "875aba76",
   "metadata": {},
   "outputs": [],
   "source": [
    "from tabulate import tabulate\n",
    "from sklearn.metrics import mean_squared_error,r2_score \n",
    "\n",
    "def model_results(model):\n",
    "    table = [[\"Parameters / Metrics\", \"Tuned\"]]\n",
    "    curr_model = model['model']\n",
    "    \n",
    "    if model['hyperparameters'] == 1:\n",
    "        for param in curr_model.best_params_:\n",
    "            table.append([param, curr_model.best_params_[param]])\n",
    "    \n",
    "    linear_r_predict = curr_model.predict(X_test)\n",
    "    mse = mean_squared_error(y_test, linear_r_predict)\n",
    "    model['mse'] = mse\n",
    "    r2 = r2_score(y_test, linear_r_predict)\n",
    "    model['r2'] = r2\n",
    "    table.append(['Mean Squarred Error', mse])\n",
    "    table.append(['r2 Score',r2])\n",
    "    \n",
    "    print(tabulate(table, headers='firstrow', tablefmt='grid'))"
   ]
  },
  {
   "cell_type": "markdown",
   "id": "a90d3d09",
   "metadata": {},
   "source": [
    "### Linear Regression"
   ]
  },
  {
   "cell_type": "code",
   "execution_count": 13,
   "id": "c36c5393",
   "metadata": {},
   "outputs": [],
   "source": [
    "linear_r = LinearRegression()\n",
    "linear_r.fit(X_train, y_train)\n",
    "\n",
    "communities_and_crime_dict['linear_r'] = {'model':linear_r, 'hyperparameters':0}"
   ]
  },
  {
   "cell_type": "markdown",
   "id": "e4ba1b2c",
   "metadata": {},
   "source": [
    "## Linear Regression Analysis"
   ]
  },
  {
   "cell_type": "code",
   "execution_count": 14,
   "id": "d1ac921c",
   "metadata": {
    "scrolled": true
   },
   "outputs": [
    {
     "name": "stdout",
     "output_type": "stream",
     "text": [
      "+------------------------+-----------+\n",
      "| Parameters / Metrics   |     Tuned |\n",
      "+========================+===========+\n",
      "| Mean Squarred Error    | 0.0181617 |\n",
      "+------------------------+-----------+\n",
      "| r2 Score               | 0.657734  |\n",
      "+------------------------+-----------+\n"
     ]
    }
   ],
   "source": [
    "model_results(communities_and_crime_dict['linear_r'])"
   ]
  },
  {
   "cell_type": "markdown",
   "id": "1db62301",
   "metadata": {},
   "source": [
    "## Support Vector Regression"
   ]
  },
  {
   "cell_type": "code",
   "execution_count": 27,
   "id": "5350fff9",
   "metadata": {},
   "outputs": [],
   "source": [
    "svr = SVR().fit(X_train, y_train)"
   ]
  },
  {
   "cell_type": "code",
   "execution_count": 28,
   "id": "15cf139f",
   "metadata": {},
   "outputs": [
    {
     "name": "stdout",
     "output_type": "stream",
     "text": [
      "Fitting 5 folds for each of 20 candidates, totalling 100 fits\n"
     ]
    },
    {
     "data": {
      "text/plain": [
       "{'C': 549.8135039273247, 'gamma': 715.1993663724195}"
      ]
     },
     "execution_count": 28,
     "metadata": {},
     "output_type": "execute_result"
    }
   ],
   "source": [
    "parameters = {\n",
    "    'C': scipy.stats.uniform(1, 1000), \n",
    "    'gamma': scipy.stats.uniform(0.01, 1000)\n",
    "}\n",
    "svr_model = RandomizedSearchCV(svr, parameters, verbose=1, n_iter=20, random_state=0).fit(X_train, y_train)\n",
    "svr_model.best_params_"
   ]
  },
  {
   "cell_type": "code",
   "execution_count": 29,
   "id": "19741eca",
   "metadata": {},
   "outputs": [
    {
     "data": {
      "text/plain": [
       "SVR(C=549.8135039273247, gamma=715.1993663724195)"
      ]
     },
     "execution_count": 29,
     "metadata": {},
     "output_type": "execute_result"
    }
   ],
   "source": [
    "svr_model.best_estimator_"
   ]
  },
  {
   "cell_type": "markdown",
   "id": "2873889f",
   "metadata": {},
   "source": [
    "## Support Vector Regression Analysis"
   ]
  },
  {
   "cell_type": "code",
   "execution_count": 30,
   "id": "069366ff",
   "metadata": {},
   "outputs": [
    {
     "name": "stdout",
     "output_type": "stream",
     "text": [
      "+------------------------+-------------+\n",
      "| Parameters / Metrics   |       Tuned |\n",
      "+========================+=============+\n",
      "| C                      | 549.814     |\n",
      "+------------------------+-------------+\n",
      "| gamma                  | 715.199     |\n",
      "+------------------------+-------------+\n",
      "| Mean Squarred Error    |   0.0547749 |\n",
      "+------------------------+-------------+\n",
      "| r2 Score               |  -0.0322573 |\n",
      "+------------------------+-------------+\n"
     ]
    }
   ],
   "source": [
    "communities_and_crime_dict['svr'] = {'model':svr_model, 'hyperparameters':1}\n",
    "model_results(communities_and_crime_dict['svr'])"
   ]
  },
  {
   "cell_type": "markdown",
   "id": "1632c6c2",
   "metadata": {},
   "source": [
    "## Decision Tree Regression"
   ]
  },
  {
   "cell_type": "code",
   "execution_count": 32,
   "id": "896efa10",
   "metadata": {},
   "outputs": [],
   "source": [
    "tree = DecisionTreeRegressor().fit(X_train, y_train)"
   ]
  },
  {
   "cell_type": "code",
   "execution_count": 33,
   "id": "16c31d4b",
   "metadata": {},
   "outputs": [
    {
     "name": "stdout",
     "output_type": "stream",
     "text": [
      "Fitting 5 folds for each of 20 candidates, totalling 100 fits\n"
     ]
    },
    {
     "data": {
      "text/plain": [
       "{'max_depth': 8.103605819788694, 'min_samples_split': 0.08712929970154071}"
      ]
     },
     "execution_count": 33,
     "metadata": {},
     "output_type": "execute_result"
    }
   ],
   "source": [
    "parameters = {\n",
    "    'max_depth': scipy.stats.uniform(1, 100),\n",
    "    'min_samples_split': scipy.stats.uniform(0, 1) \n",
    "}\n",
    "tree_model = RandomizedSearchCV(tree, parameters, verbose=1, n_iter=20, random_state=0).fit(X_train, y_train)\n",
    "tree_model.best_params_"
   ]
  },
  {
   "cell_type": "markdown",
   "id": "b815c235",
   "metadata": {},
   "source": [
    "## Decision tree Analysis"
   ]
  },
  {
   "cell_type": "code",
   "execution_count": 34,
   "id": "49d69d2a",
   "metadata": {},
   "outputs": [
    {
     "name": "stdout",
     "output_type": "stream",
     "text": [
      "+------------------------+-----------+\n",
      "| Parameters / Metrics   |     Tuned |\n",
      "+========================+===========+\n",
      "| max_depth              | 8.10361   |\n",
      "+------------------------+-----------+\n",
      "| min_samples_split      | 0.0871293 |\n",
      "+------------------------+-----------+\n",
      "| Mean Squarred Error    | 0.0243829 |\n",
      "+------------------------+-----------+\n",
      "| r2 Score               | 0.540494  |\n",
      "+------------------------+-----------+\n"
     ]
    }
   ],
   "source": [
    "communities_and_crime_dict['decision_tree_r'] = {'model':tree_model, 'hyperparameters':1}\n",
    "model_results(communities_and_crime_dict['decision_tree_r'])"
   ]
  },
  {
   "cell_type": "code",
   "execution_count": 35,
   "id": "35c9dfbc",
   "metadata": {},
   "outputs": [
    {
     "data": {
      "image/png": "[encoded data removed]",
      "text/plain": [
       "<Figure size 1512x1512 with 1 Axes>"
      ]
     },
     "metadata": {
      "needs_background": "light"
     },
     "output_type": "display_data"
    }
   ],
   "source": [
    "plt.figure(figsize=(21,21))\n",
    "plot_tree(tree, max_depth = 2, fontsize=14);"
   ]
  },
  {
   "cell_type": "markdown",
   "id": "95b77efe",
   "metadata": {},
   "source": [
    "## Random Forest Regression"
   ]
  },
  {
   "cell_type": "code",
   "execution_count": 36,
   "id": "94a5038d",
   "metadata": {},
   "outputs": [],
   "source": [
    "forest = RandomForestRegressor()\n",
    "forest = forest.fit(X_train, y_train)"
   ]
  },
  {
   "cell_type": "code",
   "execution_count": 37,
   "id": "af01fb04",
   "metadata": {},
   "outputs": [
    {
     "name": "stdout",
     "output_type": "stream",
     "text": [
      "Fitting 5 folds for each of 20 candidates, totalling 100 fits\n"
     ]
    },
    {
     "data": {
      "text/plain": [
       "{'max_depth': 97.36627605010293, 'n_estimators': 101}"
      ]
     },
     "execution_count": 37,
     "metadata": {},
     "output_type": "execute_result"
    }
   ],
   "source": [
    "parameters = {\n",
    "    'n_estimators': range(100,150),\n",
    "    'max_depth': scipy.stats.uniform(1, 100),\n",
    "}\n",
    "forest_model = RandomizedSearchCV(forest, parameters, verbose=1, n_iter=20, random_state=0).fit(X_train, y_train)\n",
    "forest_model.best_params_"
   ]
  },
  {
   "cell_type": "markdown",
   "id": "1bc4de34",
   "metadata": {},
   "source": [
    "## Random Forest Analysis"
   ]
  },
  {
   "cell_type": "code",
   "execution_count": 38,
   "id": "d18204de",
   "metadata": {},
   "outputs": [
    {
     "name": "stdout",
     "output_type": "stream",
     "text": [
      "+------------------------+-------------+\n",
      "| Parameters / Metrics   |       Tuned |\n",
      "+========================+=============+\n",
      "| max_depth              |  97.3663    |\n",
      "+------------------------+-------------+\n",
      "| n_estimators           | 101         |\n",
      "+------------------------+-------------+\n",
      "| Mean Squarred Error    |   0.0187443 |\n",
      "+------------------------+-------------+\n",
      "| r2 Score               |   0.646756  |\n",
      "+------------------------+-------------+\n"
     ]
    }
   ],
   "source": [
    "communities_and_crime_dict['random_forest_r'] = {'model':forest_model, 'hyperparameters':1}\n",
    "model_results(communities_and_crime_dict['random_forest_r'])"
   ]
  },
  {
   "cell_type": "markdown",
   "id": "52e57e81",
   "metadata": {},
   "source": [
    "## K Nearest Neighbours Regression"
   ]
  },
  {
   "cell_type": "code",
   "execution_count": 50,
   "id": "41806e46",
   "metadata": {},
   "outputs": [],
   "source": [
    "# knn = KNeighborsClassifier()"
   ]
  },
  {
   "cell_type": "code",
   "execution_count": 85,
   "id": "667c254d",
   "metadata": {},
   "outputs": [],
   "source": [
    "# parameters = {\n",
    "#     'n_neighbors': range(1, 100), \n",
    "#     'algorithm': ['auto', 'ball_tree', 'kd_tree', 'brute'], \n",
    "#     'weights': ['uniform', 'distance'], \n",
    "#     'leaf_size': scipy.stats.uniform(1, 50)\n",
    "# }\n",
    "# knn_model = RandomizedSearchCV(knn, parameters,verbose=10,random_state=0).fit(X_train, y_train)\n",
    "# knn_model.best_params_"
   ]
  },
  {
   "cell_type": "code",
   "execution_count": 56,
   "id": "66e33b65",
   "metadata": {},
   "outputs": [
    {
     "data": {
      "text/plain": [
       "KNeighborsClassifier(algorithm='kd_tree', leaf_size=41.60843643877466,\n",
       "                     n_neighbors=47)"
      ]
     },
     "execution_count": 56,
     "metadata": {},
     "output_type": "execute_result"
    }
   ],
   "source": [
    "# knn_model.best_estimator_"
   ]
  },
  {
   "cell_type": "markdown",
   "id": "68eda721",
   "metadata": {},
   "source": [
    "## KNN Analysis"
   ]
  },
  {
   "cell_type": "code",
   "execution_count": 57,
   "id": "bcb9fe2d",
   "metadata": {},
   "outputs": [],
   "source": [
    "# knn_predictions = knn_model.predict(X_test)"
   ]
  },
  {
   "cell_type": "code",
   "execution_count": null,
   "id": "629ecbb4",
   "metadata": {},
   "outputs": [],
   "source": []
  },
  {
   "cell_type": "code",
   "execution_count": 39,
   "id": "14f17f64",
   "metadata": {},
   "outputs": [
    {
     "name": "stdout",
     "output_type": "stream",
     "text": [
      "+-----------------+-----------------------+------------+\n",
      "| Model Name      |   Mean Squarred Error |   r2 Score |\n",
      "+=================+=======================+============+\n",
      "| linear_r        |             0.0181617 |  0.657734  |\n",
      "+-----------------+-----------------------+------------+\n",
      "| svr             |             0.0547749 | -0.0322573 |\n",
      "+-----------------+-----------------------+------------+\n",
      "| random_forest_r |             0.0187443 |  0.646756  |\n",
      "+-----------------+-----------------------+------------+\n",
      "| decision_tree_r |             0.0243829 |  0.540494  |\n",
      "+-----------------+-----------------------+------------+\n"
     ]
    },
    {
     "data": {
      "image/png": "[encoded data removed]",
      "text/plain": [
       "<Figure size 504x288 with 1 Axes>"
      ]
     },
     "metadata": {},
     "output_type": "display_data"
    },
    {
     "data": {
      "image/png": "[encoded data removed]",
      "text/plain": [
       "<Figure size 504x288 with 1 Axes>"
      ]
     },
     "metadata": {},
     "output_type": "display_data"
    }
   ],
   "source": [
    "def cross_checking_model_results(dictionary):\n",
    "    table = [[\"Model Name\", \"Mean Squarred Error\", \"r2 Score\"]]\n",
    "    x_models = []\n",
    "    y_mse = []\n",
    "    y_r2 = []\n",
    "    \n",
    "    for model_key in MODELS:\n",
    "        table.append([model_key, dictionary[model_key]['mse'], dictionary[model_key]['r2']])\n",
    "        x_models.append(model_key)\n",
    "        y_mse.append(dictionary[model_key]['mse'])\n",
    "        y_r2.append(dictionary[model_key]['r2'])\n",
    "    print(tabulate(table, headers='firstrow', tablefmt='grid'))\n",
    "    \n",
    "    sns.set_theme(style=\"whitegrid\")\n",
    "    plt.figure(figsize=(7,4))\n",
    "    ax1 = sns.barplot(x=x_models, y=y_mse, palette=\"viridis\").set_title('Models and Mean Squarred Error')\n",
    "    plt.figure(figsize=(7,4))\n",
    "    ax2 = sns.barplot(x=x_models, y=y_r2, palette=\"viridis\").set_title('Models and r2 Score')\n",
    "\n",
    "\n",
    "cross_checking_model_results(communities_and_crime_dict)"
   ]
  },
  {
   "cell_type": "markdown",
   "id": "529625e0",
   "metadata": {},
   "source": [
    "### Regression Dictionary\n",
    "Exporting Model Data for Later Analysis and Comparison"
   ]
  },
  {
   "cell_type": "code",
   "execution_count": 40,
   "id": "36912292",
   "metadata": {},
   "outputs": [],
   "source": [
    "with open('base_regression_dict.dictionary', 'rb') as config_dictionary_file:\n",
    "    base_regression_dict = pickle.load(config_dictionary_file)\n",
    "\n",
    "base_regression_dict['communities_and_crime']= communities_and_crime_dict\n",
    "\n",
    "with open('base_regression_dict.dictionary', 'wb') as config_dictionary_file:\n",
    "    pickle.dump(base_regression_dict, config_dictionary_file)"
   ]
  }
 ],
 "metadata": {
  "kernelspec": {
   "display_name": "Python 3 (ipykernel)",
   "language": "python",
   "name": "python3"
  },
  "language_info": {
   "codemirror_mode": {
    "name": "ipython",
    "version": 3
   },
   "file_extension": ".py",
   "mimetype": "text/x-python",
   "name": "python",
   "nbconvert_exporter": "python",
   "pygments_lexer": "ipython3",
   "version": "3.9.5"
  }
 },
 "nbformat": 4,
 "nbformat_minor": 5
}
