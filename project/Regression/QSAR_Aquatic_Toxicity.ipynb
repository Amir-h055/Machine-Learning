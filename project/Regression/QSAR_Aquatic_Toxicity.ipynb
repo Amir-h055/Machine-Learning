{
 "cells": [
  {
   "cell_type": "markdown",
   "id": "e4f8386e",
   "metadata": {},
   "source": [
    "# QSAR_Aquatic_Toxicity"
   ]
  },
  {
   "cell_type": "code",
   "execution_count": 1,
   "id": "1a319900",
   "metadata": {},
   "outputs": [],
   "source": [
    "import numpy as np\n",
    "import matplotlib.pyplot as plt\n",
    "import sklearn as sk\n",
    "import pandas as pd\n",
    "import scipy\n",
    "import seaborn as sns\n",
    "import math\n",
    "import pickle\n",
    "\n",
    "from scipy.io import arff\n",
    "from sklearn.model_selection import train_test_split, GridSearchCV, RandomizedSearchCV, cross_val_score\n",
    "from sklearn.preprocessing import StandardScaler\n",
    "from sklearn.preprocessing import PolynomialFeatures\n",
    "from sklearn.metrics import (confusion_matrix,plot_confusion_matrix,\n",
    "                            ConfusionMatrixDisplay,accuracy_score,f1_score,\n",
    "                            mean_squared_error, mean_absolute_error, max_error,\n",
    "                            r2_score, explained_variance_score)\n",
    "\n",
    "from sklearn.linear_model import LinearRegression,LogisticRegression\n",
    "from sklearn.svm import SVR\n",
    "from sklearn.tree import DecisionTreeRegressor, plot_tree\n",
    "from sklearn.ensemble import RandomForestRegressor"
   ]
  },
  {
   "cell_type": "markdown",
   "id": "f73e41c8",
   "metadata": {},
   "source": [
    "## Loading Data"
   ]
  },
  {
   "cell_type": "code",
   "execution_count": 2,
   "id": "07c6cb99",
   "metadata": {},
   "outputs": [],
   "source": [
    "Datset = pd.read_csv('Regression_Datasets/3_Qsar_Aquatic_Toxicity/Qsar_Aquatic_Toxicity.csv', delimiter=';') \n"
   ]
  },
  {
   "cell_type": "code",
   "execution_count": 3,
   "id": "c22e371a",
   "metadata": {},
   "outputs": [
    {
     "data": {
      "text/html": [
       "<div>\n",
       "<style scoped>\n",
       "    .dataframe tbody tr th:only-of-type {\n",
       "        vertical-align: middle;\n",
       "    }\n",
       "\n",
       "    .dataframe tbody tr th {\n",
       "        vertical-align: top;\n",
       "    }\n",
       "\n",
       "    .dataframe thead th {\n",
       "        text-align: right;\n",
       "    }\n",
       "</style>\n",
       "<table border=\"1\" class=\"dataframe\">\n",
       "  <thead>\n",
       "    <tr style=\"text-align: right;\">\n",
       "      <th></th>\n",
       "      <th>0</th>\n",
       "      <th>0.1</th>\n",
       "      <th>0.2</th>\n",
       "      <th>2.419</th>\n",
       "      <th>1.225</th>\n",
       "      <th>0.667</th>\n",
       "      <th>0.3</th>\n",
       "      <th>0.4</th>\n",
       "      <th>3.740</th>\n",
       "    </tr>\n",
       "  </thead>\n",
       "  <tbody>\n",
       "    <tr>\n",
       "      <th>0</th>\n",
       "      <td>0.00</td>\n",
       "      <td>0.000</td>\n",
       "      <td>0</td>\n",
       "      <td>2.638</td>\n",
       "      <td>1.401</td>\n",
       "      <td>0.632</td>\n",
       "      <td>0</td>\n",
       "      <td>0</td>\n",
       "      <td>4.330</td>\n",
       "    </tr>\n",
       "    <tr>\n",
       "      <th>1</th>\n",
       "      <td>9.23</td>\n",
       "      <td>11.000</td>\n",
       "      <td>0</td>\n",
       "      <td>5.799</td>\n",
       "      <td>2.930</td>\n",
       "      <td>0.486</td>\n",
       "      <td>0</td>\n",
       "      <td>0</td>\n",
       "      <td>7.019</td>\n",
       "    </tr>\n",
       "    <tr>\n",
       "      <th>2</th>\n",
       "      <td>9.23</td>\n",
       "      <td>11.000</td>\n",
       "      <td>0</td>\n",
       "      <td>5.453</td>\n",
       "      <td>2.887</td>\n",
       "      <td>0.495</td>\n",
       "      <td>0</td>\n",
       "      <td>0</td>\n",
       "      <td>6.723</td>\n",
       "    </tr>\n",
       "    <tr>\n",
       "      <th>3</th>\n",
       "      <td>9.23</td>\n",
       "      <td>11.000</td>\n",
       "      <td>0</td>\n",
       "      <td>4.068</td>\n",
       "      <td>2.758</td>\n",
       "      <td>0.695</td>\n",
       "      <td>0</td>\n",
       "      <td>0</td>\n",
       "      <td>5.979</td>\n",
       "    </tr>\n",
       "    <tr>\n",
       "      <th>4</th>\n",
       "      <td>215.34</td>\n",
       "      <td>327.629</td>\n",
       "      <td>3</td>\n",
       "      <td>0.189</td>\n",
       "      <td>4.677</td>\n",
       "      <td>1.333</td>\n",
       "      <td>0</td>\n",
       "      <td>4</td>\n",
       "      <td>6.064</td>\n",
       "    </tr>\n",
       "  </tbody>\n",
       "</table>\n",
       "</div>"
      ],
      "text/plain": [
       "        0      0.1  0.2  2.419  1.225  0.667  0.3  0.4  3.740\n",
       "0    0.00    0.000    0  2.638  1.401  0.632    0    0  4.330\n",
       "1    9.23   11.000    0  5.799  2.930  0.486    0    0  7.019\n",
       "2    9.23   11.000    0  5.453  2.887  0.495    0    0  6.723\n",
       "3    9.23   11.000    0  4.068  2.758  0.695    0    0  5.979\n",
       "4  215.34  327.629    3  0.189  4.677  1.333    0    4  6.064"
      ]
     },
     "execution_count": 3,
     "metadata": {},
     "output_type": "execute_result"
    }
   ],
   "source": [
    "df = pd.DataFrame(Datset)\n",
    "df.head()"
   ]
  },
  {
   "cell_type": "markdown",
   "id": "6fc2460f",
   "metadata": {},
   "source": [
    "## Data Prepration And Analysis"
   ]
  },
  {
   "cell_type": "code",
   "execution_count": 10,
   "id": "73aad8ac",
   "metadata": {},
   "outputs": [
    {
     "name": "stdout",
     "output_type": "stream",
     "text": [
      "0\n"
     ]
    }
   ],
   "source": [
    "print(np.count_nonzero(Datset==np.nan))"
   ]
  },
  {
   "cell_type": "code",
   "execution_count": 11,
   "id": "de5a2b29",
   "metadata": {},
   "outputs": [],
   "source": [
    "# MODELS = {'linear_r', 'svr', 'decision_tree_r', 'random_forest_r', 'knn_r', 'adaboost_r', 'gaussian_process_r', 'neural_network_r'}\n",
    "MODELS = {'linear_r', 'svr', 'decision_tree_r', 'random_forest_r'}\n",
    "qsar_aquatic_toxicity_dict = {}  "
   ]
  },
  {
   "cell_type": "markdown",
   "id": "43d59101",
   "metadata": {},
   "source": [
    "## Train and Test set"
   ]
  },
  {
   "cell_type": "code",
   "execution_count": 12,
   "id": "f4eed83b",
   "metadata": {},
   "outputs": [],
   "source": [
    "x = df.iloc[:,:-1]\n",
    "y = df.iloc[:, -1:]"
   ]
  },
  {
   "cell_type": "code",
   "execution_count": 13,
   "id": "b43cccb8",
   "metadata": {},
   "outputs": [],
   "source": [
    "X_train, X_test, y_train, y_test = train_test_split(x, y, train_size=0.85, test_size=0.15, random_state=0)\n",
    "\n",
    "y_train = y_train.to_numpy().reshape(-1)\n",
    "y_test = y_test.to_numpy().reshape(-1)"
   ]
  },
  {
   "cell_type": "code",
   "execution_count": 14,
   "id": "4a01157d",
   "metadata": {
    "scrolled": true
   },
   "outputs": [],
   "source": [
    "StScale = StandardScaler()\n",
    "X_train = StScale.fit_transform(X_train)\n",
    "X_test = StScale.transform(X_test)"
   ]
  },
  {
   "cell_type": "code",
   "execution_count": 15,
   "id": "65043da9",
   "metadata": {},
   "outputs": [],
   "source": [
    "from tabulate import tabulate\n",
    "def model_results(model):\n",
    "    table = [[\"Parameters / Metrics\", \"Tuned\"]]\n",
    "    curr_model = model['model']\n",
    "    \n",
    "    if model['hyperparameters'] == 1:\n",
    "        for param in curr_model.best_params_:\n",
    "            table.append([param, curr_model.best_params_[param]])\n",
    "    \n",
    "    linear_r_predict = curr_model.predict(X_test)\n",
    "    mse = mean_squared_error(y_test, linear_r_predict)\n",
    "    model['mse'] = mse\n",
    "    r2 = r2_score(y_test, linear_r_predict)\n",
    "    model['r2'] = r2\n",
    "    table.append(['Mean Squarred Error', mse])\n",
    "    table.append(['r2 Score',r2])\n",
    "    \n",
    "    print(tabulate(table, headers='firstrow', tablefmt='grid'))"
   ]
  },
  {
   "cell_type": "markdown",
   "id": "7f438bd3",
   "metadata": {},
   "source": [
    "## Linear Regression"
   ]
  },
  {
   "cell_type": "code",
   "execution_count": 16,
   "id": "c36c5393",
   "metadata": {},
   "outputs": [],
   "source": [
    "linear_r = LinearRegression()\n",
    "linear_r.fit(X_train, y_train)\n",
    "\n",
    "qsar_aquatic_toxicity_dict['linear_r'] = {'model':linear_r, 'hyperparameters':0}"
   ]
  },
  {
   "cell_type": "markdown",
   "id": "e4ba1b2c",
   "metadata": {},
   "source": [
    "## Linear Regression Analysis"
   ]
  },
  {
   "cell_type": "code",
   "execution_count": 17,
   "id": "d1ac921c",
   "metadata": {
    "scrolled": true
   },
   "outputs": [
    {
     "name": "stdout",
     "output_type": "stream",
     "text": [
      "+------------------------+----------+\n",
      "| Parameters / Metrics   |    Tuned |\n",
      "+========================+==========+\n",
      "| Mean Squarred Error    | 1.03838  |\n",
      "+------------------------+----------+\n",
      "| r2 Score               | 0.574774 |\n",
      "+------------------------+----------+\n"
     ]
    }
   ],
   "source": [
    "model_results(qsar_aquatic_toxicity_dict['linear_r'])"
   ]
  },
  {
   "cell_type": "markdown",
   "id": "1db62301",
   "metadata": {},
   "source": [
    "## Support Vector Regression"
   ]
  },
  {
   "cell_type": "code",
   "execution_count": 18,
   "id": "5350fff9",
   "metadata": {},
   "outputs": [],
   "source": [
    "svr = SVR().fit(X_train,y_train)"
   ]
  },
  {
   "cell_type": "code",
   "execution_count": 31,
   "id": "15cf139f",
   "metadata": {},
   "outputs": [
    {
     "name": "stdout",
     "output_type": "stream",
     "text": [
      "Fitting 5 folds for each of 100 candidates, totalling 500 fits\n"
     ]
    },
    {
     "data": {
      "text/plain": [
       "{'C': 829.9400292173631, 'gamma': 4.705476192547065}"
      ]
     },
     "execution_count": 31,
     "metadata": {},
     "output_type": "execute_result"
    }
   ],
   "source": [
    "parameters = {\n",
    "    'C': scipy.stats.uniform(1, 1000), \n",
    "    'gamma': scipy.stats.uniform(0.01, 1000)\n",
    "}\n",
    "svr_model = RandomizedSearchCV(svr, parameters, verbose=1, n_iter=100, random_state=0).fit(X_train, y_train)\n",
    "svr_model.best_params_"
   ]
  },
  {
   "cell_type": "code",
   "execution_count": 29,
   "id": "19741eca",
   "metadata": {},
   "outputs": [
    {
     "data": {
      "text/plain": [
       "SVR(C=2657.8800584347264, gamma=4.705476192547065)"
      ]
     },
     "execution_count": 29,
     "metadata": {},
     "output_type": "execute_result"
    }
   ],
   "source": [
    "svr_model.best_estimator_"
   ]
  },
  {
   "cell_type": "markdown",
   "id": "2873889f",
   "metadata": {},
   "source": [
    "## Support Vector Regression Analysis"
   ]
  },
  {
   "cell_type": "code",
   "execution_count": 32,
   "id": "069366ff",
   "metadata": {},
   "outputs": [
    {
     "name": "stdout",
     "output_type": "stream",
     "text": [
      "+------------------------+------------+\n",
      "| Parameters / Metrics   |      Tuned |\n",
      "+========================+============+\n",
      "| C                      | 829.94     |\n",
      "+------------------------+------------+\n",
      "| gamma                  |   4.70548  |\n",
      "+------------------------+------------+\n",
      "| Mean Squarred Error    |   1.93509  |\n",
      "+------------------------+------------+\n",
      "| r2 Score               |   0.207559 |\n",
      "+------------------------+------------+\n"
     ]
    }
   ],
   "source": [
    "qsar_aquatic_toxicity_dict['svr'] = {'model':svr_model, 'hyperparameters':1}\n",
    "model_results(qsar_aquatic_toxicity_dict['svr'])"
   ]
  },
  {
   "cell_type": "markdown",
   "id": "1632c6c2",
   "metadata": {},
   "source": [
    "## Decision Tree Regression"
   ]
  },
  {
   "cell_type": "code",
   "execution_count": 33,
   "id": "896efa10",
   "metadata": {},
   "outputs": [
    {
     "data": {
      "text/plain": [
       "DecisionTreeRegressor()"
      ]
     },
     "execution_count": 33,
     "metadata": {},
     "output_type": "execute_result"
    }
   ],
   "source": [
    "tree = DecisionTreeRegressor()\n",
    "tree.fit(X_train, y_train)"
   ]
  },
  {
   "cell_type": "code",
   "execution_count": 46,
   "id": "386cdce9",
   "metadata": {},
   "outputs": [
    {
     "name": "stdout",
     "output_type": "stream",
     "text": [
      "Fitting 5 folds for each of 50 candidates, totalling 250 fits\n"
     ]
    },
    {
     "data": {
      "text/plain": [
       "{'max_depth': 84.7944907498804, 'min_samples_split': 0.09609840789396307}"
      ]
     },
     "execution_count": 46,
     "metadata": {},
     "output_type": "execute_result"
    }
   ],
   "source": [
    "parameters = {\n",
    "    'max_depth': scipy.stats.uniform(1, 100),\n",
    "    'min_samples_split': scipy.stats.uniform(0, 1) \n",
    "}\n",
    "tree_model = RandomizedSearchCV(tree, parameters, verbose=1, n_iter=50, random_state=0).fit(X_train, y_train)\n",
    "tree_model.best_params_"
   ]
  },
  {
   "cell_type": "markdown",
   "id": "b815c235",
   "metadata": {},
   "source": [
    "## Decision tree Analysis"
   ]
  },
  {
   "cell_type": "code",
   "execution_count": 47,
   "id": "49d69d2a",
   "metadata": {},
   "outputs": [
    {
     "name": "stdout",
     "output_type": "stream",
     "text": [
      "+------------------------+------------+\n",
      "| Parameters / Metrics   |      Tuned |\n",
      "+========================+============+\n",
      "| max_depth              | 84.7945    |\n",
      "+------------------------+------------+\n",
      "| min_samples_split      |  0.0960984 |\n",
      "+------------------------+------------+\n",
      "| Mean Squarred Error    |  1.70203   |\n",
      "+------------------------+------------+\n",
      "| r2 Score               |  0.303     |\n",
      "+------------------------+------------+\n"
     ]
    }
   ],
   "source": [
    "qsar_aquatic_toxicity_dict['decision_tree_r'] = {'model':tree_model, 'hyperparameters':1}\n",
    "model_results(qsar_aquatic_toxicity_dict['decision_tree_r'])"
   ]
  },
  {
   "cell_type": "code",
   "execution_count": 48,
   "id": "35c9dfbc",
   "metadata": {},
   "outputs": [
    {
     "data": {
      "image/png": "[encoded data removed]",
      "text/plain": [
       "<Figure size 1512x1512 with 1 Axes>"
      ]
     },
     "metadata": {
      "needs_background": "light"
     },
     "output_type": "display_data"
    }
   ],
   "source": [
    "plt.figure(figsize=(21,21))\n",
    "plot_tree(tree, max_depth = 2, fontsize=14);"
   ]
  },
  {
   "cell_type": "markdown",
   "id": "95b77efe",
   "metadata": {},
   "source": [
    "## Random Forest Regression"
   ]
  },
  {
   "cell_type": "code",
   "execution_count": 49,
   "id": "94a5038d",
   "metadata": {},
   "outputs": [],
   "source": [
    "forest = RandomForestRegressor()\n",
    "forest = forest.fit(X_train, y_train)"
   ]
  },
  {
   "cell_type": "code",
   "execution_count": 50,
   "id": "368338cf",
   "metadata": {},
   "outputs": [
    {
     "name": "stdout",
     "output_type": "stream",
     "text": [
      "Fitting 5 folds for each of 20 candidates, totalling 100 fits\n"
     ]
    },
    {
     "data": {
      "text/plain": [
       "{'max_depth': 27.455561210462697, 'n_estimators': 111}"
      ]
     },
     "execution_count": 50,
     "metadata": {},
     "output_type": "execute_result"
    }
   ],
   "source": [
    "parameters = {\n",
    "    'n_estimators': range(100,150),\n",
    "    'max_depth': scipy.stats.uniform(1, 100),\n",
    "}\n",
    "forest_model = RandomizedSearchCV(forest, parameters, verbose=1, n_iter=20, random_state=0).fit(X_train, y_train)\n",
    "forest_model.best_params_"
   ]
  },
  {
   "cell_type": "markdown",
   "id": "1bc4de34",
   "metadata": {},
   "source": [
    "## Random Forest Analysis"
   ]
  },
  {
   "cell_type": "code",
   "execution_count": 51,
   "id": "d18204de",
   "metadata": {},
   "outputs": [
    {
     "name": "stdout",
     "output_type": "stream",
     "text": [
      "+------------------------+------------+\n",
      "| Parameters / Metrics   |      Tuned |\n",
      "+========================+============+\n",
      "| max_depth              |  27.4556   |\n",
      "+------------------------+------------+\n",
      "| n_estimators           | 111        |\n",
      "+------------------------+------------+\n",
      "| Mean Squarred Error    |   0.915077 |\n",
      "+------------------------+------------+\n",
      "| r2 Score               |   0.625266 |\n",
      "+------------------------+------------+\n"
     ]
    }
   ],
   "source": [
    "qsar_aquatic_toxicity_dict['random_forest_r'] = {'model':forest_model, 'hyperparameters':1}\n",
    "model_results(qsar_aquatic_toxicity_dict['random_forest_r'])"
   ]
  },
  {
   "cell_type": "markdown",
   "id": "52e57e81",
   "metadata": {},
   "source": [
    "## K Nearest Neighbours Regression"
   ]
  },
  {
   "cell_type": "code",
   "execution_count": 50,
   "id": "41806e46",
   "metadata": {},
   "outputs": [],
   "source": [
    "# knn = KNeighborsClassifier()"
   ]
  },
  {
   "cell_type": "code",
   "execution_count": 85,
   "id": "667c254d",
   "metadata": {},
   "outputs": [],
   "source": [
    "# parameters = {\n",
    "#     'n_neighbors': range(1, 100), \n",
    "#     'algorithm': ['auto', 'ball_tree', 'kd_tree', 'brute'], \n",
    "#     'weights': ['uniform', 'distance'], \n",
    "#     'leaf_size': scipy.stats.uniform(1, 50)\n",
    "# }\n",
    "# knn_model = RandomizedSearchCV(knn, parameters,verbose=10,random_state=0).fit(X_train, y_train)\n",
    "# knn_model.best_params_"
   ]
  },
  {
   "cell_type": "code",
   "execution_count": 56,
   "id": "66e33b65",
   "metadata": {},
   "outputs": [
    {
     "data": {
      "text/plain": [
       "KNeighborsClassifier(algorithm='kd_tree', leaf_size=41.60843643877466,\n",
       "                     n_neighbors=47)"
      ]
     },
     "execution_count": 56,
     "metadata": {},
     "output_type": "execute_result"
    }
   ],
   "source": [
    "# knn_model.best_estimator_"
   ]
  },
  {
   "cell_type": "markdown",
   "id": "68eda721",
   "metadata": {},
   "source": [
    "## KNN Analysis"
   ]
  },
  {
   "cell_type": "code",
   "execution_count": 57,
   "id": "bcb9fe2d",
   "metadata": {},
   "outputs": [],
   "source": [
    "knn_predictions = knn_model.predict(X_test)"
   ]
  },
  {
   "cell_type": "code",
   "execution_count": null,
   "id": "629ecbb4",
   "metadata": {},
   "outputs": [],
   "source": []
  },
  {
   "cell_type": "code",
   "execution_count": 52,
   "id": "14f17f64",
   "metadata": {},
   "outputs": [
    {
     "name": "stdout",
     "output_type": "stream",
     "text": [
      "+-----------------+-----------------------+------------+\n",
      "| Model Name      |   Mean Squarred Error |   r2 Score |\n",
      "+=================+=======================+============+\n",
      "| svr             |              1.93509  |   0.207559 |\n",
      "+-----------------+-----------------------+------------+\n",
      "| linear_r        |              1.03838  |   0.574774 |\n",
      "+-----------------+-----------------------+------------+\n",
      "| decision_tree_r |              1.70203  |   0.303    |\n",
      "+-----------------+-----------------------+------------+\n",
      "| random_forest_r |              0.915077 |   0.625266 |\n",
      "+-----------------+-----------------------+------------+\n"
     ]
    },
    {
     "data": {
      "image/png": "[encoded data removed]",
      "text/plain": [
       "<Figure size 504x288 with 1 Axes>"
      ]
     },
     "metadata": {},
     "output_type": "display_data"
    },
    {
     "data": {
      "image/png": "[encoded data removed]",
      "text/plain": [
       "<Figure size 504x288 with 1 Axes>"
      ]
     },
     "metadata": {},
     "output_type": "display_data"
    }
   ],
   "source": [
    "def cross_checking_model_results(dictionary):\n",
    "    table = [[\"Model Name\", \"Mean Squarred Error\", \"r2 Score\"]]\n",
    "    x_models = []\n",
    "    y_mse = []\n",
    "    y_r2 = []\n",
    "    \n",
    "    for model_key in MODELS:\n",
    "        table.append([model_key, dictionary[model_key]['mse'], dictionary[model_key]['r2']])\n",
    "        x_models.append(model_key)\n",
    "        y_mse.append(dictionary[model_key]['mse'])\n",
    "        y_r2.append(dictionary[model_key]['r2'])\n",
    "    print(tabulate(table, headers='firstrow', tablefmt='grid'))\n",
    "    \n",
    "    sns.set_theme(style=\"whitegrid\")\n",
    "    plt.figure(figsize=(7,4))\n",
    "    ax1 = sns.barplot(x=x_models, y=y_mse, palette=\"viridis\").set_title('Models and Mean Squarred Error')\n",
    "    plt.figure(figsize=(7,4))\n",
    "    ax2 = sns.barplot(x=x_models, y=y_r2, palette=\"viridis\").set_title('Models and r2 Score')\n",
    "\n",
    "\n",
    "cross_checking_model_results(qsar_aquatic_toxicity_dict)"
   ]
  },
  {
   "cell_type": "markdown",
   "id": "a4030ee7",
   "metadata": {},
   "source": [
    "### Regression Dictionary\n",
    "Exporting Model Data for Later Analysis and Comparison"
   ]
  },
  {
   "cell_type": "code",
   "execution_count": 4,
   "id": "36912292",
   "metadata": {},
   "outputs": [
    {
     "ename": "NameError",
     "evalue": "name 'qsar_aquatic_toxicity_dict' is not defined",
     "output_type": "error",
     "traceback": [
      "\u001b[0;31m---------------------------------------------------------------------------\u001b[0m",
      "\u001b[0;31mNameError\u001b[0m                                 Traceback (most recent call last)",
      "\u001b[0;32m/var/folders/qm/kfl5df0x3xq2x8b5xc9ngp_40000gn/T/ipykernel_88499/447545718.py\u001b[0m in \u001b[0;36m<module>\u001b[0;34m\u001b[0m\n\u001b[1;32m      2\u001b[0m     \u001b[0mbase_regression_dict\u001b[0m \u001b[0;34m=\u001b[0m \u001b[0mpickle\u001b[0m\u001b[0;34m.\u001b[0m\u001b[0mload\u001b[0m\u001b[0;34m(\u001b[0m\u001b[0mconfig_dictionary_file\u001b[0m\u001b[0;34m)\u001b[0m\u001b[0;34m\u001b[0m\u001b[0;34m\u001b[0m\u001b[0m\n\u001b[1;32m      3\u001b[0m \u001b[0;34m\u001b[0m\u001b[0m\n\u001b[0;32m----> 4\u001b[0;31m \u001b[0mbase_regression_dict\u001b[0m\u001b[0;34m[\u001b[0m\u001b[0;34m'qsar_aquatic_toxicity'\u001b[0m\u001b[0;34m]\u001b[0m\u001b[0;34m=\u001b[0m \u001b[0mqsar_aquatic_toxicity_dict\u001b[0m\u001b[0;34m\u001b[0m\u001b[0;34m\u001b[0m\u001b[0m\n\u001b[0m\u001b[1;32m      5\u001b[0m \u001b[0;34m\u001b[0m\u001b[0m\n\u001b[1;32m      6\u001b[0m \u001b[0;32mwith\u001b[0m \u001b[0mopen\u001b[0m\u001b[0;34m(\u001b[0m\u001b[0;34m'base_regression_dict.dictionary'\u001b[0m\u001b[0;34m,\u001b[0m \u001b[0;34m'wb'\u001b[0m\u001b[0;34m)\u001b[0m \u001b[0;32mas\u001b[0m \u001b[0mconfig_dictionary_file\u001b[0m\u001b[0;34m:\u001b[0m\u001b[0;34m\u001b[0m\u001b[0;34m\u001b[0m\u001b[0m\n",
      "\u001b[0;31mNameError\u001b[0m: name 'qsar_aquatic_toxicity_dict' is not defined"
     ]
    }
   ],
   "source": [
    "with open('base_regression_dict.dictionary', 'rb') as config_dictionary_file:\n",
    "    base_regression_dict = pickle.load(config_dictionary_file)\n",
    "\n",
    "base_regression_dict['qsar_aquatic_toxicity']= qsar_aquatic_toxicity_dict\n",
    "\n",
    "with open('base_regression_dict.dictionary', 'wb') as config_dictionary_file:\n",
    "    pickle.dump(base_regression_dict, config_dictionary_file)"
   ]
  }
 ],
 "metadata": {
  "kernelspec": {
   "display_name": "Python 3 (ipykernel)",
   "language": "python",
   "name": "python3"
  },
  "language_info": {
   "codemirror_mode": {
    "name": "ipython",
    "version": 3
   },
   "file_extension": ".py",
   "mimetype": "text/x-python",
   "name": "python",
   "nbconvert_exporter": "python",
   "pygments_lexer": "ipython3",
   "version": "3.9.5"
  }
 },
 "nbformat": 4,
 "nbformat_minor": 5
}
