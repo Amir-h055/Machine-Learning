{
 "cells": [
  {
   "cell_type": "markdown",
   "id": "e4f8386e",
   "metadata": {},
   "source": [
    "# GPU_Kernel_Performance"
   ]
  },
  {
   "cell_type": "code",
   "execution_count": 1,
   "id": "1a319900",
   "metadata": {},
   "outputs": [],
   "source": [
    "import numpy as np\n",
    "import matplotlib.pyplot as plt\n",
    "import sklearn as sk\n",
    "import pandas as pd\n",
    "import scipy\n",
    "import seaborn as sns\n",
    "import math\n",
    "\n",
    "from scipy.io import arff\n",
    "from sklearn.model_selection import train_test_split, GridSearchCV, RandomizedSearchCV\n",
    "from sklearn.preprocessing import StandardScaler\n",
    "from sklearn.preprocessing import LabelEncoder\n",
    "from sklearn.metrics import (confusion_matrix,plot_confusion_matrix,\n",
    "                            ConfusionMatrixDisplay,accuracy_score,f1_score,\n",
    "                            mean_squared_error, mean_absolute_error, max_error,\n",
    "                            r2_score, explained_variance_score)\n",
    "\n",
    "from sklearn.linear_model import LinearRegression,LogisticRegression\n",
    "from sklearn.svm import SVR\n",
    "from sklearn.tree import DecisionTreeRegressor, plot_tree\n",
    "from sklearn.ensemble import RandomForestRegressor"
   ]
  },
  {
   "cell_type": "markdown",
   "id": "f73e41c8",
   "metadata": {},
   "source": [
    "## Loading Data"
   ]
  },
  {
   "cell_type": "code",
   "execution_count": 3,
   "id": "07c6cb99",
   "metadata": {},
   "outputs": [],
   "source": [
    "# Datset = pd.read_csv(\"datasets\\Diabetic_Retinopathy\\messidor_features.arff\") \n",
    "Datset = pd.read_csv('/Users/annikatimermanis/Desktop/project/Regression/Regression_Datasets/8_Gpu_Kernel_Performance/Gpu_Kernel_Performance.csv', delimiter=',') \n"
   ]
  },
  {
   "cell_type": "code",
   "execution_count": 4,
   "id": "c22e371a",
   "metadata": {},
   "outputs": [
    {
     "data": {
      "text/html": [
       "<div>\n",
       "<style scoped>\n",
       "    .dataframe tbody tr th:only-of-type {\n",
       "        vertical-align: middle;\n",
       "    }\n",
       "\n",
       "    .dataframe tbody tr th {\n",
       "        vertical-align: top;\n",
       "    }\n",
       "\n",
       "    .dataframe thead th {\n",
       "        text-align: right;\n",
       "    }\n",
       "</style>\n",
       "<table border=\"1\" class=\"dataframe\">\n",
       "  <thead>\n",
       "    <tr style=\"text-align: right;\">\n",
       "      <th></th>\n",
       "      <th>MWG</th>\n",
       "      <th>NWG</th>\n",
       "      <th>KWG</th>\n",
       "      <th>MDIMC</th>\n",
       "      <th>NDIMC</th>\n",
       "      <th>MDIMA</th>\n",
       "      <th>NDIMB</th>\n",
       "      <th>KWI</th>\n",
       "      <th>VWM</th>\n",
       "      <th>VWN</th>\n",
       "      <th>STRM</th>\n",
       "      <th>STRN</th>\n",
       "      <th>SA</th>\n",
       "      <th>SB</th>\n",
       "      <th>Run1 (ms)</th>\n",
       "      <th>Run2 (ms)</th>\n",
       "      <th>Run3 (ms)</th>\n",
       "      <th>Run4 (ms)</th>\n",
       "    </tr>\n",
       "  </thead>\n",
       "  <tbody>\n",
       "    <tr>\n",
       "      <th>0</th>\n",
       "      <td>16</td>\n",
       "      <td>16</td>\n",
       "      <td>16</td>\n",
       "      <td>8</td>\n",
       "      <td>8</td>\n",
       "      <td>8</td>\n",
       "      <td>8</td>\n",
       "      <td>2</td>\n",
       "      <td>1</td>\n",
       "      <td>1</td>\n",
       "      <td>0</td>\n",
       "      <td>0</td>\n",
       "      <td>0</td>\n",
       "      <td>0</td>\n",
       "      <td>115.26</td>\n",
       "      <td>115.87</td>\n",
       "      <td>118.55</td>\n",
       "      <td>115.80</td>\n",
       "    </tr>\n",
       "    <tr>\n",
       "      <th>1</th>\n",
       "      <td>16</td>\n",
       "      <td>16</td>\n",
       "      <td>16</td>\n",
       "      <td>8</td>\n",
       "      <td>8</td>\n",
       "      <td>8</td>\n",
       "      <td>8</td>\n",
       "      <td>2</td>\n",
       "      <td>1</td>\n",
       "      <td>1</td>\n",
       "      <td>0</td>\n",
       "      <td>0</td>\n",
       "      <td>0</td>\n",
       "      <td>1</td>\n",
       "      <td>78.13</td>\n",
       "      <td>78.25</td>\n",
       "      <td>79.25</td>\n",
       "      <td>79.19</td>\n",
       "    </tr>\n",
       "    <tr>\n",
       "      <th>2</th>\n",
       "      <td>16</td>\n",
       "      <td>16</td>\n",
       "      <td>16</td>\n",
       "      <td>8</td>\n",
       "      <td>8</td>\n",
       "      <td>8</td>\n",
       "      <td>8</td>\n",
       "      <td>2</td>\n",
       "      <td>1</td>\n",
       "      <td>1</td>\n",
       "      <td>0</td>\n",
       "      <td>0</td>\n",
       "      <td>1</td>\n",
       "      <td>0</td>\n",
       "      <td>79.84</td>\n",
       "      <td>80.69</td>\n",
       "      <td>80.76</td>\n",
       "      <td>80.97</td>\n",
       "    </tr>\n",
       "    <tr>\n",
       "      <th>3</th>\n",
       "      <td>16</td>\n",
       "      <td>16</td>\n",
       "      <td>16</td>\n",
       "      <td>8</td>\n",
       "      <td>8</td>\n",
       "      <td>8</td>\n",
       "      <td>8</td>\n",
       "      <td>2</td>\n",
       "      <td>1</td>\n",
       "      <td>1</td>\n",
       "      <td>0</td>\n",
       "      <td>0</td>\n",
       "      <td>1</td>\n",
       "      <td>1</td>\n",
       "      <td>84.32</td>\n",
       "      <td>89.90</td>\n",
       "      <td>86.75</td>\n",
       "      <td>85.58</td>\n",
       "    </tr>\n",
       "    <tr>\n",
       "      <th>4</th>\n",
       "      <td>16</td>\n",
       "      <td>16</td>\n",
       "      <td>16</td>\n",
       "      <td>8</td>\n",
       "      <td>8</td>\n",
       "      <td>8</td>\n",
       "      <td>8</td>\n",
       "      <td>2</td>\n",
       "      <td>1</td>\n",
       "      <td>1</td>\n",
       "      <td>0</td>\n",
       "      <td>1</td>\n",
       "      <td>0</td>\n",
       "      <td>0</td>\n",
       "      <td>115.13</td>\n",
       "      <td>121.98</td>\n",
       "      <td>122.73</td>\n",
       "      <td>114.81</td>\n",
       "    </tr>\n",
       "  </tbody>\n",
       "</table>\n",
       "</div>"
      ],
      "text/plain": [
       "   MWG  NWG  KWG  MDIMC  NDIMC  MDIMA  NDIMB  KWI  VWM  VWN  STRM  STRN  SA  \\\n",
       "0   16   16   16      8      8      8      8    2    1    1     0     0   0   \n",
       "1   16   16   16      8      8      8      8    2    1    1     0     0   0   \n",
       "2   16   16   16      8      8      8      8    2    1    1     0     0   1   \n",
       "3   16   16   16      8      8      8      8    2    1    1     0     0   1   \n",
       "4   16   16   16      8      8      8      8    2    1    1     0     1   0   \n",
       "\n",
       "   SB  Run1 (ms)  Run2 (ms)  Run3 (ms)  Run4 (ms)  \n",
       "0   0     115.26     115.87     118.55     115.80  \n",
       "1   1      78.13      78.25      79.25      79.19  \n",
       "2   0      79.84      80.69      80.76      80.97  \n",
       "3   1      84.32      89.90      86.75      85.58  \n",
       "4   0     115.13     121.98     122.73     114.81  "
      ]
     },
     "execution_count": 4,
     "metadata": {},
     "output_type": "execute_result"
    }
   ],
   "source": [
    "df = pd.DataFrame(Datset)\n",
    "df.head()"
   ]
  },
  {
   "cell_type": "markdown",
   "id": "6fc2460f",
   "metadata": {},
   "source": [
    "## Data Prepration And Analysis"
   ]
  },
  {
   "cell_type": "code",
   "execution_count": 5,
   "id": "73aad8ac",
   "metadata": {},
   "outputs": [
    {
     "name": "stdout",
     "output_type": "stream",
     "text": [
      "0\n"
     ]
    }
   ],
   "source": [
    "print(np.count_nonzero(Datset==np.nan))"
   ]
  },
  {
   "cell_type": "code",
   "execution_count": 16,
   "id": "8b045f43",
   "metadata": {},
   "outputs": [],
   "source": [
    "# frequency = df['127'].value_counts()\n",
    "# print(frequency)\n",
    "# print(\"---------------------------\")"
   ]
  },
  {
   "cell_type": "code",
   "execution_count": 9,
   "id": "d347e07d",
   "metadata": {},
   "outputs": [],
   "source": [
    "# plt.plot()\n",
    "# plt.ylabel('Frequency')\n",
    "# plt.xlabel('Class')\n",
    "# plt.bar( (\"1\",\"0\"), frequency)\n",
    "# plt.suptitle(\"Distribution\")\n",
    "# plt.show()"
   ]
  },
  {
   "cell_type": "code",
   "execution_count": 21,
   "id": "3120a106",
   "metadata": {
    "scrolled": true
   },
   "outputs": [],
   "source": [
    "# sns.pairplot(df, hue=\"Class\")\n",
    "# print(\"ok\")"
   ]
  },
  {
   "cell_type": "code",
   "execution_count": 18,
   "id": "de5a2b29",
   "metadata": {},
   "outputs": [],
   "source": [
    "# plt.figure(figsize=(17,17))\n",
    "# sns.heatmap(df.corr(), annot =True);"
   ]
  },
  {
   "cell_type": "markdown",
   "id": "43d59101",
   "metadata": {},
   "source": [
    "## Train and Test set"
   ]
  },
  {
   "cell_type": "code",
   "execution_count": 6,
   "id": "f4eed83b",
   "metadata": {},
   "outputs": [],
   "source": [
    "x = df.iloc[:,:-1]\n",
    "y = df.iloc[:, -1:]"
   ]
  },
  {
   "cell_type": "code",
   "execution_count": 7,
   "id": "b43cccb8",
   "metadata": {},
   "outputs": [],
   "source": [
    "X_train, X_test, y_train, y_test = train_test_split(x, y, test_size=0.2, random_state=0)\n",
    "y_train = y_train.to_numpy().reshape(-1)"
   ]
  },
  {
   "cell_type": "code",
   "execution_count": 8,
   "id": "4a01157d",
   "metadata": {
    "scrolled": true
   },
   "outputs": [],
   "source": [
    "StScale = StandardScaler()\n",
    "X_test = StScale.fit_transform(X_test)\n",
    "X_train = StScale.fit_transform(X_train)"
   ]
  },
  {
   "cell_type": "markdown",
   "id": "7f438bd3",
   "metadata": {},
   "source": [
    "## Linear Regression"
   ]
  },
  {
   "cell_type": "code",
   "execution_count": 9,
   "id": "c36c5393",
   "metadata": {},
   "outputs": [
    {
     "data": {
      "text/plain": [
       "LinearRegression()"
      ]
     },
     "execution_count": 9,
     "metadata": {},
     "output_type": "execute_result"
    }
   ],
   "source": [
    "linear_r = LinearRegression()\n",
    "linear_r.fit(X_train, y_train)"
   ]
  },
  {
   "cell_type": "markdown",
   "id": "e4ba1b2c",
   "metadata": {},
   "source": [
    "## Linear Regression Analysis"
   ]
  },
  {
   "cell_type": "code",
   "execution_count": 10,
   "id": "d1ac921c",
   "metadata": {
    "scrolled": true
   },
   "outputs": [],
   "source": [
    "linear_r_predict = linear_r.predict(X_test)"
   ]
  },
  {
   "cell_type": "code",
   "execution_count": 11,
   "id": "e1065e84",
   "metadata": {},
   "outputs": [
    {
     "name": "stdout",
     "output_type": "stream",
     "text": [
      "15.20134330187341\n",
      "0.9999542180172497\n",
      "0.9998873153567823\n"
     ]
    }
   ],
   "source": [
    "# # print(classification_report(y_test, linear_r_predict))\n",
    "# # print(confusion_matrix(y_test, linear_r_predict))\n",
    "# print(accuracy_score(y_test, linear_r_predict))\n",
    "print(mean_squared_error(y_test, linear_r_predict))\n",
    "print(explained_variance_score(y_test, linear_r_predict))\n",
    "print(r2_score(y_test, linear_r_predict))\n",
    "# print(f1_score(y_test, linear_r_predict, average='weighted'))\n",
    "# print(f1_score(y_test, linear_r_predict, average='macro'))\n",
    "# ConfusionMatrixDisplay.from_predictions(y_test, linear_r_predict);"
   ]
  },
  {
   "cell_type": "markdown",
   "id": "1db62301",
   "metadata": {},
   "source": [
    "## Support Vector Regression"
   ]
  },
  {
   "cell_type": "code",
   "execution_count": 13,
   "id": "5350fff9",
   "metadata": {},
   "outputs": [],
   "source": [
    "# svr = SVR()"
   ]
  },
  {
   "cell_type": "code",
   "execution_count": 14,
   "id": "15cf139f",
   "metadata": {},
   "outputs": [
    {
     "name": "stdout",
     "output_type": "stream",
     "text": [
      "Fitting 5 folds for each of 5 candidates, totalling 25 fits\n"
     ]
    },
    {
     "data": {
      "text/plain": [
       "{'C': 549.8135039273247, 'gamma': 715.1993663724195}"
      ]
     },
     "execution_count": 14,
     "metadata": {},
     "output_type": "execute_result"
    }
   ],
   "source": [
    "# parameters = {\n",
    "#     'C': scipy.stats.uniform(1, 1000), \n",
    "#     'gamma': scipy.stats.uniform(0.01, 1000)\n",
    "# #     'Kernel': ['rbf', 'poly', 'sigmoid']\n",
    "# #     'degree':[2,3,4,5,6]\n",
    "# }\n",
    "# svr_model = RandomizedSearchCV(svr, parameters, verbose=1, n_iter=5, random_state=0).fit(X_train, y_train)\n",
    "# svr_model.best_params_"
   ]
  },
  {
   "cell_type": "code",
   "execution_count": 15,
   "id": "19741eca",
   "metadata": {},
   "outputs": [
    {
     "data": {
      "text/plain": [
       "SVR(C=549.8135039273247, gamma=715.1993663724195)"
      ]
     },
     "execution_count": 15,
     "metadata": {},
     "output_type": "execute_result"
    }
   ],
   "source": [
    "# svr_model.best_estimator_"
   ]
  },
  {
   "cell_type": "markdown",
   "id": "2873889f",
   "metadata": {},
   "source": [
    "## Support Vector Regression Analysis"
   ]
  },
  {
   "cell_type": "code",
   "execution_count": 16,
   "id": "069366ff",
   "metadata": {},
   "outputs": [],
   "source": [
    "svr_predictions = svr_model.predict(X_test)"
   ]
  },
  {
   "cell_type": "code",
   "execution_count": 17,
   "id": "fe8fb4b3",
   "metadata": {},
   "outputs": [
    {
     "name": "stdout",
     "output_type": "stream",
     "text": [
      "7.190994610321304\n",
      "1.1102230246251565e-16\n",
      "-0.01225935325539762\n"
     ]
    }
   ],
   "source": [
    "# # print(classification_report(y_test, linear_r_predict))\n",
    "# # print(confusion_matrix(y_test, linear_r_predict))\n",
    "# print(accuracy_score(y_test, linear_r_predict))\n",
    "print(mean_squared_error(y_test, svr_predictions))\n",
    "print(explained_variance_score(y_test, svr_predictions))\n",
    "print(r2_score(y_test, svr_predictions))\n",
    "# print(f1_score(y_test, linear_r_predict, average='weighted'))\n",
    "# print(f1_score(y_test, linear_r_predict, average='macro'))\n",
    "# ConfusionMatrixDisplay.from_predictions(y_test, linear_r_predict);"
   ]
  },
  {
   "cell_type": "markdown",
   "id": "1632c6c2",
   "metadata": {},
   "source": [
    "## Decision Tree Regression"
   ]
  },
  {
   "cell_type": "code",
   "execution_count": 12,
   "id": "896efa10",
   "metadata": {},
   "outputs": [
    {
     "data": {
      "text/plain": [
       "DecisionTreeRegressor()"
      ]
     },
     "execution_count": 12,
     "metadata": {},
     "output_type": "execute_result"
    }
   ],
   "source": [
    "tree = DecisionTreeRegressor()\n",
    "tree.fit(X_train, y_train)"
   ]
  },
  {
   "cell_type": "markdown",
   "id": "b815c235",
   "metadata": {},
   "source": [
    "## Decision tree Analysis"
   ]
  },
  {
   "cell_type": "code",
   "execution_count": 13,
   "id": "49d69d2a",
   "metadata": {},
   "outputs": [],
   "source": [
    "tree_predictions = tree.predict(X_test)"
   ]
  },
  {
   "cell_type": "code",
   "execution_count": 14,
   "id": "0efbc51e",
   "metadata": {},
   "outputs": [
    {
     "name": "stdout",
     "output_type": "stream",
     "text": [
      "18.754662841473507\n",
      "0.9999274424168929\n",
      "0.9998609752803426\n"
     ]
    }
   ],
   "source": [
    "# # print(classification_report(y_test, linear_r_predict))\n",
    "# # print(confusion_matrix(y_test, linear_r_predict))\n",
    "# print(accuracy_score(y_test, linear_r_predict))\n",
    "print(mean_squared_error(y_test, tree_predictions))\n",
    "print(explained_variance_score(y_test, tree_predictions))\n",
    "print(r2_score(y_test, tree_predictions))\n",
    "# print(f1_score(y_test, linear_r_predict, average='weighted'))\n",
    "# print(f1_score(y_test, linear_r_predict, average='macro'))\n",
    "# ConfusionMatrixDisplay.from_predictions(y_test, linear_r_predict);"
   ]
  },
  {
   "cell_type": "code",
   "execution_count": 15,
   "id": "35c9dfbc",
   "metadata": {},
   "outputs": [
    {
     "data": {
      "image/png": "[encoded data removed]",
      "text/plain": [
       "<Figure size 1512x1512 with 1 Axes>"
      ]
     },
     "metadata": {
      "needs_background": "light"
     },
     "output_type": "display_data"
    }
   ],
   "source": [
    "plt.figure(figsize=(21,21))\n",
    "plot_tree(tree, max_depth = 2, fontsize=14);"
   ]
  },
  {
   "cell_type": "markdown",
   "id": "95b77efe",
   "metadata": {},
   "source": [
    "## Random Forest Regression"
   ]
  },
  {
   "cell_type": "code",
   "execution_count": 16,
   "id": "94a5038d",
   "metadata": {},
   "outputs": [],
   "source": [
    "forest = RandomForestRegressor()\n",
    "forest = forest.fit(X_train, y_train)"
   ]
  },
  {
   "cell_type": "markdown",
   "id": "1bc4de34",
   "metadata": {},
   "source": [
    "## Random Forest Analysis"
   ]
  },
  {
   "cell_type": "code",
   "execution_count": 17,
   "id": "d18204de",
   "metadata": {},
   "outputs": [],
   "source": [
    "forest_predictions = forest.predict(X_test)"
   ]
  },
  {
   "cell_type": "code",
   "execution_count": 18,
   "id": "88e6ab1c",
   "metadata": {},
   "outputs": [
    {
     "name": "stdout",
     "output_type": "stream",
     "text": [
      "15.175454767776928\n",
      "0.9999540602770113\n",
      "0.9998875072635217\n"
     ]
    }
   ],
   "source": [
    "# # print(classification_report(y_test, linear_r_predict))\n",
    "# # print(confusion_matrix(y_test, linear_r_predict))\n",
    "# print(accuracy_score(y_test, linear_r_predict))\n",
    "print(mean_squared_error(y_test, forest_predictions))\n",
    "print(explained_variance_score(y_test, forest_predictions))\n",
    "print(r2_score(y_test, forest_predictions))\n",
    "# print(f1_score(y_test, linear_r_predict, average='weighted'))\n",
    "# print(f1_score(y_test, linear_r_predict, average='macro'))\n",
    "# ConfusionMatrixDisplay.from_predictions(y_test, linear_r_predict);"
   ]
  },
  {
   "cell_type": "markdown",
   "id": "52e57e81",
   "metadata": {},
   "source": [
    "## K Nearest Neighbours Regression"
   ]
  },
  {
   "cell_type": "code",
   "execution_count": 50,
   "id": "41806e46",
   "metadata": {},
   "outputs": [],
   "source": [
    "# knn = KNeighborsClassifier()"
   ]
  },
  {
   "cell_type": "code",
   "execution_count": 85,
   "id": "667c254d",
   "metadata": {},
   "outputs": [],
   "source": [
    "# parameters = {\n",
    "#     'n_neighbors': range(1, 100), \n",
    "#     'algorithm': ['auto', 'ball_tree', 'kd_tree', 'brute'], \n",
    "#     'weights': ['uniform', 'distance'], \n",
    "#     'leaf_size': scipy.stats.uniform(1, 50)\n",
    "# }\n",
    "# knn_model = RandomizedSearchCV(knn, parameters,verbose=10,random_state=0).fit(X_train, y_train)\n",
    "# knn_model.best_params_"
   ]
  },
  {
   "cell_type": "code",
   "execution_count": 56,
   "id": "66e33b65",
   "metadata": {},
   "outputs": [
    {
     "data": {
      "text/plain": [
       "KNeighborsClassifier(algorithm='kd_tree', leaf_size=41.60843643877466,\n",
       "                     n_neighbors=47)"
      ]
     },
     "execution_count": 56,
     "metadata": {},
     "output_type": "execute_result"
    }
   ],
   "source": [
    "# knn_model.best_estimator_"
   ]
  },
  {
   "cell_type": "markdown",
   "id": "68eda721",
   "metadata": {},
   "source": [
    "## KNN Analysis"
   ]
  },
  {
   "cell_type": "code",
   "execution_count": 57,
   "id": "bcb9fe2d",
   "metadata": {},
   "outputs": [],
   "source": [
    "knn_predictions = knn_model.predict(X_test)"
   ]
  },
  {
   "cell_type": "code",
   "execution_count": 59,
   "id": "629ecbb4",
   "metadata": {},
   "outputs": [
    {
     "name": "stdout",
     "output_type": "stream",
     "text": [
      "              precision    recall  f1-score   support\n",
      "\n",
      "           0       0.55      0.82      0.66       101\n",
      "           1       0.78      0.48      0.60       130\n",
      "\n",
      "    accuracy                           0.63       231\n",
      "   macro avg       0.67      0.65      0.63       231\n",
      "weighted avg       0.68      0.63      0.63       231\n",
      "\n",
      "[[83 18]\n",
      " [67 63]]\n",
      "0.6320346320346321\n",
      "0.6252257337773095\n",
      "0.6292554898887861\n"
     ]
    },
    {
     "data": {
      "image/png": "[encoded data removed]",
      "text/plain": [
       "<Figure size 432x288 with 2 Axes>"
      ]
     },
     "metadata": {
      "needs_background": "light"
     },
     "output_type": "display_data"
    }
   ],
   "source": [
    "# print(classification_report(y_test, knn_predictions))\n",
    "# print(confusion_matrix (y_test, knn_predictions))\n",
    "# print(accuracy_score(y_test, knn_predictions))\n",
    "# print(f1_score(y_test, knn_predictions, average='weighted'))\n",
    "# print(f1_score(y_test, knn_predictions, average='macro'))\n",
    "# ConfusionMatrixDisplay.from_predictions(y_test, knn_predictions);"
   ]
  },
  {
   "cell_type": "code",
   "execution_count": null,
   "id": "14f17f64",
   "metadata": {},
   "outputs": [],
   "source": []
  },
  {
   "cell_type": "code",
   "execution_count": null,
   "id": "8fe527f1",
   "metadata": {},
   "outputs": [],
   "source": []
  },
  {
   "cell_type": "code",
   "execution_count": null,
   "id": "36912292",
   "metadata": {},
   "outputs": [],
   "source": []
  }
 ],
 "metadata": {
  "kernelspec": {
   "display_name": "Python 3 (ipykernel)",
   "language": "python",
   "name": "python3"
  },
  "language_info": {
   "codemirror_mode": {
    "name": "ipython",
    "version": 3
   },
   "file_extension": ".py",
   "mimetype": "text/x-python",
   "name": "python",
   "nbconvert_exporter": "python",
   "pygments_lexer": "ipython3",
   "version": "3.9.5"
  }
 },
 "nbformat": 4,
 "nbformat_minor": 5
}
