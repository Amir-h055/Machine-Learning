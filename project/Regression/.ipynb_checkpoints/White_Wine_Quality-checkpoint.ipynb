{
 "cells": [
  {
   "cell_type": "markdown",
   "id": "e4f8386e",
   "metadata": {},
   "source": [
    "# White_Wine_Quality"
   ]
  },
  {
   "cell_type": "code",
   "execution_count": 1,
   "id": "1a319900",
   "metadata": {},
   "outputs": [],
   "source": [
    "import numpy as np\n",
    "import matplotlib.pyplot as plt\n",
    "import sklearn as sk\n",
    "import pandas as pd\n",
    "import scipy\n",
    "import seaborn as sns\n",
    "import math\n",
    "import pickle\n",
    "\n",
    "from scipy.io import arff\n",
    "from sklearn.model_selection import train_test_split, GridSearchCV, RandomizedSearchCV, cross_val_score\n",
    "from sklearn.preprocessing import StandardScaler\n",
    "from sklearn.preprocessing import PolynomialFeatures\n",
    "from sklearn.metrics import (confusion_matrix,plot_confusion_matrix,\n",
    "                            ConfusionMatrixDisplay,accuracy_score,f1_score,\n",
    "                            mean_squared_error, mean_absolute_error, max_error,\n",
    "                            r2_score, explained_variance_score)\n",
    "\n",
    "from sklearn.linear_model import LinearRegression,LogisticRegression\n",
    "from sklearn.svm import SVR\n",
    "from sklearn.tree import DecisionTreeRegressor, plot_tree\n",
    "from sklearn.ensemble import RandomForestRegressor"
   ]
  },
  {
   "cell_type": "markdown",
   "id": "f73e41c8",
   "metadata": {},
   "source": [
    "## Loading Data"
   ]
  },
  {
   "cell_type": "code",
   "execution_count": 2,
   "id": "07c6cb99",
   "metadata": {},
   "outputs": [],
   "source": [
    "Datset = pd.read_csv('Regression_Datasets/1_Wine_Quality/Wine_Quality_White.csv', delimiter=';') \n"
   ]
  },
  {
   "cell_type": "code",
   "execution_count": 5,
   "id": "c22e371a",
   "metadata": {},
   "outputs": [
    {
     "data": {
      "text/html": [
       "<div>\n",
       "<style scoped>\n",
       "    .dataframe tbody tr th:only-of-type {\n",
       "        vertical-align: middle;\n",
       "    }\n",
       "\n",
       "    .dataframe tbody tr th {\n",
       "        vertical-align: top;\n",
       "    }\n",
       "\n",
       "    .dataframe thead th {\n",
       "        text-align: right;\n",
       "    }\n",
       "</style>\n",
       "<table border=\"1\" class=\"dataframe\">\n",
       "  <thead>\n",
       "    <tr style=\"text-align: right;\">\n",
       "      <th></th>\n",
       "      <th>fixed acidity</th>\n",
       "      <th>volatile acidity</th>\n",
       "      <th>citric acid</th>\n",
       "      <th>residual sugar</th>\n",
       "      <th>chlorides</th>\n",
       "      <th>free sulfur dioxide</th>\n",
       "      <th>total sulfur dioxide</th>\n",
       "      <th>density</th>\n",
       "      <th>pH</th>\n",
       "      <th>sulphates</th>\n",
       "      <th>alcohol</th>\n",
       "      <th>quality</th>\n",
       "    </tr>\n",
       "  </thead>\n",
       "  <tbody>\n",
       "    <tr>\n",
       "      <th>0</th>\n",
       "      <td>7.0</td>\n",
       "      <td>0.27</td>\n",
       "      <td>0.36</td>\n",
       "      <td>20.7</td>\n",
       "      <td>0.045</td>\n",
       "      <td>45.0</td>\n",
       "      <td>170.0</td>\n",
       "      <td>1.0010</td>\n",
       "      <td>3.00</td>\n",
       "      <td>0.45</td>\n",
       "      <td>8.8</td>\n",
       "      <td>6</td>\n",
       "    </tr>\n",
       "    <tr>\n",
       "      <th>1</th>\n",
       "      <td>6.3</td>\n",
       "      <td>0.30</td>\n",
       "      <td>0.34</td>\n",
       "      <td>1.6</td>\n",
       "      <td>0.049</td>\n",
       "      <td>14.0</td>\n",
       "      <td>132.0</td>\n",
       "      <td>0.9940</td>\n",
       "      <td>3.30</td>\n",
       "      <td>0.49</td>\n",
       "      <td>9.5</td>\n",
       "      <td>6</td>\n",
       "    </tr>\n",
       "    <tr>\n",
       "      <th>2</th>\n",
       "      <td>8.1</td>\n",
       "      <td>0.28</td>\n",
       "      <td>0.40</td>\n",
       "      <td>6.9</td>\n",
       "      <td>0.050</td>\n",
       "      <td>30.0</td>\n",
       "      <td>97.0</td>\n",
       "      <td>0.9951</td>\n",
       "      <td>3.26</td>\n",
       "      <td>0.44</td>\n",
       "      <td>10.1</td>\n",
       "      <td>6</td>\n",
       "    </tr>\n",
       "    <tr>\n",
       "      <th>3</th>\n",
       "      <td>7.2</td>\n",
       "      <td>0.23</td>\n",
       "      <td>0.32</td>\n",
       "      <td>8.5</td>\n",
       "      <td>0.058</td>\n",
       "      <td>47.0</td>\n",
       "      <td>186.0</td>\n",
       "      <td>0.9956</td>\n",
       "      <td>3.19</td>\n",
       "      <td>0.40</td>\n",
       "      <td>9.9</td>\n",
       "      <td>6</td>\n",
       "    </tr>\n",
       "    <tr>\n",
       "      <th>4</th>\n",
       "      <td>7.2</td>\n",
       "      <td>0.23</td>\n",
       "      <td>0.32</td>\n",
       "      <td>8.5</td>\n",
       "      <td>0.058</td>\n",
       "      <td>47.0</td>\n",
       "      <td>186.0</td>\n",
       "      <td>0.9956</td>\n",
       "      <td>3.19</td>\n",
       "      <td>0.40</td>\n",
       "      <td>9.9</td>\n",
       "      <td>6</td>\n",
       "    </tr>\n",
       "  </tbody>\n",
       "</table>\n",
       "</div>"
      ],
      "text/plain": [
       "   fixed acidity  volatile acidity  citric acid  residual sugar  chlorides  \\\n",
       "0            7.0              0.27         0.36            20.7      0.045   \n",
       "1            6.3              0.30         0.34             1.6      0.049   \n",
       "2            8.1              0.28         0.40             6.9      0.050   \n",
       "3            7.2              0.23         0.32             8.5      0.058   \n",
       "4            7.2              0.23         0.32             8.5      0.058   \n",
       "\n",
       "   free sulfur dioxide  total sulfur dioxide  density    pH  sulphates  \\\n",
       "0                 45.0                 170.0   1.0010  3.00       0.45   \n",
       "1                 14.0                 132.0   0.9940  3.30       0.49   \n",
       "2                 30.0                  97.0   0.9951  3.26       0.44   \n",
       "3                 47.0                 186.0   0.9956  3.19       0.40   \n",
       "4                 47.0                 186.0   0.9956  3.19       0.40   \n",
       "\n",
       "   alcohol  quality  \n",
       "0      8.8        6  \n",
       "1      9.5        6  \n",
       "2     10.1        6  \n",
       "3      9.9        6  \n",
       "4      9.9        6  "
      ]
     },
     "execution_count": 5,
     "metadata": {},
     "output_type": "execute_result"
    }
   ],
   "source": [
    "df = pd.DataFrame(Datset)\n",
    "df.head()"
   ]
  },
  {
   "cell_type": "markdown",
   "id": "6fc2460f",
   "metadata": {},
   "source": [
    "## Data Prepration And Analysis"
   ]
  },
  {
   "cell_type": "code",
   "execution_count": 4,
   "id": "73aad8ac",
   "metadata": {},
   "outputs": [
    {
     "name": "stdout",
     "output_type": "stream",
     "text": [
      "0\n"
     ]
    }
   ],
   "source": [
    "print(np.count_nonzero(Datset==np.nan))"
   ]
  },
  {
   "cell_type": "code",
   "execution_count": 5,
   "id": "8b045f43",
   "metadata": {},
   "outputs": [
    {
     "name": "stdout",
     "output_type": "stream",
     "text": [
      "6    2198\n",
      "5    1457\n",
      "7     880\n",
      "8     175\n",
      "4     163\n",
      "3      20\n",
      "9       5\n",
      "Name: quality, dtype: int64\n",
      "---------------------------\n"
     ]
    },
    {
     "data": {
      "image/png": "[encoded data removed]",
      "text/plain": [
       "<Figure size 432x288 with 1 Axes>"
      ]
     },
     "metadata": {
      "needs_background": "light"
     },
     "output_type": "display_data"
    }
   ],
   "source": [
    "frequency = df['quality'].value_counts()\n",
    "print(frequency)\n",
    "print(\"---------------------------\")\n",
    "plt.title('Frequencies of Targets')\n",
    "df['quality'].plot.hist(subplots=True, figsize=(20, 30), bins=15);"
   ]
  },
  {
   "cell_type": "markdown",
   "id": "0e17ef2d",
   "metadata": {},
   "source": [
    "### Defining Dictionary Of Models"
   ]
  },
  {
   "cell_type": "code",
   "execution_count": 3,
   "id": "5ba0911a",
   "metadata": {},
   "outputs": [],
   "source": [
    "# MODELS = {'linear_r', 'svr', 'decision_tree_r', 'random_forest_r', 'knn_r', 'adaboost_r', 'gaussian_process_r', 'neural_network_r'}\n",
    "MODELS = {'linear_r', 'svr', 'decision_tree_r', 'random_forest_r'}\n",
    "white_wine_dict = {}    "
   ]
  },
  {
   "cell_type": "markdown",
   "id": "43d59101",
   "metadata": {},
   "source": [
    "## Train and Test set"
   ]
  },
  {
   "cell_type": "code",
   "execution_count": 6,
   "id": "f4eed83b",
   "metadata": {},
   "outputs": [],
   "source": [
    "x = df.iloc[:,:-1]\n",
    "y = df.iloc[:, -1:]"
   ]
  },
  {
   "cell_type": "code",
   "execution_count": 7,
   "id": "b43cccb8",
   "metadata": {},
   "outputs": [],
   "source": [
    "X_train, X_test, y_train, y_test = train_test_split(x, y, train_size=0.85, test_size=0.15, random_state=0)\n",
    "\n",
    "y_train = y_train.to_numpy().reshape(-1)\n",
    "y_test = y_test.to_numpy().reshape(-1)"
   ]
  },
  {
   "cell_type": "code",
   "execution_count": 8,
   "id": "4a01157d",
   "metadata": {
    "scrolled": true
   },
   "outputs": [],
   "source": [
    "StScale = StandardScaler()\n",
    "X_train = StScale.fit_transform(X_train)\n",
    "X_test = StScale.transform(X_test)"
   ]
  },
  {
   "cell_type": "code",
   "execution_count": 9,
   "id": "0cee3405",
   "metadata": {},
   "outputs": [],
   "source": [
    "from tabulate import tabulate\n",
    "def model_results(model):\n",
    "    table = [[\"Parameters / Metrics\", \"Tuned\"]]\n",
    "    curr_model = model['model']\n",
    "    \n",
    "    if model['hyperparameters'] == 1:\n",
    "        for param in curr_model.best_params_:\n",
    "            table.append([param, curr_model.best_params_[param]])\n",
    "    \n",
    "    linear_r_predict = curr_model.predict(X_test)\n",
    "    mse = mean_squared_error(y_test, linear_r_predict)\n",
    "    model['mse'] = mse\n",
    "    r2 = r2_score(y_test, linear_r_predict)\n",
    "    model['r2'] = r2\n",
    "    table.append(['Mean Squarred Error', mse])\n",
    "    table.append(['r2 Score',r2])\n",
    "    \n",
    "    print(tabulate(table, headers='firstrow', tablefmt='grid'))"
   ]
  },
  {
   "cell_type": "markdown",
   "id": "7f438bd3",
   "metadata": {},
   "source": [
    "## Linear Regression"
   ]
  },
  {
   "cell_type": "code",
   "execution_count": 10,
   "id": "c36c5393",
   "metadata": {},
   "outputs": [],
   "source": [
    "linear_r = LinearRegression()\n",
    "linear_r.fit(X_train, y_train)\n",
    "\n",
    "white_wine_dict['linear_r'] = {'model':linear_r, 'hyperparameters':0}"
   ]
  },
  {
   "cell_type": "markdown",
   "id": "e4ba1b2c",
   "metadata": {},
   "source": [
    "## Linear Regression Analysis"
   ]
  },
  {
   "cell_type": "code",
   "execution_count": 11,
   "id": "d1ac921c",
   "metadata": {
    "scrolled": true
   },
   "outputs": [
    {
     "name": "stdout",
     "output_type": "stream",
     "text": [
      "+------------------------+----------+\n",
      "| Parameters / Metrics   |    Tuned |\n",
      "+========================+==========+\n",
      "| Mean Squarred Error    | 0.662523 |\n",
      "+------------------------+----------+\n",
      "| r2 Score               | 0.263123 |\n",
      "+------------------------+----------+\n"
     ]
    }
   ],
   "source": [
    "model_results(white_wine_dict['linear_r'])"
   ]
  },
  {
   "cell_type": "markdown",
   "id": "1db62301",
   "metadata": {},
   "source": [
    "## Support Vector Regression"
   ]
  },
  {
   "cell_type": "code",
   "execution_count": 12,
   "id": "5350fff9",
   "metadata": {},
   "outputs": [],
   "source": [
    "svr = SVR().fit(X_train, y_train)"
   ]
  },
  {
   "cell_type": "code",
   "execution_count": 25,
   "id": "15cf139f",
   "metadata": {},
   "outputs": [
    {
     "name": "stdout",
     "output_type": "stream",
     "text": [
      "Fitting 5 folds for each of 20 candidates, totalling 100 fits\n"
     ]
    },
    {
     "data": {
      "text/plain": [
       "{'C': 2.182744258689332, 'gamma': 0.6409210213275238}"
      ]
     },
     "execution_count": 25,
     "metadata": {},
     "output_type": "execute_result"
    }
   ],
   "source": [
    "parameters = {\n",
    "    'C': scipy.stats.uniform(1, 10), \n",
    "    'gamma': scipy.stats.uniform(0.001, 1)\n",
    "}\n",
    "svr_model = RandomizedSearchCV(svr, parameters, verbose=1, n_iter=20, random_state=0).fit(X_train, y_train)\n",
    "svr_model.best_params_"
   ]
  },
  {
   "cell_type": "code",
   "execution_count": 26,
   "id": "19741eca",
   "metadata": {},
   "outputs": [
    {
     "data": {
      "text/plain": [
       "SVR(C=2.182744258689332, gamma=0.6409210213275238)"
      ]
     },
     "execution_count": 26,
     "metadata": {},
     "output_type": "execute_result"
    }
   ],
   "source": [
    "svr_model.best_estimator_"
   ]
  },
  {
   "cell_type": "markdown",
   "id": "2873889f",
   "metadata": {},
   "source": [
    "## Support Vector Regression Analysis"
   ]
  },
  {
   "cell_type": "code",
   "execution_count": 27,
   "id": "069366ff",
   "metadata": {},
   "outputs": [
    {
     "name": "stdout",
     "output_type": "stream",
     "text": [
      "+------------------------+----------+\n",
      "| Parameters / Metrics   |    Tuned |\n",
      "+========================+==========+\n",
      "| C                      | 2.18274  |\n",
      "+------------------------+----------+\n",
      "| gamma                  | 0.640921 |\n",
      "+------------------------+----------+\n",
      "| Mean Squarred Error    | 0.495425 |\n",
      "+------------------------+----------+\n",
      "| r2 Score               | 0.448974 |\n",
      "+------------------------+----------+\n"
     ]
    }
   ],
   "source": [
    "white_wine_dict['svr'] = {'model':svr_model, 'hyperparameters':1}\n",
    "model_results(white_wine_dict['svr'])"
   ]
  },
  {
   "cell_type": "markdown",
   "id": "1632c6c2",
   "metadata": {},
   "source": [
    "## Decision Tree Regression"
   ]
  },
  {
   "cell_type": "code",
   "execution_count": 28,
   "id": "896efa10",
   "metadata": {},
   "outputs": [],
   "source": [
    "tree = DecisionTreeRegressor().fit(X_train, y_train)"
   ]
  },
  {
   "cell_type": "code",
   "execution_count": 66,
   "id": "4866cfd9",
   "metadata": {},
   "outputs": [
    {
     "name": "stdout",
     "output_type": "stream",
     "text": [
      "Fitting 5 folds for each of 25 candidates, totalling 125 fits\n"
     ]
    },
    {
     "data": {
      "text/plain": [
       "{'max_depth': 35.88155979636324, 'min_samples_split': 0.06022547162926983}"
      ]
     },
     "execution_count": 66,
     "metadata": {},
     "output_type": "execute_result"
    }
   ],
   "source": [
    "parameters = {\n",
    "    'max_depth': scipy.stats.uniform(1, 50),\n",
    "    'min_samples_split': scipy.stats.uniform(0, 1) \n",
    "}\n",
    "tree_model = RandomizedSearchCV(tree, parameters, verbose=1, n_iter=25, random_state=0).fit(X_train, y_train)\n",
    "tree_model.best_params_"
   ]
  },
  {
   "cell_type": "markdown",
   "id": "b815c235",
   "metadata": {},
   "source": [
    "## Decision tree Analysis"
   ]
  },
  {
   "cell_type": "code",
   "execution_count": 67,
   "id": "49d69d2a",
   "metadata": {},
   "outputs": [
    {
     "name": "stdout",
     "output_type": "stream",
     "text": [
      "+------------------------+------------+\n",
      "| Parameters / Metrics   |      Tuned |\n",
      "+========================+============+\n",
      "| max_depth              | 35.8816    |\n",
      "+------------------------+------------+\n",
      "| min_samples_split      |  0.0602255 |\n",
      "+------------------------+------------+\n",
      "| Mean Squarred Error    |  0.663371  |\n",
      "+------------------------+------------+\n",
      "| r2 Score               |  0.26218   |\n",
      "+------------------------+------------+\n"
     ]
    }
   ],
   "source": [
    "white_wine_dict['decision_tree_r'] = {'model':tree_model, 'hyperparameters':1}\n",
    "model_results(white_wine_dict['decision_tree_r'])"
   ]
  },
  {
   "cell_type": "code",
   "execution_count": 61,
   "id": "35c9dfbc",
   "metadata": {},
   "outputs": [
    {
     "data": {
      "image/png": "[encoded data removed]",
      "text/plain": [
       "<Figure size 1512x1512 with 1 Axes>"
      ]
     },
     "metadata": {
      "needs_background": "light"
     },
     "output_type": "display_data"
    }
   ],
   "source": [
    "plt.figure(figsize=(21,21))\n",
    "plot_tree(tree_model.best_estimator_, max_depth = 2, fontsize=14);"
   ]
  },
  {
   "cell_type": "markdown",
   "id": "95b77efe",
   "metadata": {},
   "source": [
    "## Random Forest Regression"
   ]
  },
  {
   "cell_type": "code",
   "execution_count": 69,
   "id": "94a5038d",
   "metadata": {},
   "outputs": [],
   "source": [
    "forest = RandomForestRegressor()\n",
    "forest = forest.fit(X_train, y_train)"
   ]
  },
  {
   "cell_type": "code",
   "execution_count": 81,
   "id": "ed8a0e26",
   "metadata": {},
   "outputs": [
    {
     "name": "stdout",
     "output_type": "stream",
     "text": [
      "Fitting 5 folds for each of 20 candidates, totalling 100 fits\n"
     ]
    },
    {
     "data": {
      "text/plain": [
       "{'max_depth': 61.276337607164386, 'n_estimators': 103}"
      ]
     },
     "execution_count": 81,
     "metadata": {},
     "output_type": "execute_result"
    }
   ],
   "source": [
    "parameters = {\n",
    "    'n_estimators': range(100,150),\n",
    "    'max_depth': scipy.stats.uniform(1, 100),\n",
    "}\n",
    "forest_model = RandomizedSearchCV(forest, parameters, verbose=1, n_iter=20, random_state=0).fit(X_train, y_train)\n",
    "forest_model.best_params_"
   ]
  },
  {
   "cell_type": "markdown",
   "id": "1bc4de34",
   "metadata": {},
   "source": [
    "## Random Forest Analysis"
   ]
  },
  {
   "cell_type": "code",
   "execution_count": 82,
   "id": "d18204de",
   "metadata": {},
   "outputs": [
    {
     "name": "stdout",
     "output_type": "stream",
     "text": [
      "+------------------------+------------+\n",
      "| Parameters / Metrics   |      Tuned |\n",
      "+========================+============+\n",
      "| max_depth              |  61.2763   |\n",
      "+------------------------+------------+\n",
      "| n_estimators           | 103        |\n",
      "+------------------------+------------+\n",
      "| Mean Squarred Error    |   0.447074 |\n",
      "+------------------------+------------+\n",
      "| r2 Score               |   0.502751 |\n",
      "+------------------------+------------+\n"
     ]
    }
   ],
   "source": [
    "white_wine_dict['random_forest_r'] = {'model':forest_model, 'hyperparameters':1}\n",
    "model_results(white_wine_dict['random_forest_r'])"
   ]
  },
  {
   "cell_type": "markdown",
   "id": "52e57e81",
   "metadata": {},
   "source": [
    "## K Nearest Neighbours Regression"
   ]
  },
  {
   "cell_type": "code",
   "execution_count": 50,
   "id": "41806e46",
   "metadata": {},
   "outputs": [],
   "source": [
    "# knn = KNeighborsClassifier()"
   ]
  },
  {
   "cell_type": "code",
   "execution_count": 85,
   "id": "667c254d",
   "metadata": {},
   "outputs": [],
   "source": [
    "# parameters = {\n",
    "#     'n_neighbors': range(1, 100), \n",
    "#     'algorithm': ['auto', 'ball_tree', 'kd_tree', 'brute'], \n",
    "#     'weights': ['uniform', 'distance'], \n",
    "#     'leaf_size': scipy.stats.uniform(1, 50)\n",
    "# }\n",
    "# knn_model = RandomizedSearchCV(knn, parameters,verbose=10,random_state=0).fit(X_train, y_train)\n",
    "# knn_model.best_params_"
   ]
  },
  {
   "cell_type": "code",
   "execution_count": 56,
   "id": "66e33b65",
   "metadata": {},
   "outputs": [
    {
     "data": {
      "text/plain": [
       "KNeighborsClassifier(algorithm='kd_tree', leaf_size=41.60843643877466,\n",
       "                     n_neighbors=47)"
      ]
     },
     "execution_count": 56,
     "metadata": {},
     "output_type": "execute_result"
    }
   ],
   "source": [
    "# knn_model.best_estimator_"
   ]
  },
  {
   "cell_type": "markdown",
   "id": "68eda721",
   "metadata": {},
   "source": [
    "## KNN Analysis"
   ]
  },
  {
   "cell_type": "code",
   "execution_count": 57,
   "id": "bcb9fe2d",
   "metadata": {},
   "outputs": [],
   "source": [
    "# knn_predictions = knn_model.predict(X_test)"
   ]
  },
  {
   "cell_type": "code",
   "execution_count": null,
   "id": "629ecbb4",
   "metadata": {},
   "outputs": [],
   "source": [
    "*** insert other models ***"
   ]
  },
  {
   "cell_type": "markdown",
   "id": "3c02a73a",
   "metadata": {},
   "source": [
    "### Analyzing Models for Red Wine Quality"
   ]
  },
  {
   "cell_type": "code",
   "execution_count": 83,
   "id": "8fe527f1",
   "metadata": {},
   "outputs": [
    {
     "name": "stdout",
     "output_type": "stream",
     "text": [
      "+-----------------+-----------------------+------------+\n",
      "| Model Name      |   Mean Squarred Error |   r2 Score |\n",
      "+=================+=======================+============+\n",
      "| svr             |              0.495425 |   0.448974 |\n",
      "+-----------------+-----------------------+------------+\n",
      "| random_forest_r |              0.447074 |   0.502751 |\n",
      "+-----------------+-----------------------+------------+\n",
      "| decision_tree_r |              0.663371 |   0.26218  |\n",
      "+-----------------+-----------------------+------------+\n",
      "| linear_r        |              0.662523 |   0.263123 |\n",
      "+-----------------+-----------------------+------------+\n"
     ]
    },
    {
     "data": {
      "image/png": "[encoded data removed]",
      "text/plain": [
       "<Figure size 504x288 with 1 Axes>"
      ]
     },
     "metadata": {},
     "output_type": "display_data"
    },
    {
     "data": {
      "image/png": "[encoded data removed]",
      "text/plain": [
       "<Figure size 504x288 with 1 Axes>"
      ]
     },
     "metadata": {},
     "output_type": "display_data"
    }
   ],
   "source": [
    "def cross_checking_model_results(dictionary):\n",
    "    table = [[\"Model Name\", \"Mean Squarred Error\", \"r2 Score\"]]\n",
    "    x_models = []\n",
    "    y_mse = []\n",
    "    y_r2 = []\n",
    "    \n",
    "    for model_key in MODELS:\n",
    "        table.append([model_key, dictionary[model_key]['mse'], dictionary[model_key]['r2']])\n",
    "        x_models.append(model_key)\n",
    "        y_mse.append(dictionary[model_key]['mse'])\n",
    "        y_r2.append(dictionary[model_key]['r2'])\n",
    "    print(tabulate(table, headers='firstrow', tablefmt='grid'))\n",
    "    \n",
    "    sns.set_theme(style=\"whitegrid\")\n",
    "    plt.figure(figsize=(7,4))\n",
    "    ax1 = sns.barplot(x=x_models, y=y_mse, palette=\"viridis\").set_title('Models and Mean Squarred Error')\n",
    "    plt.figure(figsize=(7,4))\n",
    "    ax2 = sns.barplot(x=x_models, y=y_r2, palette=\"viridis\").set_title('Models and r2 Score')\n",
    "\n",
    "\n",
    "cross_checking_model_results(white_wine_dict)"
   ]
  },
  {
   "cell_type": "markdown",
   "id": "a3343c24",
   "metadata": {},
   "source": [
    "### Regression Dictionary\n",
    "Exporting Model Data for Later Analysis and Comparison"
   ]
  },
  {
   "cell_type": "code",
   "execution_count": 84,
   "id": "22bc40f2",
   "metadata": {},
   "outputs": [],
   "source": [
    "with open('base_regression_dict.dictionary', 'rb') as config_dictionary_file:\n",
    "    base_regression_dict = pickle.load(config_dictionary_file)\n",
    "\n",
    "base_regression_dict['white_wine_quality']= white_wine_dict\n",
    "\n",
    "with open('base_regression_dict.dictionary', 'wb') as config_dictionary_file:\n",
    "    pickle.dump(base_regression_dict, config_dictionary_file)"
   ]
  }
 ],
 "metadata": {
  "kernelspec": {
   "display_name": "Python 3 (ipykernel)",
   "language": "python",
   "name": "python3"
  },
  "language_info": {
   "codemirror_mode": {
    "name": "ipython",
    "version": 3
   },
   "file_extension": ".py",
   "mimetype": "text/x-python",
   "name": "python",
   "nbconvert_exporter": "python",
   "pygments_lexer": "ipython3",
   "version": "3.9.5"
  }
 },
 "nbformat": 4,
 "nbformat_minor": 5
}
