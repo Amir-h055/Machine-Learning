{
 "cells": [
  {
   "cell_type": "code",
   "execution_count": 2,
   "metadata": {},
   "outputs": [],
   "source": [
    "from sklearn import linear_model\n",
    "from sklearn.preprocessing import LabelEncoder\n",
    "import sklearn\n",
    "import numpy as np\n",
    "from scipy.io import arff\n",
    "import pandas as pd\n",
    "import math\n",
    "import os.path"
   ]
  },
  {
   "cell_type": "code",
   "execution_count": null,
   "metadata": {},
   "outputs": [],
   "source": [
    "\"\"\"linear regression\"\"\""
   ]
  },
  {
   "cell_type": "code",
   "execution_count": 3,
   "metadata": {
    "scrolled": true
   },
   "outputs": [],
   "source": [
    "def linear_regression(X, y, polynomial_degree=1, training_percentage=0.85, testing_percentage=0.15):\n",
    "    \n",
    "    num_training_examples = math.floor(X.shape[0]*training_percentage) # number of rows in a single column * our training %\n",
    "    num_testing_examples = math.ceil(X.shape[0]*testing_percentage)\n",
    "\n",
    "    X_train = X.iloc[:num_training_examples, :] # isolating 85% of input data for our training\n",
    "    X_test = X.iloc[:num_testing_examples, :]   # isolating 15% of input data for out testing\n",
    "\n",
    "    y_train = y.iloc[:num_training_examples]    # isolating 85% of our target to match with our training input\n",
    "    y_test = y.iloc[:num_testing_examples]      # isolating 15% of our target to match with our testing input\n",
    "    \n",
    "    \"\"\"polynomial transformation\"\"\"\n",
    "    polynomial = sklearn.preprocessing.PolynomialFeatures(polynomial_degree)  # preprocessing our data, moving it to higher polynomial dimension\n",
    "    X_train_transformed = polynomial.fit_transform(X_train)\n",
    "    \n",
    "    \"\"\"fitting linear regression model\"\"\"\n",
    "    # we fit our model using 85% of preprocessed triaining input data, along with our 85% target y values\n",
    "    regression_model = sklearn.linear_model.LinearRegression().fit(X_train_transformed, y_train)\n",
    "    \n",
    "    \"\"\"testing linear regression model\"\"\"\n",
    "    X_test_transformed = polynomial.transform(X_test)      # we must also preprocess our testing data \n",
    "    y_pred = regression_model.predict(X_test_transformed)\n",
    "    \n",
    "    accuracy1 = sklearn.metrics.mean_squared_error(y_test, y_pred)\n",
    "    accuracy2 = sklearn.metrics.mean_absolute_error(y_test, y_pred)\n",
    "    accuracy3 = sklearn.metrics.max_error(y_test, y_pred)\n",
    "    accuracy4 = sklearn.metrics.r2_score(y_test, y_pred)\n",
    "    accuracy6 = sklearn.metrics.explained_variance_score(y_test, y_pred)\n",
    "    \n",
    "    print('                 MINIMIZE: ')\n",
    "    print(\"Mean squared error\\t\", accuracy1)\n",
    "    print(\"Mean absolute error\\t\", accuracy2)\n",
    "    print(\"Max error\\t\\t\", accuracy3)\n",
    "    print('                 MAXIMIZE: ')\n",
    "    print(\"r2 Score\\t\\t\", accuracy4)\n",
    "    print(\"Explained Variance Score\", accuracy6)\n",
    "    print('---------------------------------------------')\n"
   ]
  },
  {
   "cell_type": "code",
   "execution_count": 4,
   "metadata": {},
   "outputs": [],
   "source": [
    "\"\"\"importing datasets\"\"\";"
   ]
  },
  {
   "cell_type": "code",
   "execution_count": 6,
   "metadata": {},
   "outputs": [
    {
     "name": "stdout",
     "output_type": "stream",
     "text": [
      "Red wine quality\n",
      "                 MINIMIZE: \n",
      "Mean squared error\t 0.3424554158368665\n",
      "Mean absolute error\t 0.4654143263432843\n",
      "Max error\t\t 1.6117487980800433\n",
      "                 MAXIMIZE: \n",
      "r2 Score\t\t 0.20201335198820713\n",
      "Explained Variance Score 0.20202082028187196\n",
      "---------------------------------------------\n",
      "White wine quality\n",
      "                 MINIMIZE: \n",
      "Mean squared error\t 0.44221602516952857\n",
      "Mean absolute error\t 0.5150029041310202\n",
      "Max error\t\t 3.299259056104347\n",
      "                 MAXIMIZE: \n",
      "r2 Score\t\t 0.4305678390852503\n",
      "Explained Variance Score 0.4357040629704033\n",
      "---------------------------------------------\n"
     ]
    }
   ],
   "source": [
    "\"\"\"1. Wine Quality\"\"\"\n",
    "# Data Details: 11 features, 1 target (quality), 1599 samples for red    \n",
    "directory = '/Users/annikatimermanis/Desktop/project/datasets/regression/wine_quality/winequality-red.csv'\n",
    "# path = '/Users/annikatimermanis/Desktop/project/datasets/wine_quality/winequality-red.csv'\n",
    "# dirname = os.path.dirname(path)\n",
    "# directory = 'winequality-red.csv'\n",
    "\n",
    "data = pd.read_csv(directory, delimiter=';') # breaking up our inputs from our target values\n",
    "X = data.iloc[:, :-1] # take everything except last column, our inputs\n",
    "y = data.iloc[:, -1:] # tak only last column (our qualities), our target\n",
    "print(\"\"\"Red wine quality\"\"\")\n",
    "linear_regression(X, y, 2)\n",
    "\n",
    "# Data Details: 11 features, 1 target (quality), 4898 samples for white    \n",
    "directory = '/Users/annikatimermanis/Desktop/project/datasets/regression/wine_quality/winequality-white.csv'\n",
    "data = pd.read_csv(directory, delimiter=';') # breaking up our inputs from our target values\n",
    "X = data.iloc[:, :-1] # take everything except last column, our inputs\n",
    "y = data.iloc[:, -1:] # tak only last column (our qualities), our target\n",
    "print(\"\"\"White wine quality\"\"\")\n",
    "linear_regression(X, y, 3)"
   ]
  },
  {
   "cell_type": "code",
   "execution_count": 46,
   "metadata": {},
   "outputs": [
    {
     "name": "stdout",
     "output_type": "stream",
     "text": [
      "Communities and Crime\n",
      "                 MINIMIZE: \n",
      "Mean squared error\t 1.7536234597647473e-23\n",
      "Mean absolute error\t 3.419732333566715e-12\n",
      "Max error\t\t 9.778622356293454e-12\n",
      "                 MAXIMIZE: \n",
      "r2 Score\t\t 1.0\n",
      "Explained Variance Score 1.0\n",
      "---------------------------------------------\n"
     ]
    }
   ],
   "source": [
    "\"\"\"2. Communities and Crime\"\"\"\n",
    "# Data Details: 123 samples, 126 features , 1 target\n",
    "# directory = './datasets/communities/communities.data'\n",
    "directory = '/Users/annikatimermanis/Desktop/project/datasets/regression/communities/communities.data'\n",
    "data = pd.read_csv(directory, delimiter=',', header=None) # breaking up our inputs from our target values\n",
    "data = data.drop(3, axis=1)\n",
    "data = data[(data != '?').all(axis=1)]\n",
    "X = data.iloc[:, :-1] # take everything except last column, our inputs\n",
    "y = data.iloc[:, -1:] # tak only last column (our qualities), our target\n",
    "print(\"\"\"Communities and Crime\"\"\")\n",
    "linear_regression(X, y, 2)"
   ]
  },
  {
   "cell_type": "code",
   "execution_count": 42,
   "metadata": {},
   "outputs": [
    {
     "name": "stdout",
     "output_type": "stream",
     "text": [
      "qsar aquatic toxicity\n",
      "                 MINIMIZE: \n",
      "Mean squared error\t 0.04105327800408638\n",
      "Mean absolute error\t 0.10879537837058914\n",
      "Max error\t\t 0.9852508635804282\n",
      "                 MAXIMIZE: \n",
      "r2 Score\t\t 0.9828739768477087\n",
      "Explained Variance Score 0.9829108753347539\n",
      "---------------------------------------------\n"
     ]
    }
   ],
   "source": [
    "\"\"\"3. QSAR Aquatic Toxicity\"\"\"\n",
    "# Data Details: 9 features, 1 target, 545 samples\n",
    "directory = '/Users/annikatimermanis/Desktop/project/datasets/regression/qsar_aquatic_toxicity/qsar_aquatic_toxicity.csv'\n",
    "data = pd.read_csv(directory, delimiter=';') # breaking up our inputs from our target values\n",
    "X = data.iloc[:, :-1] # take everything except last column, our inputs\n",
    "y = data.iloc[:, -1:] # tak only last column (our qualities), our target\n",
    "print(\"\"\"qsar aquatic toxicity\"\"\")  \n",
    "linear_regression(X, y, 4)"
   ]
  },
  {
   "cell_type": "code",
   "execution_count": 15,
   "metadata": {},
   "outputs": [
    {
     "name": "stdout",
     "output_type": "stream",
     "text": [
      "Facebook metrics\n",
      "MINIMIZE: \n",
      "Mean squared error\t 6.816463806080444e-13\n",
      "Mean absolute error\t 5.258239606335326e-07\n",
      "Max error\t\t 4.100572937204561e-06\n",
      "MAXIMIZE: \n",
      "r2 Score\t\t 1.0\n",
      "Explained Variance Score 1.0\n",
      "---------------------------------------------\n"
     ]
    }
   ],
   "source": [
    "\"\"\"4. Facebook metrics\"\"\"\n",
    "# Data Details: 18 features/inputs, 1 target, 495 samples\n",
    "directory = '/Users/annikatimermanis/Desktop/project/datasets/regression/dataset_Facebook/dataset_Facebook.csv'\n",
    "data = pd.read_csv(directory, delimiter=';') # breaking up our inputs from our target values\n",
    "\n",
    "string_values = data[\"Type\"]\n",
    "label_encoder = LabelEncoder()\n",
    "integer_encoded = label_encoder.fit_transform(string_values)\n",
    "data[\"Type\"] = integer_encoded\n",
    "data = data.dropna()\n",
    "\n",
    "X = data.iloc[:, :-1] # take everything except last column, our inputs\n",
    "y = data.iloc[:, -1:] # take only last column (our qualities), our target\n",
    "\n",
    "print(\"\"\"Facebook metrics\"\"\")  \n",
    "linear_regression(X, y, 2)"
   ]
  },
  {
   "cell_type": "code",
   "execution_count": 14,
   "metadata": {},
   "outputs": [
    {
     "name": "stdout",
     "output_type": "stream",
     "text": [
      "Red wine quality\n",
      "MINIMIZE: \n",
      "Mean squared error\t 9.779227067439796e-17\n",
      "Mean absolute error\t 8.381313962169268e-09\n",
      "Max error\t\t 3.3313979130866755e-08\n",
      "MAXIMIZE: \n",
      "r2 Score\t\t 1.0\n",
      "Explained Variance Score 1.0\n",
      "---------------------------------------------\n"
     ]
    }
   ],
   "source": [
    "\"\"\"5. Bike Sharing\"\"\"\n",
    "# Data Details: \n",
    "# directory = './datasets/bike_sharing/hour.csv'\n",
    "directory = '/Users/annikatimermanis/Desktop/project/datasets/regression/bike_sharing/hour.csv'\n",
    "data = pd.read_csv(directory, delimiter=',') # breaking up our inputs from our target values\n",
    "data = data.drop('dteday', axis=1)\n",
    "\n",
    "X = data.iloc[:, :-1] # take everything except last column, our inputs\n",
    "y = data.iloc[:, -1:] # tak only last column (our qualities), our target\n",
    "print(\"\"\"Bike Sharing\"\"\")\n",
    "linear_regression(X, y, 1)"
   ]
  },
  {
   "cell_type": "code",
   "execution_count": 5,
   "metadata": {},
   "outputs": [
    {
     "name": "stdout",
     "output_type": "stream",
     "text": [
      "Student Performance\n",
      "MINIMIZE: \n",
      "Mean squared error\t 0.006729965842214604\n",
      "Mean absolute error\t 0.04925040602077705\n",
      "Max error\t\t 0.38006562733311\n",
      "MAXIMIZE: \n",
      "r2 Score\t\t 0.9982004456956698\n",
      "Explained Variance Score 0.9982031080489628\n",
      "---------------------------------------------\n"
     ]
    }
   ],
   "source": [
    "\"\"\"6. Student Performance\"\"\" # lots of string data\n",
    "# Data Details: \n",
    "directory = '/Users/annikatimermanis/Desktop/project/datasets/regression/student-por/student-por.csv'\n",
    "data = pd.read_csv(directory, delimiter=';') # breaking up our inputs from our target values\n",
    "\n",
    "# loop to iterate through all columns in dataframe and check if the data is string type\n",
    "for column in data:\n",
    "    if type(data[column][0]) == str:\n",
    "        # if data in column is type string, we want to convert it to equivalent numerical labels\n",
    "        label_encoder = LabelEncoder()\n",
    "        integer_encoded = label_encoder.fit_transform(data[column])\n",
    "        data[column] = integer_encoded\n",
    "\n",
    "X = data.iloc[:, :-1] # take everything except last column, our inputs\n",
    "y = data.iloc[:, -1:] # take only last column (our qualities), our target\n",
    "\n",
    "print(\"\"\"Student Performance\"\"\")  \n",
    "linear_regression(X, y, 2)"
   ]
  },
  {
   "cell_type": "code",
   "execution_count": 13,
   "metadata": {},
   "outputs": [
    {
     "name": "stdout",
     "output_type": "stream",
     "text": [
      "(1030, 8)\n",
      "(1030, 1)\n",
      "Concrete Compressive Strength\n",
      "                 MINIMIZE: \n",
      "Mean squared error\t 5.270407640154402\n",
      "Mean absolute error\t 0.3412305616379374\n",
      "Max error\t\t 24.752408331246226\n",
      "                 MAXIMIZE: \n",
      "r2 Score\t\t 0.9762302002395742\n",
      "Explained Variance Score 0.9762302016569128\n",
      "---------------------------------------------\n"
     ]
    }
   ],
   "source": [
    "\"\"\"7. Concrete Compressive Strength\"\"\"\n",
    "# binary file format .xls\n",
    "# Data Details: 1030 samples, 8 features columns, 1 target column\n",
    "directory = '/Users/annikatimermanis/Desktop/project/datasets/regression/Concrete_Data/Concrete_Data.xls'\n",
    "data = pd.read_excel(directory)  \n",
    "\n",
    "X = data.iloc[:, :-1] # take everything except last column, our inputs\n",
    "y = data.iloc[:, -1:] # take only last column (our qualities), our target\n",
    "\n",
    "print(X.shape)\n",
    "print(y.shape)\n",
    "\n",
    "print(\"\"\"Concrete Compressive Strength\"\"\")  \n",
    "linear_regression(X, y, 7)"
   ]
  },
  {
   "cell_type": "code",
   "execution_count": 10,
   "metadata": {},
   "outputs": [
    {
     "name": "stdout",
     "output_type": "stream",
     "text": [
      "(241600, 17)\n",
      "(241600, 1)\n",
      "SGEMM GPU kernel performance\n",
      "                 MINIMIZE: \n",
      "Mean squared error\t 1.0393092546285647\n",
      "Mean absolute error\t 0.5695001279370102\n",
      "Max error\t\t 8.349321033991885\n",
      "                 MAXIMIZE: \n",
      "r2 Score\t\t 0.9986480211947331\n",
      "Explained Variance Score 0.9986489335562105\n",
      "---------------------------------------------\n"
     ]
    }
   ],
   "source": [
    "\"\"\"8. SGEMM GPU kernel performance (predict how fast two matrices can be multiplied by a GPU)\"\"\"\n",
    "# Data Details: 17 featrues, 1 target, 241600 samples\n",
    "\n",
    "directory = '/Users/annikatimermanis/Desktop/project/datasets/regression/sgemm_product/sgemm_product.csv'\n",
    "data = pd.read_csv(directory, delimiter=',') # breaking up our inputs from our target values\n",
    "X = data.iloc[:, :-1] # take everything except last column, our inputs\n",
    "y = data.iloc[:, -1:] # take only last column (our qualities), our target\n",
    "\n",
    "print(X.shape)\n",
    "print(y.shape)\n",
    "\n",
    "print(\"\"\"SGEMM GPU kernel performance\"\"\")  \n",
    "linear_regression(X, y, 3)"
   ]
  }
 ],
 "metadata": {
  "interpreter": {
   "hash": "227704b979e5e0b57dc5f0830b359c20b566edff5ea736ae3b4075916ed60d14"
  },
  "kernelspec": {
   "display_name": "Python 3 (ipykernel)",
   "language": "python",
   "name": "python3"
  },
  "language_info": {
   "codemirror_mode": {
    "name": "ipython",
    "version": 3
   },
   "file_extension": ".py",
   "mimetype": "text/x-python",
   "name": "python",
   "nbconvert_exporter": "python",
   "pygments_lexer": "ipython3",
   "version": "3.9.5"
  }
 },
 "nbformat": 4,
 "nbformat_minor": 2
}
