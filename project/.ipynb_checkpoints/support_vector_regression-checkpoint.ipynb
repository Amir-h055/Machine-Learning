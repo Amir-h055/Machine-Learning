{
 "cells": [
  {
   "cell_type": "code",
   "execution_count": 1,
   "id": "99f263bb",
   "metadata": {},
   "outputs": [],
   "source": [
    "from sklearn import linear_model\n",
    "from sklearn.preprocessing import LabelEncoder\n",
    "import sklearn\n",
    "import numpy as np\n",
    "from scipy.io import arff\n",
    "import pandas as pd\n",
    "import math\n",
    "import os.path"
   ]
  },
  {
   "cell_type": "code",
   "execution_count": null,
   "id": "e2475982",
   "metadata": {},
   "outputs": [],
   "source": [
    "\"\"\"support vector regression\"\"\""
   ]
  },
  {
   "cell_type": "code",
   "execution_count": 2,
   "id": "cbb4f756",
   "metadata": {},
   "outputs": [],
   "source": [
    "def support_vector_regression(X, y, kernel='rbf', degree=1, gamma=1, coef0=1, C=1, max_iter=-1, training_percentage=0.85, testing_percentage=0.15):\n",
    "    \n",
    "    # kernel types:\n",
    "    # 'linear'\n",
    "    # 'rbf'\n",
    "    # 'Polynomial' 'poly'\n",
    "    # 'sigmoid'\n",
    "    \n",
    "    num_training_examples = math.floor(X.shape[0]*training_percentage) # number of rows in a single column * our training %\n",
    "    num_testing_examples = math.ceil(X.shape[0]*testing_percentage)\n",
    "\n",
    "    X_train = X.iloc[:num_training_examples, :] # isolating 85% of input data for our training\n",
    "    X_test = X.iloc[:num_testing_examples, :]   # isolating 15% of input data for out testing\n",
    "\n",
    "    y_train = y.iloc[:num_training_examples].to_numpy().reshape(-1)    # isolating 85% of our target to match with our training input\n",
    "    y_test = y.iloc[:num_testing_examples].to_numpy().reshape(-1)      # isolating 15% of our target to match with our testing input\n",
    "    \n",
    "    # preprocessing training x\n",
    "    scaler = sklearn.preprocessing.StandardScaler()\n",
    "    X_train = scaler.fit_transform(X_train)\n",
    "    \n",
    "    \"\"\"fitting support vector regression model\"\"\"\n",
    "    # C is a regularization parameter \n",
    "    svr = sklearn.svm.SVR(kernel=kernel, degree=degree, gamma=gamma, coef0=coef0, C=C, max_iter=max_iter).fit(X_train, y_train)\n",
    "\n",
    "    # preprocessing testing x\n",
    "    X_test = scaler.transform(X_test)\n",
    "    \n",
    "    # predicting\n",
    "    y_pred = svr.predict(X_test)\n",
    "    \n",
    "    accuracy1 = sklearn.metrics.mean_squared_error(y_test, y_pred)\n",
    "    accuracy2 = sklearn.metrics.mean_absolute_error(y_test, y_pred)\n",
    "    accuracy3 = sklearn.metrics.max_error(y_test, y_pred)\n",
    "    accuracy4 = sklearn.metrics.r2_score(y_test, y_pred)\n",
    "    accuracy6 = sklearn.metrics.explained_variance_score(y_test, y_pred)\n",
    "    \n",
    "    print('                 MINIMIZE: ')\n",
    "    print(\"Mean squared error\\t\", accuracy1)\n",
    "    print(\"Mean absolute error\\t\", accuracy2)\n",
    "    print(\"Max error\\t\\t\", accuracy3)\n",
    "    print('                 MAXIMIZE: ')\n",
    "    print(\"r2 Score\\t\\t\", accuracy4)\n",
    "    print(\"Explained Variance Score\", accuracy6)\n",
    "    print('---------------------------------------------')\n",
    "    "
   ]
  },
  {
   "cell_type": "code",
   "execution_count": null,
   "id": "5c8be052",
   "metadata": {},
   "outputs": [],
   "source": [
    "\"\"\"importing datasets\"\"\";"
   ]
  },
  {
   "cell_type": "code",
   "execution_count": 3,
   "id": "3b335017",
   "metadata": {},
   "outputs": [
    {
     "name": "stdout",
     "output_type": "stream",
     "text": [
      "Red wine quality\n",
      "                 MINIMIZE: \n",
      "Mean squared error\t 0.06222493168803936\n",
      "Mean absolute error\t 0.16062305471048527\n",
      "Max error\t\t 1.3352365555360306\n",
      "                 MAXIMIZE: \n",
      "r2 Score\t\t 0.8550040023774802\n",
      "Explained Variance Score 0.8583822148763456\n",
      "---------------------------------------------\n",
      "White wine quality\n",
      "                 MINIMIZE: \n",
      "Mean squared error\t 0.021051714934611068\n",
      "Mean absolute error\t 0.10902797113398861\n",
      "Max error\t\t 1.4066925313039267\n",
      "                 MAXIMIZE: \n",
      "r2 Score\t\t 0.9728921548657552\n",
      "Explained Variance Score 0.9728940363543791\n",
      "---------------------------------------------\n"
     ]
    }
   ],
   "source": [
    "\"\"\"1. Wine Quality\"\"\"\n",
    "# Data Details: 11 features, 1 target (quality), 1599 samples for red    \n",
    "directory = '/Users/annikatimermanis/Desktop/project/datasets/wine_quality/winequality-red.csv'\n",
    "# path = '/Users/annikatimermanis/Desktop/project/datasets/wine_quality/winequality-red.csv'\n",
    "# dirname = os.path.dirname(path)\n",
    "# directory = 'winequality-red.csv'\n",
    "\n",
    "data = pd.read_csv(directory, delimiter=';') # breaking up our inputs from our target values\n",
    "X = data.iloc[:, :-1] # take everything except last column, our inputs\n",
    "y = data.iloc[:, -1:] # tak only last column (our qualities), our target\n",
    "print(\"\"\"Red wine quality\"\"\")\n",
    "support_vector_regression(X, y, 'rbf')\n",
    "\n",
    "# # Data Details: 11 features, 1 target (quality), 4898 samples for white    \n",
    "directory = '/Users/annikatimermanis/Desktop/project/datasets/wine_quality/winequality-white.csv'\n",
    "data = pd.read_csv(directory, delimiter=';') # breaking up our inputs from our target values\n",
    "X = data.iloc[:, :-1] # take everything except last column, our inputs\n",
    "y = data.iloc[:, -1:] # tak only last column (our qualities), our target\n",
    "print(\"\"\"White wine quality\"\"\")\n",
    "support_vector_regression(X, y, 'rbf', C=3)"
   ]
  },
  {
   "cell_type": "code",
   "execution_count": 4,
   "id": "fe6d6001",
   "metadata": {},
   "outputs": [
    {
     "name": "stdout",
     "output_type": "stream",
     "text": [
      "Communities and Crime\n",
      "                 MINIMIZE: \n",
      "Mean squared error\t 0.00844474234015403\n",
      "Mean absolute error\t 0.08900024983344434\n",
      "Max error\t\t 0.10037974683544307\n",
      "                 MAXIMIZE: \n",
      "r2 Score\t\t 0.8629568632875585\n",
      "Explained Variance Score 0.863009105616043\n",
      "---------------------------------------------\n"
     ]
    }
   ],
   "source": [
    "\"\"\"2. Communities and Crime\"\"\"\n",
    "# Data Details: 123 samples, 126 features , 1 target\n",
    "# directory = './datasets/communities/communities.data'\n",
    "directory = '/Users/annikatimermanis/Desktop/project/datasets/communities/communities.data'\n",
    "data = pd.read_csv(directory, delimiter=',', header=None) # breaking up our inputs from our target values\n",
    "data = data.drop(3, axis=1)\n",
    "data = data[(data != '?').all(axis=1)]\n",
    "X = data.iloc[:, :-1] # take everything except last column, our inputs\n",
    "y = data.iloc[:, -1:] # tak only last column (our qualities), our target\n",
    "print(\"\"\"Communities and Crime\"\"\")\n",
    "support_vector_regression(X, y, 'rbf')"
   ]
  },
  {
   "cell_type": "code",
   "execution_count": 5,
   "id": "cbe1d128",
   "metadata": {},
   "outputs": [
    {
     "name": "stdout",
     "output_type": "stream",
     "text": [
      "qsar aquatic toxicity\n",
      "                 MINIMIZE: \n",
      "Mean squared error\t 0.20125901339145189\n",
      "Mean absolute error\t 0.20825406656818007\n",
      "Max error\t\t 3.0228681997303335\n",
      "                 MAXIMIZE: \n",
      "r2 Score\t\t 0.9160416246759583\n",
      "Explained Variance Score 0.9162681705106567\n",
      "---------------------------------------------\n"
     ]
    }
   ],
   "source": [
    "\"\"\"3. QSAR Aquatic Toxicity\"\"\"\n",
    "# Data Details: 9 features, 1 target, 545 samples\n",
    "directory = '/Users/annikatimermanis/Desktop/project/datasets/qsar_aquatic_toxicity/qsar_aquatic_toxicity.csv'\n",
    "data = pd.read_csv(directory, delimiter=';') # breaking up our inputs from our target values\n",
    "X = data.iloc[:, :-1] # take everything except last column, our inputs\n",
    "y = data.iloc[:, -1:] # tak only last column (our qualities), our target\n",
    "print(\"\"\"qsar aquatic toxicity\"\"\")  \n",
    "support_vector_regression(X, y, 'rbf', C=8)"
   ]
  },
  {
   "cell_type": "code",
   "execution_count": 6,
   "id": "67084cb2",
   "metadata": {},
   "outputs": [
    {
     "name": "stdout",
     "output_type": "stream",
     "text": [
      "Facebook metrics\n",
      "                 MINIMIZE: \n",
      "Mean squared error\t 0.010005267257868515\n",
      "Mean absolute error\t 0.10002607648424827\n",
      "Max error\t\t 0.10048675422785891\n",
      "                 MAXIMIZE: \n",
      "r2 Score\t\t 0.9999998299668296\n",
      "Explained Variance Score 0.9999998520082428\n",
      "---------------------------------------------\n"
     ]
    }
   ],
   "source": [
    "\"\"\"4. Facebook metrics\"\"\"\n",
    "# Data Details: 18 features/inputs, 1 target, 495 samples\n",
    "directory = '/Users/annikatimermanis/Desktop/project/datasets/dataset_Facebook/dataset_Facebook.csv'\n",
    "data = pd.read_csv(directory, delimiter=';') # breaking up our inputs from our target values\n",
    "\n",
    "string_values = data[\"Type\"]\n",
    "label_encoder = LabelEncoder()\n",
    "integer_encoded = label_encoder.fit_transform(string_values)\n",
    "data[\"Type\"] = integer_encoded\n",
    "data = data.dropna()\n",
    "\n",
    "X = data.iloc[:, :-1] # take everything except last column, our inputs\n",
    "y = data.iloc[:, -1:] # take only last column (our qualities), our target\n",
    "\n",
    "print(\"\"\"Facebook metrics\"\"\")  \n",
    "support_vector_regression(X, y, 'rbf', C=2000)"
   ]
  },
  {
   "cell_type": "code",
   "execution_count": null,
   "id": "64bd3006",
   "metadata": {},
   "outputs": [
    {
     "name": "stdout",
     "output_type": "stream",
     "text": [
      "Bike Sharing\n"
     ]
    }
   ],
   "source": [
    "# \"\"\"5. Bike Sharing\"\"\"\n",
    "# # Data Details: \n",
    "# # directory = './datasets/bike_sharing/hour.csv'\n",
    "# directory = '/Users/annikatimermanis/Desktop/project/datasets/bike_sharing/hour.csv'\n",
    "# data = pd.read_csv(directory, delimiter=',') # breaking up our inputs from our target values\n",
    "# data = data.drop('dteday', axis=1)\n",
    "\n",
    "# X = data.iloc[:, :-1] # take everything except last column, our inputs\n",
    "# y = data.iloc[:, -1:] # tak only last column (our qualities), our target\n",
    "# print(\"\"\"Bike Sharing\"\"\")\n",
    "# support_vector_regression(X, y, 'rbf', C=200)"
   ]
  },
  {
   "cell_type": "code",
   "execution_count": 7,
   "id": "a0de1ece",
   "metadata": {},
   "outputs": [
    {
     "name": "stdout",
     "output_type": "stream",
     "text": [
      "Student Performance\n",
      "                 MINIMIZE: \n",
      "Mean squared error\t 0.010642414879546818\n",
      "Mean absolute error\t 0.10172387565027731\n",
      "Max error\t\t 0.2707614668445082\n",
      "                 MAXIMIZE: \n",
      "r2 Score\t\t 0.9971542792409397\n",
      "Explained Variance Score 0.9971800975124123\n",
      "---------------------------------------------\n"
     ]
    }
   ],
   "source": [
    "\"\"\"6. Student Performance\"\"\" # lots of string data\n",
    "# Data Details: \n",
    "directory = '/Users/annikatimermanis/Desktop/project/datasets/student-por/student-por.csv'\n",
    "data = pd.read_csv(directory, delimiter=';') # breaking up our inputs from our target values\n",
    "\n",
    "# loop to iterate through all columns in dataframe and check if the data is string type\n",
    "for column in data:\n",
    "    if type(data[column][0]) == str:\n",
    "        # if data in column is type string, we want to convert it to equivalent numerical labels\n",
    "        label_encoder = LabelEncoder()\n",
    "        integer_encoded = label_encoder.fit_transform(data[column])\n",
    "        data[column] = integer_encoded\n",
    "\n",
    "X = data.iloc[:, :-1] # take everything except last column, our inputs\n",
    "y = data.iloc[:, -1:] # take only last column (our qualities), our target\n",
    "\n",
    "print(\"\"\"Student Performance\"\"\")  \n",
    "support_vector_regression(X, y, 'rbf', C=5)"
   ]
  },
  {
   "cell_type": "code",
   "execution_count": 15,
   "id": "23d76818",
   "metadata": {},
   "outputs": [
    {
     "name": "stdout",
     "output_type": "stream",
     "text": [
      "(1030, 8)\n",
      "(1030, 1)\n",
      "Concrete Compressive Strength\n",
      "                 MINIMIZE: \n",
      "Mean squared error\t 13.52421494303052\n",
      "Mean absolute error\t 1.5256876717212988\n",
      "Max error\t\t 20.28403350198465\n",
      "                 MAXIMIZE: \n",
      "r2 Score\t\t 0.9390051200852889\n",
      "Explained Variance Score 0.9399107983810426\n",
      "---------------------------------------------\n"
     ]
    }
   ],
   "source": [
    "\"\"\"7. Concrete Compressive Strength\"\"\"\n",
    "# binary file format .xls\n",
    "# Data Details: 1030 samples, 8 features columns, 1 target column\n",
    "directory = '/Users/annikatimermanis/Desktop/project/datasets/Concrete_Data/Concrete_Data.xls'\n",
    "data = pd.read_excel(directory)  \n",
    "\n",
    "X = data.iloc[:, :-1] # take everything except last column, our inputs\n",
    "y = data.iloc[:, -1:] # take only last column (our qualities), our target\n",
    "\n",
    "print(\"\"\"Concrete Compressive Strength\"\"\")  \n",
    "support_vector_regression(X, y, 'rbf', C=1000)"
   ]
  },
  {
   "cell_type": "code",
   "execution_count": null,
   "id": "e19d7dea",
   "metadata": {},
   "outputs": [
    {
     "name": "stdout",
     "output_type": "stream",
     "text": [
      "(241600, 17)\n",
      "(241600, 1)\n",
      "SGEMM GPU kernel performance\n"
     ]
    }
   ],
   "source": [
    "\"\"\"8. SGEMM GPU kernel performance (predict how fast two matrices can be multiplied by a GPU)\"\"\"\n",
    "# Data Details: 17 featrues, 1 target, 241600 samples\n",
    "\n",
    "directory = '/Users/annikatimermanis/Desktop/project/datasets/sgemm_product/sgemm_product.csv'\n",
    "data = pd.read_csv(directory, delimiter=',') # breaking up our inputs from our target values\n",
    "X = data.iloc[:, :-1] # take everything except last column, our inputs\n",
    "y = data.iloc[:, -1:] # take only last column (our qualities), our target\n",
    "\n",
    "print(\"\"\"SGEMM GPU kernel performance\"\"\")  \n",
    "support_vector_regression(X, y, 'rbf', C=1)"
   ]
  }
 ],
 "metadata": {
  "kernelspec": {
   "display_name": "Python 3 (ipykernel)",
   "language": "python",
   "name": "python3"
  },
  "language_info": {
   "codemirror_mode": {
    "name": "ipython",
    "version": 3
   },
   "file_extension": ".py",
   "mimetype": "text/x-python",
   "name": "python",
   "nbconvert_exporter": "python",
   "pygments_lexer": "ipython3",
   "version": "3.9.5"
  }
 },
 "nbformat": 4,
 "nbformat_minor": 5
}
