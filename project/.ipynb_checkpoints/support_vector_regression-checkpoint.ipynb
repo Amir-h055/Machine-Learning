{
 "cells": [
  {
   "cell_type": "code",
   "execution_count": 7,
   "id": "99f263bb",
   "metadata": {},
   "outputs": [],
   "source": [
    "from sklearn import linear_model\n",
    "from sklearn.preprocessing import LabelEncoder\n",
    "import sklearn\n",
    "import numpy as np\n",
    "from scipy.io import arff\n",
    "import pandas as pd\n",
    "import math\n",
    "import os.path\n",
    "import scipy\n",
    "import scipy.stats"
   ]
  },
  {
   "cell_type": "code",
   "execution_count": null,
   "id": "e2475982",
   "metadata": {},
   "outputs": [],
   "source": [
    "\"\"\"support vector regression\"\"\""
   ]
  },
  {
   "cell_type": "code",
   "execution_count": 8,
   "id": "cbb4f756",
   "metadata": {},
   "outputs": [],
   "source": [
    "def support_vector_regression(X, y, kernel='rbf', num_iter=20, training_percentage=0.85, testing_percentage=0.15):\n",
    "    \n",
    "    # kernel types:\n",
    "    # 'linear'\n",
    "    # 'rbf'\n",
    "    # 'Polynomial' 'poly'\n",
    "    # 'sigmoid'\n",
    "    \n",
    "    num_training_examples = math.floor(X.shape[0]*training_percentage) # number of rows in a single column * our training %\n",
    "    num_testing_examples = math.ceil(X.shape[0]*testing_percentage)\n",
    "\n",
    "    X_train = X.iloc[:num_training_examples, :] # isolating 85% of input data for our training\n",
    "    X_test = X.iloc[:num_testing_examples, :]   # isolating 15% of input data for out testing\n",
    "\n",
    "    y_train = y.iloc[:num_training_examples].to_numpy().reshape(-1)    # isolating 85% of our target to match with our training input\n",
    "    y_test = y.iloc[:num_testing_examples].to_numpy().reshape(-1)      # isolating 15% of our target to match with our testing input\n",
    "    \n",
    "    # preprocessing training x\n",
    "    scaler = sklearn.preprocessing.StandardScaler()\n",
    "    X_train = scaler.fit_transform(X_train)\n",
    "    \n",
    "    \"\"\"fitting support vector regression model\"\"\"\n",
    "    # C is a regularization parameter \n",
    "    randomized_search_model = hyperparameterSearch(X_train, y_train, num_iter)\n",
    "\n",
    "    # preprocessing testing x\n",
    "    X_test = scaler.transform(X_test)\n",
    "    \n",
    "    # predicting\n",
    "    y_pred = randomized_search_model.predict(X_test)\n",
    "    \n",
    "    accuracy1 = sklearn.metrics.mean_squared_error(y_test, y_pred)\n",
    "    accuracy2 = sklearn.metrics.mean_absolute_error(y_test, y_pred)\n",
    "    accuracy3 = sklearn.metrics.max_error(y_test, y_pred)\n",
    "    accuracy4 = sklearn.metrics.r2_score(y_test, y_pred)\n",
    "    accuracy6 = sklearn.metrics.explained_variance_score(y_test, y_pred)\n",
    "    \n",
    "    print('                 MINIMIZE: ')\n",
    "    print(\"Mean squared error\\t\", accuracy1)\n",
    "    print(\"Mean absolute error\\t\", accuracy2)\n",
    "    print(\"Max error\\t\\t\", accuracy3)\n",
    "    print('                 MAXIMIZE: ')\n",
    "    print(\"r2 Score\\t\\t\", accuracy4)\n",
    "    print(\"Explained Variance Score\", accuracy6)\n",
    "    print('---------------------------------------------')\n",
    "    "
   ]
  },
  {
   "cell_type": "code",
   "execution_count": 11,
   "id": "e1ffb9f0",
   "metadata": {},
   "outputs": [],
   "source": [
    "def hyperparameterSearch(X_train, y_train, num_iter):\n",
    "    svr = sklearn.svm.SVR(kernel='rbf').fit(X_train, y_train)\n",
    "    param_distribution = {'C': scipy.stats.uniform(1, 1000), 'gamma': scipy.stats.uniform(0.01, 1000)}\n",
    "    randomized_search_ = sklearn.model_selection.RandomizedSearchCV(svr, param_distribution, n_iter=num_iter, verbose=1, random_state=0).fit(X_train,y_train)\n",
    "    print('Best Hyperparameters = ' + str(randomized_search_.best_params_))\n",
    "    return randomized_search_"
   ]
  },
  {
   "cell_type": "markdown",
   "id": "a0835ef4",
   "metadata": {},
   "source": [
    "## Importing Datasets"
   ]
  },
  {
   "cell_type": "code",
   "execution_count": 6,
   "id": "3b335017",
   "metadata": {},
   "outputs": [
    {
     "name": "stdout",
     "output_type": "stream",
     "text": [
      "Red wine quality\n",
      "Fitting 5 folds for each of 20 candidates, totalling 100 fits\n",
      "Best Hyperparameters = {'C': 144.3532874090464, 'gamma': 944.6789170495839}\n",
      "                 MINIMIZE: \n",
      "Mean squared error\t 0.010000191747397332\n",
      "Mean absolute error\t 0.10000033368654375\n",
      "Max error\t\t 0.10051867515016788\n",
      "                 MAXIMIZE: \n",
      "r2 Score\t\t 0.9766976396840452\n",
      "Explained Variance Score 0.9792979272169552\n",
      "---------------------------------------------\n",
      "White wine quality\n",
      "Fitting 5 folds for each of 20 candidates, totalling 100 fits\n",
      "Best Hyperparameters = {'C': 72.03605819788694, 'gamma': 87.13929970154071}\n",
      "                 MINIMIZE: \n",
      "Mean squared error\t 0.009982352424182987\n",
      "Mean absolute error\t 0.09991151245817012\n",
      "Max error\t\t 0.10057740713243835\n",
      "                 MAXIMIZE: \n",
      "r2 Score\t\t 0.9871459373057863\n",
      "Explained Variance Score 0.9879062116633788\n",
      "---------------------------------------------\n"
     ]
    }
   ],
   "source": [
    "\"\"\"1. Wine Quality\"\"\"\n",
    "# Data Details: 11 features, 1 target (quality), 1599 samples for red    \n",
    "directory = '/Users/annikatimermanis/Desktop/project/datasets/regression/wine_quality/winequality-red.csv'\n",
    "# path = '/Users/annikatimermanis/Desktop/project/datasets/wine_quality/winequality-red.csv'\n",
    "# dirname = os.path.dirname(path)\n",
    "# directory = 'winequality-red.csv'\n",
    "data = pd.read_csv(directory, delimiter=';') # breaking up our inputs from our target values\n",
    "X = data.iloc[:, :-1] # take everything except last column, our inputs\n",
    "y = data.iloc[:, -1:] # tak only last column (our qualities), our target\n",
    "print(\"\"\"Red wine quality\"\"\")\n",
    "support_vector_regression(X, y, 'rbf')\n",
    "\n",
    "# # Data Details: 11 features, 1 target (quality), 4898 samples for white    \n",
    "directory = '/Users/annikatimermanis/Desktop/project/datasets/regression/wine_quality/winequality-white.csv'\n",
    "data = pd.read_csv(directory, delimiter=';') # breaking up our inputs from our target values\n",
    "X = data.iloc[:, :-1] # take everything except last column, our inputs\n",
    "y = data.iloc[:, -1:] # tak only last column (our qualities), our target\n",
    "print(\"\"\"White wine quality\"\"\")\n",
    "support_vector_regression(X, y, 'rbf')"
   ]
  },
  {
   "cell_type": "code",
   "execution_count": 75,
   "id": "fe6d6001",
   "metadata": {},
   "outputs": [
    {
     "name": "stdout",
     "output_type": "stream",
     "text": [
      "Communities and Crime\n",
      "Fitting 5 folds for each of 20 candidates, totalling 100 fits\n",
      "Best Hyperparameters = {'C': 549.8135039273247, 'gamma': 715.1993663724195}\n",
      "                 MINIMIZE: \n",
      "Mean squared error\t 0.008438158968651702\n",
      "Mean absolute error\t 0.0889673550966023\n",
      "Max error\t\t 0.10037974683544365\n",
      "                 MAXIMIZE: \n",
      "r2 Score\t\t 0.8630636996887749\n",
      "Explained Variance Score 0.8631140439847698\n",
      "---------------------------------------------\n"
     ]
    }
   ],
   "source": [
    "\"\"\"2. Communities and Crime\"\"\"\n",
    "# Data Details: 123 samples, 126 features , 1 target\n",
    "# directory = './datasets/communities/communities.data'\n",
    "directory = '/Users/annikatimermanis/Desktop/project/datasets/regression/communities/communities.data'\n",
    "data = pd.read_csv(directory, delimiter=',', header=None) # breaking up our inputs from our target values\n",
    "data = data.drop(3, axis=1)\n",
    "data = data[(data != '?').all(axis=1)]\n",
    "X = data.iloc[:, :-1] # take everything except last column, our inputs\n",
    "y = data.iloc[:, -1:] # tak only last column (our qualities), our target\n",
    "print(\"\"\"Communities and Crime\"\"\")\n",
    "support_vector_regression(X, y, 'rbf')"
   ]
  },
  {
   "cell_type": "code",
   "execution_count": 76,
   "id": "cbe1d128",
   "metadata": {},
   "outputs": [
    {
     "name": "stdout",
     "output_type": "stream",
     "text": [
      "qsar aquatic toxicity\n",
      "Fitting 5 folds for each of 20 candidates, totalling 100 fits\n",
      "Best Hyperparameters = {'C': 72.03605819788694, 'gamma': 87.13929970154071}\n",
      "                 MINIMIZE: \n",
      "Mean squared error\t 0.0116374806692426\n",
      "Mean absolute error\t 0.10193024566824557\n",
      "Max error\t\t 0.4058693164617031\n",
      "                 MAXIMIZE: \n",
      "r2 Score\t\t 0.9951452411825444\n",
      "Explained Variance Score 0.9951915809370392\n",
      "---------------------------------------------\n"
     ]
    }
   ],
   "source": [
    "\"\"\"3. QSAR Aquatic Toxicity\"\"\"\n",
    "# Data Details: 9 features, 1 target, 545 samples\n",
    "directory = '/Users/annikatimermanis/Desktop/project/datasets/regression/qsar_aquatic_toxicity/qsar_aquatic_toxicity.csv'\n",
    "data = pd.read_csv(directory, delimiter=';') # breaking up our inputs from our target values\n",
    "X = data.iloc[:, :-1] # take everything except last column, our inputs\n",
    "y = data.iloc[:, -1:] # tak only last column (our qualities), our target\n",
    "print(\"\"\"qsar aquatic toxicity\"\"\")  \n",
    "support_vector_regression(X, y, 'rbf')"
   ]
  },
  {
   "cell_type": "code",
   "execution_count": 12,
   "id": "67084cb2",
   "metadata": {},
   "outputs": [
    {
     "name": "stdout",
     "output_type": "stream",
     "text": [
      "Facebook metrics\n",
      "Fitting 5 folds for each of 20 candidates, totalling 100 fits\n",
      "Best Hyperparameters = {'C': 779.1567509498504, 'gamma': 870.0221482468191}\n",
      "                 MINIMIZE: \n",
      "Mean squared error\t 8582.530276379686\n",
      "Mean absolute error\t 10.7960189938872\n",
      "Max error\t\t 802.3023313595007\n",
      "                 MAXIMIZE: \n",
      "r2 Score\t\t 0.8541453420974399\n",
      "Explained Variance Score 0.856076528434795\n",
      "---------------------------------------------\n"
     ]
    }
   ],
   "source": [
    "\"\"\"4. Facebook metrics\"\"\"\n",
    "# Data Details: 18 features/inputs, 1 target, 495 samples\n",
    "directory = '/Users/annikatimermanis/Desktop/project/datasets/regression/dataset_Facebook/dataset_Facebook.csv'\n",
    "data = pd.read_csv(directory, delimiter=';') # breaking up our inputs from our target values\n",
    "\n",
    "string_values = data[\"Type\"]\n",
    "label_encoder = LabelEncoder()\n",
    "integer_encoded = label_encoder.fit_transform(string_values)\n",
    "data[\"Type\"] = integer_encoded\n",
    "data = data.dropna()\n",
    "\n",
    "X = data.iloc[:, :-1] # take everything except last column, our inputs\n",
    "y = data.iloc[:, -1:] # take only last column (our qualities), our target\n",
    "\n",
    "print(\"\"\"Facebook metrics\"\"\")  \n",
    "support_vector_regression(X, y, 'rbf') # C=2000"
   ]
  },
  {
   "cell_type": "code",
   "execution_count": 78,
   "id": "64bd3006",
   "metadata": {},
   "outputs": [],
   "source": [
    "# \"\"\"5. Bike Sharing\"\"\"\n",
    "# # Data Details: \n",
    "# # directory = './datasets/bike_sharing/hour.csv'\n",
    "# directory = '/Users/annikatimermanis/Desktop/project/datasets/regression/bike_sharing/hour.csv'\n",
    "# data = pd.read_csv(directory, delimiter=',') # breaking up our inputs from our target values\n",
    "# data = data.drop('dteday', axis=1)\n",
    "\n",
    "# X = data.iloc[:, :-1] # take everything except last column, our inputs\n",
    "# y = data.iloc[:, -1:] # tak only last column (our qualities), our target\n",
    "# print(\"\"\"Bike Sharing\"\"\")\n",
    "# support_vector_regression(X, y, 'rbf') #, C=200"
   ]
  },
  {
   "cell_type": "code",
   "execution_count": 81,
   "id": "a0de1ece",
   "metadata": {},
   "outputs": [
    {
     "name": "stdout",
     "output_type": "stream",
     "text": [
      "Student Performance\n",
      "Fitting 5 folds for each of 20 candidates, totalling 100 fits\n",
      "Best Hyperparameters = {'C': 549.8135039273247, 'gamma': 715.1993663724195}\n",
      "                 MINIMIZE: \n",
      "Mean squared error\t 0.009990065254195341\n",
      "Mean absolute error\t 0.09994969431739163\n",
      "Max error\t\t 0.10072737068955817\n",
      "                 MAXIMIZE: \n",
      "r2 Score\t\t 0.9973287137928755\n",
      "Explained Variance Score 0.9973558536944499\n",
      "---------------------------------------------\n"
     ]
    }
   ],
   "source": [
    "\"\"\"6. Student Performance\"\"\" # lots of string data\n",
    "# Data Details: \n",
    "directory = '/Users/annikatimermanis/Desktop/project/datasets/regression/student-por/student-por.csv'\n",
    "data = pd.read_csv(directory, delimiter=';') # breaking up our inputs from our target values\n",
    "\n",
    "# loop to iterate through all columns in dataframe and check if the data is string type\n",
    "for column in data:\n",
    "    if type(data[column][0]) == str:\n",
    "        # if data in column is type string, we want to convert it to equivalent numerical labels\n",
    "        label_encoder = LabelEncoder()\n",
    "        integer_encoded = label_encoder.fit_transform(data[column])\n",
    "        data[column] = integer_encoded\n",
    "\n",
    "X = data.iloc[:, :-1] # take everything except last column, our inputs\n",
    "y = data.iloc[:, -1:] # take only last column (our qualities), our target\n",
    "\n",
    "print(\"\"\"Student Performance\"\"\")  \n",
    "support_vector_regression(X, y, 'rbf')"
   ]
  },
  {
   "cell_type": "code",
   "execution_count": 85,
   "id": "23d76818",
   "metadata": {},
   "outputs": [
    {
     "name": "stdout",
     "output_type": "stream",
     "text": [
      "Concrete Compressive Strength\n",
      "Fitting 5 folds for each of 20 candidates, totalling 100 fits\n",
      "Best Hyperparameters = {'C': 72.03605819788694, 'gamma': 87.13929970154071}\n",
      "                 MINIMIZE: \n",
      "Mean squared error\t 6.9923977070159316\n",
      "Mean absolute error\t 0.31118483476564723\n",
      "Max error\t\t 32.89818766349899\n",
      "                 MAXIMIZE: \n",
      "r2 Score\t\t 0.9684639396628987\n",
      "Explained Variance Score 0.9685846302021524\n",
      "---------------------------------------------\n"
     ]
    }
   ],
   "source": [
    "\"\"\"7. Concrete Compressive Strength\"\"\"\n",
    "# binary file format .xls\n",
    "# Data Details: 1030 samples, 8 features columns, 1 target column\n",
    "directory = '/Users/annikatimermanis/Desktop/project/datasets/regression/Concrete_Data/Concrete_Data.xls'\n",
    "data = pd.read_excel(directory)  \n",
    "\n",
    "X = data.iloc[:, :-1] # take everything except last column, our inputs\n",
    "y = data.iloc[:, -1:] # take only last column (our qualities), our target\n",
    "\n",
    "print(\"\"\"Concrete Compressive Strength\"\"\")  \n",
    "support_vector_regression(X, y, 'rbf') # C=1000"
   ]
  },
  {
   "cell_type": "code",
   "execution_count": null,
   "id": "e19d7dea",
   "metadata": {},
   "outputs": [
    {
     "name": "stdout",
     "output_type": "stream",
     "text": [
      "SGEMM GPU kernel performance\n"
     ]
    }
   ],
   "source": [
    "\"\"\"8. SGEMM GPU kernel performance (predict how fast two matrices can be multiplied by a GPU)\"\"\"\n",
    "# Data Details: 17 featrues, 1 target, 241600 samples\n",
    "\n",
    "directory = '/Users/annikatimermanis/Desktop/project/datasets/regression/sgemm_product/sgemm_product.csv'\n",
    "data = pd.read_csv(directory, delimiter=',') # breaking up our inputs from our target values\n",
    "X = data.iloc[:, :-1] # take everything except last column, our inputs\n",
    "y = data.iloc[:, -1:] # take only last column (our qualities), our target\n",
    "\n",
    "print(\"\"\"SGEMM GPU kernel performance\"\"\")  \n",
    "support_vector_regression(X, y, 'rbf')"
   ]
  }
 ],
 "metadata": {
  "kernelspec": {
   "display_name": "Python 3 (ipykernel)",
   "language": "python",
   "name": "python3"
  },
  "language_info": {
   "codemirror_mode": {
    "name": "ipython",
    "version": 3
   },
   "file_extension": ".py",
   "mimetype": "text/x-python",
   "name": "python",
   "nbconvert_exporter": "python",
   "pygments_lexer": "ipython3",
   "version": "3.9.5"
  }
 },
 "nbformat": 4,
 "nbformat_minor": 5
}
