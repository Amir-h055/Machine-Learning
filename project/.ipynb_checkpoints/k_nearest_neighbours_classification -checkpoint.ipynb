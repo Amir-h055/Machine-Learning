{
 "cells": [
  {
   "cell_type": "code",
   "execution_count": 8,
   "id": "03a082c3",
   "metadata": {},
   "outputs": [],
   "source": [
    "from sklearn.preprocessing import LabelEncoder\n",
    "import sklearn\n",
    "from sklearn.neighbors import KNeighborsClassifier\n",
    "import numpy as np\n",
    "from scipy.io import arff\n",
    "import pandas as pd\n",
    "import math\n",
    "import os.path\n",
    "import scipy\n",
    "import scipy.stats"
   ]
  },
  {
   "cell_type": "code",
   "execution_count": null,
   "id": "b28fd90c",
   "metadata": {},
   "outputs": [],
   "source": [
    "\"\"\"k-nearest neighbours \"\"\""
   ]
  },
  {
   "cell_type": "code",
   "execution_count": 9,
   "id": "e4ab3d5f",
   "metadata": {},
   "outputs": [],
   "source": [
    "def k_nearest_neighbours(X, y, num_iter=5, training_percentage=0.85, testing_percentage=0.15):\n",
    "     \n",
    "    num_training_examples = math.floor(X.shape[0]*training_percentage) # number of rows in a single column * our training %\n",
    "    num_testing_examples = math.ceil(X.shape[0]*testing_percentage)\n",
    "\n",
    "    X_train = X.iloc[:num_training_examples, :].to_numpy() # isolating 85% of input data for our training\n",
    "    X_test = X.iloc[:num_testing_examples, :].to_numpy()   # isolating 15% of input data for out testing\n",
    "\n",
    "    y_train = y.iloc[:num_training_examples].to_numpy().reshape(-1)    # isolating 85% of our target to match with our training input\n",
    "    y_test = y.iloc[:num_testing_examples].to_numpy().reshape(-1)      # isolating 15% of our target to match with our testing input\n",
    "    \n",
    "    # preprocessing training x\n",
    "    scaler = sklearn.preprocessing.StandardScaler()\n",
    "    X_train = scaler.fit_transform(X_train)\n",
    "    \n",
    "    \"\"\"fitting support vector regression model\"\"\"\n",
    "    # calling hyperparamter search for knn\n",
    "    random_search_knn = hyperparameterSearch(X_train,y_train,num_iter)\n",
    "    \n",
    "    # preprocessing testing x\n",
    "    X_test = scaler.transform(X_test)\n",
    "    \n",
    "    # predicting\n",
    "    y_pred = random_search_knn.predict(X_test)\n",
    "    \n",
    "    accuracy1 = sklearn.metrics.mean_squared_error(y_test, y_pred)\n",
    "    accuracy2 = sklearn.metrics.mean_absolute_error(y_test, y_pred)\n",
    "    accuracy3 = sklearn.metrics.max_error(y_test, y_pred)\n",
    "    accuracy4 = sklearn.metrics.r2_score(y_test, y_pred)\n",
    "    accuracy6 = sklearn.metrics.explained_variance_score(y_test, y_pred)\n",
    "    accuracy7 = sklearn.metrics.accuracy_score(y_test, y_pred)\n",
    "    \n",
    "    print('                 MINIMIZE: ')\n",
    "    print(\"Mean squared error\\t\", accuracy1)\n",
    "    print(\"Mean absolute error\\t\", accuracy2)\n",
    "    print(\"Max error\\t\\t\", accuracy3)\n",
    "    print('                 MAXIMIZE: ')\n",
    "    print(\"r2 Score\\t\\t\", accuracy4)\n",
    "    print(\"Explained Variance Score\", accuracy6)\n",
    "    print(\"accuracy_score\\t\\t\", accuracy7)\n",
    "    print('---------------------------------------------')"
   ]
  },
  {
   "cell_type": "code",
   "execution_count": 16,
   "id": "9dff4860",
   "metadata": {},
   "outputs": [],
   "source": [
    "def hyperparameterSearch(X_train, y_train, num_iter):\n",
    "    knn = sklearn.neighbors.KNeighborsClassifier().fit(X_train, y_train)\n",
    "    param_distribution = {'n_neighbors': range(1, 100), 'algorithm': ['auto', 'ball_tree', 'kd_tree', 'brute'], 'weights': ['uniform', 'distance'], 'leaf_size': scipy.stats.uniform(1, 50)}\n",
    "    randomized_search_ = sklearn.model_selection.RandomizedSearchCV(knn, param_distribution, n_iter=num_iter, verbose=1, random_state=0).fit(X_train,y_train)\n",
    "    print('Best Hyperparameters = ' + str(randomized_search_.best_params_))\n",
    "    return randomized_search_"
   ]
  },
  {
   "cell_type": "code",
   "execution_count": null,
   "id": "81347534",
   "metadata": {},
   "outputs": [],
   "source": [
    "\"\"\"importing datasets\"\"\";"
   ]
  },
  {
   "cell_type": "code",
   "execution_count": 15,
   "id": "c9a9a45f",
   "metadata": {},
   "outputs": [
    {
     "name": "stdout",
     "output_type": "stream",
     "text": [
      "Diabetic Retinopathy\n",
      "Fitting 5 folds for each of 5 candidates, totalling 25 fits\n",
      "Best Hyperparameters = {'algorithm': 'brute', 'leaf_size': 27.444745987645224, 'n_neighbors': 25, 'weights': 'distance'}\n",
      "                 MINIMIZE: \n",
      "Mean squared error\t 0.0\n",
      "Mean absolute error\t 0.0\n",
      "Max error\t\t 0\n",
      "                 MAXIMIZE: \n",
      "r2 Score\t\t 1.0\n",
      "Explained Variance Score 1.0\n",
      "accuracy_score\t\t 1.0\n",
      "---------------------------------------------\n"
     ]
    }
   ],
   "source": [
    "\"\"\"1. Diabetic Retinopathy\"\"\"\n",
    "# data details:\n",
    "directory = '/Users/annikatimermanis/Desktop/project/datasets/classification/messidor_features/messidor_features.arff'\n",
    "data = arff.loadarff(directory)\n",
    "data = pd.DataFrame(data[0])\n",
    "\n",
    "X = data.iloc[:, :-1] # take everything except last column, our inputs\n",
    "y = data.iloc[:, -1:] # tak only last column (our qualities), our target\n",
    "\n",
    "binary_values = y.to_numpy().reshape(-1)\n",
    "label_encoder = LabelEncoder()\n",
    "integer_encoded = label_encoder.fit_transform(binary_values)\n",
    "y = integer_encoded\n",
    "# y is converted into a numpy array, therefore we ca\n",
    "# not use illoc to slice, so we convert it back to dataframe for simplicitiy\n",
    "y = pd.DataFrame(y)\n",
    "\n",
    "print(\"\"\"Diabetic Retinopathy\"\"\")\n",
    "k_nearest_neighbours(X, y)"
   ]
  },
  {
   "cell_type": "code",
   "execution_count": 17,
   "id": "6cdeee7a",
   "metadata": {},
   "outputs": [
    {
     "name": "stdout",
     "output_type": "stream",
     "text": [
      "Default of Credit Card Clients\n",
      "Fitting 5 folds for each of 5 candidates, totalling 25 fits\n",
      "Best Hyperparameters = {'algorithm': 'kd_tree', 'leaf_size': 41.60843643877466, 'n_neighbors': 47, 'weights': 'uniform'}\n",
      "                 MINIMIZE: \n",
      "Mean squared error\t 0.19755555555555557\n",
      "Mean absolute error\t 0.19755555555555557\n",
      "Max error\t\t 1\n",
      "                 MAXIMIZE: \n",
      "r2 Score\t\t -0.15125615125615122\n",
      "Explained Variance Score -0.0445247345247346\n",
      "accuracy_score\t\t 0.8024444444444444\n",
      "---------------------------------------------\n"
     ]
    }
   ],
   "source": [
    "\"\"\"2. Default of credit card clients\"\"\"\n",
    "# data details:\n",
    "directory = '/Users/annikatimermanis/Desktop/project/datasets/classification/credit_card_clients/credit_card_clients.xls'\n",
    "data = pd.read_excel(directory, skiprows=1) \n",
    "\n",
    "X = data.iloc[:, :-1] # take everything except last column, our inputs\n",
    "y = data.iloc[:, -1:] # take only last column (our qualities), our target\n",
    "\n",
    "print(\"\"\"Default of Credit Card Clients\"\"\")  \n",
    "k_nearest_neighbours(X, y)"
   ]
  },
  {
   "cell_type": "code",
   "execution_count": 18,
   "id": "8a6f119d",
   "metadata": {},
   "outputs": [
    {
     "name": "stdout",
     "output_type": "stream",
     "text": [
      "Breast Cancer Wisconsin\n",
      "Fitting 5 folds for each of 5 candidates, totalling 25 fits\n",
      "Best Hyperparameters = {'algorithm': 'brute', 'leaf_size': 28.244159149844844, 'n_neighbors': 10, 'weights': 'distance'}\n",
      "                 MINIMIZE: \n",
      "Mean squared error\t 0.0\n",
      "Mean absolute error\t 0.0\n",
      "Max error\t\t 0\n",
      "                 MAXIMIZE: \n",
      "r2 Score\t\t 1.0\n",
      "Explained Variance Score 1.0\n",
      "accuracy_score\t\t 1.0\n",
      "---------------------------------------------\n"
     ]
    }
   ],
   "source": [
    "\"\"\"3. Breast Cancer Wisconsin\"\"\"\n",
    "directory = '/Users/annikatimermanis/Desktop/project/datasets/classification/breast-cancer-wisconsin/breast-cancer-wisconsin.data'\n",
    "data = pd.read_csv(directory, delimiter=',', header=None)\n",
    "data = data[(data != '?').all(axis=1)] # removes all rows that have ?\n",
    " \n",
    "X = data.iloc[:,:-1]\n",
    "y = data.iloc[:,-1:]\n",
    "\n",
    "print(\"\"\"Breast Cancer Wisconsin\"\"\")  \n",
    "k_nearest_neighbours(X, y)"
   ]
  },
  {
   "cell_type": "code",
   "execution_count": null,
   "id": "591c94d4",
   "metadata": {},
   "outputs": [],
   "source": [
    "\"\"\"4. Statlog (German credit data)\"\"\"\n",
    "directory = '/Users/annikatimermanis/Desktop/project/datasets/classification/german_credit_card/german.data-numeric'\n",
    "data = pd.read_csv(directory, delimiter=',', header=None)\n",
    "\n",
    "\n",
    "\n",
    "print(\"\"\"Statlog (German credit data)\"\"\")  "
   ]
  },
  {
   "cell_type": "code",
   "execution_count": 56,
   "id": "a17229a0",
   "metadata": {},
   "outputs": [
    {
     "name": "stdout",
     "output_type": "stream",
     "text": [
      "Adult data\n",
      "Fitting 5 folds for each of 5 candidates, totalling 25 fits\n",
      "Best Hyperparameters = {'algorithm': 'auto', 'leaf_size': 49.18313802505146, 'n_neighbors': 59, 'weights': 'distance'}\n",
      "                 MINIMIZE: \n",
      "Mean squared error\t 0.0\n",
      "Mean absolute error\t 0.0\n",
      "Max error\t\t 0\n",
      "                 MAXIMIZE: \n",
      "r2 Score\t\t 1.0\n",
      "Explained Variance Score 1.0\n",
      "accuracy_score\t\t 1.0\n",
      "---------------------------------------------\n"
     ]
    }
   ],
   "source": [
    "\"\"\"5. Adult\"\"\"\n",
    "directory = '/Users/annikatimermanis/Desktop/project/datasets/classification/adult/adult.data'\n",
    "data = pd.read_csv(directory, delimiter=',', header=None)\n",
    "\n",
    "# loop to iterate through all columns in dataframe and check if the data is string type\n",
    "for column in data:\n",
    "    if type(data[column][0]) == str:\n",
    "        # if data in column is type string, we want to convert it to equivalent numerical labels\n",
    "        label_encoder = LabelEncoder()\n",
    "        integer_encoded = label_encoder.fit_transform(data[column])\n",
    "        data[column] = integer_encoded\n",
    "\n",
    "X = data.iloc[:,:-1]\n",
    "y = data.iloc[:,-1:]\n",
    "\n",
    "print(\"\"\"Adult data\"\"\") \n",
    "k_nearest_neighbours(X, y)"
   ]
  },
  {
   "cell_type": "code",
   "execution_count": 61,
   "id": "d3d08800",
   "metadata": {},
   "outputs": [
    {
     "name": "stdout",
     "output_type": "stream",
     "text": [
      "Yeast data\n",
      "Fitting 5 folds for each of 5 candidates, totalling 25 fits\n",
      "Best Hyperparameters = {'algorithm': 'brute', 'leaf_size': 28.244159149844844, 'n_neighbors': 10, 'weights': 'distance'}\n",
      "                 MINIMIZE: \n",
      "Mean squared error\t 0.0\n",
      "Mean absolute error\t 0.0\n",
      "Max error\t\t 0\n",
      "                 MAXIMIZE: \n",
      "r2 Score\t\t 1.0\n",
      "Explained Variance Score 1.0\n",
      "accuracy_score\t\t 1.0\n",
      "---------------------------------------------\n"
     ]
    }
   ],
   "source": [
    "\"\"\"6. Yeast\"\"\"\n",
    "directory = '/Users/annikatimermanis/Desktop/project/datasets/classification/yeast/yeast.data'\n",
    "data = pd.read_csv(directory, delim_whitespace=True, header=None) # delim_whitespace=True because we have a multichar delimeter of whitespaces\n",
    "\n",
    "# loop to iterate through all columns in dataframe and check if the data is string type\n",
    "for column in data:\n",
    "    if type(data[column][0]) == str:\n",
    "        # if data in column is type string, we want to convert it to equivalent numerical labels\n",
    "        label_encoder = LabelEncoder()\n",
    "        integer_encoded = label_encoder.fit_transform(data[column])\n",
    "        data[column] = integer_encoded\n",
    "\n",
    "X = data.iloc[:,:-1]\n",
    "y = data.iloc[:,-1:]\n",
    "\n",
    "print(\"\"\"Yeast data\"\"\") \n",
    "k_nearest_neighbours(X, y)"
   ]
  },
  {
   "cell_type": "code",
   "execution_count": 71,
   "id": "00086c65",
   "metadata": {},
   "outputs": [
    {
     "name": "stdout",
     "output_type": "stream",
     "text": [
      "         DGN  PRE4  PRE5     PRE6  PRE7  PRE8  PRE9 PRE10 PRE11    PRE14  \\\n",
      "0    b'DGN2'  2.88  2.16  b'PRZ1'  b'F'  b'F'  b'F'  b'T'  b'T'  b'OC14'   \n",
      "1    b'DGN3'  3.40  1.88  b'PRZ0'  b'F'  b'F'  b'F'  b'F'  b'F'  b'OC12'   \n",
      "2    b'DGN3'  2.76  2.08  b'PRZ1'  b'F'  b'F'  b'F'  b'T'  b'F'  b'OC11'   \n",
      "3    b'DGN3'  3.68  3.04  b'PRZ0'  b'F'  b'F'  b'F'  b'F'  b'F'  b'OC11'   \n",
      "4    b'DGN3'  2.44  0.96  b'PRZ2'  b'F'  b'T'  b'F'  b'T'  b'T'  b'OC11'   \n",
      "..       ...   ...   ...      ...   ...   ...   ...   ...   ...      ...   \n",
      "465  b'DGN2'  3.88  2.12  b'PRZ1'  b'F'  b'F'  b'F'  b'T'  b'F'  b'OC13'   \n",
      "466  b'DGN3'  3.76  3.12  b'PRZ0'  b'F'  b'F'  b'F'  b'F'  b'F'  b'OC11'   \n",
      "467  b'DGN3'  3.04  2.08  b'PRZ1'  b'F'  b'F'  b'F'  b'T'  b'F'  b'OC13'   \n",
      "468  b'DGN3'  1.96  1.68  b'PRZ1'  b'F'  b'F'  b'F'  b'T'  b'T'  b'OC12'   \n",
      "469  b'DGN3'  4.72  3.56  b'PRZ0'  b'F'  b'F'  b'F'  b'F'  b'F'  b'OC12'   \n",
      "\n",
      "    PRE17 PRE19 PRE25 PRE30 PRE32   AGE  \n",
      "0    b'F'  b'F'  b'F'  b'T'  b'F'  60.0  \n",
      "1    b'F'  b'F'  b'F'  b'T'  b'F'  51.0  \n",
      "2    b'F'  b'F'  b'F'  b'T'  b'F'  59.0  \n",
      "3    b'F'  b'F'  b'F'  b'F'  b'F'  54.0  \n",
      "4    b'F'  b'F'  b'F'  b'T'  b'F'  73.0  \n",
      "..    ...   ...   ...   ...   ...   ...  \n",
      "465  b'F'  b'F'  b'F'  b'T'  b'F'  63.0  \n",
      "466  b'F'  b'F'  b'F'  b'T'  b'F'  61.0  \n",
      "467  b'F'  b'F'  b'F'  b'F'  b'F'  52.0  \n",
      "468  b'F'  b'F'  b'F'  b'T'  b'F'  79.0  \n",
      "469  b'F'  b'F'  b'F'  b'T'  b'F'  51.0  \n",
      "\n",
      "[470 rows x 16 columns]\n",
      "Thoraric Surgery\n"
     ]
    },
    {
     "ename": "ValueError",
     "evalue": "could not convert string to float: b'DGN2'",
     "output_type": "error",
     "traceback": [
      "\u001b[0;31m---------------------------------------------------------------------------\u001b[0m",
      "\u001b[0;31mValueError\u001b[0m                                Traceback (most recent call last)",
      "\u001b[0;32m/var/folders/qm/kfl5df0x3xq2x8b5xc9ngp_40000gn/T/ipykernel_28219/3162055917.py\u001b[0m in \u001b[0;36m<module>\u001b[0;34m\u001b[0m\n\u001b[1;32m     24\u001b[0m \u001b[0;34m\u001b[0m\u001b[0m\n\u001b[1;32m     25\u001b[0m \u001b[0mprint\u001b[0m\u001b[0;34m(\u001b[0m\u001b[0;34m\"\"\"Thoraric Surgery\"\"\"\u001b[0m\u001b[0;34m)\u001b[0m\u001b[0;34m\u001b[0m\u001b[0;34m\u001b[0m\u001b[0m\n\u001b[0;32m---> 26\u001b[0;31m \u001b[0mk_nearest_neighbours\u001b[0m\u001b[0;34m(\u001b[0m\u001b[0mX\u001b[0m\u001b[0;34m,\u001b[0m \u001b[0my\u001b[0m\u001b[0;34m)\u001b[0m\u001b[0;34m\u001b[0m\u001b[0;34m\u001b[0m\u001b[0m\n\u001b[0m",
      "\u001b[0;32m/var/folders/qm/kfl5df0x3xq2x8b5xc9ngp_40000gn/T/ipykernel_28219/1893410157.py\u001b[0m in \u001b[0;36mk_nearest_neighbours\u001b[0;34m(X, y, num_iter, training_percentage, testing_percentage)\u001b[0m\n\u001b[1;32m     12\u001b[0m     \u001b[0;31m# preprocessing training x\u001b[0m\u001b[0;34m\u001b[0m\u001b[0;34m\u001b[0m\u001b[0;34m\u001b[0m\u001b[0m\n\u001b[1;32m     13\u001b[0m     \u001b[0mscaler\u001b[0m \u001b[0;34m=\u001b[0m \u001b[0msklearn\u001b[0m\u001b[0;34m.\u001b[0m\u001b[0mpreprocessing\u001b[0m\u001b[0;34m.\u001b[0m\u001b[0mStandardScaler\u001b[0m\u001b[0;34m(\u001b[0m\u001b[0;34m)\u001b[0m\u001b[0;34m\u001b[0m\u001b[0;34m\u001b[0m\u001b[0m\n\u001b[0;32m---> 14\u001b[0;31m     \u001b[0mX_train\u001b[0m \u001b[0;34m=\u001b[0m \u001b[0mscaler\u001b[0m\u001b[0;34m.\u001b[0m\u001b[0mfit_transform\u001b[0m\u001b[0;34m(\u001b[0m\u001b[0mX_train\u001b[0m\u001b[0;34m)\u001b[0m\u001b[0;34m\u001b[0m\u001b[0;34m\u001b[0m\u001b[0m\n\u001b[0m\u001b[1;32m     15\u001b[0m \u001b[0;34m\u001b[0m\u001b[0m\n\u001b[1;32m     16\u001b[0m     \u001b[0;34m\"\"\"fitting support vector regression model\"\"\"\u001b[0m\u001b[0;34m\u001b[0m\u001b[0;34m\u001b[0m\u001b[0m\n",
      "\u001b[0;32m/Library/Frameworks/Python.framework/Versions/3.9/lib/python3.9/site-packages/sklearn/base.py\u001b[0m in \u001b[0;36mfit_transform\u001b[0;34m(self, X, y, **fit_params)\u001b[0m\n\u001b[1;32m    842\u001b[0m         \u001b[0;32mif\u001b[0m \u001b[0my\u001b[0m \u001b[0;32mis\u001b[0m \u001b[0;32mNone\u001b[0m\u001b[0;34m:\u001b[0m\u001b[0;34m\u001b[0m\u001b[0;34m\u001b[0m\u001b[0m\n\u001b[1;32m    843\u001b[0m             \u001b[0;31m# fit method of arity 1 (unsupervised transformation)\u001b[0m\u001b[0;34m\u001b[0m\u001b[0;34m\u001b[0m\u001b[0;34m\u001b[0m\u001b[0m\n\u001b[0;32m--> 844\u001b[0;31m             \u001b[0;32mreturn\u001b[0m \u001b[0mself\u001b[0m\u001b[0;34m.\u001b[0m\u001b[0mfit\u001b[0m\u001b[0;34m(\u001b[0m\u001b[0mX\u001b[0m\u001b[0;34m,\u001b[0m \u001b[0;34m**\u001b[0m\u001b[0mfit_params\u001b[0m\u001b[0;34m)\u001b[0m\u001b[0;34m.\u001b[0m\u001b[0mtransform\u001b[0m\u001b[0;34m(\u001b[0m\u001b[0mX\u001b[0m\u001b[0;34m)\u001b[0m\u001b[0;34m\u001b[0m\u001b[0;34m\u001b[0m\u001b[0m\n\u001b[0m\u001b[1;32m    845\u001b[0m         \u001b[0;32melse\u001b[0m\u001b[0;34m:\u001b[0m\u001b[0;34m\u001b[0m\u001b[0;34m\u001b[0m\u001b[0m\n\u001b[1;32m    846\u001b[0m             \u001b[0;31m# fit method of arity 2 (supervised transformation)\u001b[0m\u001b[0;34m\u001b[0m\u001b[0;34m\u001b[0m\u001b[0;34m\u001b[0m\u001b[0m\n",
      "\u001b[0;32m/Library/Frameworks/Python.framework/Versions/3.9/lib/python3.9/site-packages/sklearn/preprocessing/_data.py\u001b[0m in \u001b[0;36mfit\u001b[0;34m(self, X, y, sample_weight)\u001b[0m\n\u001b[1;32m    804\u001b[0m         \u001b[0;31m# Reset internal state before fitting\u001b[0m\u001b[0;34m\u001b[0m\u001b[0;34m\u001b[0m\u001b[0;34m\u001b[0m\u001b[0m\n\u001b[1;32m    805\u001b[0m         \u001b[0mself\u001b[0m\u001b[0;34m.\u001b[0m\u001b[0m_reset\u001b[0m\u001b[0;34m(\u001b[0m\u001b[0;34m)\u001b[0m\u001b[0;34m\u001b[0m\u001b[0;34m\u001b[0m\u001b[0m\n\u001b[0;32m--> 806\u001b[0;31m         \u001b[0;32mreturn\u001b[0m \u001b[0mself\u001b[0m\u001b[0;34m.\u001b[0m\u001b[0mpartial_fit\u001b[0m\u001b[0;34m(\u001b[0m\u001b[0mX\u001b[0m\u001b[0;34m,\u001b[0m \u001b[0my\u001b[0m\u001b[0;34m,\u001b[0m \u001b[0msample_weight\u001b[0m\u001b[0;34m)\u001b[0m\u001b[0;34m\u001b[0m\u001b[0;34m\u001b[0m\u001b[0m\n\u001b[0m\u001b[1;32m    807\u001b[0m \u001b[0;34m\u001b[0m\u001b[0m\n\u001b[1;32m    808\u001b[0m     \u001b[0;32mdef\u001b[0m \u001b[0mpartial_fit\u001b[0m\u001b[0;34m(\u001b[0m\u001b[0mself\u001b[0m\u001b[0;34m,\u001b[0m \u001b[0mX\u001b[0m\u001b[0;34m,\u001b[0m \u001b[0my\u001b[0m\u001b[0;34m=\u001b[0m\u001b[0;32mNone\u001b[0m\u001b[0;34m,\u001b[0m \u001b[0msample_weight\u001b[0m\u001b[0;34m=\u001b[0m\u001b[0;32mNone\u001b[0m\u001b[0;34m)\u001b[0m\u001b[0;34m:\u001b[0m\u001b[0;34m\u001b[0m\u001b[0;34m\u001b[0m\u001b[0m\n",
      "\u001b[0;32m/Library/Frameworks/Python.framework/Versions/3.9/lib/python3.9/site-packages/sklearn/preprocessing/_data.py\u001b[0m in \u001b[0;36mpartial_fit\u001b[0;34m(self, X, y, sample_weight)\u001b[0m\n\u001b[1;32m    839\u001b[0m         \"\"\"\n\u001b[1;32m    840\u001b[0m         \u001b[0mfirst_call\u001b[0m \u001b[0;34m=\u001b[0m \u001b[0;32mnot\u001b[0m \u001b[0mhasattr\u001b[0m\u001b[0;34m(\u001b[0m\u001b[0mself\u001b[0m\u001b[0;34m,\u001b[0m \u001b[0;34m\"n_samples_seen_\"\u001b[0m\u001b[0;34m)\u001b[0m\u001b[0;34m\u001b[0m\u001b[0;34m\u001b[0m\u001b[0m\n\u001b[0;32m--> 841\u001b[0;31m         X = self._validate_data(\n\u001b[0m\u001b[1;32m    842\u001b[0m             \u001b[0mX\u001b[0m\u001b[0;34m,\u001b[0m\u001b[0;34m\u001b[0m\u001b[0;34m\u001b[0m\u001b[0m\n\u001b[1;32m    843\u001b[0m             \u001b[0maccept_sparse\u001b[0m\u001b[0;34m=\u001b[0m\u001b[0;34m(\u001b[0m\u001b[0;34m\"csr\"\u001b[0m\u001b[0;34m,\u001b[0m \u001b[0;34m\"csc\"\u001b[0m\u001b[0;34m)\u001b[0m\u001b[0;34m,\u001b[0m\u001b[0;34m\u001b[0m\u001b[0;34m\u001b[0m\u001b[0m\n",
      "\u001b[0;32m/Library/Frameworks/Python.framework/Versions/3.9/lib/python3.9/site-packages/sklearn/base.py\u001b[0m in \u001b[0;36m_validate_data\u001b[0;34m(self, X, y, reset, validate_separately, **check_params)\u001b[0m\n\u001b[1;32m    555\u001b[0m             \u001b[0;32mraise\u001b[0m \u001b[0mValueError\u001b[0m\u001b[0;34m(\u001b[0m\u001b[0;34m\"Validation should be done on X, y or both.\"\u001b[0m\u001b[0;34m)\u001b[0m\u001b[0;34m\u001b[0m\u001b[0;34m\u001b[0m\u001b[0m\n\u001b[1;32m    556\u001b[0m         \u001b[0;32melif\u001b[0m \u001b[0;32mnot\u001b[0m \u001b[0mno_val_X\u001b[0m \u001b[0;32mand\u001b[0m \u001b[0mno_val_y\u001b[0m\u001b[0;34m:\u001b[0m\u001b[0;34m\u001b[0m\u001b[0;34m\u001b[0m\u001b[0m\n\u001b[0;32m--> 557\u001b[0;31m             \u001b[0mX\u001b[0m \u001b[0;34m=\u001b[0m \u001b[0mcheck_array\u001b[0m\u001b[0;34m(\u001b[0m\u001b[0mX\u001b[0m\u001b[0;34m,\u001b[0m \u001b[0;34m**\u001b[0m\u001b[0mcheck_params\u001b[0m\u001b[0;34m)\u001b[0m\u001b[0;34m\u001b[0m\u001b[0;34m\u001b[0m\u001b[0m\n\u001b[0m\u001b[1;32m    558\u001b[0m             \u001b[0mout\u001b[0m \u001b[0;34m=\u001b[0m \u001b[0mX\u001b[0m\u001b[0;34m\u001b[0m\u001b[0;34m\u001b[0m\u001b[0m\n\u001b[1;32m    559\u001b[0m         \u001b[0;32melif\u001b[0m \u001b[0mno_val_X\u001b[0m \u001b[0;32mand\u001b[0m \u001b[0;32mnot\u001b[0m \u001b[0mno_val_y\u001b[0m\u001b[0;34m:\u001b[0m\u001b[0;34m\u001b[0m\u001b[0;34m\u001b[0m\u001b[0m\n",
      "\u001b[0;32m/Library/Frameworks/Python.framework/Versions/3.9/lib/python3.9/site-packages/sklearn/utils/validation.py\u001b[0m in \u001b[0;36mcheck_array\u001b[0;34m(array, accept_sparse, accept_large_sparse, dtype, order, copy, force_all_finite, ensure_2d, allow_nd, ensure_min_samples, ensure_min_features, estimator)\u001b[0m\n\u001b[1;32m    736\u001b[0m                     \u001b[0marray\u001b[0m \u001b[0;34m=\u001b[0m \u001b[0marray\u001b[0m\u001b[0;34m.\u001b[0m\u001b[0mastype\u001b[0m\u001b[0;34m(\u001b[0m\u001b[0mdtype\u001b[0m\u001b[0;34m,\u001b[0m \u001b[0mcasting\u001b[0m\u001b[0;34m=\u001b[0m\u001b[0;34m\"unsafe\"\u001b[0m\u001b[0;34m,\u001b[0m \u001b[0mcopy\u001b[0m\u001b[0;34m=\u001b[0m\u001b[0;32mFalse\u001b[0m\u001b[0;34m)\u001b[0m\u001b[0;34m\u001b[0m\u001b[0;34m\u001b[0m\u001b[0m\n\u001b[1;32m    737\u001b[0m                 \u001b[0;32melse\u001b[0m\u001b[0;34m:\u001b[0m\u001b[0;34m\u001b[0m\u001b[0;34m\u001b[0m\u001b[0m\n\u001b[0;32m--> 738\u001b[0;31m                     \u001b[0marray\u001b[0m \u001b[0;34m=\u001b[0m \u001b[0mnp\u001b[0m\u001b[0;34m.\u001b[0m\u001b[0masarray\u001b[0m\u001b[0;34m(\u001b[0m\u001b[0marray\u001b[0m\u001b[0;34m,\u001b[0m \u001b[0morder\u001b[0m\u001b[0;34m=\u001b[0m\u001b[0morder\u001b[0m\u001b[0;34m,\u001b[0m \u001b[0mdtype\u001b[0m\u001b[0;34m=\u001b[0m\u001b[0mdtype\u001b[0m\u001b[0;34m)\u001b[0m\u001b[0;34m\u001b[0m\u001b[0;34m\u001b[0m\u001b[0m\n\u001b[0m\u001b[1;32m    739\u001b[0m             \u001b[0;32mexcept\u001b[0m \u001b[0mComplexWarning\u001b[0m \u001b[0;32mas\u001b[0m \u001b[0mcomplex_warning\u001b[0m\u001b[0;34m:\u001b[0m\u001b[0;34m\u001b[0m\u001b[0;34m\u001b[0m\u001b[0m\n\u001b[1;32m    740\u001b[0m                 raise ValueError(\n",
      "\u001b[0;32m/Library/Frameworks/Python.framework/Versions/3.9/lib/python3.9/site-packages/numpy/core/_asarray.py\u001b[0m in \u001b[0;36masarray\u001b[0;34m(a, dtype, order, like)\u001b[0m\n\u001b[1;32m    100\u001b[0m         \u001b[0;32mreturn\u001b[0m \u001b[0m_asarray_with_like\u001b[0m\u001b[0;34m(\u001b[0m\u001b[0ma\u001b[0m\u001b[0;34m,\u001b[0m \u001b[0mdtype\u001b[0m\u001b[0;34m=\u001b[0m\u001b[0mdtype\u001b[0m\u001b[0;34m,\u001b[0m \u001b[0morder\u001b[0m\u001b[0;34m=\u001b[0m\u001b[0morder\u001b[0m\u001b[0;34m,\u001b[0m \u001b[0mlike\u001b[0m\u001b[0;34m=\u001b[0m\u001b[0mlike\u001b[0m\u001b[0;34m)\u001b[0m\u001b[0;34m\u001b[0m\u001b[0;34m\u001b[0m\u001b[0m\n\u001b[1;32m    101\u001b[0m \u001b[0;34m\u001b[0m\u001b[0m\n\u001b[0;32m--> 102\u001b[0;31m     \u001b[0;32mreturn\u001b[0m \u001b[0marray\u001b[0m\u001b[0;34m(\u001b[0m\u001b[0ma\u001b[0m\u001b[0;34m,\u001b[0m \u001b[0mdtype\u001b[0m\u001b[0;34m,\u001b[0m \u001b[0mcopy\u001b[0m\u001b[0;34m=\u001b[0m\u001b[0;32mFalse\u001b[0m\u001b[0;34m,\u001b[0m \u001b[0morder\u001b[0m\u001b[0;34m=\u001b[0m\u001b[0morder\u001b[0m\u001b[0;34m)\u001b[0m\u001b[0;34m\u001b[0m\u001b[0;34m\u001b[0m\u001b[0m\n\u001b[0m\u001b[1;32m    103\u001b[0m \u001b[0;34m\u001b[0m\u001b[0m\n\u001b[1;32m    104\u001b[0m \u001b[0;34m\u001b[0m\u001b[0m\n",
      "\u001b[0;31mValueError\u001b[0m: could not convert string to float: b'DGN2'"
     ]
    }
   ],
   "source": [
    "\"\"\"7. Thoraric Surgery\"\"\"\n",
    "directory = '/Users/annikatimermanis/Desktop/project/datasets/classification/ThoraricSurgery/ThoraricSurgery.arff'\n",
    "data = arff.loadarff(directory)\n",
    "data = pd.DataFrame(data[0])\n",
    "\n",
    "for column in data:\n",
    "    if type(data[column][0]) == str:\n",
    "        label_encoder = LabelEncoder()\n",
    "        integer_encoded = label_encoder.fit_transform(data[column])\n",
    "        data[column] = integer_encoded\n",
    "\n",
    "X = data.iloc[:,:-1]\n",
    "y = data.iloc[:,-1:]\n",
    "\n",
    "# binary_values = y.to_numpy().reshape(-1)\n",
    "# label_encoder = LabelEncoder()\n",
    "# integer_encoded = label_encoder.fit_transform(binary_values)\n",
    "# y = integer_encoded\n",
    "# # y is converted into a numpy array, therefore we cannot use illoc to slice, so we convert it back to dataframe for simplicitiy\n",
    "# y = pd.DataFrame(y)\n",
    "\n",
    "print(X)\n",
    "\n",
    "print(\"\"\"Thoraric Surgery\"\"\") \n",
    "k_nearest_neighbours(X, y)"
   ]
  },
  {
   "cell_type": "code",
   "execution_count": null,
   "id": "33358f35",
   "metadata": {},
   "outputs": [],
   "source": []
  },
  {
   "cell_type": "code",
   "execution_count": null,
   "id": "4285bb11",
   "metadata": {},
   "outputs": [],
   "source": []
  }
 ],
 "metadata": {
  "kernelspec": {
   "display_name": "Python 3 (ipykernel)",
   "language": "python",
   "name": "python3"
  },
  "language_info": {
   "codemirror_mode": {
    "name": "ipython",
    "version": 3
   },
   "file_extension": ".py",
   "mimetype": "text/x-python",
   "name": "python",
   "nbconvert_exporter": "python",
   "pygments_lexer": "ipython3",
   "version": "3.9.5"
  }
 },
 "nbformat": 4,
 "nbformat_minor": 5
}
