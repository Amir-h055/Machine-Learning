{
 "cells": [
  {
   "cell_type": "code",
   "execution_count": 28,
   "id": "03a082c3",
   "metadata": {},
   "outputs": [],
   "source": [
    "from sklearn.preprocessing import LabelEncoder\n",
    "import sklearn\n",
    "from sklearn.neighbors import KNeighborsClassifier\n",
    "import numpy as np\n",
    "from scipy.io import arff\n",
    "import pandas as pd\n",
    "import math\n",
    "import os.path"
   ]
  },
  {
   "cell_type": "code",
   "execution_count": null,
   "id": "b28fd90c",
   "metadata": {},
   "outputs": [],
   "source": [
    "\"\"\"k-nearest neighbours \"\"\""
   ]
  },
  {
   "cell_type": "code",
   "execution_count": 76,
   "id": "e4ab3d5f",
   "metadata": {},
   "outputs": [],
   "source": [
    "def k_nearest_neighbours(X, y, n_neighbors=5, weights = 'uniform', algorithm='auto', training_percentage=0.85, testing_percentage=0.15):\n",
    "     \n",
    "    num_training_examples = math.floor(X.shape[0]*training_percentage) # number of rows in a single column * our training %\n",
    "    num_testing_examples = math.ceil(X.shape[0]*testing_percentage)\n",
    "\n",
    "    X_train = X.iloc[:num_training_examples, :].to_numpy() # isolating 85% of input data for our training\n",
    "    X_test = X.iloc[:num_testing_examples, :].to_numpy()   # isolating 15% of input data for out testing\n",
    "\n",
    "    y_train = y.iloc[:num_training_examples].to_numpy().reshape(-1)    # isolating 85% of our target to match with our training input\n",
    "    y_test = y.iloc[:num_testing_examples].to_numpy().reshape(-1)      # isolating 15% of our target to match with our testing input\n",
    "\n",
    "#     # preprocessing training x\n",
    "#     scaler = sklearn.preprocessing.StandardScaler()\n",
    "#     X_train = scaler.fit_transform(X_train)\n",
    "    \n",
    "    \"\"\"fitting support vector regression model\"\"\"\n",
    "    # C is a regularization parameter \n",
    "    knn = sklearn.neighbors.KNeighborsClassifier(n_neighbors=n_neighbors, weights=weights, algorithm=algorithm).fit(X_train, y_train)\n",
    "\n",
    "#     # preprocessing testing x\n",
    "#     X_test = scaler.transform(X_test)\n",
    "    \n",
    "    # predicting\n",
    "    y_pred = knn.predict(X_test)\n",
    "    \n",
    "    accuracy1 = sklearn.metrics.mean_squared_error(y_test, y_pred)\n",
    "    accuracy2 = sklearn.metrics.mean_absolute_error(y_test, y_pred)\n",
    "    accuracy3 = sklearn.metrics.max_error(y_test, y_pred)\n",
    "    accuracy4 = sklearn.metrics.r2_score(y_test, y_pred)\n",
    "    accuracy6 = sklearn.metrics.explained_variance_score(y_test, y_pred)\n",
    "    accuracy7 = sklearn.metrics.accuracy_score(y_test, y_pred)\n",
    "    \n",
    "    print('                 MINIMIZE: ')\n",
    "    print(\"Mean squared error\\t\", accuracy1)\n",
    "    print(\"Mean absolute error\\t\", accuracy2)\n",
    "    print(\"Max error\\t\\t\", accuracy3)\n",
    "    print('                 MAXIMIZE: ')\n",
    "    print(\"r2 Score\\t\\t\", accuracy4)\n",
    "    print(\"Explained Variance Score\", accuracy6)\n",
    "    print(\"accuracy_score\\t\\t\", accuracy7)\n",
    "    print('---------------------------------------------')"
   ]
  },
  {
   "cell_type": "code",
   "execution_count": null,
   "id": "81347534",
   "metadata": {},
   "outputs": [],
   "source": [
    "\"\"\"importing datasets\"\"\";"
   ]
  },
  {
   "cell_type": "code",
   "execution_count": 81,
   "id": "c9a9a45f",
   "metadata": {},
   "outputs": [
    {
     "name": "stdout",
     "output_type": "stream",
     "text": [
      "Diabetic Retinopathy\n",
      "                 MINIMIZE: \n",
      "Mean squared error\t 0.19653179190751446\n",
      "Mean absolute error\t 0.19653179190751446\n",
      "Max error\t\t 1\n",
      "                 MAXIMIZE: \n",
      "r2 Score\t\t 0.2021161150298426\n",
      "Explained Variance Score 0.3589256646771567\n",
      "accuracy_score\t\t 0.8034682080924855\n",
      "---------------------------------------------\n"
     ]
    }
   ],
   "source": [
    "\"\"\"Diabetic Retinopathy\"\"\"\n",
    "# data details:\n",
    "directory = '/Users/annikatimermanis/Desktop/project/datasets/classification/messidor_features/messidor_features.arff'\n",
    "data = arff.loadarff(directory)\n",
    "data = pd.DataFrame(data[0])\n",
    "\n",
    "X = data.iloc[:, :-1] # take everything except last column, our inputs\n",
    "y = data.iloc[:, -1:] # tak only last column (our qualities), our target\n",
    "\n",
    "binary_values = y.to_numpy().reshape(-1)\n",
    "label_encoder = LabelEncoder()\n",
    "integer_encoded = label_encoder.fit_transform(binary_values)\n",
    "y = integer_encoded\n",
    "# y is converted into a numpy array, therefore we cannot use illoc to slice, so we convert it back to dataframe for simplicitiy\n",
    "y = pd.DataFrame(y)\n",
    "\n",
    "print(\"\"\"Diabetic Retinopathy\"\"\")\n",
    "k_nearest_neighbours(X, y, n_neighbors=2)"
   ]
  },
  {
   "cell_type": "code",
   "execution_count": null,
   "id": "6cdeee7a",
   "metadata": {},
   "outputs": [],
   "source": []
  },
  {
   "cell_type": "code",
   "execution_count": null,
   "id": "8a6f119d",
   "metadata": {},
   "outputs": [],
   "source": []
  },
  {
   "cell_type": "code",
   "execution_count": null,
   "id": "591c94d4",
   "metadata": {},
   "outputs": [],
   "source": []
  },
  {
   "cell_type": "code",
   "execution_count": null,
   "id": "a17229a0",
   "metadata": {},
   "outputs": [],
   "source": []
  },
  {
   "cell_type": "code",
   "execution_count": null,
   "id": "d3d08800",
   "metadata": {},
   "outputs": [],
   "source": []
  }
 ],
 "metadata": {
  "kernelspec": {
   "display_name": "Python 3 (ipykernel)",
   "language": "python",
   "name": "python3"
  },
  "language_info": {
   "codemirror_mode": {
    "name": "ipython",
    "version": 3
   },
   "file_extension": ".py",
   "mimetype": "text/x-python",
   "name": "python",
   "nbconvert_exporter": "python",
   "pygments_lexer": "ipython3",
   "version": "3.9.5"
  }
 },
 "nbformat": 4,
 "nbformat_minor": 5
}
