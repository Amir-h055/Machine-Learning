{
 "cells": [
  {
   "cell_type": "code",
   "execution_count": 40,
   "id": "1bd29494",
   "metadata": {},
   "outputs": [],
   "source": [
    "from sklearn.preprocessing import LabelEncoder\n",
    "from sklearn.tree import DecisionTreeRegressor\n",
    "import sklearn\n",
    "import numpy as np\n",
    "from scipy.io import arff\n",
    "import pandas as pd\n",
    "import math\n",
    "import os.path"
   ]
  },
  {
   "cell_type": "code",
   "execution_count": null,
   "id": "89762d2f",
   "metadata": {},
   "outputs": [],
   "source": [
    "\"\"\"decision tree regression\"\"\""
   ]
  },
  {
   "cell_type": "code",
   "execution_count": 41,
   "id": "5a595e5a",
   "metadata": {},
   "outputs": [],
   "source": [
    "def decision_tree_regressor(X, y, criterion='squared_error', max_depth=None, training_percentage=0.85, testing_percentage=0.15):\n",
    " \n",
    "    num_training_examples = math.floor(X.shape[0]*training_percentage) # number of rows in a single column * our training %\n",
    "    num_testing_examples = math.ceil(X.shape[0]*testing_percentage)\n",
    "\n",
    "    X_train = X.iloc[:num_training_examples, :] # isolating 85% of input data for our training\n",
    "    X_test = X.iloc[:num_testing_examples, :]   # isolating 15% of input data for out testing\n",
    "\n",
    "    y_train = y.iloc[:num_training_examples].to_numpy().reshape(-1)    # isolating 85% of our target to match with our training input\n",
    "    y_test = y.iloc[:num_testing_examples].to_numpy().reshape(-1)      # isolating 15% of our target to match with our testing input\n",
    "\n",
    "    \"\"\"fitting decision tree regression model\"\"\"\n",
    "    # C is a regularization parameter \n",
    "    decision_tree = sklearn.tree.DecisionTreeRegressor(criterion=criterion, max_depth=max_depth).fit(X_train, y_train)\n",
    "    \n",
    "    # predicting\n",
    "    y_pred = decision_tree.predict(X_test)\n",
    "    \n",
    "    accuracy1 = sklearn.metrics.mean_squared_error(y_test, y_pred)\n",
    "    accuracy2 = sklearn.metrics.mean_absolute_error(y_test, y_pred)\n",
    "    accuracy3 = sklearn.metrics.max_error(y_test, y_pred)\n",
    "    accuracy4 = sklearn.metrics.r2_score(y_test, y_pred)\n",
    "    accuracy6 = sklearn.metrics.explained_variance_score(y_test, y_pred)\n",
    "    \n",
    "    print('                 MINIMIZE: ')\n",
    "    print(\"Mean squared error\\t\", accuracy1)\n",
    "    print(\"Mean absolute error\\t\", accuracy2)\n",
    "    print(\"Max error\\t\\t\", accuracy3)\n",
    "    print('                 MAXIMIZE: ')\n",
    "    print(\"r2 Score\\t\\t\", accuracy4)\n",
    "    print(\"Explained Variance Score\", accuracy6)\n",
    "    print('---------------------------------------------')"
   ]
  },
  {
   "cell_type": "code",
   "execution_count": null,
   "id": "b3392375",
   "metadata": {},
   "outputs": [],
   "source": [
    "\"\"\"importing datasets\"\"\";"
   ]
  },
  {
   "cell_type": "code",
   "execution_count": 28,
   "id": "9396aebd",
   "metadata": {},
   "outputs": [
    {
     "name": "stdout",
     "output_type": "stream",
     "text": [
      "Red wine quality\n",
      "                 MINIMIZE: \n",
      "Mean squared error\t 0.0\n",
      "Mean absolute error\t 0.0\n",
      "Max error\t\t 0.0\n",
      "                 MAXIMIZE: \n",
      "r2 Score\t\t 1.0\n",
      "Explained Variance Score 1.0\n",
      "---------------------------------------------\n",
      "White wine quality\n",
      "                 MINIMIZE: \n",
      "Mean squared error\t 0.0\n",
      "Mean absolute error\t 0.0\n",
      "Max error\t\t 0.0\n",
      "                 MAXIMIZE: \n",
      "r2 Score\t\t 1.0\n",
      "Explained Variance Score 1.0\n",
      "---------------------------------------------\n"
     ]
    }
   ],
   "source": [
    "\"\"\"1. Wine Quality\"\"\"\n",
    "# Data Details: 11 features, 1 target (quality), 1599 samples for red    \n",
    "directory = '/Users/annikatimermanis/Desktop/project/datasets/regression/wine_quality/winequality-red.csv'\n",
    "# path = '/Users/annikatimermanis/Desktop/project/datasets/wine_quality/winequality-red.csv'\n",
    "# dirname = os.path.dirname(path)\n",
    "# directory = 'winequality-red.csv'\n",
    "\n",
    "data = pd.read_csv(directory, delimiter=';') # breaking up our inputs from our target values\n",
    "X = data.iloc[:, :-1] # take everything except last column, our inputs\n",
    "y = data.iloc[:, -1:] # tak only last column (our qualities), our target\n",
    "print(\"\"\"Red wine quality\"\"\")\n",
    "decision_tree_regressor(X, y)\n",
    "\n",
    "# # Data Details: 11 features, 1 target (quality), 4898 samples for white    \n",
    "directory = '/Users/annikatimermanis/Desktop/project/datasets/regression/wine_quality/winequality-white.csv'\n",
    "data = pd.read_csv(directory, delimiter=';') # breaking up our inputs from our target values\n",
    "X = data.iloc[:, :-1] # take everything except last column, our inputs\n",
    "y = data.iloc[:, -1:] # tak only last column (our qualities), our target\n",
    "print(\"\"\"White wine quality\"\"\")\n",
    "decision_tree_regressor(X, y)"
   ]
  },
  {
   "cell_type": "code",
   "execution_count": 29,
   "id": "32309f4a",
   "metadata": {},
   "outputs": [
    {
     "name": "stdout",
     "output_type": "stream",
     "text": [
      "Communities and Crime\n",
      "                 MINIMIZE: \n",
      "Mean squared error\t 0.0\n",
      "Mean absolute error\t 0.0\n",
      "Max error\t\t 0.0\n",
      "                 MAXIMIZE: \n",
      "r2 Score\t\t 1.0\n",
      "Explained Variance Score 1.0\n",
      "---------------------------------------------\n"
     ]
    }
   ],
   "source": [
    "\"\"\"2. Communities and Crime\"\"\"\n",
    "# Data Details: 123 samples, 126 features , 1 target\n",
    "# directory = './datasets/communities/communities.data'\n",
    "directory = '/Users/annikatimermanis/Desktop/project/datasets/regression/communities/communities.data'\n",
    "data = pd.read_csv(directory, delimiter=',', header=None) # breaking up our inputs from our target values\n",
    "data = data.drop(3, axis=1)\n",
    "data = data[(data != '?').all(axis=1)]\n",
    "X = data.iloc[:, :-1] # take everything except last column, our inputs\n",
    "y = data.iloc[:, -1:] # tak only last column (our qualities), our target\n",
    "print(\"\"\"Communities and Crime\"\"\")\n",
    "decision_tree_regressor(X, y)"
   ]
  },
  {
   "cell_type": "code",
   "execution_count": 30,
   "id": "fa97813a",
   "metadata": {},
   "outputs": [
    {
     "name": "stdout",
     "output_type": "stream",
     "text": [
      "qsar aquatic toxicity\n",
      "                 MINIMIZE: \n",
      "Mean squared error\t 0.0018211463414634155\n",
      "Mean absolute error\t 0.007951219512195124\n",
      "Max error\t\t 0.2530000000000001\n",
      "                 MAXIMIZE: \n",
      "r2 Score\t\t 0.9992402800476856\n",
      "Explained Variance Score 0.999241602520318\n",
      "---------------------------------------------\n"
     ]
    }
   ],
   "source": [
    "\"\"\"3. QSAR Aquatic Toxicity\"\"\"\n",
    "# Data Details: 9 features, 1 target, 545 samples\n",
    "directory = '/Users/annikatimermanis/Desktop/project/datasets/regression/qsar_aquatic_toxicity/qsar_aquatic_toxicity.csv'\n",
    "data = pd.read_csv(directory, delimiter=';') # breaking up our inputs from our target values\n",
    "X = data.iloc[:, :-1] # take everything except last column, our inputs\n",
    "y = data.iloc[:, -1:] # tak only last column (our qualities), our target\n",
    "print(\"\"\"qsar aquatic toxicity\"\"\")  \n",
    "decision_tree_regressor(X, y)"
   ]
  },
  {
   "cell_type": "code",
   "execution_count": 31,
   "id": "37dffb13",
   "metadata": {},
   "outputs": [
    {
     "name": "stdout",
     "output_type": "stream",
     "text": [
      "Facebook metrics\n",
      "                 MINIMIZE: \n",
      "Mean squared error\t 0.0\n",
      "Mean absolute error\t 0.0\n",
      "Max error\t\t 0.0\n",
      "                 MAXIMIZE: \n",
      "r2 Score\t\t 1.0\n",
      "Explained Variance Score 1.0\n",
      "---------------------------------------------\n"
     ]
    }
   ],
   "source": [
    "\"\"\"4. Facebook metrics\"\"\"\n",
    "# Data Details: 18 features/inputs, 1 target, 495 samples\n",
    "directory = '/Users/annikatimermanis/Desktop/project/datasets/regression/dataset_Facebook/dataset_Facebook.csv'\n",
    "data = pd.read_csv(directory, delimiter=';') # breaking up our inputs from our target values\n",
    "\n",
    "string_values = data[\"Type\"]\n",
    "label_encoder = LabelEncoder()\n",
    "integer_encoded = label_encoder.fit_transform(string_values)\n",
    "data[\"Type\"] = integer_encoded\n",
    "data = data.dropna()\n",
    "\n",
    "X = data.iloc[:, :-1] # take everything except last column, our inputs\n",
    "y = data.iloc[:, -1:] # take only last column (our qualities), our target\n",
    "\n",
    "print(\"\"\"Facebook metrics\"\"\")  \n",
    "decision_tree_regressor(X, y)"
   ]
  },
  {
   "cell_type": "code",
   "execution_count": 32,
   "id": "d094006d",
   "metadata": {},
   "outputs": [
    {
     "name": "stdout",
     "output_type": "stream",
     "text": [
      "Bike Sharing\n",
      "                 MINIMIZE: \n",
      "Mean squared error\t 0.0\n",
      "Mean absolute error\t 0.0\n",
      "Max error\t\t 0.0\n",
      "                 MAXIMIZE: \n",
      "r2 Score\t\t 1.0\n",
      "Explained Variance Score 1.0\n",
      "---------------------------------------------\n"
     ]
    }
   ],
   "source": [
    "\"\"\"5. Bike Sharing\"\"\"\n",
    "# Data Details: \n",
    "# directory = './datasets/bike_sharing/hour.csv'\n",
    "directory = '/Users/annikatimermanis/Desktop/project/datasets/regression/bike_sharing/hour.csv'\n",
    "data = pd.read_csv(directory, delimiter=',') # breaking up our inputs from our target values\n",
    "data = data.drop('dteday', axis=1)\n",
    "\n",
    "X = data.iloc[:, :-1] # take everything except last column, our inputs\n",
    "y = data.iloc[:, -1:] # tak only last column (our qualities), our target\n",
    "print(\"\"\"Bike Sharing\"\"\")\n",
    "decision_tree_regressor(X, y)"
   ]
  },
  {
   "cell_type": "code",
   "execution_count": 33,
   "id": "eaa8eefd",
   "metadata": {},
   "outputs": [
    {
     "name": "stdout",
     "output_type": "stream",
     "text": [
      "Student Performance\n",
      "                 MINIMIZE: \n",
      "Mean squared error\t 0.0\n",
      "Mean absolute error\t 0.0\n",
      "Max error\t\t 0.0\n",
      "                 MAXIMIZE: \n",
      "r2 Score\t\t 1.0\n",
      "Explained Variance Score 1.0\n",
      "---------------------------------------------\n"
     ]
    }
   ],
   "source": [
    "\"\"\"6. Student Performance\"\"\" # lots of string data\n",
    "# Data Details: \n",
    "directory = '/Users/annikatimermanis/Desktop/project/datasets/regression/student-por/student-por.csv'\n",
    "data = pd.read_csv(directory, delimiter=';') # breaking up our inputs from our target values\n",
    "\n",
    "# loop to iterate through all columns in dataframe and check if the data is string type\n",
    "for column in data:\n",
    "    if type(data[column][0]) == str:\n",
    "        # if data in column is type string, we want to convert it to equivalent numerical labels\n",
    "        label_encoder = LabelEncoder()\n",
    "        integer_encoded = label_encoder.fit_transform(data[column])\n",
    "        data[column] = integer_encoded\n",
    "\n",
    "X = data.iloc[:, :-1] # take everything except last column, our inputs\n",
    "y = data.iloc[:, -1:] # take only last column (our qualities), our target\n",
    "\n",
    "print(\"\"\"Student Performance\"\"\")  \n",
    "decision_tree_regressor(X, y)"
   ]
  },
  {
   "cell_type": "code",
   "execution_count": 39,
   "id": "9bdc4559",
   "metadata": {},
   "outputs": [
    {
     "name": "stdout",
     "output_type": "stream",
     "text": [
      "Concrete Compressive Strength\n",
      "                 MINIMIZE: \n",
      "Mean squared error\t 5.268818770537899\n",
      "Mean absolute error\t 0.31933859380645174\n",
      "Max error\t\t 24.748741019999994\n",
      "                 MAXIMIZE: \n",
      "r2 Score\t\t 0.9762373661203197\n",
      "Explained Variance Score 0.9762373661203197\n",
      "---------------------------------------------\n"
     ]
    }
   ],
   "source": [
    "\"\"\"7. Concrete Compressive Strength\"\"\"\n",
    "# binary file format .xls\n",
    "# Data Details: 1030 samples, 8 features columns, 1 target column\n",
    "directory = '/Users/annikatimermanis/Desktop/project/datasets/regression/Concrete_Data/Concrete_Data.xls'\n",
    "data = pd.read_excel(directory)  \n",
    "\n",
    "X = data.iloc[:, :-1] # take everything except last column, our inputs\n",
    "y = data.iloc[:, -1:] # take only last column (our qualities), our target\n",
    "\n",
    "print(\"\"\"Concrete Compressive Strength\"\"\")  \n",
    "decision_tree_regressor(X, y)"
   ]
  },
  {
   "cell_type": "code",
   "execution_count": 35,
   "id": "11248b99",
   "metadata": {},
   "outputs": [
    {
     "name": "stdout",
     "output_type": "stream",
     "text": [
      "SGEMM GPU kernel performance\n",
      "                 MINIMIZE: \n",
      "Mean squared error\t 5.154587813364669e-32\n",
      "Mean absolute error\t 7.254437423599257e-18\n",
      "Max error\t\t 1.4210854715202004e-14\n",
      "                 MAXIMIZE: \n",
      "r2 Score\t\t 1.0\n",
      "Explained Variance Score 1.0\n",
      "---------------------------------------------\n"
     ]
    }
   ],
   "source": [
    "\"\"\"8. SGEMM GPU kernel performance (predict how fast two matrices can be multiplied by a GPU)\"\"\"\n",
    "# Data Details: 17 featrues, 1 target, 241600 samples\n",
    "\n",
    "directory = '/Users/annikatimermanis/Desktop/project/datasets/regression/sgemm_product/sgemm_product.csv'\n",
    "data = pd.read_csv(directory, delimiter=',') # breaking up our inputs from our target values\n",
    "X = data.iloc[:, :-1] # take everything except last column, our inputs\n",
    "y = data.iloc[:, -1:] # take only last column (our qualities), our target\n",
    "\n",
    "print(\"\"\"SGEMM GPU kernel performance\"\"\")  \n",
    "decision_tree_regressor(X, y)"
   ]
  }
 ],
 "metadata": {
  "kernelspec": {
   "display_name": "Python 3 (ipykernel)",
   "language": "python",
   "name": "python3"
  },
  "language_info": {
   "codemirror_mode": {
    "name": "ipython",
    "version": 3
   },
   "file_extension": ".py",
   "mimetype": "text/x-python",
   "name": "python",
   "nbconvert_exporter": "python",
   "pygments_lexer": "ipython3",
   "version": "3.9.5"
  }
 },
 "nbformat": 4,
 "nbformat_minor": 5
}
