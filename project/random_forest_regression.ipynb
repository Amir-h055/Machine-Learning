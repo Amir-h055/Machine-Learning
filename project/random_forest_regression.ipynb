{
 "cells": [
  {
   "cell_type": "code",
   "execution_count": 2,
   "id": "66def86e",
   "metadata": {},
   "outputs": [],
   "source": [
    "from sklearn import linear_model\n",
    "from sklearn.preprocessing import LabelEncoder\n",
    "from sklearn.ensemble import RandomForestRegressor\n",
    "import sklearn\n",
    "import numpy as np\n",
    "from scipy.io import arff\n",
    "import pandas as pd\n",
    "import math\n",
    "import os.path"
   ]
  },
  {
   "cell_type": "code",
   "execution_count": null,
   "id": "0fef17a0",
   "metadata": {},
   "outputs": [],
   "source": [
    "\"\"\"radnom forest regression\"\"\""
   ]
  },
  {
   "cell_type": "code",
   "execution_count": 15,
   "id": "5ddeeb04",
   "metadata": {},
   "outputs": [],
   "source": [
    "def random_forest_regressor(X, y, criterion='squared_error', max_depth=None, n_estimators=100, training_percentage=0.85, testing_percentage=0.15):\n",
    " \n",
    "    num_training_examples = math.floor(X.shape[0]*training_percentage) # number of rows in a single column * our training %\n",
    "    num_testing_examples = math.ceil(X.shape[0]*testing_percentage)\n",
    "\n",
    "    X_train = X.iloc[:num_training_examples, :] # isolating 85% of input data for our training\n",
    "    X_test = X.iloc[:num_testing_examples, :]   # isolating 15% of input data for out testing\n",
    "\n",
    "    y_train = y.iloc[:num_training_examples].to_numpy().reshape(-1)    # isolating 85% of our target to match with our training input\n",
    "    y_test = y.iloc[:num_testing_examples].to_numpy().reshape(-1)      # isolating 15% of our target to match with our testing input\n",
    "    \n",
    "    \"\"\"fitting radnom forest regression model\"\"\"\n",
    "    # C is a regularization parameter \n",
    "    random_forest = sklearn.ensemble.RandomForestRegressor(criterion=criterion, max_depth=max_depth, n_estimators= n_estimators, random_state=0).fit(X_train, y_train)\n",
    "\n",
    "    # predicting\n",
    "    y_pred = random_forest.predict(X_test)\n",
    "    \n",
    "    accuracy1 = sklearn.metrics.mean_squared_error(y_test, y_pred)\n",
    "    accuracy2 = sklearn.metrics.mean_absolute_error(y_test, y_pred)\n",
    "    accuracy3 = sklearn.metrics.max_error(y_test, y_pred)\n",
    "    accuracy4 = sklearn.metrics.r2_score(y_test, y_pred)\n",
    "    accuracy6 = sklearn.metrics.explained_variance_score(y_test, y_pred)\n",
    "    \n",
    "    print('                 MINIMIZE: ')\n",
    "    print(\"Mean squared error\\t\", accuracy1)\n",
    "    print(\"Mean absolute error\\t\", accuracy2)\n",
    "    print(\"Max error\\t\\t\", accuracy3)\n",
    "    print('                 MAXIMIZE: ')\n",
    "    print(\"r2 Score\\t\\t\", accuracy4)\n",
    "    print(\"Explained Variance Score\", accuracy6)\n",
    "    print('---------------------------------------------')"
   ]
  },
  {
   "cell_type": "code",
   "execution_count": null,
   "id": "77ae32f0",
   "metadata": {},
   "outputs": [],
   "source": [
    "\"\"\"importing datasets\"\"\";"
   ]
  },
  {
   "cell_type": "code",
   "execution_count": 79,
   "id": "7f884091",
   "metadata": {},
   "outputs": [
    {
     "name": "stdout",
     "output_type": "stream",
     "text": [
      "Red wine quality\n",
      "                 MINIMIZE: \n",
      "Mean squared error\t 0.03916833333333334\n",
      "Mean absolute error\t 0.14141666666666666\n",
      "Max error\t\t 0.7699999999999996\n",
      "                 MAXIMIZE: \n",
      "r2 Score\t\t 0.9087302884420891\n",
      "Explained Variance Score 0.9087479105141794\n",
      "---------------------------------------------\n",
      "White wine quality\n",
      "                 MINIMIZE: \n",
      "Mean squared error\t 0.0505039455782313\n",
      "Mean absolute error\t 0.16282993197278914\n",
      "Max error\t\t 1.0999999999999996\n",
      "                 MAXIMIZE: \n",
      "r2 Score\t\t 0.9349671444984197\n",
      "Explained Variance Score 0.934978472304986\n",
      "---------------------------------------------\n"
     ]
    }
   ],
   "source": [
    "\"\"\"1. Wine Quality\"\"\"\n",
    "# Data Details: 11 features, 1 target (quality), 1599 samples for red    \n",
    "directory = '/Users/annikatimermanis/Desktop/project/datasets/wine_quality/winequality-red.csv'\n",
    "# path = '/Users/annikatimermanis/Desktop/project/datasets/wine_quality/winequality-red.csv'\n",
    "# dirname = os.path.dirname(path)\n",
    "# directory = 'winequality-red.csv'\n",
    "\n",
    "data = pd.read_csv(directory, delimiter=';') # breaking up our inputs from our target values\n",
    "X = data.iloc[:, :-1] # take everything except last column, our inputs\n",
    "y = data.iloc[:, -1:] # tak only last column (our qualities), our target\n",
    "print(\"\"\"Red wine quality\"\"\")\n",
    "random_forest_regressor(X, y)\n",
    "\n",
    "# # Data Details: 11 features, 1 target (quality), 4898 samples for white    \n",
    "directory = '/Users/annikatimermanis/Desktop/project/datasets/wine_quality/winequality-white.csv'\n",
    "data = pd.read_csv(directory, delimiter=';') # breaking up our inputs from our target values\n",
    "X = data.iloc[:, :-1] # take everything except last column, our inputs\n",
    "y = data.iloc[:, -1:] # tak only last column (our qualities), our target\n",
    "print(\"\"\"White wine quality\"\"\")\n",
    "random_forest_regressor(X, y)"
   ]
  },
  {
   "cell_type": "code",
   "execution_count": 16,
   "id": "f99abb63",
   "metadata": {},
   "outputs": [
    {
     "name": "stdout",
     "output_type": "stream",
     "text": [
      "Communities and Crime\n",
      "                 MINIMIZE: \n",
      "Mean squared error\t 0.0033874663157894805\n",
      "Mean absolute error\t 0.048431578947368464\n",
      "Max error\t\t 0.12309999999999943\n",
      "                 MAXIMIZE: \n",
      "r2 Score\t\t 0.9450274513153398\n",
      "Explained Variance Score 0.9459262501573372\n",
      "---------------------------------------------\n"
     ]
    }
   ],
   "source": [
    "\"\"\"2. Communities and Crime\"\"\"\n",
    "# Data Details: 123 samples, 126 features , 1 target\n",
    "# directory = './datasets/communities/communities.data'\n",
    "directory = '/Users/annikatimermanis/Desktop/project/datasets/communities/communities.data'\n",
    "data = pd.read_csv(directory, delimiter=',', header=None) # breaking up our inputs from our target values\n",
    "data = data.drop(3, axis=1)\n",
    "data = data[(data != '?').all(axis=1)]\n",
    "X = data.iloc[:, :-1] # take everything except last column, our inputs\n",
    "y = data.iloc[:, -1:] # tak only last column (our qualities), our target\n",
    "print(\"\"\"Communities and Crime\"\"\")\n",
    "random_forest_regressor(X, y)"
   ]
  },
  {
   "cell_type": "code",
   "execution_count": 87,
   "id": "11d283f7",
   "metadata": {},
   "outputs": [
    {
     "name": "stdout",
     "output_type": "stream",
     "text": [
      "qsar aquatic toxicity\n",
      "                 MINIMIZE: \n",
      "Mean squared error\t 0.1526455683697759\n",
      "Mean absolute error\t 0.29836702990708497\n",
      "Max error\t\t 1.1616625000000047\n",
      "                 MAXIMIZE: \n",
      "r2 Score\t\t 0.936321490874974\n",
      "Explained Variance Score 0.9364686689716515\n",
      "---------------------------------------------\n"
     ]
    }
   ],
   "source": [
    "\"\"\"3. QSAR Aquatic Toxicity\"\"\"\n",
    "# Data Details: 9 features, 1 target, 545 samples\n",
    "directory = '/Users/annikatimermanis/Desktop/project/datasets/qsar_aquatic_toxicity/qsar_aquatic_toxicity.csv'\n",
    "data = pd.read_csv(directory, delimiter=';') # breaking up our inputs from our target values\n",
    "X = data.iloc[:, :-1] # take everything except last column, our inputs\n",
    "y = data.iloc[:, -1:] # tak only last column (our qualities), our target\n",
    "print(\"\"\"qsar aquatic toxicity\"\"\")  \n",
    "random_forest_regressor(X, y)"
   ]
  },
  {
   "cell_type": "code",
   "execution_count": 86,
   "id": "df768c83",
   "metadata": {},
   "outputs": [
    {
     "name": "stdout",
     "output_type": "stream",
     "text": [
      "Facebook metrics\n",
      "                 MINIMIZE: \n",
      "Mean squared error\t 40.658345333333344\n",
      "Mean absolute error\t 3.1033333333333335\n",
      "Max error\t\t 36.960000000000036\n",
      "                 MAXIMIZE: \n",
      "r2 Score\t\t 0.9993090372118117\n",
      "Explained Variance Score 0.999309313909995\n",
      "---------------------------------------------\n"
     ]
    }
   ],
   "source": [
    "\"\"\"4. Facebook metrics\"\"\"\n",
    "# Data Details: 18 features/inputs, 1 target, 495 samples\n",
    "directory = '/Users/annikatimermanis/Desktop/project/datasets/dataset_Facebook/dataset_Facebook.csv'\n",
    "data = pd.read_csv(directory, delimiter=';') # breaking up our inputs from our target values\n",
    "\n",
    "string_values = data[\"Type\"]\n",
    "label_encoder = LabelEncoder()\n",
    "integer_encoded = label_encoder.fit_transform(string_values)\n",
    "data[\"Type\"] = integer_encoded\n",
    "data = data.dropna()\n",
    "\n",
    "X = data.iloc[:, :-1] # take everything except last column, our inputs\n",
    "y = data.iloc[:, -1:] # take only last column (our qualities), our target\n",
    "\n",
    "print(\"\"\"Facebook metrics\"\"\")  \n",
    "random_forest_regressor(X, y)"
   ]
  },
  {
   "cell_type": "code",
   "execution_count": 85,
   "id": "d832b9ff",
   "metadata": {},
   "outputs": [
    {
     "name": "stdout",
     "output_type": "stream",
     "text": [
      "Bike Sharing\n",
      "                 MINIMIZE: \n",
      "Mean squared error\t 0.4142609512850023\n",
      "Mean absolute error\t 0.1814000767165327\n",
      "Max error\t\t 23.74000000000001\n",
      "                 MAXIMIZE: \n",
      "r2 Score\t\t 0.9999321819544078\n",
      "Explained Variance Score 0.9999321890225281\n",
      "---------------------------------------------\n"
     ]
    }
   ],
   "source": [
    "\"\"\"5. Bike Sharing\"\"\"\n",
    "# Data Details: \n",
    "# directory = './datasets/bike_sharing/hour.csv'\n",
    "directory = '/Users/annikatimermanis/Desktop/project/datasets/bike_sharing/hour.csv'\n",
    "data = pd.read_csv(directory, delimiter=',') # breaking up our inputs from our target values\n",
    "data = data.drop('dteday', axis=1)\n",
    "\n",
    "X = data.iloc[:, :-1] # take everything except last column, our inputs\n",
    "y = data.iloc[:, -1:] # tak only last column (our qualities), our target\n",
    "print(\"\"\"Bike Sharing\"\"\")\n",
    "random_forest_regressor(X, y)"
   ]
  },
  {
   "cell_type": "code",
   "execution_count": 83,
   "id": "5bf62c73",
   "metadata": {},
   "outputs": [
    {
     "name": "stdout",
     "output_type": "stream",
     "text": [
      "Student Performance\n",
      "                 MINIMIZE: \n",
      "Mean squared error\t 0.2642479591836734\n",
      "Mean absolute error\t 0.25132653061224486\n",
      "Max error\t\t 4.35\n",
      "                 MAXIMIZE: \n",
      "r2 Score\t\t 0.9293416098226467\n",
      "Explained Variance Score 0.9293418353425955\n",
      "---------------------------------------------\n"
     ]
    }
   ],
   "source": [
    "\"\"\"6. Student Performance\"\"\" # lots of string data\n",
    "# Data Details: \n",
    "directory = '/Users/annikatimermanis/Desktop/project/datasets/student-por/student-por.csv'\n",
    "data = pd.read_csv(directory, delimiter=';') # breaking up our inputs from our target values\n",
    "\n",
    "# loop to iterate through all columns in dataframe and check if the data is string type\n",
    "for column in data:\n",
    "    if type(data[column][0]) == str:\n",
    "        # if data in column is type string, we want to convert it to equivalent numerical labels\n",
    "        label_encoder = LabelEncoder()\n",
    "        integer_encoded = label_encoder.fit_transform(data[column])\n",
    "        data[column] = integer_encoded\n",
    "\n",
    "X = data.iloc[:, :-1] # take everything except last column, our inputs\n",
    "y = data.iloc[:, -1:] # take only last column (our qualities), our target\n",
    "\n",
    "print(\"\"\"Student Performance\"\"\")  \n",
    "random_forest_regressor(X, y)"
   ]
  },
  {
   "cell_type": "code",
   "execution_count": 84,
   "id": "75f70072",
   "metadata": {},
   "outputs": [
    {
     "name": "stdout",
     "output_type": "stream",
     "text": [
      "Concrete Compressive Strength\n",
      "                 MINIMIZE: \n",
      "Mean squared error\t 8.451965258511702\n",
      "Mean absolute error\t 1.375338560077343\n",
      "Max error\t\t 24.494232500587007\n",
      "                 MAXIMIZE: \n",
      "r2 Score\t\t 0.9618812176412577\n",
      "Explained Variance Score 0.9622061137918856\n",
      "---------------------------------------------\n"
     ]
    }
   ],
   "source": [
    "\"\"\"7. Concrete Compressive Strength\"\"\"\n",
    "# binary file format .xls\n",
    "# Data Details: 1030 samples, 8 features columns, 1 target column\n",
    "directory = '/Users/annikatimermanis/Desktop/project/datasets/Concrete_Data/Concrete_Data.xls'\n",
    "data = pd.read_excel(directory)  \n",
    "\n",
    "X = data.iloc[:, :-1] # take everything except last column, our inputs\n",
    "y = data.iloc[:, -1:] # take only last column (our qualities), our target\n",
    "\n",
    "print(\"\"\"Concrete Compressive Strength\"\"\")  \n",
    "random_forest_regressor(X, y)"
   ]
  },
  {
   "cell_type": "code",
   "execution_count": 89,
   "id": "bc4a0907",
   "metadata": {},
   "outputs": [
    {
     "name": "stdout",
     "output_type": "stream",
     "text": [
      "SGEMM GPU kernel performance\n",
      "                 MINIMIZE: \n",
      "Mean squared error\t 0.1284350012660045\n",
      "Mean absolute error\t 0.18972170529801372\n",
      "Max error\t\t 3.689799999999906\n",
      "                 MAXIMIZE: \n",
      "r2 Score\t\t 0.9998329261489852\n",
      "Explained Variance Score 0.9998329614025344\n",
      "---------------------------------------------\n"
     ]
    }
   ],
   "source": [
    "\"\"\"8. SGEMM GPU kernel performance (predict how fast two matrices can be multiplied by a GPU)\"\"\"\n",
    "# Data Details: 17 featrues, 1 target, 241600 samples\n",
    "\n",
    "directory = '/Users/annikatimermanis/Desktop/project/datasets/sgemm_product/sgemm_product.csv'\n",
    "data = pd.read_csv(directory, delimiter=',') # breaking up our inputs from our target values\n",
    "X = data.iloc[:, :-1] # take everything except last column, our inputs\n",
    "y = data.iloc[:, -1:] # take only last column (our qualities), our target\n",
    "\n",
    "print(\"\"\"SGEMM GPU kernel performance\"\"\")  \n",
    "random_forest_regressor(X, y)"
   ]
  }
 ],
 "metadata": {
  "kernelspec": {
   "display_name": "Python 3 (ipykernel)",
   "language": "python",
   "name": "python3"
  },
  "language_info": {
   "codemirror_mode": {
    "name": "ipython",
    "version": 3
   },
   "file_extension": ".py",
   "mimetype": "text/x-python",
   "name": "python",
   "nbconvert_exporter": "python",
   "pygments_lexer": "ipython3",
   "version": "3.9.5"
  }
 },
 "nbformat": 4,
 "nbformat_minor": 5
}
