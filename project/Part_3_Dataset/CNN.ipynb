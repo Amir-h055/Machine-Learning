{
  "nbformat": 4,
  "nbformat_minor": 0,
  "metadata": {
    "colab": {
      "name": "cnn_latest.ipynb",
      "provenance": [],
      "collapsed_sections": [],
      "machine_shape": "hm"
    },
    "interpreter": {
      "hash": "227704b979e5e0b57dc5f0830b359c20b566edff5ea736ae3b4075916ed60d14"
    },
    "kernelspec": {
      "display_name": "Python 3.9.5 64-bit",
      "language": "python",
      "name": "python3"
    },
    "language_info": {
      "codemirror_mode": {
        "name": "ipython",
        "version": 3
      },
      "file_extension": ".py",
      "mimetype": "text/x-python",
      "name": "python",
      "nbconvert_exporter": "python",
      "pygments_lexer": "ipython3",
      "version": "3.9.5"
    },
    "accelerator": "TPU"
  },
  "cells": [
    {
      "cell_type": "markdown",
      "metadata": {
        "id": "NLFGOxmxps9N"
      },
      "source": [
        "## Part 3 CNN"
      ]
    },
    {
      "cell_type": "markdown",
      "metadata": {
        "id": "vfNhPPrKps9R"
      },
      "source": [
        "import numpy as np\n",
        "import matplotlib.pyplot as plt\n",
        "import torch \n",
        "import torchvision\n",
        "from torch import nn\n",
        "from google.colab import drive\n",
        "from google.colab import files\n",
        "drive.mount(\"/content/gdrive\")\n",
        "\n",
        "def unpickle(file):\n",
        "    import pickle\n",
        "    with open(file, 'rb') as fo:\n",
        "        dict = pickle.load(fo, encoding='bytes')\n",
        "    return dict\n",
        "\n",
        "# folder_dir = './cifar-10-batches-py/' \n",
        "folder_dir = '/content/gdrive/drive/MyDrive/Programs/Datasets/cifar-10-batches-py/' "
      ]
    },
    {
      "cell_type": "markdown",
      "metadata": {
        "id": "zY_NDYcups9S"
      },
      "source": [
        "load cifar data"
      ]
    },
    {
      "cell_type": "code",
      "metadata": {
        "colab": {
          "base_uri": "https://localhost:8080/"
        },
        "id": "du2KWzw4ps9T",
        "outputId": "cf1a2f92-43d7-43f0-9160-3e0b7574a849"
      },
      "source": [
        "\n",
        "import numpy as np\n",
        "folder_dir = '/content/gdrive/MyDrive/Programs/Datasets/cifar-10-batches-py/' \n",
        "metadata_dict = unpickle(folder_dir+\"batches.meta\")\n",
        "label_names = np.array([label.decode('ascii') for label in metadata_dict[b'label_names']])\n",
        "\n",
        "\n",
        "# folder_dir = \"./cifar-10-batches-py/\"\n",
        "metadata_dict = unpickle(folder_dir+\"batches.meta\")\n",
        "label_names = np.array([label.decode('ascii') for label in metadata_dict[b'label_names']])\n",
        "\n",
        "train_data = None\n",
        "cifar_train_filenames = []\n",
        "train_labels = []\n",
        "\n",
        "for i in range(1,6):\n",
        "    train_data_dict = unpickle(folder_dir + \"data_batch_\" + str(i))\n",
        "    if i == 1:\n",
        "        train_data = train_data_dict[b'data']\n",
        "    else:\n",
        "        train_data = np.vstack((train_data, train_data_dict[b'data']))\n",
        "    train_labels += train_data_dict[b'labels']\n",
        "\n",
        "test_data_dict = unpickle(folder_dir + \"test_batch\")\n",
        "test_data = test_data_dict[b'data']\n",
        "cifar_test_filenames = test_data_dict[b'filenames']\n",
        "test_labels = test_data_dict[b'labels']\n",
        "\n",
        "train_data = train_data.reshape((len(train_data), 3, 32, 32))\n",
        "test_data = test_data.reshape((len(test_data), 3, 32, 32))\n",
        "\n",
        "print(train_data.shape)\n",
        "print(test_data.shape)"
      ],
      "execution_count": null,
      "outputs": [
        {
          "output_type": "stream",
          "name": "stdout",
          "text": [
            "(50000, 3, 32, 32)\n",
            "(10000, 3, 32, 32)\n"
          ]
        }
      ]
    },
    {
      "cell_type": "markdown",
      "metadata": {
        "id": "mFGhPiQpps9U"
      },
      "source": [
        "rescaling from [0,255] to [-1,1]"
      ]
    },
    {
      "cell_type": "code",
      "metadata": {
        "colab": {
          "base_uri": "https://localhost:8080/"
        },
        "id": "mc9aZeNjps9U",
        "outputId": "85efffec-6f47-48b8-9806-d6a1362452d8"
      },
      "source": [
        "X_train = torch.Tensor(cifar_train_data/127.5-1).float()\n",
        "X_test = torch.Tensor(cifar_test_data/127.5-1).float()\n",
        "y_train = torch.Tensor(cifar_train_labels).type(torch.LongTensor)\n",
        "y_test = torch.Tensor(cifar_test_labels).type(torch.LongTensor)\n",
        "print(\"X_train.shape\", X_train.shape)\n",
        "print(\"X_test.shape\", X_test.shape)\n",
        "print(\"y_test.shape\", y_test.shape)\n",
        "print(\"y_train.shape\", y_train.shape)"
      ],
      "execution_count": null,
      "outputs": [
        {
          "output_type": "stream",
          "name": "stdout",
          "text": [
            "X_train.shape torch.Size([50000, 3, 32, 32])\n",
            "X_test.shape torch.Size([10000, 3, 32, 32])\n",
            "y_test.shape torch.Size([10000])\n",
            "y_train.shape torch.Size([50000])\n"
          ]
        }
      ]
    },
    {
      "cell_type": "markdown",
      "metadata": {
        "id": "ciR_L_qKps9V"
      },
      "source": [
        "Creating cnn class"
      ]
    },
    {
      "cell_type": "code",
      "metadata": {
        "id": "UVTLEEmlps9W"
      },
      "source": [
        "class CNN(torch.nn.Module):\n",
        "    def __init__(self):\n",
        "        super(CNN, self).__init__()\n",
        "\n",
        "        filter_size=5\n",
        "        padding=filter_size//2\n",
        "        num_filter=4\n",
        "        stride=1\n",
        "        maxpool_size=3\n",
        "        maxpool_stride=1\n",
        "\n",
        "        self.model = torch.nn.Sequential(\n",
        "\n",
        "            torch.nn.Conv2d(in_channels=3, out_channels=32, kernel_size=filter_size, stride=stride, padding=padding ),\n",
        "            torch.nn.ReLU(),\n",
        "            torch.nn.Conv2d(in_channels=32, out_channels=64, kernel_size=filter_size, stride=stride, padding=padding),\n",
        "            torch.nn.ReLU(),\n",
        "            torch.nn.MaxPool2d(kernel_size=maxpool_size, stride=maxpool_stride),\n",
        "\n",
        "            torch.nn.Conv2d(in_channels=64, out_channels=128, kernel_size=filter_size, stride=stride, padding=padding),\n",
        "            torch.nn.ReLU(),\n",
        "            torch.nn.Conv2d(in_channels=128, out_channels=256, kernel_size=filter_size, stride=stride, padding=padding),\n",
        "            torch.nn.ReLU(),\n",
        "            torch.nn.MaxPool2d(kernel_size=maxpool_size, stride=maxpool_stride),\n",
        "\n",
        "            torch.nn.Conv2d(in_channels=256, out_channels=512, kernel_size=filter_size, stride=stride, padding=padding),\n",
        "            torch.nn.ReLU(),\n",
        "            torch.nn.MaxPool2d(kernel_size=maxpool_size, stride=maxpool_stride),\n",
        "\n",
        "            torch.nn.Flatten(),\n",
        "            torch.nn.Linear(in_features=512*26*26, out_features=26*26),\n",
        "            torch.nn.ReLU(),\n",
        "            torch.nn.Linear(in_features=26*26, out_features=10),\n",
        "        )\n",
        "\n",
        "\n",
        "    def train(self, X_train, y_train, num_epoch=1, batch_size=10, learning_rate=0.01, filename_to_save=\"cnn_model\", checkpoint=None):\n",
        "        loss = torch.nn.CrossEntropyLoss()\n",
        "        optimizer = torch.optim.Adam(self.model.parameters(), lr=learning_rate)\n",
        "\n",
        "        if checkpoint is not None:\n",
        "          optimizer.load_state_dict(checkpoint[\"optimizer_state_dict\"])\n",
        "          current_epoch = checkpoint[\"epoch\"] +1 # checkpoint epoch was last completed, continue at epoch +1\n",
        "          self.load_state_dict = checkpoint[\"model_state_dict\"]\n",
        "          print(\"Resuming training of model at epoch: \" + str(current_epoch))\n",
        "        else:\n",
        "            print(\"Training started.\")\n",
        "            current_epoch=0\n",
        "\n",
        "        \n",
        "        for epoch in range(current_epoch, num_epoch):\n",
        "\n",
        "            running_loss = 0.0        \n",
        "            for i in range(0, len(X_train), batch_size):\n",
        "                X = X_train[i:i+batch_size]  \n",
        "                y = y_train[i:i+batch_size]   \n",
        "                \n",
        "                y_pred = self.model(X)\n",
        "                \n",
        "                l = loss(y_pred, y) # applies softmax and computes NLL\n",
        "                \n",
        "                self.model.zero_grad()\n",
        "                l.backward()\n",
        "                optimizer.step()\n",
        "\n",
        "                running_loss +=l.item()\n",
        "                \n",
        "                print('Epoch=%d, batch=%2d/%d,  Training loss: %.3f' % (epoch + 1, int((i + batch_size) / batch_size), -(len(X_train) // -batch_size), running_loss / batch_size))\n",
        "            \n",
        "            # saving model after every epoch\n",
        "            state = {\n",
        "                'epoch': epoch, \n",
        "                'model_state_dict': self.state_dict(),\n",
        "                'optimizer_state_dict': optimizer.state_dict()\n",
        "            }\n",
        "            print(\"..Saving checkpoint epoch \" + str(epoch+1))\n",
        "            name_file = filename_to_save + \"_epoch_\" + str(epoch+1) + \".pt\"\n",
        "            torch.save(state, name_file)\n",
        "            files.download(name_file) \n",
        "            \n",
        "        print('Training Finished')\n",
        "\n",
        "    def test(self, X_test, y_test, batch_size=100):\n",
        "        \n",
        "        num_total = 0\n",
        "        num_correct = 0\n",
        "        num_images = len(X_test)\n",
        "        num_batches = int(len(X_test)/batch_size)\n",
        "        num_total += y_test.size(0)\n",
        "        print(\"Number of batches: \" + str(num_batches))\n",
        "\n",
        "        for i in range(0, len(X_test), batch_size):\n",
        "            X = X_test[i:i+batch_size]  \n",
        "            y = y_test[i:i+batch_size]   \n",
        "            y_pred = self.model(X)\n",
        "            _, preds = torch.max(y_pred.data, 1)\n",
        "            number_correct +=  (preds == y_test[i:i+batch_size]).sum().item()\n",
        "            \n",
        "            print('[Testing batch %2d/%d]...' % (int((i + batch_size) / batch_size), -(len(X_test) // -batch_size)))\n",
        "        print('Total Test Accuracy on %d images: %.2f %%' % (num_images, 100 * (number_correct / num_total)))\n",
        "        print()\n"
      ],
      "execution_count": null,
      "outputs": []
    },
    {
      "cell_type": "markdown",
      "metadata": {
        "id": "kt9R0alops9X"
      },
      "source": [
        "Instantiate the CNN model"
      ]
    },
    {
      "cell_type": "code",
      "metadata": {
        "id": "zudqMs9xCnVv"
      },
      "source": [
        "cnn = CNN()"
      ],
      "execution_count": null,
      "outputs": []
    },
    {
      "cell_type": "markdown",
      "metadata": {
        "id": "F_Z6J1FCps9X"
      },
      "source": [
        "Train the cnn model"
      ]
    },
    {
      "cell_type": "code",
      "metadata": {
        "id": "Sim9-QyXps9X",
        "colab": {
          "base_uri": "https://localhost:8080/"
        },
        "outputId": "89279e0b-7b4b-4e37-9303-db0e1b719686"
      },
      "source": [
        "cnn.training(X_train, y_train, num_epoch=10, batch_size=750, learning_rate=0.001)"
      ],
      "execution_count": null,
      "outputs": [
        {
          "output_type": "stream",
          "name": "stdout",
          "text": [
            "Training started.\n",
            "Epoch=1, batch= 1/67,  Training loss: 0.003\n",
            "Epoch=1, batch= 2/67,  Training loss: 0.062\n",
            "Epoch=1, batch= 3/67,  Training loss: 0.066\n",
            "Epoch=1, batch= 4/67,  Training loss: 0.069\n",
            "Epoch=1, batch= 5/67,  Training loss: 0.072\n",
            "Epoch=1, batch= 6/67,  Training loss: 0.075\n",
            "Epoch=1, batch= 7/67,  Training loss: 0.078\n",
            "Epoch=1, batch= 8/67,  Training loss: 0.081\n",
            "Epoch=1, batch= 9/67,  Training loss: 0.084\n",
            "Epoch=1, batch=10/67,  Training loss: 0.087\n",
            "Epoch=1, batch=11/67,  Training loss: 0.090\n",
            "Epoch=1, batch=12/67,  Training loss: 0.093\n",
            "Epoch=1, batch=13/67,  Training loss: 0.096\n",
            "Epoch=1, batch=14/67,  Training loss: 0.099\n",
            "Epoch=1, batch=15/67,  Training loss: 0.102\n",
            "Epoch=1, batch=16/67,  Training loss: 0.105\n",
            "Epoch=1, batch=17/67,  Training loss: 0.108\n",
            "Epoch=1, batch=18/67,  Training loss: 0.111\n",
            "Epoch=1, batch=19/67,  Training loss: 0.114\n",
            "Epoch=1, batch=20/67,  Training loss: 0.117\n",
            "Epoch=1, batch=21/67,  Training loss: 0.119\n",
            "Epoch=1, batch=22/67,  Training loss: 0.122\n"
          ]
        }
      ]
    },
    {
      "cell_type": "markdown",
      "metadata": {
        "id": "Xdr6TBzSps9Y"
      },
      "source": [
        "Testing the CNN model"
      ]
    },
    {
      "cell_type": "code",
      "metadata": {
        "colab": {
          "base_uri": "https://localhost:8080/"
        },
        "id": "-oV-hSA6X2Id",
        "outputId": "981ae35b-8904-4894-9d50-ccf8c830dc4d"
      },
      "source": [
        "# bunch of tests for each saved model\n",
        "\n",
        "numbers = [7,8,9]\n",
        "folder = \"/content/gdrive/MyDrive/Programs/Datasets/cifar-10-cnn-weights\"\n",
        "# numbers = [0,1,2,3,4,5,6,7,8,9,11,12,13,14,15]\n",
        "for i, num in enumerate(numbers):\n",
        "  weights_path = folder+'/cnn_model_epoch_' + str(num) + \".pt\"\n",
        "  loaded_state = torch.load(weights_path)\n",
        "\n",
        "  cnn_test = CNN()\n",
        "  cnn_test.load_state_dict(loaded_state[\"model_state_dict\"])\n",
        "  print(\"\\n\\nTest using weights of epoch \" + str(num))\n",
        "  cnn_test.test(X_test, y_test, batch_size=500)\n",
        "# /content/gdrive/MyDrive/Programs/Datasets/cifar-10-cnn-weights/cnn_model_epoch_8.pt\n",
        "  # 6=70.01, 7=69, 8=71.02, 9=70.02"
      ],
      "execution_count": null,
      "outputs": [
        {
          "output_type": "stream",
          "name": "stdout",
          "text": [
            "\n",
            "\n",
            "\\Test using weights of epoch 7\n",
            "Number of batches: 20\n",
            "\n",
            "[Testing batch  1/20]...\n",
            "[Testing batch  2/20]...\n",
            "[Testing batch  3/20]...\n",
            "[Testing batch  4/20]...\n",
            "[Testing batch  5/20]...\n",
            "[Testing batch  6/20]...\n",
            "[Testing batch  7/20]...\n",
            "[Testing batch  8/20]...\n",
            "[Testing batch  9/20]...\n",
            "[Testing batch 10/20]...\n",
            "[Testing batch 11/20]...\n",
            "[Testing batch 12/20]...\n",
            "[Testing batch 13/20]...\n",
            "[Testing batch 14/20]...\n",
            "[Testing batch 15/20]...\n",
            "[Testing batch 16/20]...\n",
            "[Testing batch 17/20]...\n",
            "[Testing batch 18/20]...\n",
            "[Testing batch 19/20]...\n",
            "[Testing batch 20/20]...\n",
            "Total Test Accuracy on 10000 images: 69.94 %\n",
            "\n",
            "\n",
            "\\Test using weights of epoch 8\n",
            "Number of batches: 20\n",
            "\n",
            "[Testing batch  1/20]...\n",
            "[Testing batch  2/20]...\n",
            "[Testing batch  3/20]...\n",
            "[Testing batch  4/20]...\n",
            "[Testing batch  5/20]...\n",
            "[Testing batch  6/20]...\n",
            "[Testing batch  7/20]...\n",
            "[Testing batch  8/20]...\n",
            "[Testing batch  9/20]...\n",
            "[Testing batch 10/20]...\n",
            "[Testing batch 11/20]...\n",
            "[Testing batch 12/20]...\n",
            "[Testing batch 13/20]...\n",
            "[Testing batch 14/20]...\n",
            "[Testing batch 15/20]...\n",
            "[Testing batch 16/20]...\n",
            "[Testing batch 17/20]...\n",
            "[Testing batch 18/20]...\n",
            "[Testing batch 19/20]...\n",
            "[Testing batch 20/20]...\n",
            "Total Test Accuracy on 10000 images: 71.02 %\n",
            "\n",
            "\n",
            "\\Test using weights of epoch 9\n",
            "Number of batches: 20\n",
            "\n",
            "[Testing batch  1/20]...\n",
            "[Testing batch  2/20]...\n",
            "[Testing batch  3/20]...\n",
            "[Testing batch  4/20]...\n",
            "[Testing batch  5/20]...\n",
            "[Testing batch  6/20]...\n",
            "[Testing batch  7/20]...\n",
            "[Testing batch  8/20]...\n",
            "[Testing batch  9/20]...\n",
            "[Testing batch 10/20]...\n",
            "[Testing batch 11/20]...\n",
            "[Testing batch 12/20]...\n",
            "[Testing batch 13/20]...\n",
            "[Testing batch 14/20]...\n",
            "[Testing batch 15/20]...\n",
            "[Testing batch 16/20]...\n",
            "[Testing batch 17/20]...\n",
            "[Testing batch 18/20]...\n",
            "[Testing batch 19/20]...\n",
            "[Testing batch 20/20]...\n",
            "Total Test Accuracy on 10000 images: 70.14 %\n"
          ]
        }
      ]
    },
    {
      "cell_type": "markdown",
      "metadata": {
        "id": "C2ZIXmX-GsVP"
      },
      "source": [
        "## Activation maximization"
      ]
    },
    {
      "cell_type": "code",
      "metadata": {
        "colab": {
          "base_uri": "https://localhost:8080/"
        },
        "id": "5GBMbLgZGtFz",
        "outputId": "59acee4e-b076-49f7-eec0-4744fceaa93f"
      },
      "source": [
        "# loading the best model\n",
        "cnn.load_state_dict(torch.load(folder+'/cnn_model_epoch_' + str(8) + \".pt\")['model_state_dict'])\n",
        "# cnn.load_state_dict(torch.load('./weights/cnn_model_epoch_8.pt')['model_state_dict'])"
      ],
      "execution_count": null,
      "outputs": [
        {
          "output_type": "execute_result",
          "data": {
            "text/plain": [
              "<All keys matched successfully>"
            ]
          },
          "metadata": {},
          "execution_count": 11
        }
      ]
    },
    {
      "cell_type": "code",
      "metadata": {
        "colab": {
          "base_uri": "https://localhost:8080/",
          "height": 586
        },
        "id": "irJceNBZG5LL",
        "outputId": "7bd932e4-bc45-4992-e183-2a020f91e007"
      },
      "source": [
        "# displaying an automobile\n",
        "print(\"list of classes\",label_names)\n",
        "index_of_image = 547\n",
        "plt.imshow(train_data[index_of_image].transpose(1,2,0))\n",
        "print(\"Automobile is class\",train_labels[index_of_image])\n",
        "\n",
        "# displaying a bird\n",
        "index_of_image = 463\n",
        "plt.figure()\n",
        "plt.imshow(train_data[index_of_image].transpose(1,2,0))\n",
        "print(\"Bird is class\",train_labels[index_of_image])\n",
        "# 304, 461, 547, 644 cars\n",
        "# 120, 383, 463"
      ],
      "execution_count": null,
      "outputs": [
        {
          "output_type": "stream",
          "name": "stdout",
          "text": [
            "list of classes ['airplane' 'automobile' 'bird' 'cat' 'deer' 'dog' 'frog' 'horse' 'ship'\n",
            " 'truck']\n",
            "Automobile is class 1\n",
            "Bird is class 2\n"
          ]
        },
        {
          "output_type": "display_data",
          "data": {
            "image/png": "[encoded data removed]",
            "text/plain": [
              "<Figure size 432x288 with 1 Axes>"
            ]
          },
          "metadata": {
            "needs_background": "light"
          }
        },
        {
          "output_type": "display_data",
          "data": {
            "image/png": "[encoded data removed]",
            "text/plain": [
              "<Figure size 432x288 with 1 Axes>"
            ]
          },
          "metadata": {
            "needs_background": "light"
          }
        }
      ]
    },
    {
      "cell_type": "code",
      "metadata": {
        "colab": {
          "base_uri": "https://localhost:8080/",
          "height": 844
        },
        "id": "Gu35Zr5sG9PS",
        "outputId": "4b8bbff0-b1b0-4648-ffb9-361e486851ee"
      },
      "source": [
        "# grey = np.uint8(np.random.uniform(200,200, (32,32,3)))/255\n",
        "# grey2 = np.uint8(np.random.uniform(200,200, (32,32,3)))/255\n",
        "grey = np.full((32,32,3), 200)/255\n",
        "# grey2 = np.full((32,32,3), 125)/255\n",
        "grey2 = grey\n",
        "\n",
        "plt.figure()\n",
        "plt.title(\"initial image\")\n",
        "plt.imshow(grey)\n",
        "\n",
        "grey_img = torch.from_numpy(grey.reshape(1,3,32,32).astype(np.float32))\n",
        "grey_img.requires_grad = True\n",
        "\n",
        "grey_img2 = torch.from_numpy(grey2.reshape(1,3,32,32).astype(np.float32))\n",
        "grey_img2.requires_grad = True\n",
        "\n",
        "for i in range(50):\n",
        "    output = cnn.model(grey_img) # transform image into something that we want to maximize\n",
        "    output[0][1].backward()\n",
        "    grey_img.data += 0.2*grey_img.grad.data\n",
        "    grey_img.grad.data.zero_()\n",
        "\n",
        "for i in range(50):\n",
        "    output = cnn.model(grey_img2) # transform image into something that we want to maximize\n",
        "    output[0][2].backward()\n",
        "    grey_img2.data += 0.2*grey_img2.grad.data\n",
        "    grey_img2.grad.data.zero_()\n",
        "\n",
        "\n",
        "plt.figure()\n",
        "plt.title(\"activation for class 'automobile'\")\n",
        "plt.imshow(grey_img.detach().numpy().reshape(3,32,32).transpose(1,2,0));\n",
        "plt.figure()\n",
        "plt.title(\"activation for class 'bird'\")\n",
        "plt.imshow(grey_img2.detach().numpy().reshape(3,32,32).transpose(1,2,0));"
      ],
      "execution_count": null,
      "outputs": [
        {
          "output_type": "stream",
          "name": "stderr",
          "text": [
            "Clipping input data to the valid range for imshow with RGB data ([0..1] for floats or [0..255] for integers).\n",
            "Clipping input data to the valid range for imshow with RGB data ([0..1] for floats or [0..255] for integers).\n"
          ]
        },
        {
          "output_type": "display_data",
          "data": {
            "image/png": "[encoded data removed]",
            "text/plain": [
              "<Figure size 432x288 with 1 Axes>"
            ]
          },
          "metadata": {
            "needs_background": "light"
          }
        },
        {
          "output_type": "display_data",
          "data": {
            "image/png": "[encoded data removed]",
            "text/plain": [
              "<Figure size 432x288 with 1 Axes>"
            ]
          },
          "metadata": {
            "needs_background": "light"
          }
        },
        {
          "output_type": "display_data",
          "data": {
            "image/png": "[encoded data removed]",
            "text/plain": [
              "<Figure size 432x288 with 1 Axes>"
            ]
          },
          "metadata": {
            "needs_background": "light"
          }
        }
      ]
    },
    {
      "cell_type": "code",
      "metadata": {
        "colab": {
          "base_uri": "https://localhost:8080/",
          "height": 283
        },
        "id": "hxQ_NCCiRPXH",
        "outputId": "6d787205-f3b8-4971-9a49-eecd9d943fa1"
      },
      "source": [
        "an_array = np.full((32,32,3), 125)\n",
        "plt.imshow(an_array)"
      ],
      "execution_count": null,
      "outputs": [
        {
          "output_type": "execute_result",
          "data": {
            "text/plain": [
              "<matplotlib.image.AxesImage at 0x7f871f4d2450>"
            ]
          },
          "metadata": {},
          "execution_count": 56
        },
        {
          "output_type": "display_data",
          "data": {
            "image/png": "[encoded data removed]",
            "text/plain": [
              "<Figure size 432x288 with 1 Axes>"
            ]
          },
          "metadata": {
            "needs_background": "light"
          }
        }
      ]
    },
    {
      "cell_type": "markdown",
      "metadata": {
        "id": "y0zNIaQlLlw3"
      },
      "source": [
        "## Part 4. Novelty Component: Inspection of the layer filters"
      ]
    },
    {
      "cell_type": "code",
      "metadata": {
        "id": "S8OuTbNdG_ub"
      },
      "source": [
        " def plot_filters(V, cmap='bwr'):\n",
        "    if isinstance(V, torch.Tensor): \n",
        "        V = V.detach().numpy()\n",
        "    assert V.ndim == 3, \"Expected V to have 3 dimensions, not %d\" % V.ndim \n",
        "    k, m, n = V.shape\n",
        "    ncol = 8\n",
        "    nrow = min(4, (k + ncol - 1) // ncol)\n",
        "    V = V[:nrow*ncol]\n",
        "    figsize = (2*ncol, max(1, 2*nrow*(m/n)))\n",
        "    fig, axes = plt.subplots(nrow, ncol, sharex=True, sharey=True,figsize=figsize)\n",
        "    vmax = np.percentile(np.abs(V), [99.9])\n",
        "        \n",
        "    for v, ax in zip(V, axes.flat):\n",
        "        img = ax.matshow(v, vmin=-vmax, vmax=vmax, cmap=plt.get_cmap(cmap)) \n",
        "        ax.set_xticks([])\n",
        "        ax.set_yticks([])\n",
        "       \n",
        "    for ax in axes.flat[len(V):]: \n",
        "        ax.set_axis_off()\n",
        "    fig.colorbar(img, cax=fig.add_axes([0.92, 0.25, 0.01, .5]))"
      ],
      "execution_count": null,
      "outputs": []
    },
    {
      "cell_type": "code",
      "metadata": {
        "colab": {
          "base_uri": "https://localhost:8080/",
          "height": 330
        },
        "id": "RhlhYHbMHB2h",
        "outputId": "05b64f9d-a790-4e48-e250-406d2b06a481"
      },
      "source": [
        "w1, b1, w2, b2, w3, b3, w4, b4, w5, b5, w6, b6, w7, b7 = cnn.parameters()\n",
        "w = [w1,w2,w3,w4,w5]\n",
        "for i,weights in enumerate([w1, w5]):\n",
        "    print(\"w\" + str(i+1)+str(weights.shape))\n",
        "    plt.gcf().suptitle('Conv2D filter layer '+str(i))\n",
        "    # print(\"3 filters of Conv2D layer \" + str(i))\n",
        "    plot_filters(weights[-1,0:3,:,:].reshape(3,5,5));"
      ],
      "execution_count": null,
      "outputs": [
        {
          "output_type": "stream",
          "name": "stdout",
          "text": [
            "w1torch.Size([32, 3, 5, 5])\n",
            "w2torch.Size([512, 256, 5, 5])\n"
          ]
        },
        {
          "output_type": "display_data",
          "data": {
            "text/plain": [
              "<Figure size 432x288 with 0 Axes>"
            ]
          },
          "metadata": {}
        },
        {
          "output_type": "display_data",
          "data": {
            "image/png": "[encoded data removed]",
            "text/plain": [
              "<Figure size 1152x144 with 9 Axes>"
            ]
          },
          "metadata": {
            "needs_background": "light"
          }
        },
        {
          "output_type": "display_data",
          "data": {
            "image/png": "[encoded data removed]",
            "text/plain": [
              "<Figure size 1152x144 with 9 Axes>"
            ]
          },
          "metadata": {
            "needs_background": "light"
          }
        }
      ]
    },
    {
      "cell_type": "code",
      "metadata": {
        "colab": {
          "base_uri": "https://localhost:8080/",
          "height": 1000
        },
        "id": "FekH5uGnVwfs",
        "outputId": "f4860b62-7d71-409d-b2cd-2c41657856c9"
      },
      "source": [
        "# plot_filters(w5[-1,0:3,:,:].reshape(3,5,5));\n",
        "\n",
        "for i in range(0,25, 3):\n",
        "  plot_filters(w5[-1,i:i+3,:,:].reshape(3,5,5));\n"
      ],
      "execution_count": null,
      "outputs": [
        {
          "output_type": "display_data",
          "data": {
            "image/png": "[encoded data removed]",
            "text/plain": [
              "<Figure size 1152x144 with 9 Axes>"
            ]
          },
          "metadata": {
            "needs_background": "light"
          }
        },
        {
          "output_type": "display_data",
          "data": {
            "image/png": "[encoded data removed]",
            "text/plain": [
              "<Figure size 1152x144 with 9 Axes>"
            ]
          },
          "metadata": {
            "needs_background": "light"
          }
        },
        {
          "output_type": "display_data",
          "data": {
            "image/png": "[encoded data removed]",
            "text/plain": [
              "<Figure size 1152x144 with 9 Axes>"
            ]
          },
          "metadata": {
            "needs_background": "light"
          }
        },
        {
          "output_type": "display_data",
          "data": {
            "image/png": "[encoded data removed]",
            "text/plain": [
              "<Figure size 1152x144 with 9 Axes>"
            ]
          },
          "metadata": {
            "needs_background": "light"
          }
        },
        {
          "output_type": "display_data",
          "data": {
            "image/png": "[encoded data removed]",
            "text/plain": [
              "<Figure size 1152x144 with 9 Axes>"
            ]
          },
          "metadata": {
            "needs_background": "light"
          }
        },
        {
          "output_type": "display_data",
          "data": {
            "image/png": "[encoded data removed]",
            "text/plain": [
              "<Figure size 1152x144 with 9 Axes>"
            ]
          },
          "metadata": {
            "needs_background": "light"
          }
        },
        {
          "output_type": "display_data",
          "data": {
            "image/png": "[encoded data removed]",
            "text/plain": [
              "<Figure size 1152x144 with 9 Axes>"
            ]
          },
          "metadata": {
            "needs_background": "light"
          }
        },
        {
          "output_type": "display_data",
          "data": {
            "image/png": "[encoded data removed]",
            "text/plain": [
              "<Figure size 1152x144 with 9 Axes>"
            ]
          },
          "metadata": {
            "needs_background": "light"
          }
        },
        {
          "output_type": "display_data",
          "data": {
            "image/png": "[encoded data removed]",
            "text/plain": [
              "<Figure size 1152x144 with 9 Axes>"
            ]
          },
          "metadata": {
            "needs_background": "light"
          }
        }
      ]
    },
    {
      "cell_type": "code",
      "metadata": {
        "id": "DZ9JhjT_a_FM"
      },
      "source": [
        ""
      ],
      "execution_count": null,
      "outputs": []
    }
  ]
}