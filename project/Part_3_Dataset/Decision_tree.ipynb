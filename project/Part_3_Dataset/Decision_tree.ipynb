{
 "cells": [
  {
   "cell_type": "markdown",
   "metadata": {},
   "source": [
    "## Part 3 Decision Tree"
   ]
  },
  {
   "cell_type": "code",
   "execution_count": 2,
   "metadata": {},
   "outputs": [],
   "source": [
    "import numpy as np\n",
    "import matplotlib.pyplot as plt\n",
    "import sklearn\n",
    "from sklearn.tree import DecisionTreeClassifier\n",
    "from sklearn.metrics import accuracy_score, classification_report, precision_score\n",
    "import scipy\n",
    "\n",
    "def unpickle(file):\n",
    "    import pickle\n",
    "    with open(file, 'rb') as fo:\n",
    "        dict = pickle.load(fo, encoding='bytes')\n",
    "    return dict\n",
    "\n",
    "folder_dir = './cifar-10-batches-py/' "
   ]
  },
  {
   "cell_type": "markdown",
   "metadata": {},
   "source": [
    "load cifar data"
   ]
  },
  {
   "cell_type": "code",
   "execution_count": 3,
   "metadata": {},
   "outputs": [
    {
     "name": "stdout",
     "output_type": "stream",
     "text": [
      "(50000, 3072)\n",
      "(10000, 3072)\n"
     ]
    }
   ],
   "source": [
    "\n",
    "import numpy as np\n",
    "folder_dir = './cifar-10-batches-py/' \n",
    "metadata_dict = unpickle(folder_dir+\"batches.meta\")\n",
    "label_names = np.array([label.decode('ascii') for label in metadata_dict[b'label_names']])\n",
    "\n",
    "cifar_train_data = None\n",
    "cifar_train_filenames = []\n",
    "cifar_train_labels = []\n",
    "\n",
    "for i in range(1,6):\n",
    "    cifar_train_data_dict = unpickle(folder_dir + \"data_batch_\" + str(i))\n",
    "    if i == 1:\n",
    "        cifar_train_data = cifar_train_data_dict[b'data']\n",
    "    else:\n",
    "        cifar_train_data = np.vstack((cifar_train_data, cifar_train_data_dict[b'data']))\n",
    "    cifar_train_labels += cifar_train_data_dict[b'labels']\n",
    "\n",
    "cifar_train_data = cifar_train_data.reshape((len(cifar_train_data), 3, 32, 32))\n",
    "cifar_train_data = np.rollaxis(cifar_train_data, 1, 4) # only if plt.imshow()\n",
    "\n",
    "cifar_test_data_dict = unpickle(folder_dir + \"test_batch\")\n",
    "cifar_test_data = cifar_test_data_dict[b'data']\n",
    "cifar_test_filenames = cifar_test_data_dict[b'filenames']\n",
    "cifar_test_labels = cifar_test_data_dict[b'labels']\n",
    "\n",
    "cifar_test_data = cifar_test_data.reshape((len(cifar_test_data), 3, 32, 32))\n",
    "# cifar_test_data = np.rollaxis(cifar_test_dsata, 1, 4)\n",
    "\n",
    "\n",
    "cifar_train_data = cifar_train_data.reshape(50000, -1)\n",
    "cifar_test_data = cifar_test_data.reshape(10000, -1)\n",
    "print(cifar_train_data.shape)\n",
    "print(cifar_test_data.shape)"
   ]
  },
  {
   "cell_type": "markdown",
   "metadata": {},
   "source": [
    "rescaling from [0,255] to [-1,1]"
   ]
  },
  {
   "cell_type": "code",
   "execution_count": 4,
   "metadata": {},
   "outputs": [
    {
     "name": "stdout",
     "output_type": "stream",
     "text": [
      "X_train.shape (50000, 3072)\n",
      "X_test.shape (10000, 3072)\n",
      "y_test.shape (10000,)\n",
      "y_train.shape (50000,)\n"
     ]
    }
   ],
   "source": [
    "X_train = cifar_train_data/127.5-1\n",
    "X_test = cifar_test_data/127.5-1\n",
    "y_train = np.array(cifar_train_labels)\n",
    "y_test = np.array(cifar_test_labels)\n",
    "print(\"X_train.shape\", X_train.shape)\n",
    "print(\"X_test.shape\", X_test.shape)\n",
    "print(\"y_test.shape\", y_test.shape)\n",
    "print(\"y_train.shape\", y_train.shape)"
   ]
  },
  {
   "cell_type": "markdown",
   "metadata": {},
   "source": [
    "Instantiate the Decision Tree model"
   ]
  },
  {
   "cell_type": "code",
   "execution_count": 5,
   "metadata": {},
   "outputs": [],
   "source": [
    "tree = sklearn.tree.DecisionTreeClassifier()"
   ]
  },
  {
   "cell_type": "markdown",
   "metadata": {},
   "source": [
    "Train the DecisionTree model"
   ]
  },
  {
   "cell_type": "code",
   "execution_count": 8,
   "metadata": {},
   "outputs": [
    {
     "name": "stdout",
     "output_type": "stream",
     "text": [
      "Fitting 2 folds for each of 200 candidates, totalling 400 fits\n",
      "[CV 1/2] END max_depth=21, min_samples_split=31;, score=0.272 total time= 1.2min\n",
      "[CV 2/2] END max_depth=21, min_samples_split=31;, score=0.270 total time= 1.2min\n",
      "[CV 1/2] END max_depth=10, min_samples_split=33;, score=0.284 total time=  53.3s\n",
      "[CV 2/2] END max_depth=10, min_samples_split=33;, score=0.285 total time=  47.7s\n",
      "[CV 1/2] END max_depth=20, min_samples_split=48;, score=0.275 total time= 1.0min\n",
      "[CV 2/2] END max_depth=20, min_samples_split=48;, score=0.279 total time= 1.0min\n",
      "[CV 1/2] END ..max_depth=5, min_samples_split=6;, score=0.255 total time=  21.5s\n",
      "[CV 2/2] END ..max_depth=5, min_samples_split=6;, score=0.256 total time=  21.8s\n",
      "[CV 1/2] END max_depth=18, min_samples_split=11;, score=0.258 total time= 1.1min\n",
      "[CV 2/2] END max_depth=18, min_samples_split=11;, score=0.261 total time= 1.1min\n",
      "[CV 1/2] END max_depth=36, min_samples_split=48;, score=0.275 total time=  59.6s\n",
      "[CV 2/2] END max_depth=36, min_samples_split=48;, score=0.278 total time= 1.0min\n",
      "[CV 1/2] END max_depth=72, min_samples_split=19;, score=0.263 total time= 1.1min\n",
      "[CV 2/2] END max_depth=72, min_samples_split=19;, score=0.261 total time= 1.2min\n",
      "[CV 1/2] END max_depth=38, min_samples_split=32;, score=0.271 total time= 1.1min\n",
      "[CV 2/2] END max_depth=38, min_samples_split=32;, score=0.271 total time= 1.1min\n",
      "[CV 1/2] END .max_depth=48, min_samples_split=4;, score=0.250 total time= 1.2min\n",
      "[CV 2/2] END .max_depth=48, min_samples_split=4;, score=0.257 total time= 1.2min\n",
      "[CV 1/2] END max_depth=66, min_samples_split=33;, score=0.271 total time= 1.1min\n",
      "[CV 2/2] END max_depth=66, min_samples_split=33;, score=0.272 total time= 1.1min\n",
      "[CV 1/2] END max_depth=58, min_samples_split=20;, score=0.263 total time= 1.1min\n",
      "[CV 2/2] END max_depth=58, min_samples_split=20;, score=0.263 total time= 1.1min\n",
      "[CV 1/2] END max_depth=46, min_samples_split=26;, score=0.267 total time= 1.1min\n",
      "[CV 2/2] END max_depth=46, min_samples_split=26;, score=0.268 total time= 1.1min\n",
      "[CV 1/2] END .max_depth=31, min_samples_split=6;, score=0.250 total time= 1.2min\n",
      "[CV 2/2] END .max_depth=31, min_samples_split=6;, score=0.255 total time= 1.2min\n",
      "[CV 1/2] END .max_depth=34, min_samples_split=5;, score=0.251 total time= 2.1min\n",
      "[CV 2/2] END .max_depth=34, min_samples_split=5;, score=0.253 total time= 2.1min\n",
      "[CV 1/2] END max_depth=12, min_samples_split=27;, score=0.285 total time= 1.5min\n",
      "[CV 2/2] END max_depth=12, min_samples_split=27;, score=0.282 total time= 1.5min\n",
      "[CV 1/2] END max_depth=35, min_samples_split=16;, score=0.259 total time= 2.0min\n",
      "[CV 2/2] END max_depth=35, min_samples_split=16;, score=0.261 total time= 2.1min\n",
      "[CV 1/2] END max_depth=21, min_samples_split=41;, score=0.274 total time= 1.8min\n",
      "[CV 2/2] END max_depth=21, min_samples_split=41;, score=0.276 total time= 1.9min\n",
      "[CV 1/2] END max_depth=39, min_samples_split=35;, score=0.272 total time= 1.9min\n",
      "[CV 2/2] END max_depth=39, min_samples_split=35;, score=0.273 total time= 2.1min\n",
      "[CV 1/2] END max_depth=11, min_samples_split=18;, score=0.278 total time= 1.6min\n",
      "[CV 2/2] END max_depth=11, min_samples_split=18;, score=0.284 total time= 1.5min\n",
      "[CV 1/2] END max_depth=40, min_samples_split=46;, score=0.274 total time= 1.9min\n",
      "[CV 2/2] END max_depth=40, min_samples_split=46;, score=0.276 total time= 1.9min\n",
      "[CV 1/2] END .max_depth=19, min_samples_split=5;, score=0.254 total time= 2.1min\n",
      "[CV 2/2] END .max_depth=19, min_samples_split=5;, score=0.255 total time= 2.1min\n",
      "[CV 1/2] END max_depth=26, min_samples_split=27;, score=0.268 total time= 2.2min\n",
      "[CV 2/2] END max_depth=26, min_samples_split=27;, score=0.269 total time= 2.5min\n",
      "[CV 1/2] END .max_depth=63, min_samples_split=6;, score=0.253 total time= 2.7min\n",
      "[CV 2/2] END .max_depth=63, min_samples_split=6;, score=0.252 total time= 2.7min\n",
      "[CV 1/2] END max_depth=59, min_samples_split=42;, score=0.273 total time= 1.9min\n",
      "[CV 2/2] END max_depth=59, min_samples_split=42;, score=0.275 total time= 2.1min\n",
      "[CV 1/2] END .max_depth=14, min_samples_split=6;, score=0.267 total time= 1.9min\n",
      "[CV 2/2] END .max_depth=14, min_samples_split=6;, score=0.271 total time= 1.9min\n",
      "[CV 1/2] END max_depth=49, min_samples_split=35;, score=0.272 total time= 2.0min\n",
      "[CV 2/2] END max_depth=49, min_samples_split=35;, score=0.272 total time= 2.0min\n",
      "[CV 1/2] END ..max_depth=7, min_samples_split=9;, score=0.279 total time=  56.7s\n",
      "[CV 2/2] END ..max_depth=7, min_samples_split=9;, score=0.275 total time=  58.4s\n",
      "[CV 1/2] END .max_depth=1, min_samples_split=47;, score=0.157 total time=   9.6s\n",
      "[CV 2/2] END .max_depth=1, min_samples_split=47;, score=0.153 total time=   9.0s\n",
      "[CV 1/2] END max_depth=27, min_samples_split=16;, score=0.260 total time= 2.2min\n",
      "[CV 2/2] END max_depth=27, min_samples_split=16;, score=0.260 total time= 2.1min\n",
      "[CV 1/2] END max_depth=12, min_samples_split=39;, score=0.288 total time= 1.8min\n",
      "[CV 2/2] END max_depth=12, min_samples_split=39;, score=0.285 total time= 1.8min\n",
      "[CV 1/2] END max_depth=67, min_samples_split=26;, score=0.268 total time= 2.5min\n",
      "[CV 2/2] END max_depth=67, min_samples_split=26;, score=0.267 total time= 2.2min\n",
      "[CV 1/2] END .max_depth=11, min_samples_split=4;, score=0.276 total time= 1.6min\n",
      "[CV 2/2] END .max_depth=11, min_samples_split=4;, score=0.283 total time= 1.6min\n",
      "[CV 1/2] END max_depth=54, min_samples_split=38;, score=0.273 total time= 2.4min\n",
      "[CV 2/2] END max_depth=54, min_samples_split=38;, score=0.273 total time= 2.3min\n",
      "[CV 1/2] END max_depth=32, min_samples_split=33;, score=0.271 total time= 2.0min\n",
      "[CV 2/2] END max_depth=32, min_samples_split=33;, score=0.272 total time= 2.0min\n",
      "[CV 1/2] END max_depth=37, min_samples_split=34;, score=0.271 total time= 2.2min\n",
      "[CV 2/2] END max_depth=37, min_samples_split=34;, score=0.272 total time= 2.5min\n",
      "[CV 1/2] END max_depth=37, min_samples_split=36;, score=0.272 total time= 2.0min\n",
      "[CV 2/2] END max_depth=37, min_samples_split=36;, score=0.272 total time= 2.0min\n",
      "[CV 1/2] END max_depth=52, min_samples_split=42;, score=0.273 total time= 1.9min\n",
      "[CV 2/2] END max_depth=52, min_samples_split=42;, score=0.276 total time= 1.9min\n",
      "[CV 1/2] END max_depth=20, min_samples_split=41;, score=0.274 total time= 1.7min\n",
      "[CV 2/2] END max_depth=20, min_samples_split=41;, score=0.276 total time= 1.8min\n",
      "[CV 1/2] END max_depth=46, min_samples_split=20;, score=0.264 total time= 1.9min\n",
      "[CV 2/2] END max_depth=46, min_samples_split=20;, score=0.262 total time= 2.0min\n",
      "[CV 1/2] END max_depth=42, min_samples_split=11;, score=0.255 total time= 2.0min\n",
      "[CV 2/2] END max_depth=42, min_samples_split=11;, score=0.256 total time= 2.0min\n",
      "[CV 1/2] END .max_depth=72, min_samples_split=6;, score=0.253 total time= 1.9min\n",
      "[CV 2/2] END .max_depth=72, min_samples_split=6;, score=0.255 total time= 2.2min\n",
      "[CV 1/2] END .max_depth=52, min_samples_split=4;, score=0.251 total time= 2.2min\n",
      "[CV 2/2] END .max_depth=52, min_samples_split=4;, score=0.254 total time= 2.2min\n",
      "[CV 1/2] END max_depth=15, min_samples_split=12;, score=0.266 total time= 1.9min\n",
      "[CV 2/2] END max_depth=15, min_samples_split=12;, score=0.270 total time= 1.8min\n",
      "[CV 1/2] END max_depth=73, min_samples_split=32;, score=0.271 total time= 1.8min\n",
      "[CV 2/2] END max_depth=73, min_samples_split=32;, score=0.271 total time= 1.9min\n",
      "[CV 1/2] END max_depth=30, min_samples_split=13;, score=0.255 total time= 1.9min\n",
      "[CV 2/2] END max_depth=30, min_samples_split=13;, score=0.260 total time= 2.0min\n",
      "[CV 1/2] END max_depth=23, min_samples_split=46;, score=0.274 total time= 2.0min\n",
      "[CV 2/2] END max_depth=23, min_samples_split=46;, score=0.278 total time= 1.9min\n",
      "[CV 1/2] END max_depth=28, min_samples_split=17;, score=0.260 total time= 2.1min\n",
      "[CV 2/2] END max_depth=28, min_samples_split=17;, score=0.259 total time= 2.0min\n",
      "[CV 1/2] END .max_depth=11, min_samples_split=2;, score=0.275 total time= 1.4min\n",
      "[CV 2/2] END .max_depth=11, min_samples_split=2;, score=0.283 total time= 1.4min\n",
      "[CV 1/2] END .max_depth=46, min_samples_split=4;, score=0.251 total time= 2.1min\n",
      "[CV 2/2] END .max_depth=46, min_samples_split=4;, score=0.254 total time= 2.1min\n",
      "[CV 1/2] END .max_depth=65, min_samples_split=8;, score=0.252 total time= 2.2min\n",
      "[CV 2/2] END .max_depth=65, min_samples_split=8;, score=0.255 total time= 2.3min\n",
      "[CV 1/2] END max_depth=12, min_samples_split=20;, score=0.282 total time= 1.6min\n",
      "[CV 2/2] END max_depth=12, min_samples_split=20;, score=0.281 total time= 1.6min\n",
      "[CV 1/2] END .max_depth=49, min_samples_split=3;, score=0.249 total time= 2.4min\n",
      "[CV 2/2] END .max_depth=49, min_samples_split=3;, score=0.255 total time= 2.5min\n",
      "[CV 1/2] END max_depth=41, min_samples_split=10;, score=0.256 total time= 2.2min\n",
      "[CV 2/2] END max_depth=41, min_samples_split=10;, score=0.255 total time= 2.2min\n",
      "[CV 1/2] END max_depth=29, min_samples_split=38;, score=0.273 total time= 2.0min\n",
      "[CV 2/2] END max_depth=29, min_samples_split=38;, score=0.274 total time= 2.0min\n",
      "[CV 1/2] END max_depth=42, min_samples_split=13;, score=0.256 total time= 2.0min\n",
      "[CV 2/2] END max_depth=42, min_samples_split=13;, score=0.257 total time= 2.2min\n",
      "[CV 1/2] END max_depth=50, min_samples_split=20;, score=0.262 total time= 2.1min\n",
      "[CV 2/2] END max_depth=50, min_samples_split=20;, score=0.262 total time= 2.4min\n",
      "[CV 1/2] END max_depth=49, min_samples_split=26;, score=0.268 total time= 2.3min\n",
      "[CV 2/2] END max_depth=49, min_samples_split=26;, score=0.267 total time= 2.1min\n",
      "[CV 1/2] END max_depth=67, min_samples_split=21;, score=0.262 total time= 2.1min\n",
      "[CV 2/2] END max_depth=67, min_samples_split=21;, score=0.263 total time= 2.3min\n",
      "[CV 1/2] END max_depth=57, min_samples_split=33;, score=0.271 total time= 2.1min\n",
      "[CV 2/2] END max_depth=57, min_samples_split=33;, score=0.271 total time= 2.0min\n",
      "[CV 1/2] END .max_depth=7, min_samples_split=47;, score=0.279 total time=  59.9s\n",
      "[CV 2/2] END .max_depth=7, min_samples_split=47;, score=0.275 total time=  56.0s\n",
      "[CV 1/2] END max_depth=54, min_samples_split=18;, score=0.261 total time= 2.1min\n",
      "[CV 2/2] END max_depth=54, min_samples_split=18;, score=0.260 total time= 2.4min\n",
      "[CV 1/2] END max_depth=61, min_samples_split=42;, score=0.273 total time= 2.1min\n",
      "[CV 2/2] END max_depth=61, min_samples_split=42;, score=0.276 total time= 1.9min\n",
      "[CV 1/2] END max_depth=26, min_samples_split=14;, score=0.257 total time= 2.1min\n",
      "[CV 2/2] END max_depth=26, min_samples_split=14;, score=0.258 total time= 2.1min\n",
      "[CV 1/2] END .max_depth=8, min_samples_split=18;, score=0.283 total time= 1.2min\n",
      "[CV 2/2] END .max_depth=8, min_samples_split=18;, score=0.281 total time= 1.2min\n",
      "[CV 1/2] END max_depth=22, min_samples_split=45;, score=0.274 total time= 2.0min\n",
      "[CV 2/2] END max_depth=22, min_samples_split=45;, score=0.277 total time= 1.8min\n",
      "[CV 1/2] END .max_depth=62, min_samples_split=3;, score=0.251 total time= 2.2min\n",
      "[CV 2/2] END .max_depth=62, min_samples_split=3;, score=0.253 total time= 2.2min\n",
      "[CV 1/2] END max_depth=12, min_samples_split=17;, score=0.280 total time= 2.0min\n",
      "[CV 2/2] END max_depth=12, min_samples_split=17;, score=0.281 total time= 1.7min\n",
      "[CV 1/2] END max_depth=52, min_samples_split=22;, score=0.264 total time= 2.0min\n",
      "[CV 2/2] END max_depth=52, min_samples_split=22;, score=0.265 total time= 2.0min\n",
      "[CV 1/2] END max_depth=52, min_samples_split=29;, score=0.269 total time= 1.9min\n",
      "[CV 2/2] END max_depth=52, min_samples_split=29;, score=0.269 total time= 2.0min\n",
      "[CV 1/2] END max_depth=29, min_samples_split=44;, score=0.273 total time= 2.2min\n",
      "[CV 2/2] END max_depth=29, min_samples_split=44;, score=0.278 total time= 2.1min\n",
      "[CV 1/2] END max_depth=20, min_samples_split=28;, score=0.270 total time= 1.7min\n",
      "[CV 2/2] END max_depth=20, min_samples_split=28;, score=0.271 total time= 1.1min\n",
      "[CV 1/2] END max_depth=11, min_samples_split=21;, score=0.278 total time=  47.7s\n",
      "[CV 2/2] END max_depth=11, min_samples_split=21;, score=0.284 total time=  46.7s\n",
      "[CV 1/2] END .max_depth=3, min_samples_split=40;, score=0.235 total time=  13.4s\n",
      "[CV 2/2] END .max_depth=3, min_samples_split=40;, score=0.225 total time=  12.8s\n",
      "[CV 1/2] END max_depth=31, min_samples_split=44;, score=0.272 total time= 1.0min\n",
      "[CV 2/2] END max_depth=31, min_samples_split=44;, score=0.277 total time=  57.7s\n",
      "[CV 1/2] END max_depth=33, min_samples_split=39;, score=0.273 total time= 1.0min\n",
      "[CV 2/2] END max_depth=33, min_samples_split=39;, score=0.275 total time= 1.0min\n",
      "[CV 1/2] END max_depth=26, min_samples_split=48;, score=0.274 total time=  58.9s\n",
      "[CV 2/2] END max_depth=26, min_samples_split=48;, score=0.278 total time= 1.0min\n",
      "[CV 1/2] END .max_depth=8, min_samples_split=44;, score=0.283 total time=  33.5s\n",
      "[CV 2/2] END .max_depth=8, min_samples_split=44;, score=0.283 total time=  33.9s\n",
      "[CV 1/2] END max_depth=64, min_samples_split=24;, score=0.268 total time= 1.1min\n",
      "[CV 2/2] END max_depth=64, min_samples_split=24;, score=0.265 total time= 1.1min\n",
      "[CV 1/2] END max_depth=15, min_samples_split=46;, score=0.280 total time=  53.4s\n",
      "[CV 2/2] END max_depth=15, min_samples_split=46;, score=0.281 total time=  54.4s\n",
      "[CV 1/2] END max_depth=54, min_samples_split=42;, score=0.272 total time=  57.5s\n",
      "[CV 2/2] END max_depth=54, min_samples_split=42;, score=0.275 total time= 1.0min\n",
      "[CV 1/2] END .max_depth=6, min_samples_split=15;, score=0.268 total time=  24.6s\n"
     ]
    }
   ],
   "source": [
    "param_distribution = {'max_depth': range(1,75), 'min_samples_split': range(2,50)}\n",
    "\n",
    "best_tree = sklearn.model_selection.RandomizedSearchCV(tree, param_distribution, n_iter=200, cv=2, random_state=0, verbose=3).fit(X_train, y_train)\n",
    "    \n",
    "print('best Hyperparameters = ' + str(best_tree.best_params_))\n"
   ]
  },
  {
   "cell_type": "code",
   "execution_count": 7,
   "metadata": {},
   "outputs": [],
   "source": [
    "import pickle\n",
    "Part_3_Decision_tree = {'model':best_tree}\n",
    "\n",
    "with open('Part_3_Decision_tree.dictionary', 'wb') as config_dictionary_file:\n",
    "    pickle.dump(Part_3_Decision_tree, config_dictionary_file)"
   ]
  },
  {
   "cell_type": "markdown",
   "metadata": {},
   "source": [
    "Testing the DecisionTree model"
   ]
  },
  {
   "cell_type": "code",
   "execution_count": null,
   "metadata": {},
   "outputs": [],
   "source": [
    "best_tree = sklearn.tree.DecisionTreeClassifier(max_depth=10, min_samples_split=49).fit(X_train, y_train)\n",
    "tree_score = best_tree.score(X_test, y_test)\n",
    "print(\"score\", tree_score)"
   ]
  },
  {
   "cell_type": "markdown",
   "metadata": {},
   "source": [
    "Plotting the DecisionTree"
   ]
  },
  {
   "cell_type": "code",
   "execution_count": null,
   "metadata": {},
   "outputs": [],
   "source": [
    "from sklearn.tree import DecisionTreeRegressor, plot_tree\n",
    "\n",
    "plt.figure(figsize=(21,21))\n",
    "plot_tree(best_tree, max_depth = 2, fontsize=14);"
   ]
  }
 ],
 "metadata": {
  "interpreter": {
   "hash": "227704b979e5e0b57dc5f0830b359c20b566edff5ea736ae3b4075916ed60d14"
  },
  "kernelspec": {
   "display_name": "Python 3.9.5 64-bit",
   "language": "python",
   "name": "python3"
  },
  "language_info": {
   "codemirror_mode": {
    "name": "ipython",
    "version": 3
   },
   "file_extension": ".py",
   "mimetype": "text/x-python",
   "name": "python",
   "nbconvert_exporter": "python",
   "pygments_lexer": "ipython3",
   "version": "3.9.5"
  },
  "orig_nbformat": 4
 },
 "nbformat": 4,
 "nbformat_minor": 2
}
