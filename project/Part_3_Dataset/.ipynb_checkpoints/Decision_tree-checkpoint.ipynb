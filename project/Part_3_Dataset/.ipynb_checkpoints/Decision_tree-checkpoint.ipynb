{
 "cells": [
  {
   "cell_type": "markdown",
   "metadata": {},
   "source": [
    "## Part 3: Decision Tree"
   ]
  },
  {
   "cell_type": "code",
   "execution_count": 1,
   "metadata": {},
   "outputs": [],
   "source": [
    "import numpy as np\n",
    "import matplotlib.pyplot as plt\n",
    "import sklearn\n",
    "from sklearn.tree import DecisionTreeClassifier\n",
    "from sklearn.metrics import accuracy_score, classification_report, precision_score\n",
    "import scipy\n",
    "\n",
    "def unpickle(file):\n",
    "    import pickle\n",
    "    with open(file, 'rb') as fo:\n",
    "        dict = pickle.load(fo, encoding='bytes')\n",
    "    return dict\n",
    "\n",
    "# folder_dir = './cifar-10-batches-py/' \n",
    "folder_dir = 'cifar-10-batches-py/' "
   ]
  },
  {
   "cell_type": "markdown",
   "metadata": {},
   "source": [
    "### Loading CIFAR Data"
   ]
  },
  {
   "cell_type": "code",
   "execution_count": 4,
   "metadata": {},
   "outputs": [
    {
     "name": "stdout",
     "output_type": "stream",
     "text": [
      "(50000, 3072)\n",
      "(10000, 3072)\n"
     ]
    }
   ],
   "source": [
    "import numpy as np\n",
    "# folder_dir = './cifar-10-batches-py/' \n",
    "folder_dir = 'cifar-10-batches-py/' \n",
    "metadata_dict = unpickle(folder_dir+\"batches.meta\")\n",
    "label_names = np.array([label.decode('ascii') for label in metadata_dict[b'label_names']])\n",
    "\n",
    "cifar_train_data = None\n",
    "cifar_train_filenames = []\n",
    "cifar_train_labels = []\n",
    "\n",
    "for i in range(1,6):\n",
    "    cifar_train_data_dict = unpickle(folder_dir + \"data_batch_\" + str(i))\n",
    "    if i == 1:\n",
    "        cifar_train_data = cifar_train_data_dict[b'data']\n",
    "    else:\n",
    "        cifar_train_data = np.vstack((cifar_train_data, cifar_train_data_dict[b'data']))\n",
    "    cifar_train_labels += cifar_train_data_dict[b'labels']\n",
    "\n",
    "cifar_train_data = cifar_train_data.reshape((len(cifar_train_data), 3, 32, 32))\n",
    "cifar_train_data_rolled = np.rollaxis(cifar_train_data, 1, 4) # only if plt.imshow()\n",
    "\n",
    "cifar_test_data_dict = unpickle(folder_dir + \"test_batch\")\n",
    "cifar_test_data = cifar_test_data_dict[b'data']\n",
    "cifar_test_filenames = cifar_test_data_dict[b'filenames']\n",
    "cifar_test_labels = cifar_test_data_dict[b'labels']\n",
    "\n",
    "cifar_test_data = cifar_test_data.reshape((len(cifar_test_data), 3, 32, 32))\n",
    "# cifar_test_data = np.rollaxis(cifar_test_dsata, 1, 4)\n",
    "\n",
    "\n",
    "cifar_train_data = cifar_train_data.reshape(50000, -1)\n",
    "cifar_test_data = cifar_test_data.reshape(10000, -1)\n",
    "print(cifar_train_data.shape)\n",
    "print(cifar_test_data.shape)"
   ]
  },
  {
   "cell_type": "markdown",
   "metadata": {},
   "source": [
    "### Rescaling from [0,255] to [-1,1]"
   ]
  },
  {
   "cell_type": "code",
   "execution_count": 5,
   "metadata": {},
   "outputs": [
    {
     "name": "stdout",
     "output_type": "stream",
     "text": [
      "X_train.shape (50000, 3072)\n",
      "X_test.shape (10000, 3072)\n",
      "y_test.shape (10000,)\n",
      "y_train.shape (50000,)\n"
     ]
    }
   ],
   "source": [
    "X_train = cifar_train_data/127.5-1\n",
    "X_test = cifar_test_data/127.5-1\n",
    "y_train = np.array(cifar_train_labels)\n",
    "y_test = np.array(cifar_test_labels)\n",
    "print(\"X_train.shape\", X_train.shape)\n",
    "print(\"X_test.shape\", X_test.shape)\n",
    "print(\"y_test.shape\", y_test.shape)\n",
    "print(\"y_train.shape\", y_train.shape)"
   ]
  },
  {
   "cell_type": "markdown",
   "metadata": {},
   "source": [
    "### Instantiate the Decision Tree model"
   ]
  },
  {
   "cell_type": "code",
   "execution_count": 6,
   "metadata": {},
   "outputs": [],
   "source": [
    "tree = sklearn.tree.DecisionTreeClassifier()"
   ]
  },
  {
   "cell_type": "markdown",
   "metadata": {},
   "source": [
    "### Train the DecisionTree model"
   ]
  },
  {
   "cell_type": "code",
   "execution_count": 5,
   "metadata": {},
   "outputs": [
    {
     "name": "stdout",
     "output_type": "stream",
     "text": [
      "Fitting 2 folds for each of 70 candidates, totalling 140 fits\n",
      "[CV 1/2] END max_depth=40, min_samples_split=41;, score=0.273 total time=  59.4s\n",
      "[CV 2/2] END max_depth=40, min_samples_split=41;, score=0.275 total time= 1.0min\n",
      "[CV 1/2] END ..max_depth=6, min_samples_split=8;, score=0.268 total time=  26.8s\n",
      "[CV 2/2] END ..max_depth=6, min_samples_split=8;, score=0.266 total time=  26.7s\n",
      "[CV 1/2] END ...max_depth=48, min_samples_split=1;, score=nan total time=   0.5s\n",
      "[CV 2/2] END ...max_depth=48, min_samples_split=1;, score=nan total time=   0.5s\n",
      "[CV 1/2] END max_depth=34, min_samples_split=49;, score=0.275 total time= 1.0min\n",
      "[CV 2/2] END max_depth=34, min_samples_split=49;, score=0.278 total time= 1.3min\n",
      "[CV 1/2] END ..max_depth=9, min_samples_split=7;, score=0.287 total time=  43.8s\n",
      "[CV 2/2] END ..max_depth=9, min_samples_split=7;, score=0.283 total time=  49.3s\n",
      "[CV 1/2] END max_depth=24, min_samples_split=24;, score=0.267 total time= 1.3min\n",
      "[CV 2/2] END max_depth=24, min_samples_split=24;, score=0.268 total time= 1.3min\n",
      "[CV 1/2] END ..max_depth=7, min_samples_split=9;, score=0.279 total time=  37.8s\n",
      "[CV 2/2] END ..max_depth=7, min_samples_split=9;, score=0.275 total time=  37.2s\n",
      "[CV 1/2] END max_depth=46, min_samples_split=29;, score=0.269 total time= 1.3min\n",
      "[CV 2/2] END max_depth=46, min_samples_split=29;, score=0.269 total time= 1.4min\n",
      "[CV 1/2] END .max_depth=35, min_samples_split=8;, score=0.251 total time= 1.4min\n",
      "[CV 2/2] END .max_depth=35, min_samples_split=8;, score=0.254 total time= 1.5min\n",
      "[CV 1/2] END max_depth=10, min_samples_split=25;, score=0.283 total time=  46.1s\n",
      "[CV 2/2] END max_depth=10, min_samples_split=25;, score=0.285 total time=  45.7s\n",
      "[CV 1/2] END max_depth=14, min_samples_split=21;, score=0.271 total time=  59.7s\n",
      "[CV 2/2] END max_depth=14, min_samples_split=21;, score=0.276 total time= 1.0min\n",
      "[CV 1/2] END max_depth=19, min_samples_split=25;, score=0.268 total time= 1.0min\n",
      "[CV 2/2] END max_depth=19, min_samples_split=25;, score=0.269 total time=  54.6s\n",
      "[CV 1/2] END max_depth=42, min_samples_split=43;, score=0.273 total time=  51.9s\n",
      "[CV 2/2] END max_depth=42, min_samples_split=43;, score=0.276 total time=  56.1s\n",
      "[CV 1/2] END .max_depth=31, min_samples_split=9;, score=0.254 total time= 1.0min\n",
      "[CV 2/2] END .max_depth=31, min_samples_split=9;, score=0.255 total time= 1.0min\n",
      "[CV 1/2] END max_depth=23, min_samples_split=45;, score=0.274 total time=  51.5s\n",
      "[CV 2/2] END max_depth=23, min_samples_split=45;, score=0.277 total time=  52.9s\n",
      "[CV 1/2] END .max_depth=2, min_samples_split=22;, score=0.192 total time=   7.3s\n",
      "[CV 2/2] END .max_depth=2, min_samples_split=22;, score=0.186 total time=   7.1s\n",
      "[CV 1/2] END max_depth=42, min_samples_split=33;, score=0.271 total time=  55.5s\n",
      "[CV 2/2] END max_depth=42, min_samples_split=33;, score=0.272 total time=  56.4s\n",
      "[CV 1/2] END .max_depth=34, min_samples_split=6;, score=0.253 total time= 1.0min\n",
      "[CV 2/2] END .max_depth=34, min_samples_split=6;, score=0.255 total time= 1.0min\n",
      "[CV 1/2] END .max_depth=4, min_samples_split=10;, score=0.248 total time=  14.3s\n",
      "[CV 2/2] END .max_depth=4, min_samples_split=10;, score=0.237 total time=  15.2s\n",
      "[CV 1/2] END max_depth=16, min_samples_split=44;, score=0.275 total time=  49.7s\n",
      "[CV 2/2] END max_depth=16, min_samples_split=44;, score=0.279 total time=  51.0s\n",
      "[CV 1/2] END max_depth=15, min_samples_split=31;, score=0.278 total time=  50.5s\n",
      "[CV 2/2] END max_depth=15, min_samples_split=31;, score=0.278 total time=  51.3s\n",
      "[CV 1/2] END max_depth=12, min_samples_split=41;, score=0.287 total time=  46.4s\n",
      "[CV 2/2] END max_depth=12, min_samples_split=41;, score=0.286 total time=  48.3s\n",
      "[CV 1/2] END max_depth=49, min_samples_split=32;, score=0.270 total time=  57.5s\n",
      "[CV 2/2] END max_depth=49, min_samples_split=32;, score=0.270 total time=  59.5s\n",
      "[CV 1/2] END max_depth=10, min_samples_split=13;, score=0.280 total time=  40.0s\n",
      "[CV 2/2] END max_depth=10, min_samples_split=13;, score=0.284 total time=  39.4s\n",
      "[CV 1/2] END max_depth=30, min_samples_split=16;, score=0.260 total time= 1.0min\n",
      "[CV 2/2] END max_depth=30, min_samples_split=16;, score=0.261 total time= 1.1min\n",
      "[CV 1/2] END max_depth=10, min_samples_split=49;, score=0.285 total time=  38.4s\n",
      "[CV 2/2] END max_depth=10, min_samples_split=49;, score=0.288 total time=  37.9s\n",
      "[CV 1/2] END max_depth=10, min_samples_split=12;, score=0.281 total time=  40.2s\n",
      "[CV 2/2] END max_depth=10, min_samples_split=12;, score=0.285 total time=  41.4s\n",
      "[CV 1/2] END max_depth=37, min_samples_split=41;, score=0.274 total time=  56.3s\n",
      "[CV 2/2] END max_depth=37, min_samples_split=41;, score=0.275 total time=  59.2s\n",
      "[CV 1/2] END max_depth=16, min_samples_split=23;, score=0.268 total time=  55.5s\n",
      "[CV 2/2] END max_depth=16, min_samples_split=23;, score=0.271 total time=  56.0s\n",
      "[CV 1/2] END max_depth=47, min_samples_split=49;, score=0.276 total time=  54.8s\n",
      "[CV 2/2] END max_depth=47, min_samples_split=49;, score=0.279 total time=  57.9s\n",
      "[CV 1/2] END .max_depth=27, min_samples_split=7;, score=0.253 total time= 1.1min\n",
      "[CV 2/2] END .max_depth=27, min_samples_split=7;, score=0.255 total time= 1.1min\n",
      "[CV 1/2] END max_depth=46, min_samples_split=16;, score=0.259 total time= 1.1min\n",
      "[CV 2/2] END max_depth=46, min_samples_split=16;, score=0.259 total time= 1.1min\n",
      "[CV 1/2] END max_depth=13, min_samples_split=10;, score=0.270 total time=  50.7s\n",
      "[CV 2/2] END max_depth=13, min_samples_split=10;, score=0.279 total time=  50.5s\n",
      "[CV 1/2] END .max_depth=22, min_samples_split=4;, score=0.255 total time= 1.0min\n",
      "[CV 2/2] END .max_depth=22, min_samples_split=4;, score=0.256 total time= 1.0min\n",
      "[CV 1/2] END max_depth=26, min_samples_split=37;, score=0.274 total time=  53.7s\n",
      "[CV 2/2] END max_depth=26, min_samples_split=37;, score=0.273 total time=  55.9s\n",
      "[CV 1/2] END .max_depth=24, min_samples_split=3;, score=0.248 total time= 1.1min\n",
      "[CV 2/2] END .max_depth=24, min_samples_split=3;, score=0.251 total time= 1.1min\n",
      "[CV 1/2] END max_depth=48, min_samples_split=18;, score=0.260 total time=  59.3s\n",
      "[CV 2/2] END max_depth=48, min_samples_split=18;, score=0.259 total time=  59.7s\n",
      "[CV 1/2] END max_depth=40, min_samples_split=14;, score=0.258 total time= 1.0min\n",
      "[CV 2/2] END max_depth=40, min_samples_split=14;, score=0.259 total time= 1.0min\n",
      "[CV 1/2] END max_depth=44, min_samples_split=18;, score=0.261 total time= 1.0min\n",
      "[CV 2/2] END max_depth=44, min_samples_split=18;, score=0.261 total time= 1.0min\n",
      "[CV 1/2] END max_depth=24, min_samples_split=21;, score=0.265 total time=  57.0s\n",
      "[CV 2/2] END max_depth=24, min_samples_split=21;, score=0.264 total time=  57.4s\n",
      "[CV 1/2] END .max_depth=40, min_samples_split=7;, score=0.248 total time= 1.0min\n",
      "[CV 2/2] END .max_depth=40, min_samples_split=7;, score=0.252 total time= 1.0min\n",
      "[CV 1/2] END max_depth=21, min_samples_split=16;, score=0.262 total time=  55.9s\n",
      "[CV 2/2] END max_depth=21, min_samples_split=16;, score=0.263 total time= 1.0min\n",
      "[CV 1/2] END max_depth=38, min_samples_split=31;, score=0.271 total time=  58.5s\n",
      "[CV 2/2] END max_depth=38, min_samples_split=31;, score=0.270 total time=  59.4s\n",
      "[CV 1/2] END max_depth=30, min_samples_split=26;, score=0.268 total time= 1.0min\n",
      "[CV 2/2] END max_depth=30, min_samples_split=26;, score=0.268 total time= 1.0min\n",
      "[CV 1/2] END .max_depth=21, min_samples_split=7;, score=0.254 total time= 1.1min\n",
      "[CV 2/2] END .max_depth=21, min_samples_split=7;, score=0.256 total time= 1.0min\n",
      "[CV 1/2] END max_depth=40, min_samples_split=29;, score=0.269 total time=  57.8s\n",
      "[CV 2/2] END max_depth=40, min_samples_split=29;, score=0.269 total time=  58.7s\n",
      "[CV 1/2] END max_depth=18, min_samples_split=18;, score=0.265 total time=  59.7s\n",
      "[CV 2/2] END max_depth=18, min_samples_split=18;, score=0.262 total time=  58.2s\n",
      "[CV 1/2] END max_depth=19, min_samples_split=37;, score=0.274 total time=  53.8s\n",
      "[CV 2/2] END max_depth=19, min_samples_split=37;, score=0.275 total time=  54.6s\n",
      "[CV 1/2] END max_depth=34, min_samples_split=36;, score=0.273 total time=  55.2s\n",
      "[CV 2/2] END max_depth=34, min_samples_split=36;, score=0.273 total time=  58.4s\n",
      "[CV 1/2] END .max_depth=1, min_samples_split=10;, score=0.157 total time=   4.0s\n",
      "[CV 2/2] END .max_depth=1, min_samples_split=10;, score=0.153 total time=   4.0s\n",
      "[CV 1/2] END .max_depth=16, min_samples_split=9;, score=0.259 total time=  57.9s\n",
      "[CV 2/2] END .max_depth=16, min_samples_split=9;, score=0.262 total time=  58.2s\n",
      "[CV 1/2] END max_depth=44, min_samples_split=31;, score=0.270 total time=  57.7s\n",
      "[CV 2/2] END max_depth=44, min_samples_split=31;, score=0.270 total time=  58.6s\n",
      "[CV 1/2] END max_depth=25, min_samples_split=18;, score=0.262 total time=  59.7s\n",
      "[CV 2/2] END max_depth=25, min_samples_split=18;, score=0.261 total time= 1.0min\n",
      "[CV 1/2] END max_depth=13, min_samples_split=22;, score=0.278 total time=  49.6s\n",
      "[CV 2/2] END max_depth=13, min_samples_split=22;, score=0.280 total time=  48.8s\n",
      "[CV 1/2] END max_depth=11, min_samples_split=29;, score=0.282 total time=  43.8s\n",
      "[CV 2/2] END max_depth=11, min_samples_split=29;, score=0.284 total time=  45.1s\n",
      "[CV 1/2] END max_depth=16, min_samples_split=30;, score=0.273 total time=  54.2s\n",
      "[CV 2/2] END max_depth=16, min_samples_split=30;, score=0.274 total time=  53.1s\n",
      "[CV 1/2] END .max_depth=6, min_samples_split=32;, score=0.268 total time=  23.0s\n",
      "[CV 2/2] END .max_depth=6, min_samples_split=32;, score=0.266 total time=  23.9s\n",
      "[CV 1/2] END max_depth=15, min_samples_split=16;, score=0.267 total time=  55.8s\n",
      "[CV 2/2] END max_depth=15, min_samples_split=16;, score=0.271 total time=  54.8s\n",
      "[CV 1/2] END .max_depth=30, min_samples_split=8;, score=0.253 total time= 1.1min\n",
      "[CV 2/2] END .max_depth=30, min_samples_split=8;, score=0.254 total time= 1.0min\n",
      "[CV 1/2] END max_depth=45, min_samples_split=45;, score=0.273 total time=  55.1s\n",
      "[CV 2/2] END max_depth=45, min_samples_split=45;, score=0.276 total time=  54.4s\n",
      "[CV 1/2] END max_depth=33, min_samples_split=48;, score=0.275 total time=  51.8s\n",
      "[CV 2/2] END max_depth=33, min_samples_split=48;, score=0.278 total time=  52.8s\n",
      "[CV 1/2] END ..max_depth=2, min_samples_split=9;, score=0.192 total time=   7.1s\n",
      "[CV 2/2] END ..max_depth=2, min_samples_split=9;, score=0.186 total time=   7.5s\n",
      "[CV 1/2] END max_depth=45, min_samples_split=37;, score=0.273 total time=  53.4s\n",
      "[CV 2/2] END max_depth=45, min_samples_split=37;, score=0.274 total time=  55.3s\n",
      "[CV 1/2] END max_depth=32, min_samples_split=49;, score=0.276 total time=  51.1s\n",
      "[CV 2/2] END max_depth=32, min_samples_split=49;, score=0.279 total time=  53.4s\n",
      "[CV 1/2] END max_depth=40, min_samples_split=24;, score=0.266 total time=  59.1s\n",
      "[CV 2/2] END max_depth=40, min_samples_split=24;, score=0.268 total time=  58.2s\n",
      "[CV 1/2] END max_depth=25, min_samples_split=28;, score=0.268 total time=  55.0s\n",
      "[CV 2/2] END max_depth=25, min_samples_split=28;, score=0.268 total time=  55.6s\n",
      "[CV 1/2] END max_depth=20, min_samples_split=23;, score=0.265 total time=  54.4s\n",
      "[CV 2/2] END max_depth=20, min_samples_split=23;, score=0.268 total time=  56.6s\n",
      "[CV 1/2] END max_depth=45, min_samples_split=17;, score=0.260 total time=  58.1s\n",
      "[CV 2/2] END max_depth=45, min_samples_split=17;, score=0.260 total time=  59.1s\n",
      "[CV 1/2] END .max_depth=48, min_samples_split=9;, score=0.251 total time= 1.0min\n",
      "[CV 2/2] END .max_depth=48, min_samples_split=9;, score=0.255 total time= 1.1min\n",
      "[CV 1/2] END .max_depth=1, min_samples_split=34;, score=0.157 total time=   3.7s\n",
      "[CV 2/2] END .max_depth=1, min_samples_split=34;, score=0.153 total time=   3.7s\n"
     ]
    },
    {
     "name": "stderr",
     "output_type": "stream",
     "text": [
      "C:\\Users\\axels\\AppData\\Local\\Programs\\Python\\Python39\\lib\\site-packages\\sklearn\\model_selection\\_validation.py:372: FitFailedWarning: \n",
      "2 fits failed out of a total of 140.\n",
      "The score on these train-test partitions for these parameters will be set to nan.\n",
      "If these failures are not expected, you can try to debug them by setting error_score='raise'.\n",
      "\n",
      "Below are more details about the failures:\n",
      "--------------------------------------------------------------------------------\n",
      "2 fits failed with the following error:\n",
      "Traceback (most recent call last):\n",
      "  File \"C:\\Users\\axels\\AppData\\Local\\Programs\\Python\\Python39\\lib\\site-packages\\sklearn\\model_selection\\_validation.py\", line 681, in _fit_and_score\n",
      "    estimator.fit(X_train, y_train, **fit_params)\n",
      "  File \"C:\\Users\\axels\\AppData\\Local\\Programs\\Python\\Python39\\lib\\site-packages\\sklearn\\tree\\_classes.py\", line 937, in fit\n",
      "    super().fit(\n",
      "  File \"C:\\Users\\axels\\AppData\\Local\\Programs\\Python\\Python39\\lib\\site-packages\\sklearn\\tree\\_classes.py\", line 250, in fit\n",
      "    raise ValueError(\n",
      "ValueError: min_samples_split must be an integer greater than 1 or a float in (0.0, 1.0]; got the integer 1\n",
      "\n",
      "  warnings.warn(some_fits_failed_message, FitFailedWarning)\n",
      "C:\\Users\\axels\\AppData\\Local\\Programs\\Python\\Python39\\lib\\site-packages\\sklearn\\model_selection\\_search.py:969: UserWarning: One or more of the test scores are non-finite: [0.27388 0.26678     nan 0.2768  0.28472 0.26748 0.27706 0.26888 0.25238\n",
      " 0.28408 0.27336 0.26854 0.27428 0.25426 0.27548 0.1892  0.27132 0.25432\n",
      " 0.24258 0.27722 0.27802 0.28646 0.27038 0.28192 0.26064 0.28662 0.28284\n",
      " 0.2742  0.26952 0.27744 0.25418 0.25884 0.27428 0.25552 0.27352 0.24924\n",
      " 0.25986 0.25812 0.26104 0.26452 0.25002 0.2623  0.27086 0.26774 0.25486\n",
      " 0.26902 0.26326 0.27462 0.27306 0.15474 0.2606  0.27042 0.2614  0.27902\n",
      " 0.28308 0.2735  0.26678 0.26896 0.25356 0.27464 0.27644 0.1892  0.2736\n",
      " 0.2774  0.26702 0.26792 0.2664  0.25982 0.25304 0.15474]\n",
      "  warnings.warn(\n"
     ]
    },
    {
     "name": "stdout",
     "output_type": "stream",
     "text": [
      "best Hyperparameters = {'min_samples_split': 49, 'max_depth': 10}\n"
     ]
    }
   ],
   "source": [
    "param_distribution = {'max_depth': range(1,75), 'min_samples_split': range(2,50)}\n",
    "\n",
    "best_tree = sklearn.model_selection.RandomizedSearchCV(tree, param_distribution, n_iter=100, cv=2, random_state=0, verbose=3).fit(X_train, y_train)\n",
    "    \n",
    "print('best Hyperparameters = ' + str(best_tree.best_params_))\n"
   ]
  },
  {
   "cell_type": "markdown",
   "metadata": {},
   "source": [
    "### Testing the DecisionTree model"
   ]
  },
  {
   "cell_type": "code",
   "execution_count": 6,
   "metadata": {},
   "outputs": [
    {
     "name": "stdout",
     "output_type": "stream",
     "text": [
      "0.3065\n",
      "RandomizedSearchCV(cv=2, estimator=DecisionTreeClassifier(), n_iter=70,\n",
      "                   param_distributions={'max_depth': range(1, 50),\n",
      "                                        'min_samples_split': range(1, 50)},\n",
      "                   random_state=0, verbose=3)\n",
      "[ 2  4  8 16]\n"
     ]
    }
   ],
   "source": [
    "print(best_tree.score(X_test, y_test))\n",
    "print(best_tree)\n",
    "print(np.logspace(start=1, stop=4, base=2, num=4, dtype=np.int))"
   ]
  },
  {
   "cell_type": "markdown",
   "metadata": {},
   "source": [
    "### Visualization Decision Tree Classifier Results"
   ]
  },
  {
   "cell_type": "code",
   "execution_count": 7,
   "metadata": {},
   "outputs": [],
   "source": [
    "def plot_decision_tree(decision_tree_classifier, tree_depth, plot_depth, figsize=(25,10)):\n",
    "\n",
    "    plt.figure(figsize=figsize, dpi=350)\n",
    "    plot_tree(\n",
    "        decision_tree=decision_tree_classifier,\n",
    "        max_depth=plot_depth,    # only plot the top plot_depth layers\n",
    "        rotate=True,\n",
    "        fontsize=8)\n",
    "    plt.title('Decision Tree Classifier (depth = ' + str(tree_depth) + ')')\n",
    "    \n",
    "    plt.show()"
   ]
  },
  {
   "cell_type": "code",
   "execution_count": null,
   "metadata": {},
   "outputs": [],
   "source": [
    "tree_depth = best_tree.get_depth()\n",
    "plot_depth = 2\n",
    "\n",
    "plot_decision_tree(best_tree, tree_depth=tree_depth, plot_depth=plot_depth)"
   ]
  }
 ],
 "metadata": {
  "interpreter": {
   "hash": "227704b979e5e0b57dc5f0830b359c20b566edff5ea736ae3b4075916ed60d14"
  },
  "kernelspec": {
   "display_name": "Python 3 (ipykernel)",
   "language": "python",
   "name": "python3"
  },
  "language_info": {
   "codemirror_mode": {
    "name": "ipython",
    "version": 3
   },
   "file_extension": ".py",
   "mimetype": "text/x-python",
   "name": "python",
   "nbconvert_exporter": "python",
   "pygments_lexer": "ipython3",
   "version": "3.9.5"
  }
 },
 "nbformat": 4,
 "nbformat_minor": 2
}
